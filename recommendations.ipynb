{
 "cells": [
  {
   "cell_type": "markdown",
   "id": "f4095ae4-7294-4b28-853e-88d235002c97",
   "metadata": {},
   "source": [
    "# Инициализация"
   ]
  },
  {
   "cell_type": "markdown",
   "id": "2f2318d2-9df8-4911-915e-15b725c44f8a",
   "metadata": {},
   "source": [
    "Загружаем библиотеки необходимые для выполнения кода ноутбука."
   ]
  },
  {
   "cell_type": "code",
   "execution_count": 3,
   "id": "662d04e7-1b0b-4e4a-9ddf-4526d7fef119",
   "metadata": {},
   "outputs": [],
   "source": [
    "import pandas as pd\n",
    "import numpy as np\n",
    "import matplotlib.pyplot as plt\n",
    "import seaborn as sns\n",
    "import sklearn.preprocessing\n",
    "import pickle"
   ]
  },
  {
   "cell_type": "markdown",
   "id": "bf80fbc5-b660-4fac-8fbb-a5cae77313b3",
   "metadata": {},
   "source": [
    "# === ЭТАП 1 ==="
   ]
  },
  {
   "cell_type": "markdown",
   "id": "5263a8b3-fe99-4204-8a2e-105182792c11",
   "metadata": {},
   "source": [
    "# Загрузка первичных данных"
   ]
  },
  {
   "cell_type": "markdown",
   "id": "1b54a6a5-1656-4e3c-99d1-49dc39451d33",
   "metadata": {},
   "source": [
    "Загружаем первичные данные из файлов:\n",
    "- tracks.parquet\n",
    "- catalog_names.parquet\n",
    "- interactions.parquet"
   ]
  },
  {
   "cell_type": "code",
   "execution_count": 4,
   "id": "f4fe8f33-b508-4a59-bec7-cb2d2f4602a8",
   "metadata": {},
   "outputs": [],
   "source": [
    "tracks = pd.read_parquet(\"tracks.parquet\")\n",
    "interactions = pd.read_parquet(\"interactions.parquet\")\n",
    "cat_names = pd.read_parquet(\"catalog_names.parquet\")"
   ]
  },
  {
   "cell_type": "markdown",
   "id": "cba422ba-55dc-410c-9ffa-05325832e7c0",
   "metadata": {},
   "source": [
    "# Обзор данных"
   ]
  },
  {
   "cell_type": "markdown",
   "id": "f788be3d-94ce-47ab-a438-e0a948d47510",
   "metadata": {},
   "source": [
    "Посмотрим на данные, их количество и возможные проблемы. "
   ]
  },
  {
   "cell_type": "code",
   "execution_count": 5,
   "id": "2a8ee0a1-3056-4428-addf-83689629d91c",
   "metadata": {},
   "outputs": [
    {
     "name": "stdout",
     "output_type": "stream",
     "text": [
      "<class 'pandas.core.frame.DataFrame'>\n",
      "RangeIndex: 1000000 entries, 0 to 999999\n",
      "Data columns (total 4 columns):\n",
      " #   Column    Non-Null Count    Dtype \n",
      "---  ------    --------------    ----- \n",
      " 0   track_id  1000000 non-null  int64 \n",
      " 1   albums    1000000 non-null  object\n",
      " 2   artists   1000000 non-null  object\n",
      " 3   genres    1000000 non-null  object\n",
      "dtypes: int64(1), object(3)\n",
      "memory usage: 30.5+ MB\n",
      "None\n"
     ]
    },
    {
     "data": {
      "text/html": [
       "<div>\n",
       "<style scoped>\n",
       "    .dataframe tbody tr th:only-of-type {\n",
       "        vertical-align: middle;\n",
       "    }\n",
       "\n",
       "    .dataframe tbody tr th {\n",
       "        vertical-align: top;\n",
       "    }\n",
       "\n",
       "    .dataframe thead th {\n",
       "        text-align: right;\n",
       "    }\n",
       "</style>\n",
       "<table border=\"1\" class=\"dataframe\">\n",
       "  <thead>\n",
       "    <tr style=\"text-align: right;\">\n",
       "      <th></th>\n",
       "      <th>track_id</th>\n",
       "      <th>albums</th>\n",
       "      <th>artists</th>\n",
       "      <th>genres</th>\n",
       "    </tr>\n",
       "  </thead>\n",
       "  <tbody>\n",
       "    <tr>\n",
       "      <th>0</th>\n",
       "      <td>26</td>\n",
       "      <td>[3, 2490753]</td>\n",
       "      <td>[16]</td>\n",
       "      <td>[11, 21]</td>\n",
       "    </tr>\n",
       "    <tr>\n",
       "      <th>1</th>\n",
       "      <td>38</td>\n",
       "      <td>[3, 2490753]</td>\n",
       "      <td>[16]</td>\n",
       "      <td>[11, 21]</td>\n",
       "    </tr>\n",
       "    <tr>\n",
       "      <th>2</th>\n",
       "      <td>135</td>\n",
       "      <td>[12, 214, 2490809]</td>\n",
       "      <td>[84]</td>\n",
       "      <td>[11]</td>\n",
       "    </tr>\n",
       "    <tr>\n",
       "      <th>3</th>\n",
       "      <td>136</td>\n",
       "      <td>[12, 214, 2490809]</td>\n",
       "      <td>[84]</td>\n",
       "      <td>[11]</td>\n",
       "    </tr>\n",
       "    <tr>\n",
       "      <th>4</th>\n",
       "      <td>138</td>\n",
       "      <td>[12, 214, 322, 72275, 72292, 91199, 213505, 24...</td>\n",
       "      <td>[84]</td>\n",
       "      <td>[11]</td>\n",
       "    </tr>\n",
       "  </tbody>\n",
       "</table>\n",
       "</div>"
      ],
      "text/plain": [
       "   track_id                                             albums artists  \\\n",
       "0        26                                       [3, 2490753]    [16]   \n",
       "1        38                                       [3, 2490753]    [16]   \n",
       "2       135                                 [12, 214, 2490809]    [84]   \n",
       "3       136                                 [12, 214, 2490809]    [84]   \n",
       "4       138  [12, 214, 322, 72275, 72292, 91199, 213505, 24...    [84]   \n",
       "\n",
       "     genres  \n",
       "0  [11, 21]  \n",
       "1  [11, 21]  \n",
       "2      [11]  \n",
       "3      [11]  \n",
       "4      [11]  "
      ]
     },
     "execution_count": 5,
     "metadata": {},
     "output_type": "execute_result"
    }
   ],
   "source": [
    "print(tracks.info())\n",
    "tracks.head()"
   ]
  },
  {
   "cell_type": "code",
   "execution_count": 6,
   "id": "70f7bdfe-175c-45c1-a2e9-d99f0f33be2e",
   "metadata": {},
   "outputs": [
    {
     "name": "stdout",
     "output_type": "stream",
     "text": [
      "<class 'pandas.core.frame.DataFrame'>\n",
      "Index: 222629898 entries, 0 to 291\n",
      "Data columns (total 4 columns):\n",
      " #   Column      Dtype         \n",
      "---  ------      -----         \n",
      " 0   user_id     int32         \n",
      " 1   track_id    int32         \n",
      " 2   track_seq   int16         \n",
      " 3   started_at  datetime64[ns]\n",
      "dtypes: datetime64[ns](1), int16(1), int32(2)\n",
      "memory usage: 5.4 GB\n",
      "None\n"
     ]
    },
    {
     "data": {
      "text/html": [
       "<div>\n",
       "<style scoped>\n",
       "    .dataframe tbody tr th:only-of-type {\n",
       "        vertical-align: middle;\n",
       "    }\n",
       "\n",
       "    .dataframe tbody tr th {\n",
       "        vertical-align: top;\n",
       "    }\n",
       "\n",
       "    .dataframe thead th {\n",
       "        text-align: right;\n",
       "    }\n",
       "</style>\n",
       "<table border=\"1\" class=\"dataframe\">\n",
       "  <thead>\n",
       "    <tr style=\"text-align: right;\">\n",
       "      <th></th>\n",
       "      <th>user_id</th>\n",
       "      <th>track_id</th>\n",
       "      <th>track_seq</th>\n",
       "      <th>started_at</th>\n",
       "    </tr>\n",
       "  </thead>\n",
       "  <tbody>\n",
       "    <tr>\n",
       "      <th>0</th>\n",
       "      <td>0</td>\n",
       "      <td>99262</td>\n",
       "      <td>1</td>\n",
       "      <td>2022-07-17</td>\n",
       "    </tr>\n",
       "    <tr>\n",
       "      <th>1</th>\n",
       "      <td>0</td>\n",
       "      <td>589498</td>\n",
       "      <td>2</td>\n",
       "      <td>2022-07-19</td>\n",
       "    </tr>\n",
       "    <tr>\n",
       "      <th>2</th>\n",
       "      <td>0</td>\n",
       "      <td>590262</td>\n",
       "      <td>3</td>\n",
       "      <td>2022-07-21</td>\n",
       "    </tr>\n",
       "    <tr>\n",
       "      <th>3</th>\n",
       "      <td>0</td>\n",
       "      <td>590303</td>\n",
       "      <td>4</td>\n",
       "      <td>2022-07-22</td>\n",
       "    </tr>\n",
       "    <tr>\n",
       "      <th>4</th>\n",
       "      <td>0</td>\n",
       "      <td>590692</td>\n",
       "      <td>5</td>\n",
       "      <td>2022-07-22</td>\n",
       "    </tr>\n",
       "  </tbody>\n",
       "</table>\n",
       "</div>"
      ],
      "text/plain": [
       "   user_id  track_id  track_seq started_at\n",
       "0        0     99262          1 2022-07-17\n",
       "1        0    589498          2 2022-07-19\n",
       "2        0    590262          3 2022-07-21\n",
       "3        0    590303          4 2022-07-22\n",
       "4        0    590692          5 2022-07-22"
      ]
     },
     "execution_count": 6,
     "metadata": {},
     "output_type": "execute_result"
    }
   ],
   "source": [
    "print(interactions.info())\n",
    "interactions.head()"
   ]
  },
  {
   "cell_type": "code",
   "execution_count": 7,
   "id": "81f24220",
   "metadata": {},
   "outputs": [
    {
     "data": {
      "text/plain": [
       "1000000"
      ]
     },
     "execution_count": 7,
     "metadata": {},
     "output_type": "execute_result"
    }
   ],
   "source": [
    "interactions.track_id.nunique()"
   ]
  },
  {
   "cell_type": "code",
   "execution_count": 10,
   "id": "d89feec2",
   "metadata": {},
   "outputs": [
    {
     "name": "stdout",
     "output_type": "stream",
     "text": [
      "<class 'pandas.core.frame.DataFrame'>\n",
      "RangeIndex: 1812471 entries, 0 to 1812470\n",
      "Data columns (total 3 columns):\n",
      " #   Column  Dtype \n",
      "---  ------  ----- \n",
      " 0   id      int64 \n",
      " 1   type    object\n",
      " 2   name    object\n",
      "dtypes: int64(1), object(2)\n",
      "memory usage: 41.5+ MB\n",
      "None\n"
     ]
    },
    {
     "data": {
      "text/html": [
       "<div>\n",
       "<style scoped>\n",
       "    .dataframe tbody tr th:only-of-type {\n",
       "        vertical-align: middle;\n",
       "    }\n",
       "\n",
       "    .dataframe tbody tr th {\n",
       "        vertical-align: top;\n",
       "    }\n",
       "\n",
       "    .dataframe thead th {\n",
       "        text-align: right;\n",
       "    }\n",
       "</style>\n",
       "<table border=\"1\" class=\"dataframe\">\n",
       "  <thead>\n",
       "    <tr style=\"text-align: right;\">\n",
       "      <th></th>\n",
       "      <th>id</th>\n",
       "      <th>type</th>\n",
       "      <th>name</th>\n",
       "    </tr>\n",
       "  </thead>\n",
       "  <tbody>\n",
       "    <tr>\n",
       "      <th>0</th>\n",
       "      <td>3</td>\n",
       "      <td>album</td>\n",
       "      <td>Taller Children</td>\n",
       "    </tr>\n",
       "    <tr>\n",
       "      <th>1</th>\n",
       "      <td>12</td>\n",
       "      <td>album</td>\n",
       "      <td>Wild Young Hearts</td>\n",
       "    </tr>\n",
       "    <tr>\n",
       "      <th>2</th>\n",
       "      <td>13</td>\n",
       "      <td>album</td>\n",
       "      <td>Lonesome Crow</td>\n",
       "    </tr>\n",
       "    <tr>\n",
       "      <th>3</th>\n",
       "      <td>17</td>\n",
       "      <td>album</td>\n",
       "      <td>Graffiti Soul</td>\n",
       "    </tr>\n",
       "    <tr>\n",
       "      <th>4</th>\n",
       "      <td>26</td>\n",
       "      <td>album</td>\n",
       "      <td>Blues Six Pack</td>\n",
       "    </tr>\n",
       "  </tbody>\n",
       "</table>\n",
       "</div>"
      ],
      "text/plain": [
       "   id   type               name\n",
       "0   3  album    Taller Children\n",
       "1  12  album  Wild Young Hearts\n",
       "2  13  album      Lonesome Crow\n",
       "3  17  album      Graffiti Soul\n",
       "4  26  album     Blues Six Pack"
      ]
     },
     "execution_count": 10,
     "metadata": {},
     "output_type": "execute_result"
    }
   ],
   "source": [
    "print(cat_names.info())\n",
    "cat_names.head()"
   ]
  },
  {
   "cell_type": "code",
   "execution_count": 11,
   "id": "8d9febcd",
   "metadata": {},
   "outputs": [
    {
     "data": {
      "text/plain": [
       "type\n",
       "track     1000000\n",
       "album      658724\n",
       "artist     153581\n",
       "genre         166\n",
       "Name: count, dtype: int64"
      ]
     },
     "execution_count": 11,
     "metadata": {},
     "output_type": "execute_result"
    }
   ],
   "source": [
    "cat_names.type.value_counts()"
   ]
  },
  {
   "cell_type": "code",
   "execution_count": 13,
   "id": "2137ff40",
   "metadata": {},
   "outputs": [
    {
     "data": {
      "text/html": [
       "<div>\n",
       "<style scoped>\n",
       "    .dataframe tbody tr th:only-of-type {\n",
       "        vertical-align: middle;\n",
       "    }\n",
       "\n",
       "    .dataframe tbody tr th {\n",
       "        vertical-align: top;\n",
       "    }\n",
       "\n",
       "    .dataframe thead th {\n",
       "        text-align: right;\n",
       "    }\n",
       "</style>\n",
       "<table border=\"1\" class=\"dataframe\">\n",
       "  <thead>\n",
       "    <tr style=\"text-align: right;\">\n",
       "      <th></th>\n",
       "      <th>id</th>\n",
       "      <th>type</th>\n",
       "      <th>name</th>\n",
       "    </tr>\n",
       "  </thead>\n",
       "  <tbody>\n",
       "    <tr>\n",
       "      <th>812305</th>\n",
       "      <td>0</td>\n",
       "      <td>genre</td>\n",
       "      <td>all</td>\n",
       "    </tr>\n",
       "    <tr>\n",
       "      <th>812306</th>\n",
       "      <td>1</td>\n",
       "      <td>genre</td>\n",
       "      <td>eastern</td>\n",
       "    </tr>\n",
       "    <tr>\n",
       "      <th>812307</th>\n",
       "      <td>2</td>\n",
       "      <td>genre</td>\n",
       "      <td>rusrock</td>\n",
       "    </tr>\n",
       "    <tr>\n",
       "      <th>812308</th>\n",
       "      <td>3</td>\n",
       "      <td>genre</td>\n",
       "      <td>rusrap</td>\n",
       "    </tr>\n",
       "    <tr>\n",
       "      <th>812309</th>\n",
       "      <td>4</td>\n",
       "      <td>genre</td>\n",
       "      <td>postrock</td>\n",
       "    </tr>\n",
       "  </tbody>\n",
       "</table>\n",
       "</div>"
      ],
      "text/plain": [
       "        id   type      name\n",
       "812305   0  genre       all\n",
       "812306   1  genre   eastern\n",
       "812307   2  genre   rusrock\n",
       "812308   3  genre    rusrap\n",
       "812309   4  genre  postrock"
      ]
     },
     "execution_count": 13,
     "metadata": {},
     "output_type": "execute_result"
    }
   ],
   "source": [
    "cat_names.query(\"type == 'genre'\").head()"
   ]
  },
  {
   "cell_type": "markdown",
   "id": "36bb2d57",
   "metadata": {},
   "source": [
    "Посчитаем какое количество пользователей прослушало наименее популярные треки."
   ]
  },
  {
   "cell_type": "code",
   "execution_count": 14,
   "id": "71eeecb4",
   "metadata": {},
   "outputs": [
    {
     "data": {
      "text/html": [
       "<div>\n",
       "<style scoped>\n",
       "    .dataframe tbody tr th:only-of-type {\n",
       "        vertical-align: middle;\n",
       "    }\n",
       "\n",
       "    .dataframe tbody tr th {\n",
       "        vertical-align: top;\n",
       "    }\n",
       "\n",
       "    .dataframe thead th {\n",
       "        text-align: right;\n",
       "    }\n",
       "</style>\n",
       "<table border=\"1\" class=\"dataframe\">\n",
       "  <thead>\n",
       "    <tr style=\"text-align: right;\">\n",
       "      <th></th>\n",
       "      <th>user_id</th>\n",
       "    </tr>\n",
       "    <tr>\n",
       "      <th>track_id</th>\n",
       "      <th></th>\n",
       "    </tr>\n",
       "  </thead>\n",
       "  <tbody>\n",
       "    <tr>\n",
       "      <th>42572290</th>\n",
       "      <td>5</td>\n",
       "    </tr>\n",
       "    <tr>\n",
       "      <th>29705249</th>\n",
       "      <td>5</td>\n",
       "    </tr>\n",
       "    <tr>\n",
       "      <th>29706278</th>\n",
       "      <td>5</td>\n",
       "    </tr>\n",
       "    <tr>\n",
       "      <th>29706418</th>\n",
       "      <td>5</td>\n",
       "    </tr>\n",
       "    <tr>\n",
       "      <th>29706809</th>\n",
       "      <td>5</td>\n",
       "    </tr>\n",
       "  </tbody>\n",
       "</table>\n",
       "</div>"
      ],
      "text/plain": [
       "          user_id\n",
       "track_id         \n",
       "42572290        5\n",
       "29705249        5\n",
       "29706278        5\n",
       "29706418        5\n",
       "29706809        5"
      ]
     },
     "execution_count": 14,
     "metadata": {},
     "output_type": "execute_result"
    }
   ],
   "source": [
    "interactions.groupby(\"track_id\").agg({\"user_id\": \"count\"}).sort_values(\n",
    "    by=\"user_id\"\n",
    ").head()"
   ]
  },
  {
   "cell_type": "markdown",
   "id": "eba50acf",
   "metadata": {},
   "source": [
    "Посмотрим как распределяется количество треков прослушанных каждым пользователем."
   ]
  },
  {
   "cell_type": "code",
   "execution_count": 15,
   "id": "48ab1394",
   "metadata": {},
   "outputs": [
    {
     "data": {
      "text/html": [
       "<div>\n",
       "<style scoped>\n",
       "    .dataframe tbody tr th:only-of-type {\n",
       "        vertical-align: middle;\n",
       "    }\n",
       "\n",
       "    .dataframe tbody tr th {\n",
       "        vertical-align: top;\n",
       "    }\n",
       "\n",
       "    .dataframe thead th {\n",
       "        text-align: right;\n",
       "    }\n",
       "</style>\n",
       "<table border=\"1\" class=\"dataframe\">\n",
       "  <thead>\n",
       "    <tr style=\"text-align: right;\">\n",
       "      <th></th>\n",
       "      <th>track_id</th>\n",
       "    </tr>\n",
       "  </thead>\n",
       "  <tbody>\n",
       "    <tr>\n",
       "      <th>count</th>\n",
       "      <td>1.373221e+06</td>\n",
       "    </tr>\n",
       "    <tr>\n",
       "      <th>mean</th>\n",
       "      <td>1.621224e+02</td>\n",
       "    </tr>\n",
       "    <tr>\n",
       "      <th>std</th>\n",
       "      <td>3.512846e+02</td>\n",
       "    </tr>\n",
       "    <tr>\n",
       "      <th>min</th>\n",
       "      <td>1.000000e+00</td>\n",
       "    </tr>\n",
       "    <tr>\n",
       "      <th>25%</th>\n",
       "      <td>2.300000e+01</td>\n",
       "    </tr>\n",
       "    <tr>\n",
       "      <th>50%</th>\n",
       "      <td>5.500000e+01</td>\n",
       "    </tr>\n",
       "    <tr>\n",
       "      <th>75%</th>\n",
       "      <td>1.540000e+02</td>\n",
       "    </tr>\n",
       "    <tr>\n",
       "      <th>max</th>\n",
       "      <td>1.663700e+04</td>\n",
       "    </tr>\n",
       "  </tbody>\n",
       "</table>\n",
       "</div>"
      ],
      "text/plain": [
       "           track_id\n",
       "count  1.373221e+06\n",
       "mean   1.621224e+02\n",
       "std    3.512846e+02\n",
       "min    1.000000e+00\n",
       "25%    2.300000e+01\n",
       "50%    5.500000e+01\n",
       "75%    1.540000e+02\n",
       "max    1.663700e+04"
      ]
     },
     "execution_count": 15,
     "metadata": {},
     "output_type": "execute_result"
    }
   ],
   "source": [
    "interactions.groupby(\"user_id\").agg({\"track_id\": \"count\"}).sort_values(\n",
    "    by=\"track_id\"\n",
    ").describe()"
   ]
  },
  {
   "cell_type": "markdown",
   "id": "e7445dac",
   "metadata": {},
   "source": [
    "Заметен большой разброс в пользователях из наших данных - некоторые прослушали всего по одному треку, а также есть пользователи у которых в истории взаимодействия более 16тыс. прослушанных треков.\n",
    "\n",
    "Оставим данные только о пользователям прослушавших от 6ти до 350ти треков."
   ]
  },
  {
   "cell_type": "code",
   "execution_count": 16,
   "id": "dac68fb7",
   "metadata": {},
   "outputs": [],
   "source": [
    "top_users = (\n",
    "    interactions.groupby(\"user_id\")\n",
    "    .agg({\"track_id\": \"count\"})\n",
    "    .sort_values(by=\"track_id\")\n",
    "    .reset_index()\n",
    ")\n",
    "top_users = top_users[(top_users.track_id > 5) & (top_users.track_id < 350)]"
   ]
  },
  {
   "cell_type": "code",
   "execution_count": 17,
   "id": "842cb590",
   "metadata": {},
   "outputs": [
    {
     "name": "stdout",
     "output_type": "stream",
     "text": [
      "<class 'pandas.core.frame.DataFrame'>\n",
      "Index: 93408782 entries, 0 to 291\n",
      "Data columns (total 4 columns):\n",
      " #   Column      Dtype         \n",
      "---  ------      -----         \n",
      " 0   user_id     int32         \n",
      " 1   track_id    int32         \n",
      " 2   track_seq   int16         \n",
      " 3   started_at  datetime64[ns]\n",
      "dtypes: datetime64[ns](1), int16(1), int32(2)\n",
      "memory usage: 2.3 GB\n"
     ]
    }
   ],
   "source": [
    "interactions = interactions[interactions.user_id.isin(top_users.user_id)]\n",
    "interactions.info()"
   ]
  },
  {
   "cell_type": "markdown",
   "id": "b9fb6687",
   "metadata": {},
   "source": [
    "Посмотрим какое максимальное количество жанров может содержать один трек"
   ]
  },
  {
   "cell_type": "code",
   "execution_count": 21,
   "id": "6874fa47",
   "metadata": {},
   "outputs": [
    {
     "data": {
      "text/plain": [
       "10"
      ]
     },
     "execution_count": 21,
     "metadata": {},
     "output_type": "execute_result"
    }
   ],
   "source": [
    "max(len(x) for x in tracks.genres)"
   ]
  },
  {
   "cell_type": "markdown",
   "id": "eaae14a0",
   "metadata": {},
   "source": [
    "Теперь в какое максимальное количество альбомов может входить один трек"
   ]
  },
  {
   "cell_type": "code",
   "execution_count": 24,
   "id": "9ee858e6-0716-4941-8b4a-35e1fca088a1",
   "metadata": {},
   "outputs": [
    {
     "data": {
      "text/plain": [
       "2844"
      ]
     },
     "execution_count": 24,
     "metadata": {},
     "output_type": "execute_result"
    }
   ],
   "source": [
    "max(len(x) for x in tracks.albums)"
   ]
  },
  {
   "cell_type": "markdown",
   "id": "86a1ea43",
   "metadata": {},
   "source": [
    "И какое максимальное количество исполнителей может содержать один трек"
   ]
  },
  {
   "cell_type": "code",
   "execution_count": 25,
   "id": "941396c2-b53b-4782-bca4-e08cc63b2136",
   "metadata": {},
   "outputs": [
    {
     "data": {
      "text/plain": [
       "26"
      ]
     },
     "execution_count": 25,
     "metadata": {},
     "output_type": "execute_result"
    }
   ],
   "source": [
    "max(len(x) for x in tracks.artists)"
   ]
  },
  {
   "cell_type": "markdown",
   "id": "9294fe3e",
   "metadata": {},
   "source": [
    "Оставим в информации о треках только первые 2 исполнителя, 2 альбома и 2 жанра для упрощения. И разнесем их на разные колонки"
   ]
  },
  {
   "cell_type": "code",
   "execution_count": 20,
   "id": "b1959ad5-b18d-4cbb-968e-20ca22473b23",
   "metadata": {},
   "outputs": [
    {
     "data": {
      "text/html": [
       "<div>\n",
       "<style scoped>\n",
       "    .dataframe tbody tr th:only-of-type {\n",
       "        vertical-align: middle;\n",
       "    }\n",
       "\n",
       "    .dataframe tbody tr th {\n",
       "        vertical-align: top;\n",
       "    }\n",
       "\n",
       "    .dataframe thead th {\n",
       "        text-align: right;\n",
       "    }\n",
       "</style>\n",
       "<table border=\"1\" class=\"dataframe\">\n",
       "  <thead>\n",
       "    <tr style=\"text-align: right;\">\n",
       "      <th></th>\n",
       "      <th>track_id</th>\n",
       "      <th>albums</th>\n",
       "      <th>artists</th>\n",
       "      <th>genres</th>\n",
       "      <th>albums_0</th>\n",
       "      <th>albums_1</th>\n",
       "      <th>artists_0</th>\n",
       "      <th>artists_1</th>\n",
       "      <th>genres_0</th>\n",
       "      <th>genres_1</th>\n",
       "    </tr>\n",
       "  </thead>\n",
       "  <tbody>\n",
       "    <tr>\n",
       "      <th>0</th>\n",
       "      <td>26</td>\n",
       "      <td>[3, 2490753]</td>\n",
       "      <td>[16]</td>\n",
       "      <td>[11, 21]</td>\n",
       "      <td>3.0</td>\n",
       "      <td>2490753.0</td>\n",
       "      <td>16.0</td>\n",
       "      <td>NaN</td>\n",
       "      <td>11.0</td>\n",
       "      <td>21.0</td>\n",
       "    </tr>\n",
       "    <tr>\n",
       "      <th>1</th>\n",
       "      <td>38</td>\n",
       "      <td>[3, 2490753]</td>\n",
       "      <td>[16]</td>\n",
       "      <td>[11, 21]</td>\n",
       "      <td>3.0</td>\n",
       "      <td>2490753.0</td>\n",
       "      <td>16.0</td>\n",
       "      <td>NaN</td>\n",
       "      <td>11.0</td>\n",
       "      <td>21.0</td>\n",
       "    </tr>\n",
       "    <tr>\n",
       "      <th>2</th>\n",
       "      <td>135</td>\n",
       "      <td>[12, 214, 2490809]</td>\n",
       "      <td>[84]</td>\n",
       "      <td>[11]</td>\n",
       "      <td>12.0</td>\n",
       "      <td>214.0</td>\n",
       "      <td>84.0</td>\n",
       "      <td>NaN</td>\n",
       "      <td>11.0</td>\n",
       "      <td>NaN</td>\n",
       "    </tr>\n",
       "    <tr>\n",
       "      <th>3</th>\n",
       "      <td>136</td>\n",
       "      <td>[12, 214, 2490809]</td>\n",
       "      <td>[84]</td>\n",
       "      <td>[11]</td>\n",
       "      <td>12.0</td>\n",
       "      <td>214.0</td>\n",
       "      <td>84.0</td>\n",
       "      <td>NaN</td>\n",
       "      <td>11.0</td>\n",
       "      <td>NaN</td>\n",
       "    </tr>\n",
       "    <tr>\n",
       "      <th>4</th>\n",
       "      <td>138</td>\n",
       "      <td>[12, 214, 322, 72275, 72292, 91199, 213505, 24...</td>\n",
       "      <td>[84]</td>\n",
       "      <td>[11]</td>\n",
       "      <td>12.0</td>\n",
       "      <td>214.0</td>\n",
       "      <td>84.0</td>\n",
       "      <td>NaN</td>\n",
       "      <td>11.0</td>\n",
       "      <td>NaN</td>\n",
       "    </tr>\n",
       "  </tbody>\n",
       "</table>\n",
       "</div>"
      ],
      "text/plain": [
       "   track_id                                             albums artists  \\\n",
       "0        26                                       [3, 2490753]    [16]   \n",
       "1        38                                       [3, 2490753]    [16]   \n",
       "2       135                                 [12, 214, 2490809]    [84]   \n",
       "3       136                                 [12, 214, 2490809]    [84]   \n",
       "4       138  [12, 214, 322, 72275, 72292, 91199, 213505, 24...    [84]   \n",
       "\n",
       "     genres  albums_0   albums_1  artists_0  artists_1  genres_0  genres_1  \n",
       "0  [11, 21]       3.0  2490753.0       16.0        NaN      11.0      21.0  \n",
       "1  [11, 21]       3.0  2490753.0       16.0        NaN      11.0      21.0  \n",
       "2      [11]      12.0      214.0       84.0        NaN      11.0       NaN  \n",
       "3      [11]      12.0      214.0       84.0        NaN      11.0       NaN  \n",
       "4      [11]      12.0      214.0       84.0        NaN      11.0       NaN  "
      ]
     },
     "execution_count": 20,
     "metadata": {},
     "output_type": "execute_result"
    }
   ],
   "source": [
    "tracks_info = tracks.copy()\n",
    "for col in tracks.columns[1:]:\n",
    "    df = pd.Series([x[:2] for x in tracks[col]], index=tracks.track_id)\n",
    "    df = pd.DataFrame(df.values.tolist(), index=df.index).add_prefix(f\"{col}_\")\n",
    "    tracks_info = tracks_info.merge(\n",
    "        df, left_on=\"track_id\", right_on=df.index, how=\"left\"\n",
    "    )\n",
    "\n",
    "\n",
    "tracks_info.head()\n"
   ]
  },
  {
   "cell_type": "markdown",
   "id": "267fc1e4",
   "metadata": {},
   "source": [
    "Внимательно посмотрим на часть таблицы `cat_names` с дополнительной информацией."
   ]
  },
  {
   "cell_type": "code",
   "execution_count": 22,
   "id": "33dcc8be-9615-4037-8983-4e7e5815325a",
   "metadata": {},
   "outputs": [
    {
     "data": {
      "text/html": [
       "<div>\n",
       "<style scoped>\n",
       "    .dataframe tbody tr th:only-of-type {\n",
       "        vertical-align: middle;\n",
       "    }\n",
       "\n",
       "    .dataframe tbody tr th {\n",
       "        vertical-align: top;\n",
       "    }\n",
       "\n",
       "    .dataframe thead th {\n",
       "        text-align: right;\n",
       "    }\n",
       "</style>\n",
       "<table border=\"1\" class=\"dataframe\">\n",
       "  <thead>\n",
       "    <tr style=\"text-align: right;\">\n",
       "      <th></th>\n",
       "      <th>id</th>\n",
       "      <th>type</th>\n",
       "      <th>name</th>\n",
       "    </tr>\n",
       "  </thead>\n",
       "  <tbody>\n",
       "    <tr>\n",
       "      <th>658725</th>\n",
       "      <td>5</td>\n",
       "      <td>artist</td>\n",
       "      <td>Max Roach</td>\n",
       "    </tr>\n",
       "    <tr>\n",
       "      <th>812310</th>\n",
       "      <td>5</td>\n",
       "      <td>genre</td>\n",
       "      <td>ukrrock</td>\n",
       "    </tr>\n",
       "  </tbody>\n",
       "</table>\n",
       "</div>"
      ],
      "text/plain": [
       "        id    type       name\n",
       "658725   5  artist  Max Roach\n",
       "812310   5   genre    ukrrock"
      ]
     },
     "execution_count": 22,
     "metadata": {},
     "output_type": "execute_result"
    }
   ],
   "source": [
    "cat_names.query(\"id == 5\")"
   ]
  },
  {
   "cell_type": "markdown",
   "id": "89f0e679",
   "metadata": {},
   "source": [
    "В данной таблице столбец `id` отвечает за идентификатор того типа информации, которая обозначена в графе `type` и поэтому в столбце `id` присутствуют повторы.\n",
    "\n",
    "Добавим информацию о названиях треков, альбомов, жанров и исполнителей в таблицу `tracks_info`"
   ]
  },
  {
   "cell_type": "markdown",
   "id": "583859f5",
   "metadata": {},
   "source": [
    "Сначала добавим альбомы, жанры и исполнителей"
   ]
  },
  {
   "cell_type": "code",
   "execution_count": 29,
   "id": "f0e77b86-8f83-4762-b3ad-0718fe30ee5d",
   "metadata": {},
   "outputs": [
    {
     "data": {
      "text/html": [
       "<div>\n",
       "<style scoped>\n",
       "    .dataframe tbody tr th:only-of-type {\n",
       "        vertical-align: middle;\n",
       "    }\n",
       "\n",
       "    .dataframe tbody tr th {\n",
       "        vertical-align: top;\n",
       "    }\n",
       "\n",
       "    .dataframe thead th {\n",
       "        text-align: right;\n",
       "    }\n",
       "</style>\n",
       "<table border=\"1\" class=\"dataframe\">\n",
       "  <thead>\n",
       "    <tr style=\"text-align: right;\">\n",
       "      <th></th>\n",
       "      <th>track_id</th>\n",
       "      <th>albums</th>\n",
       "      <th>artists</th>\n",
       "      <th>genres</th>\n",
       "      <th>albums_0</th>\n",
       "      <th>albums_1</th>\n",
       "      <th>artists_0</th>\n",
       "      <th>artists_1</th>\n",
       "      <th>genres_0</th>\n",
       "      <th>genres_1</th>\n",
       "      <th>...</th>\n",
       "      <th>id_album_2</th>\n",
       "      <th>name_album_2</th>\n",
       "      <th>id_artist_1</th>\n",
       "      <th>name_artist_1</th>\n",
       "      <th>id_artist_2</th>\n",
       "      <th>name_artist_2</th>\n",
       "      <th>id_genre_1</th>\n",
       "      <th>name_genre_1</th>\n",
       "      <th>id_genre_2</th>\n",
       "      <th>name_genre_2</th>\n",
       "    </tr>\n",
       "  </thead>\n",
       "  <tbody>\n",
       "    <tr>\n",
       "      <th>0</th>\n",
       "      <td>26</td>\n",
       "      <td>[3, 2490753]</td>\n",
       "      <td>[16]</td>\n",
       "      <td>[11, 21]</td>\n",
       "      <td>3.0</td>\n",
       "      <td>2490753.0</td>\n",
       "      <td>16.0</td>\n",
       "      <td>NaN</td>\n",
       "      <td>11.0</td>\n",
       "      <td>21.0</td>\n",
       "      <td>...</td>\n",
       "      <td>2490753.0</td>\n",
       "      <td>Taller Children</td>\n",
       "      <td>16.0</td>\n",
       "      <td>Elizabeth &amp; the Catapult</td>\n",
       "      <td>NaN</td>\n",
       "      <td>NaN</td>\n",
       "      <td>11.0</td>\n",
       "      <td>pop</td>\n",
       "      <td>21.0</td>\n",
       "      <td>folk</td>\n",
       "    </tr>\n",
       "    <tr>\n",
       "      <th>1</th>\n",
       "      <td>38</td>\n",
       "      <td>[3, 2490753]</td>\n",
       "      <td>[16]</td>\n",
       "      <td>[11, 21]</td>\n",
       "      <td>3.0</td>\n",
       "      <td>2490753.0</td>\n",
       "      <td>16.0</td>\n",
       "      <td>NaN</td>\n",
       "      <td>11.0</td>\n",
       "      <td>21.0</td>\n",
       "      <td>...</td>\n",
       "      <td>2490753.0</td>\n",
       "      <td>Taller Children</td>\n",
       "      <td>16.0</td>\n",
       "      <td>Elizabeth &amp; the Catapult</td>\n",
       "      <td>NaN</td>\n",
       "      <td>NaN</td>\n",
       "      <td>11.0</td>\n",
       "      <td>pop</td>\n",
       "      <td>21.0</td>\n",
       "      <td>folk</td>\n",
       "    </tr>\n",
       "    <tr>\n",
       "      <th>2</th>\n",
       "      <td>135</td>\n",
       "      <td>[12, 214, 2490809]</td>\n",
       "      <td>[84]</td>\n",
       "      <td>[11]</td>\n",
       "      <td>12.0</td>\n",
       "      <td>214.0</td>\n",
       "      <td>84.0</td>\n",
       "      <td>NaN</td>\n",
       "      <td>11.0</td>\n",
       "      <td>NaN</td>\n",
       "      <td>...</td>\n",
       "      <td>214.0</td>\n",
       "      <td>Wild Young Hearts</td>\n",
       "      <td>84.0</td>\n",
       "      <td>Noisettes</td>\n",
       "      <td>NaN</td>\n",
       "      <td>NaN</td>\n",
       "      <td>11.0</td>\n",
       "      <td>pop</td>\n",
       "      <td>NaN</td>\n",
       "      <td>NaN</td>\n",
       "    </tr>\n",
       "    <tr>\n",
       "      <th>3</th>\n",
       "      <td>136</td>\n",
       "      <td>[12, 214, 2490809]</td>\n",
       "      <td>[84]</td>\n",
       "      <td>[11]</td>\n",
       "      <td>12.0</td>\n",
       "      <td>214.0</td>\n",
       "      <td>84.0</td>\n",
       "      <td>NaN</td>\n",
       "      <td>11.0</td>\n",
       "      <td>NaN</td>\n",
       "      <td>...</td>\n",
       "      <td>214.0</td>\n",
       "      <td>Wild Young Hearts</td>\n",
       "      <td>84.0</td>\n",
       "      <td>Noisettes</td>\n",
       "      <td>NaN</td>\n",
       "      <td>NaN</td>\n",
       "      <td>11.0</td>\n",
       "      <td>pop</td>\n",
       "      <td>NaN</td>\n",
       "      <td>NaN</td>\n",
       "    </tr>\n",
       "    <tr>\n",
       "      <th>4</th>\n",
       "      <td>138</td>\n",
       "      <td>[12, 214, 322, 72275, 72292, 91199, 213505, 24...</td>\n",
       "      <td>[84]</td>\n",
       "      <td>[11]</td>\n",
       "      <td>12.0</td>\n",
       "      <td>214.0</td>\n",
       "      <td>84.0</td>\n",
       "      <td>NaN</td>\n",
       "      <td>11.0</td>\n",
       "      <td>NaN</td>\n",
       "      <td>...</td>\n",
       "      <td>214.0</td>\n",
       "      <td>Wild Young Hearts</td>\n",
       "      <td>84.0</td>\n",
       "      <td>Noisettes</td>\n",
       "      <td>NaN</td>\n",
       "      <td>NaN</td>\n",
       "      <td>11.0</td>\n",
       "      <td>pop</td>\n",
       "      <td>NaN</td>\n",
       "      <td>NaN</td>\n",
       "    </tr>\n",
       "  </tbody>\n",
       "</table>\n",
       "<p>5 rows × 22 columns</p>\n",
       "</div>"
      ],
      "text/plain": [
       "   track_id                                             albums artists  \\\n",
       "0        26                                       [3, 2490753]    [16]   \n",
       "1        38                                       [3, 2490753]    [16]   \n",
       "2       135                                 [12, 214, 2490809]    [84]   \n",
       "3       136                                 [12, 214, 2490809]    [84]   \n",
       "4       138  [12, 214, 322, 72275, 72292, 91199, 213505, 24...    [84]   \n",
       "\n",
       "     genres  albums_0   albums_1  artists_0  artists_1  genres_0  genres_1  \\\n",
       "0  [11, 21]       3.0  2490753.0       16.0        NaN      11.0      21.0   \n",
       "1  [11, 21]       3.0  2490753.0       16.0        NaN      11.0      21.0   \n",
       "2      [11]      12.0      214.0       84.0        NaN      11.0       NaN   \n",
       "3      [11]      12.0      214.0       84.0        NaN      11.0       NaN   \n",
       "4      [11]      12.0      214.0       84.0        NaN      11.0       NaN   \n",
       "\n",
       "   ...  id_album_2       name_album_2  id_artist_1             name_artist_1  \\\n",
       "0  ...   2490753.0    Taller Children         16.0  Elizabeth & the Catapult   \n",
       "1  ...   2490753.0    Taller Children         16.0  Elizabeth & the Catapult   \n",
       "2  ...       214.0  Wild Young Hearts         84.0                 Noisettes   \n",
       "3  ...       214.0  Wild Young Hearts         84.0                 Noisettes   \n",
       "4  ...       214.0  Wild Young Hearts         84.0                 Noisettes   \n",
       "\n",
       "   id_artist_2 name_artist_2  id_genre_1 name_genre_1  id_genre_2 name_genre_2  \n",
       "0          NaN           NaN        11.0          pop        21.0         folk  \n",
       "1          NaN           NaN        11.0          pop        21.0         folk  \n",
       "2          NaN           NaN        11.0          pop         NaN          NaN  \n",
       "3          NaN           NaN        11.0          pop         NaN          NaN  \n",
       "4          NaN           NaN        11.0          pop         NaN          NaN  \n",
       "\n",
       "[5 rows x 22 columns]"
      ]
     },
     "execution_count": 29,
     "metadata": {},
     "output_type": "execute_result"
    }
   ],
   "source": [
    "for type in cat_names.type.unique()[:-1]:\n",
    "    tracks_info = tracks_info.merge(\n",
    "        cat_names.query(\"type == @type\")[[\"id\", \"name\"]],\n",
    "        left_on=f\"{type}s_0\",\n",
    "        right_on=\"id\",\n",
    "        how=\"left\",\n",
    "    )\n",
    "    tracks_info = tracks_info.merge(\n",
    "        cat_names.query(\"type == @type\")[[\"id\", \"name\"]],\n",
    "        left_on=f\"{type}s_1\",\n",
    "        right_on=\"id\",\n",
    "        how=\"left\",\n",
    "        suffixes=(f\"_{type}_1\", f\"_{type}_2\"),\n",
    "    )\n",
    "\n",
    "tracks_info.head()"
   ]
  },
  {
   "cell_type": "markdown",
   "id": "b41c245d",
   "metadata": {},
   "source": [
    "Затем добавим названия треков"
   ]
  },
  {
   "cell_type": "code",
   "execution_count": 30,
   "id": "bbcf1100-6ba5-4b81-accb-a8e32fd3e477",
   "metadata": {},
   "outputs": [],
   "source": [
    "tracks_info = tracks_info.merge(\n",
    "    cat_names.query(\"type == 'track'\")[[\"id\", \"name\"]],\n",
    "    left_on=\"track_id\",\n",
    "    right_on=\"id\",\n",
    "    how=\"left\",\n",
    ")\n",
    "\n",
    "tracks_info = tracks_info.rename(columns={\"id\": \"id_track\", \"name\": \"name_track\"})"
   ]
  },
  {
   "cell_type": "markdown",
   "id": "b68bab02-4cb6-44fa-a306-f5cb0250b8df",
   "metadata": {
    "scrolled": true
   },
   "source": [
    "Удалим повторяющуюся информацию и переведем тип некоторых данных"
   ]
  },
  {
   "cell_type": "code",
   "execution_count": 33,
   "id": "efd2e2eb-3bec-4ce1-87ac-232bab8bc0d0",
   "metadata": {},
   "outputs": [],
   "source": [
    "items = tracks_info.iloc[:, 10:]\n",
    "items[items.select_dtypes(\"float64\").columns] = items.select_dtypes(\"float64\").astype(\n",
    "    \"Int32\"\n",
    ")"
   ]
  },
  {
   "cell_type": "code",
   "execution_count": 34,
   "id": "9a60a8b4",
   "metadata": {},
   "outputs": [
    {
     "name": "stdout",
     "output_type": "stream",
     "text": [
      "<class 'pandas.core.frame.DataFrame'>\n",
      "RangeIndex: 1000000 entries, 0 to 999999\n",
      "Data columns (total 14 columns):\n",
      " #   Column         Non-Null Count    Dtype \n",
      "---  ------         --------------    ----- \n",
      " 0   id_album_1     999982 non-null   Int32 \n",
      " 1   name_album_1   999982 non-null   object\n",
      " 2   id_album_2     319008 non-null   Int32 \n",
      " 3   name_album_2   319008 non-null   object\n",
      " 4   id_artist_1    984631 non-null   Int32 \n",
      " 5   name_artist_1  984631 non-null   object\n",
      " 6   id_artist_2    200970 non-null   Int32 \n",
      " 7   name_artist_2  200970 non-null   object\n",
      " 8   id_genre_1     996306 non-null   Int32 \n",
      " 9   name_genre_1   996306 non-null   object\n",
      " 10  id_genre_2     570737 non-null   Int32 \n",
      " 11  name_genre_2   570737 non-null   object\n",
      " 12  id_track       1000000 non-null  int64 \n",
      " 13  name_track     1000000 non-null  object\n",
      "dtypes: Int32(6), int64(1), object(7)\n",
      "memory usage: 89.6+ MB\n"
     ]
    }
   ],
   "source": [
    "items.info()"
   ]
  },
  {
   "cell_type": "code",
   "execution_count": 36,
   "id": "f3f37cfa-32c6-4368-a3ad-2dd08f60a8bf",
   "metadata": {},
   "outputs": [],
   "source": [
    "# interactions.to_parquet(\"interactions_next.parquet\")\n",
    "# items.to_parquet(\"tracks_next.parquet\")"
   ]
  },
  {
   "cell_type": "markdown",
   "id": "318b573a-9e2d-4808-95db-60cfb8bbdb73",
   "metadata": {
    "editable": true,
    "slideshow": {
     "slide_type": ""
    },
    "tags": []
   },
   "source": [
    "# Выводы"
   ]
  },
  {
   "cell_type": "markdown",
   "id": "caa96e12-36a8-4401-8f11-98627a49ae9d",
   "metadata": {},
   "source": [
    "Приведём выводы по первому знакомству с данными:\n",
    "- есть ли с данными явные проблемы,\n",
    "- какие корректирующие действия (в целом) были предприняты."
   ]
  },
  {
   "cell_type": "markdown",
   "id": "f58cd010-c2fa-475f-b7e9-767965cd4f55",
   "metadata": {},
   "source": [
    "Мы получили три файла с данными: `tracks`, `catalog_names`, `interactions`. \n",
    "\n",
    "Первый файл `tracks` - информация о 1 млн треков, с названием трека, жанрами, исполнителями и альбомами, все данные в цифровом закодированном формате. У одного трека может быть одно название, но колонки с жанром, альбомом и исполнителем содержат список из одного или нескольких значений.<br>\n",
    "Второй файл `catalog_names` содержит вспомогательную информацию о треках, в файле перемешаны цифровые id и истинные названия треков, жанров, исполнителей и альбомов. Для каждого id выставлен тип, по которому можно ориентироваться, что за информацию несет строка данных. Содержит всего 1_812_471 записей <br>\n",
    "В третьем файле `interactions` содержится информация о том какие пользователи прослушали какие треки + временные метки этих прослушиваний. Содержатся записи за 1 год. При этом записи не учитывают повторные прослушивания. Информация о прослушивании охватывает весь миллион треков, информацию о которых мы имеем. Всего 222_629_898 записей.\n",
    "\n",
    "На данном этапе были произведены следующие преобразования:\n",
    "- в файле `tracks` оставлена только информация о первых двух записях в колонках с жанром, альбомом и исполнителем у каждого трека;\n",
    "- из файла `catalog_names` в файл `tracks` добавлена информация о названии треков, жанров, альбомов и исполнителей и сохранено в файл `items`;\n",
    "- в файле `interactions` оставлены только записи для пользователей прослушавших от 5 до 350 треков за всю историю взаимодействия."
   ]
  },
  {
   "cell_type": "code",
   "execution_count": 1,
   "id": "9eb65c5c-3c2a-412a-ab7e-30ec9da54fea",
   "metadata": {},
   "outputs": [],
   "source": [
    "%reset -f"
   ]
  },
  {
   "cell_type": "markdown",
   "id": "7bc3296b-eba6-4333-a78d-b9304aa87e3d",
   "metadata": {},
   "source": [
    "# === ЭТАП 2 ==="
   ]
  },
  {
   "cell_type": "code",
   "execution_count": 8,
   "id": "d6258066",
   "metadata": {},
   "outputs": [],
   "source": [
    "# events = pd.read_parquet(\"interactions_next.parquet\")\n",
    "# tracks = pd.read_parquet(\"tracks_next.parquet\")"
   ]
  },
  {
   "cell_type": "markdown",
   "id": "68e73960-fd38-4e15-8db0-9a25c35dfd25",
   "metadata": {},
   "source": [
    "# EDA"
   ]
  },
  {
   "cell_type": "markdown",
   "id": "a30e823e-8e0f-4a76-a02e-8d1ba8bf0f8a",
   "metadata": {},
   "source": [
    "##### Распределение количества прослушанных треков в целом и по месяцам."
   ]
  },
  {
   "cell_type": "code",
   "execution_count": 14,
   "id": "0379b144",
   "metadata": {},
   "outputs": [
    {
     "data": {
      "image/png": "[encoded data removed]",
      "text/plain": [
       "<Figure size 640x480 with 1 Axes>"
      ]
     },
     "metadata": {},
     "output_type": "display_data"
    }
   ],
   "source": [
    "events.track_id.hist(bins=1000, color=\"olive\")\n",
    "plt.xlabel(\"Группы треков по популярности\")\n",
    "plt.ylabel(\"Количество прослушиваний\")\n",
    "plt.title(\"Распределение прослушанных треков\")\n",
    "plt.show()"
   ]
  },
  {
   "cell_type": "code",
   "execution_count": 10,
   "id": "0d6abe21",
   "metadata": {},
   "outputs": [
    {
     "data": {
      "image/png": "[encoded data removed]",
      "text/plain": [
       "<Figure size 640x480 with 1 Axes>"
      ]
     },
     "metadata": {},
     "output_type": "display_data"
    }
   ],
   "source": [
    "events.started_at.hist(bins=12, color=\"olive\", rwidth=0.8)\n",
    "plt.title(\"Распределение прослушанных треков по месяцам\")\n",
    "plt.show()"
   ]
  },
  {
   "cell_type": "markdown",
   "id": "f3ff0325",
   "metadata": {},
   "source": [
    "По графикам видно, что среди всех треков, всего малая часть пользуется огромной популярностью у пользователей, остальные треки имеют довольно равномерное количество прослушиваний.\n",
    "При этом график ежемесячного прослушивания показывает увеличение активности пользователей с каждым следующим месяцем в течении года."
   ]
  },
  {
   "cell_type": "markdown",
   "id": "d765519a-18dd-4d30-9e29-cc2d84cacd79",
   "metadata": {},
   "source": [
    "##### Наиболее популярные треки"
   ]
  },
  {
   "cell_type": "code",
   "execution_count": 138,
   "id": "b9ec99d0",
   "metadata": {},
   "outputs": [
    {
     "data": {
      "text/html": [
       "<div>\n",
       "<style scoped>\n",
       "    .dataframe tbody tr th:only-of-type {\n",
       "        vertical-align: middle;\n",
       "    }\n",
       "\n",
       "    .dataframe tbody tr th {\n",
       "        vertical-align: top;\n",
       "    }\n",
       "\n",
       "    .dataframe thead th {\n",
       "        text-align: right;\n",
       "    }\n",
       "</style>\n",
       "<table border=\"1\" class=\"dataframe\">\n",
       "  <thead>\n",
       "    <tr style=\"text-align: right;\">\n",
       "      <th></th>\n",
       "      <th>counts</th>\n",
       "      <th>id_track</th>\n",
       "      <th>name_track</th>\n",
       "      <th>name_artist_1</th>\n",
       "    </tr>\n",
       "  </thead>\n",
       "  <tbody>\n",
       "    <tr>\n",
       "      <th>0</th>\n",
       "      <td>70582</td>\n",
       "      <td>33311009</td>\n",
       "      <td>Believer</td>\n",
       "      <td>Imagine Dragons</td>\n",
       "    </tr>\n",
       "    <tr>\n",
       "      <th>1</th>\n",
       "      <td>69608</td>\n",
       "      <td>35505245</td>\n",
       "      <td>I Got Love</td>\n",
       "      <td>Miyagi &amp; Эндшпиль</td>\n",
       "    </tr>\n",
       "    <tr>\n",
       "      <th>2</th>\n",
       "      <td>64978</td>\n",
       "      <td>53404</td>\n",
       "      <td>Smells Like Teen Spirit</td>\n",
       "      <td>Nirvana</td>\n",
       "    </tr>\n",
       "    <tr>\n",
       "      <th>3</th>\n",
       "      <td>61069</td>\n",
       "      <td>65851540</td>\n",
       "      <td>Юность</td>\n",
       "      <td>Dabro</td>\n",
       "    </tr>\n",
       "    <tr>\n",
       "      <th>4</th>\n",
       "      <td>60844</td>\n",
       "      <td>178529</td>\n",
       "      <td>Numb</td>\n",
       "      <td>Linkin Park</td>\n",
       "    </tr>\n",
       "    <tr>\n",
       "      <th>5</th>\n",
       "      <td>60806</td>\n",
       "      <td>45499814</td>\n",
       "      <td>Life</td>\n",
       "      <td>Zivert</td>\n",
       "    </tr>\n",
       "    <tr>\n",
       "      <th>6</th>\n",
       "      <td>59654</td>\n",
       "      <td>32947997</td>\n",
       "      <td>Shape of You</td>\n",
       "      <td>Ed Sheeran</td>\n",
       "    </tr>\n",
       "    <tr>\n",
       "      <th>7</th>\n",
       "      <td>55278</td>\n",
       "      <td>39257277</td>\n",
       "      <td>In My Mind</td>\n",
       "      <td>Dynoro</td>\n",
       "    </tr>\n",
       "    <tr>\n",
       "      <th>8</th>\n",
       "      <td>54741</td>\n",
       "      <td>49961817</td>\n",
       "      <td>Грустный дэнс</td>\n",
       "      <td>Artik &amp; Asti</td>\n",
       "    </tr>\n",
       "    <tr>\n",
       "      <th>9</th>\n",
       "      <td>54621</td>\n",
       "      <td>51241318</td>\n",
       "      <td>In The End</td>\n",
       "      <td>Tommee Profitt</td>\n",
       "    </tr>\n",
       "  </tbody>\n",
       "</table>\n",
       "</div>"
      ],
      "text/plain": [
       "   counts  id_track               name_track      name_artist_1\n",
       "0   70582  33311009                 Believer    Imagine Dragons\n",
       "1   69608  35505245               I Got Love  Miyagi & Эндшпиль\n",
       "2   64978     53404  Smells Like Teen Spirit            Nirvana\n",
       "3   61069  65851540                   Юность              Dabro\n",
       "4   60844    178529                     Numb        Linkin Park\n",
       "5   60806  45499814                     Life             Zivert\n",
       "6   59654  32947997             Shape of You         Ed Sheeran\n",
       "7   55278  39257277               In My Mind             Dynoro\n",
       "8   54741  49961817            Грустный дэнс       Artik & Asti\n",
       "9   54621  51241318               In The End     Tommee Profitt"
      ]
     },
     "execution_count": 138,
     "metadata": {},
     "output_type": "execute_result"
    }
   ],
   "source": [
    "top_tracks = (\n",
    "    events.groupby(by=\"track_id\")\n",
    "    .agg({\"user_id\": \"count\"})\n",
    "    .sort_values(by=\"user_id\", ascending=False)\n",
    ")\n",
    "top_tracks = top_tracks.rename(columns={\"user_id\": \"counts\"})\n",
    "top_tracks = top_tracks.merge(\n",
    "    tracks[[\"id_track\", \"name_track\", \"name_artist_1\"]],\n",
    "    left_on=top_tracks.index,\n",
    "    right_on=\"id_track\",\n",
    "    how=\"left\",\n",
    ")\n",
    "top_tracks[:10]"
   ]
  },
  {
   "cell_type": "markdown",
   "id": "b1c32a5a-d3be-4f96-8dd9-f7860951020c",
   "metadata": {},
   "source": [
    "##### Наиболее популярные жанры"
   ]
  },
  {
   "cell_type": "code",
   "execution_count": 139,
   "id": "1bc50491-9235-4d3c-a6c2-297f7c05a959",
   "metadata": {},
   "outputs": [
    {
     "data": {
      "text/html": [
       "<div>\n",
       "<style scoped>\n",
       "    .dataframe tbody tr th:only-of-type {\n",
       "        vertical-align: middle;\n",
       "    }\n",
       "\n",
       "    .dataframe tbody tr th {\n",
       "        vertical-align: top;\n",
       "    }\n",
       "\n",
       "    .dataframe thead th {\n",
       "        text-align: right;\n",
       "    }\n",
       "</style>\n",
       "<table border=\"1\" class=\"dataframe\">\n",
       "  <thead>\n",
       "    <tr style=\"text-align: right;\">\n",
       "      <th></th>\n",
       "      <th>counts</th>\n",
       "      <th>id_track</th>\n",
       "      <th>name_track</th>\n",
       "      <th>name_artist_1</th>\n",
       "      <th>name_genre_1</th>\n",
       "      <th>name_genre_2</th>\n",
       "    </tr>\n",
       "  </thead>\n",
       "  <tbody>\n",
       "    <tr>\n",
       "      <th>0</th>\n",
       "      <td>70582</td>\n",
       "      <td>33311009</td>\n",
       "      <td>Believer</td>\n",
       "      <td>Imagine Dragons</td>\n",
       "      <td>rock</td>\n",
       "      <td>allrock</td>\n",
       "    </tr>\n",
       "    <tr>\n",
       "      <th>1</th>\n",
       "      <td>69608</td>\n",
       "      <td>35505245</td>\n",
       "      <td>I Got Love</td>\n",
       "      <td>Miyagi &amp; Эндшпиль</td>\n",
       "      <td>rusrap</td>\n",
       "      <td>rap</td>\n",
       "    </tr>\n",
       "    <tr>\n",
       "      <th>2</th>\n",
       "      <td>64978</td>\n",
       "      <td>53404</td>\n",
       "      <td>Smells Like Teen Spirit</td>\n",
       "      <td>Nirvana</td>\n",
       "      <td>alternative</td>\n",
       "      <td>rock</td>\n",
       "    </tr>\n",
       "    <tr>\n",
       "      <th>3</th>\n",
       "      <td>61069</td>\n",
       "      <td>65851540</td>\n",
       "      <td>Юность</td>\n",
       "      <td>Dabro</td>\n",
       "      <td>pop</td>\n",
       "      <td>ruspop</td>\n",
       "    </tr>\n",
       "    <tr>\n",
       "      <th>4</th>\n",
       "      <td>60844</td>\n",
       "      <td>178529</td>\n",
       "      <td>Numb</td>\n",
       "      <td>Linkin Park</td>\n",
       "      <td>numetal</td>\n",
       "      <td>metal</td>\n",
       "    </tr>\n",
       "    <tr>\n",
       "      <th>...</th>\n",
       "      <td>...</td>\n",
       "      <td>...</td>\n",
       "      <td>...</td>\n",
       "      <td>...</td>\n",
       "      <td>...</td>\n",
       "      <td>...</td>\n",
       "    </tr>\n",
       "    <tr>\n",
       "      <th>963541</th>\n",
       "      <td>1</td>\n",
       "      <td>101308446</td>\n",
       "      <td>Засыпай</td>\n",
       "      <td>ДжиАш</td>\n",
       "      <td>pop</td>\n",
       "      <td>ruspop</td>\n",
       "    </tr>\n",
       "    <tr>\n",
       "      <th>963542</th>\n",
       "      <td>1</td>\n",
       "      <td>802</td>\n",
       "      <td>Rock, Rock, Rock</td>\n",
       "      <td>Sparks</td>\n",
       "      <td>pop</td>\n",
       "      <td>rock</td>\n",
       "    </tr>\n",
       "    <tr>\n",
       "      <th>963543</th>\n",
       "      <td>1</td>\n",
       "      <td>806</td>\n",
       "      <td>Metaphor</td>\n",
       "      <td>Sparks</td>\n",
       "      <td>pop</td>\n",
       "      <td>rock</td>\n",
       "    </tr>\n",
       "    <tr>\n",
       "      <th>963544</th>\n",
       "      <td>1</td>\n",
       "      <td>101308694</td>\n",
       "      <td>Let You Go</td>\n",
       "      <td>Ry X</td>\n",
       "      <td>indie</td>\n",
       "      <td>None</td>\n",
       "    </tr>\n",
       "    <tr>\n",
       "      <th>963545</th>\n",
       "      <td>1</td>\n",
       "      <td>1018</td>\n",
       "      <td>Ice In The Sun</td>\n",
       "      <td>Status Quo</td>\n",
       "      <td>rock</td>\n",
       "      <td>allrock</td>\n",
       "    </tr>\n",
       "  </tbody>\n",
       "</table>\n",
       "<p>963546 rows × 6 columns</p>\n",
       "</div>"
      ],
      "text/plain": [
       "        counts   id_track               name_track      name_artist_1  \\\n",
       "0        70582   33311009                 Believer    Imagine Dragons   \n",
       "1        69608   35505245               I Got Love  Miyagi & Эндшпиль   \n",
       "2        64978      53404  Smells Like Teen Spirit            Nirvana   \n",
       "3        61069   65851540                   Юность              Dabro   \n",
       "4        60844     178529                     Numb        Linkin Park   \n",
       "...        ...        ...                      ...                ...   \n",
       "963541       1  101308446                  Засыпай              ДжиАш   \n",
       "963542       1        802         Rock, Rock, Rock             Sparks   \n",
       "963543       1        806                 Metaphor             Sparks   \n",
       "963544       1  101308694               Let You Go               Ry X   \n",
       "963545       1       1018           Ice In The Sun         Status Quo   \n",
       "\n",
       "       name_genre_1 name_genre_2  \n",
       "0              rock      allrock  \n",
       "1            rusrap          rap  \n",
       "2       alternative         rock  \n",
       "3               pop       ruspop  \n",
       "4           numetal        metal  \n",
       "...             ...          ...  \n",
       "963541          pop       ruspop  \n",
       "963542          pop         rock  \n",
       "963543          pop         rock  \n",
       "963544        indie         None  \n",
       "963545         rock      allrock  \n",
       "\n",
       "[963546 rows x 6 columns]"
      ]
     },
     "execution_count": 139,
     "metadata": {},
     "output_type": "execute_result"
    }
   ],
   "source": [
    "top_tracks = top_tracks.merge(\n",
    "    tracks[[\"id_track\", \"name_genre_1\", \"name_genre_2\"]], on=\"id_track\", how=\"left\"\n",
    ")\n",
    "top_tracks"
   ]
  },
  {
   "cell_type": "code",
   "execution_count": 140,
   "id": "056d2015",
   "metadata": {},
   "outputs": [],
   "source": [
    "top_genres = top_tracks.groupby(by=\"name_genre_1\").agg(genre_1_votes=(\"counts\", \"sum\"))\n",
    "top_genres = top_genres.merge(\n",
    "    top_tracks.groupby(by=\"name_genre_2\").agg(genre_2_votes=(\"counts\", \"sum\")),\n",
    "    left_index=True,\n",
    "    right_index=True,\n",
    "    how=\"left\",\n",
    ")\n",
    "top_genres[\"sum_votes\"] = top_genres.genre_1_votes + top_genres.genre_2_votes\n",
    "top_genres = top_genres.sort_values(by=\"sum_votes\", ascending=False)\n"
   ]
  },
  {
   "cell_type": "code",
   "execution_count": 141,
   "id": "ac94c5ac",
   "metadata": {},
   "outputs": [
    {
     "data": {
      "image/png": "[encoded data removed]",
      "text/plain": [
       "<Figure size 640x480 with 1 Axes>"
      ]
     },
     "metadata": {},
     "output_type": "display_data"
    }
   ],
   "source": [
    "top_genres[:10].plot(\n",
    "    kind=\"bar\",\n",
    "    title=\"Распределение популярности жанров\",\n",
    "    xlabel=\"Жанры\",\n",
    "    grid=True,\n",
    "    colormap=\"flare\",\n",
    ")\n",
    "plt.show()"
   ]
  },
  {
   "cell_type": "markdown",
   "id": "38e16021",
   "metadata": {},
   "source": [
    "\"Pop\" на то и \"pop\", чтобы быть самым популярным жанром, с отрывом от остальных. Вторым по популярности является rap, но его основная популярность находится в тех треках, где он является вторым жанром."
   ]
  },
  {
   "cell_type": "markdown",
   "id": "15254e66-e80e-473b-ba24-abebea5ccac7",
   "metadata": {},
   "source": [
    "##### Количество треков, не вошедших в таблицу с прослушиваниями."
   ]
  },
  {
   "cell_type": "code",
   "execution_count": 146,
   "id": "369bc31f",
   "metadata": {},
   "outputs": [
    {
     "name": "stdout",
     "output_type": "stream",
     "text": [
      "Количество треков, которые не попали в таблицу взаимодействий:\n"
     ]
    },
    {
     "data": {
      "text/plain": [
       "36454"
      ]
     },
     "execution_count": 146,
     "metadata": {},
     "output_type": "execute_result"
    }
   ],
   "source": [
    "print(\"Количество треков, которые не попали в таблицу взаимодействий:\")\n",
    "tracks.shape[0] - events.track_id.nunique()"
   ]
  },
  {
   "cell_type": "markdown",
   "id": "cd329069",
   "metadata": {},
   "source": [
    "36.5 тыс. треков, которые не попали в наши расчеты из-за фильтрации по пользователям. Это примерно 3.7% от всех имеющихся треков."
   ]
  },
  {
   "cell_type": "markdown",
   "id": "228ac91b",
   "metadata": {},
   "source": [
    "##### Распределение суммарного количества треков в очереди пользователей"
   ]
  },
  {
   "cell_type": "code",
   "execution_count": 15,
   "id": "7ea9a135",
   "metadata": {},
   "outputs": [
    {
     "data": {
      "image/png": "[encoded data removed]",
      "text/plain": [
       "<Figure size 640x480 with 1 Axes>"
      ]
     },
     "metadata": {},
     "output_type": "display_data"
    }
   ],
   "source": [
    "events.groupby(by=\"user_id\").agg({\"track_id\": \"count\"}).hist(\n",
    "    bins=12, color=\"olive\", rwidth=0.9\n",
    ")\n",
    "plt.xlabel(\"Количество треков в истории прослушивания\")\n",
    "plt.ylabel(\"Количество пользователей\")\n",
    "plt.title(\n",
    "    \"Распределение суммарного количества треков прослушанных каждым пользователем\"\n",
    ");"
   ]
  },
  {
   "cell_type": "markdown",
   "id": "0d850a07-ef1e-462f-891a-1cf89f2e24ef",
   "metadata": {},
   "source": [
    "# Преобразование данных"
   ]
  },
  {
   "cell_type": "markdown",
   "id": "fabcf8d2-1192-4df5-b20b-fbb84689f57a",
   "metadata": {},
   "source": [
    "Преобразуем данные в формат, более пригодный для дальнейшего использования в расчётах рекомендаций.\n",
    "\n",
    "Для этого перекодируем идентификаторы пользователей и треков в последовательность 0, 1, 2 ..."
   ]
  },
  {
   "cell_type": "code",
   "execution_count": 16,
   "id": "a1ed6b56",
   "metadata": {},
   "outputs": [],
   "source": [
    "tracks = tracks.rename(columns={\"id_track\": \"track_id\"})"
   ]
  },
  {
   "cell_type": "code",
   "execution_count": 17,
   "id": "a425556a-9382-45ca-a04e-f1981a522126",
   "metadata": {},
   "outputs": [],
   "source": [
    "user_encoder = sklearn.preprocessing.LabelEncoder()\n",
    "events[\"user_id\"] = user_encoder.fit_transform(events[\"user_id\"])\n",
    "\n",
    "item_encoder = sklearn.preprocessing.LabelEncoder()\n",
    "tracks[\"track_id\"] = item_encoder.fit_transform(tracks[\"track_id\"])\n",
    "events[\"track_id\"] = item_encoder.transform(events[\"track_id\"])"
   ]
  },
  {
   "cell_type": "markdown",
   "id": "4d1be653-eed8-4fa0-a9c5-3811b080d71d",
   "metadata": {},
   "source": [
    "# Сохранение данных"
   ]
  },
  {
   "cell_type": "markdown",
   "id": "36f1314a-3af3-4faf-a0b1-3045173d1500",
   "metadata": {},
   "source": [
    "Сохраним данные и добавимих в персональное хранилище (S3-бакет) по пути `recsys/data/`:\n",
    "- `items.parquet` — все данные о музыкальных треках,\n",
    "- `events.parquet` — все данные о взаимодействиях."
   ]
  },
  {
   "cell_type": "code",
   "execution_count": 18,
   "id": "9f77af17-7705-4fae-9aad-db579b39faad",
   "metadata": {},
   "outputs": [],
   "source": [
    "events.to_parquet(\"events.parquet\")\n",
    "tracks.to_parquet(\"items.parquet\")\n",
    "\n",
    "with open(\"user_encoder.pkl\", \"wb\") as f:\n",
    "    pickle.dump(user_encoder, f)\n",
    "\n",
    "with open(\"item_encoder.pkl\", \"wb\") as f:\n",
    "    pickle.dump(item_encoder, f)"
   ]
  },
  {
   "cell_type": "code",
   "execution_count": 3,
   "id": "01526a59",
   "metadata": {},
   "outputs": [],
   "source": [
    "import boto3\n",
    "import os\n",
    "from dotenv import load_dotenv\n",
    "\n",
    "load_dotenv()\n",
    "\n",
    "\n",
    "def get_session_student():\n",
    "    session = boto3.session.Session()\n",
    "\n",
    "    return session.client(\n",
    "        service_name=\"s3\",\n",
    "        endpoint_url=os.getenv(\"S3_ENDPOINT_URL\"),\n",
    "        aws_access_key_id=os.getenv(\"AWS_ACCESS_KEY_ID\"),\n",
    "        aws_secret_access_key=os.getenv(\"AWS_SECRET_ACCESS_KEY\"),\n",
    "    )\n",
    "\n",
    "\n",
    "s3 = get_session_student()\n",
    "bucket_name = os.getenv(\"S3_BUCKET_NAME\")\n",
    "\n",
    "s3.upload_file(\"items.parquet\", bucket_name, \"recsys/data/items.parquet\")\n",
    "s3.upload_file(\"events.parquet\", bucket_name, \"recsys/data/events.parquet\")"
   ]
  },
  {
   "cell_type": "markdown",
   "id": "72ecbbed-c560-44d9-9c14-86c7dc76f399",
   "metadata": {},
   "source": [
    "# Очистка памяти"
   ]
  },
  {
   "cell_type": "markdown",
   "id": "b5358ede-ba6e-4c4f-bd73-5b9344f0ba79",
   "metadata": {},
   "source": [
    "Здесь, может понадобится очистка памяти для высвобождения ресурсов для выполнения кода ниже. "
   ]
  },
  {
   "cell_type": "markdown",
   "id": "c9776987",
   "metadata": {},
   "source": [
    "Перезапустить kernel"
   ]
  },
  {
   "cell_type": "code",
   "execution_count": 3,
   "id": "767fe920-e12e-4ad8-b04e-56e8091fac9f",
   "metadata": {},
   "outputs": [],
   "source": [
    "%reset -f"
   ]
  },
  {
   "cell_type": "markdown",
   "id": "88829a65",
   "metadata": {},
   "source": [
    "Код для удаление более ненужных переменных"
   ]
  },
  {
   "cell_type": "code",
   "execution_count": 2,
   "id": "3670c110",
   "metadata": {},
   "outputs": [
    {
     "data": {
      "text/plain": [
       "512"
      ]
     },
     "execution_count": 2,
     "metadata": {},
     "output_type": "execute_result"
    }
   ],
   "source": [
    "import gc\n",
    "\n",
    "gc.collect()"
   ]
  },
  {
   "cell_type": "markdown",
   "id": "708503df-ee89-4cf3-8489-093dc478e2a8",
   "metadata": {},
   "source": [
    "# === ЭТАП 3 ==="
   ]
  },
  {
   "cell_type": "markdown",
   "id": "fd77de22-e10f-4b42-85c1-8fb6f805fe68",
   "metadata": {},
   "source": [
    "# Загрузка данных"
   ]
  },
  {
   "cell_type": "markdown",
   "id": "780a4241-1ecd-4a3e-bbb3-fc2f6ca94f68",
   "metadata": {},
   "source": [
    "Если ядро было перезагружено, то загружаем items.parquet, events.parquet и обученые энкодеры user_encoder.pkl, item_encoder.pkl"
   ]
  },
  {
   "cell_type": "code",
   "execution_count": 3,
   "id": "1148da92",
   "metadata": {},
   "outputs": [],
   "source": [
    "import pandas as pd\n",
    "import numpy as np\n",
    "import matplotlib.pyplot as plt\n",
    "import seaborn as sns\n",
    "import scipy\n",
    "from implicit.als import AlternatingLeastSquares\n",
    "import pickle\n",
    "from catboost import CatBoostClassifier, Pool\n",
    "\n",
    "SEED = 777"
   ]
  },
  {
   "cell_type": "code",
   "execution_count": 6,
   "id": "f19fc8a5-bd2c-40d7-864a-ee75aca6d512",
   "metadata": {},
   "outputs": [],
   "source": [
    "items = pd.read_parquet(\"items.parquet\")\n",
    "events = pd.read_parquet(\"events.parquet\")"
   ]
  },
  {
   "cell_type": "code",
   "execution_count": 7,
   "id": "3a0029e7",
   "metadata": {},
   "outputs": [],
   "source": [
    "with open(\"user_encoder.pkl\", \"rb\") as f:\n",
    "    user_encoder = pickle.load(f)\n",
    "\n",
    "with open(\"item_encoder.pkl\", \"rb\") as f:\n",
    "    item_encoder = pickle.load(f)"
   ]
  },
  {
   "cell_type": "markdown",
   "id": "a694c023-6477-490b-939d-1cfa6f5f1b72",
   "metadata": {},
   "source": [
    "# Разбиение данных"
   ]
  },
  {
   "cell_type": "markdown",
   "id": "fbd5f6e0-54e7-4428-8678-eabce505d82c",
   "metadata": {},
   "source": [
    "Разбиваем данные на тренировочную, тестовую выборки."
   ]
  },
  {
   "cell_type": "code",
   "execution_count": 4,
   "id": "51d86cfe",
   "metadata": {},
   "outputs": [
    {
     "name": "stdout",
     "output_type": "stream",
     "text": [
      "<class 'pandas.core.frame.DataFrame'>\n",
      "Index: 93408782 entries, 0 to 291\n",
      "Data columns (total 4 columns):\n",
      " #   Column      Dtype         \n",
      "---  ------      -----         \n",
      " 0   user_id     int64         \n",
      " 1   track_id    int64         \n",
      " 2   track_seq   int16         \n",
      " 3   started_at  datetime64[ns]\n",
      "dtypes: datetime64[ns](1), int16(1), int64(2)\n",
      "memory usage: 3.0 GB\n"
     ]
    }
   ],
   "source": [
    "events.info()"
   ]
  },
  {
   "cell_type": "code",
   "execution_count": 7,
   "id": "00c2dfa5-d8a2-47d1-922e-6eefee2c62d1",
   "metadata": {},
   "outputs": [
    {
     "name": "stdout",
     "output_type": "stream",
     "text": [
      "1183753 684894 654417\n"
     ]
    }
   ],
   "source": [
    "split_date = pd.to_datetime(\"2022-12-16\").to_datetime64()\n",
    "\n",
    "train_test_split_idx = events[\"started_at\"] < split_date\n",
    "events_train = events[train_test_split_idx]\n",
    "events_test = events[~train_test_split_idx]\n",
    "\n",
    "# количество пользователей в train и test\n",
    "users_train = events_train[\"user_id\"].drop_duplicates()\n",
    "users_test = events_test[\"user_id\"].drop_duplicates()\n",
    "# количество пользователей, которые есть и в train, и в test\n",
    "common_users = set(users_train).intersection(set(users_test))\n",
    "\n",
    "print(len(users_train), len(users_test), len(common_users))"
   ]
  },
  {
   "cell_type": "markdown",
   "id": "9131c7e6-8852-4556-b510-51f7253cc299",
   "metadata": {},
   "source": [
    "# Топ популярных"
   ]
  },
  {
   "cell_type": "markdown",
   "id": "dd70d43a-88cc-4719-b291-feaed7136f30",
   "metadata": {},
   "source": [
    "Рассчитаем рекомендации как топ популярных треков по количество пользователей прослушавших трек."
   ]
  },
  {
   "cell_type": "code",
   "execution_count": 7,
   "id": "ee45e200-b7d6-4f56-9077-aad431689b96",
   "metadata": {},
   "outputs": [
    {
     "data": {
      "text/html": [
       "<div>\n",
       "<style scoped>\n",
       "    .dataframe tbody tr th:only-of-type {\n",
       "        vertical-align: middle;\n",
       "    }\n",
       "\n",
       "    .dataframe tbody tr th {\n",
       "        vertical-align: top;\n",
       "    }\n",
       "\n",
       "    .dataframe thead th {\n",
       "        text-align: right;\n",
       "    }\n",
       "</style>\n",
       "<table border=\"1\" class=\"dataframe\">\n",
       "  <thead>\n",
       "    <tr style=\"text-align: right;\">\n",
       "      <th></th>\n",
       "      <th>counts</th>\n",
       "      <th>track_id</th>\n",
       "      <th>name_track</th>\n",
       "      <th>name_artist_1</th>\n",
       "      <th>name_genre_1</th>\n",
       "    </tr>\n",
       "  </thead>\n",
       "  <tbody>\n",
       "    <tr>\n",
       "      <th>0</th>\n",
       "      <td>65808</td>\n",
       "      <td>512157</td>\n",
       "      <td>I Got Love</td>\n",
       "      <td>Miyagi &amp; Эндшпиль</td>\n",
       "      <td>rusrap</td>\n",
       "    </tr>\n",
       "    <tr>\n",
       "      <th>1</th>\n",
       "      <td>65101</td>\n",
       "      <td>483876</td>\n",
       "      <td>Believer</td>\n",
       "      <td>Imagine Dragons</td>\n",
       "      <td>rock</td>\n",
       "    </tr>\n",
       "    <tr>\n",
       "      <th>2</th>\n",
       "      <td>63942</td>\n",
       "      <td>9098</td>\n",
       "      <td>Smells Like Teen Spirit</td>\n",
       "      <td>Nirvana</td>\n",
       "      <td>alternative</td>\n",
       "    </tr>\n",
       "    <tr>\n",
       "      <th>3</th>\n",
       "      <td>59786</td>\n",
       "      <td>26665</td>\n",
       "      <td>Numb</td>\n",
       "      <td>Linkin Park</td>\n",
       "      <td>numetal</td>\n",
       "    </tr>\n",
       "    <tr>\n",
       "      <th>4</th>\n",
       "      <td>55230</td>\n",
       "      <td>647237</td>\n",
       "      <td>Life</td>\n",
       "      <td>Zivert</td>\n",
       "      <td>pop</td>\n",
       "    </tr>\n",
       "    <tr>\n",
       "      <th>5</th>\n",
       "      <td>54302</td>\n",
       "      <td>475289</td>\n",
       "      <td>Shape of You</td>\n",
       "      <td>Ed Sheeran</td>\n",
       "      <td>pop</td>\n",
       "    </tr>\n",
       "    <tr>\n",
       "      <th>6</th>\n",
       "      <td>52731</td>\n",
       "      <td>829320</td>\n",
       "      <td>Юность</td>\n",
       "      <td>Dabro</td>\n",
       "      <td>pop</td>\n",
       "    </tr>\n",
       "    <tr>\n",
       "      <th>7</th>\n",
       "      <td>50819</td>\n",
       "      <td>571352</td>\n",
       "      <td>In My Mind</td>\n",
       "      <td>Dynoro</td>\n",
       "      <td>dance</td>\n",
       "    </tr>\n",
       "    <tr>\n",
       "      <th>8</th>\n",
       "      <td>50217</td>\n",
       "      <td>90461</td>\n",
       "      <td>Shape Of My Heart</td>\n",
       "      <td>Sting</td>\n",
       "      <td>pop</td>\n",
       "    </tr>\n",
       "    <tr>\n",
       "      <th>9</th>\n",
       "      <td>50175</td>\n",
       "      <td>368072</td>\n",
       "      <td>Way Down We Go</td>\n",
       "      <td>KALEO</td>\n",
       "      <td>indie</td>\n",
       "    </tr>\n",
       "  </tbody>\n",
       "</table>\n",
       "</div>"
      ],
      "text/plain": [
       "   counts  track_id               name_track      name_artist_1 name_genre_1\n",
       "0   65808    512157               I Got Love  Miyagi & Эндшпиль       rusrap\n",
       "1   65101    483876                 Believer    Imagine Dragons         rock\n",
       "2   63942      9098  Smells Like Teen Spirit            Nirvana  alternative\n",
       "3   59786     26665                     Numb        Linkin Park      numetal\n",
       "4   55230    647237                     Life             Zivert          pop\n",
       "5   54302    475289             Shape of You         Ed Sheeran          pop\n",
       "6   52731    829320                   Юность              Dabro          pop\n",
       "7   50819    571352               In My Mind             Dynoro        dance\n",
       "8   50217     90461        Shape Of My Heart              Sting          pop\n",
       "9   50175    368072           Way Down We Go              KALEO        indie"
      ]
     },
     "execution_count": 7,
     "metadata": {},
     "output_type": "execute_result"
    }
   ],
   "source": [
    "top_100_items = (\n",
    "    events_train.groupby(by=\"track_id\")\n",
    "    .agg({\"user_id\": \"count\"})\n",
    "    .sort_values(by=\"user_id\", ascending=False)\n",
    ")[:100]\n",
    "top_100_items = top_100_items.rename(columns={\"user_id\": \"counts\"})\n",
    "top_100_items = top_100_items.merge(\n",
    "    items[[\"track_id\", \"name_track\", \"name_artist_1\", \"name_genre_1\"]],\n",
    "    left_on=top_100_items.index,\n",
    "    right_on=\"track_id\",\n",
    "    how=\"left\",\n",
    ")\n",
    "top_100_items[:10]"
   ]
  },
  {
   "cell_type": "code",
   "execution_count": 8,
   "id": "1135ebae",
   "metadata": {},
   "outputs": [],
   "source": [
    "top_popular = top_100_items[\n",
    "    [\"counts\", \"track_id\", \"name_track\", \"name_artist_1\", \"name_genre_1\"]\n",
    "].rename(columns={\"track_id\": \"item_id\"})\n",
    "top_popular.to_parquet(\"top_popular.parquet\")"
   ]
  },
  {
   "cell_type": "markdown",
   "id": "2ad231f2-6158-421a-b7fa-01d8bc3ed572",
   "metadata": {},
   "source": [
    "# Персональные"
   ]
  },
  {
   "cell_type": "markdown",
   "id": "86159460-cd9d-4b63-8248-604ea3c9aebf",
   "metadata": {},
   "source": [
    "Рассчитаем персональные рекомендации."
   ]
  },
  {
   "cell_type": "markdown",
   "id": "16a46a4d",
   "metadata": {},
   "source": [
    "Cоздаём sparse-матрицу формата CSR с помощью столбцов `user_id` и `item_id`, на пересечении будет находиться информация о том, прослушал пользователь данный трек или нет."
   ]
  },
  {
   "cell_type": "code",
   "execution_count": 62,
   "id": "1de1c572",
   "metadata": {},
   "outputs": [
    {
     "name": "stderr",
     "output_type": "stream",
     "text": [
      "/tmp/ipykernel_1757/3723997523.py:1: SettingWithCopyWarning: \n",
      "A value is trying to be set on a copy of a slice from a DataFrame.\n",
      "Try using .loc[row_indexer,col_indexer] = value instead\n",
      "\n",
      "See the caveats in the documentation: https://pandas.pydata.org/pandas-docs/stable/user_guide/indexing.html#returning-a-view-versus-a-copy\n",
      "  events_train[\"listened\"] = 1\n"
     ]
    }
   ],
   "source": [
    "events_train[\"listened\"] = 1"
   ]
  },
  {
   "cell_type": "code",
   "execution_count": 66,
   "id": "d2944822-569c-4f9b-82dc-70a7fa2d542e",
   "metadata": {},
   "outputs": [],
   "source": [
    "user_item_matrix_train = scipy.sparse.csr_matrix(\n",
    "    (events_train[\"listened\"], (events_train[\"user_id\"], events_train[\"track_id\"])),\n",
    "    dtype=np.int8,\n",
    ")"
   ]
  },
  {
   "cell_type": "code",
   "execution_count": 67,
   "id": "1e8cdb58-3a8c-45ad-8e5f-7f950314aa56",
   "metadata": {},
   "outputs": [
    {
     "data": {
      "text/plain": [
       "1.97923902887851"
      ]
     },
     "execution_count": 67,
     "metadata": {},
     "output_type": "execute_result"
    }
   ],
   "source": [
    "import sys\n",
    "\n",
    "sum([sys.getsizeof(i) for i in user_item_matrix_train.data]) / 1024**3"
   ]
  },
  {
   "cell_type": "markdown",
   "id": "eba191d4",
   "metadata": {},
   "source": [
    "Обучим ALS модель "
   ]
  },
  {
   "cell_type": "code",
   "execution_count": 70,
   "id": "c3eca93a",
   "metadata": {},
   "outputs": [
    {
     "name": "stderr",
     "output_type": "stream",
     "text": [
      "/home/mle-user/mle-sprint4/env_recsys_start/lib/python3.10/site-packages/implicit/cpu/als.py:95: RuntimeWarning: OpenBLAS is configured to use 4 threads. It is highly recommended to disable its internal threadpool by setting the environment variable 'OPENBLAS_NUM_THREADS=1' or by calling 'threadpoolctl.threadpool_limits(1, \"blas\")'. Having OpenBLAS use a threadpool can lead to severe performance issues here.\n",
      "  check_blas_config()\n",
      "100%|██████████| 50/50 [17:52<00:00, 21.44s/it]\n"
     ]
    }
   ],
   "source": [
    "als_model = AlternatingLeastSquares(\n",
    "    factors=30, iterations=50, regularization=0.05, random_state=SEED\n",
    ")\n",
    "als_model.fit(user_item_matrix_train)"
   ]
  },
  {
   "cell_type": "markdown",
   "id": "90b715e6",
   "metadata": {},
   "source": [
    "Напишем функцию для получения рекомендаций для всех пользователей."
   ]
  },
  {
   "cell_type": "code",
   "execution_count": 73,
   "id": "c5a48f62",
   "metadata": {},
   "outputs": [],
   "source": [
    "def get_recommendations_als(user_item_matrix, model, user_id, include_seen=True, n=5):\n",
    "    \"\"\"\n",
    "    Возвращает отранжированные рекомендации для заданного пользователя\n",
    "    \"\"\"\n",
    "    recommendations = model.recommend(\n",
    "        user_id,\n",
    "        user_item_matrix[user_id],\n",
    "        filter_already_liked_items=not include_seen,\n",
    "        N=n,\n",
    "    )\n",
    "    recommendations = pd.DataFrame(\n",
    "        {\"track_id\": recommendations[0], \"score\": recommendations[1]}\n",
    "    )\n",
    "    recommendations = recommendations.merge(\n",
    "        items[[\"track_id\", \"name_track\", \"name_artist_1\", \"name_genre_1\"]],\n",
    "        on=\"track_id\",\n",
    "        how=\"left\",\n",
    "    )\n",
    "\n",
    "    return recommendations"
   ]
  },
  {
   "cell_type": "markdown",
   "id": "1bc0bc56",
   "metadata": {},
   "source": [
    "Прежде чем запускать получение рекомендация попробуем \"глазами\" оценить работу рекомендательной модели, например для пользователя с `user_id = 45`\n",
    "\n",
    "Посмотрим какие треки успел прослушать данный пользователь"
   ]
  },
  {
   "cell_type": "code",
   "execution_count": 116,
   "id": "da922e36",
   "metadata": {},
   "outputs": [
    {
     "data": {
      "text/html": [
       "<div>\n",
       "<style scoped>\n",
       "    .dataframe tbody tr th:only-of-type {\n",
       "        vertical-align: middle;\n",
       "    }\n",
       "\n",
       "    .dataframe tbody tr th {\n",
       "        vertical-align: top;\n",
       "    }\n",
       "\n",
       "    .dataframe thead th {\n",
       "        text-align: right;\n",
       "    }\n",
       "</style>\n",
       "<table border=\"1\" class=\"dataframe\">\n",
       "  <thead>\n",
       "    <tr style=\"text-align: right;\">\n",
       "      <th></th>\n",
       "      <th>user_id</th>\n",
       "      <th>track_id</th>\n",
       "      <th>track_seq</th>\n",
       "      <th>started_at</th>\n",
       "      <th>listened</th>\n",
       "      <th>name_track</th>\n",
       "      <th>name_artist_1</th>\n",
       "      <th>name_genre_1</th>\n",
       "    </tr>\n",
       "  </thead>\n",
       "  <tbody>\n",
       "    <tr>\n",
       "      <th>0</th>\n",
       "      <td>45</td>\n",
       "      <td>405758</td>\n",
       "      <td>1</td>\n",
       "      <td>2022-02-18</td>\n",
       "      <td>1</td>\n",
       "      <td>Ты словно целая вселенная</td>\n",
       "      <td>Jah Khalib</td>\n",
       "      <td>rusrap</td>\n",
       "    </tr>\n",
       "    <tr>\n",
       "      <th>1</th>\n",
       "      <td>45</td>\n",
       "      <td>405762</td>\n",
       "      <td>2</td>\n",
       "      <td>2022-03-08</td>\n",
       "      <td>1</td>\n",
       "      <td>Сжигая дотла</td>\n",
       "      <td>Jah Khalib</td>\n",
       "      <td>rusrap</td>\n",
       "    </tr>\n",
       "    <tr>\n",
       "      <th>2</th>\n",
       "      <td>45</td>\n",
       "      <td>446959</td>\n",
       "      <td>3</td>\n",
       "      <td>2022-04-25</td>\n",
       "      <td>1</td>\n",
       "      <td>Санавабич</td>\n",
       "      <td>Miyagi &amp; Эндшпиль</td>\n",
       "      <td>rusrap</td>\n",
       "    </tr>\n",
       "    <tr>\n",
       "      <th>3</th>\n",
       "      <td>45</td>\n",
       "      <td>454249</td>\n",
       "      <td>4</td>\n",
       "      <td>2022-06-16</td>\n",
       "      <td>1</td>\n",
       "      <td>Если чё, я Баха</td>\n",
       "      <td>Jah Khalib</td>\n",
       "      <td>rusrap</td>\n",
       "    </tr>\n",
       "    <tr>\n",
       "      <th>4</th>\n",
       "      <td>45</td>\n",
       "      <td>454250</td>\n",
       "      <td>5</td>\n",
       "      <td>2022-07-01</td>\n",
       "      <td>1</td>\n",
       "      <td>ПОРваНо Платье</td>\n",
       "      <td>Jah Khalib</td>\n",
       "      <td>rusrap</td>\n",
       "    </tr>\n",
       "    <tr>\n",
       "      <th>5</th>\n",
       "      <td>45</td>\n",
       "      <td>454252</td>\n",
       "      <td>6</td>\n",
       "      <td>2022-07-26</td>\n",
       "      <td>1</td>\n",
       "      <td>Лейла</td>\n",
       "      <td>Jah Khalib</td>\n",
       "      <td>rusrap</td>\n",
       "    </tr>\n",
       "    <tr>\n",
       "      <th>6</th>\n",
       "      <td>45</td>\n",
       "      <td>454256</td>\n",
       "      <td>7</td>\n",
       "      <td>2022-08-19</td>\n",
       "      <td>1</td>\n",
       "      <td>Тату на твоём теле</td>\n",
       "      <td>Jah Khalib</td>\n",
       "      <td>rusrap</td>\n",
       "    </tr>\n",
       "    <tr>\n",
       "      <th>7</th>\n",
       "      <td>45</td>\n",
       "      <td>454257</td>\n",
       "      <td>8</td>\n",
       "      <td>2022-08-24</td>\n",
       "      <td>1</td>\n",
       "      <td>Созвездие Ангела</td>\n",
       "      <td>Jah Khalib</td>\n",
       "      <td>rusrap</td>\n",
       "    </tr>\n",
       "    <tr>\n",
       "      <th>8</th>\n",
       "      <td>45</td>\n",
       "      <td>454260</td>\n",
       "      <td>9</td>\n",
       "      <td>2022-09-08</td>\n",
       "      <td>1</td>\n",
       "      <td>Кружимся в танце</td>\n",
       "      <td>Jah Khalib</td>\n",
       "      <td>rusrap</td>\n",
       "    </tr>\n",
       "    <tr>\n",
       "      <th>9</th>\n",
       "      <td>45</td>\n",
       "      <td>454265</td>\n",
       "      <td>10</td>\n",
       "      <td>2022-09-15</td>\n",
       "      <td>1</td>\n",
       "      <td>Любимец твоих дьяволов</td>\n",
       "      <td>Jah Khalib</td>\n",
       "      <td>rusrap</td>\n",
       "    </tr>\n",
       "    <tr>\n",
       "      <th>10</th>\n",
       "      <td>45</td>\n",
       "      <td>521449</td>\n",
       "      <td>11</td>\n",
       "      <td>2022-11-21</td>\n",
       "      <td>1</td>\n",
       "      <td>Сегодня я нашёл тебя</td>\n",
       "      <td>Jah Khalib</td>\n",
       "      <td>rusrap</td>\n",
       "    </tr>\n",
       "  </tbody>\n",
       "</table>\n",
       "</div>"
      ],
      "text/plain": [
       "    user_id  track_id  track_seq started_at  listened  \\\n",
       "0        45    405758          1 2022-02-18         1   \n",
       "1        45    405762          2 2022-03-08         1   \n",
       "2        45    446959          3 2022-04-25         1   \n",
       "3        45    454249          4 2022-06-16         1   \n",
       "4        45    454250          5 2022-07-01         1   \n",
       "5        45    454252          6 2022-07-26         1   \n",
       "6        45    454256          7 2022-08-19         1   \n",
       "7        45    454257          8 2022-08-24         1   \n",
       "8        45    454260          9 2022-09-08         1   \n",
       "9        45    454265         10 2022-09-15         1   \n",
       "10       45    521449         11 2022-11-21         1   \n",
       "\n",
       "                   name_track      name_artist_1 name_genre_1  \n",
       "0   Ты словно целая вселенная         Jah Khalib       rusrap  \n",
       "1                Сжигая дотла         Jah Khalib       rusrap  \n",
       "2                   Санавабич  Miyagi & Эндшпиль       rusrap  \n",
       "3             Если чё, я Баха         Jah Khalib       rusrap  \n",
       "4              ПОРваНо Платье         Jah Khalib       rusrap  \n",
       "5                       Лейла         Jah Khalib       rusrap  \n",
       "6          Тату на твоём теле         Jah Khalib       rusrap  \n",
       "7            Созвездие Ангела         Jah Khalib       rusrap  \n",
       "8            Кружимся в танце         Jah Khalib       rusrap  \n",
       "9      Любимец твоих дьяволов         Jah Khalib       rusrap  \n",
       "10       Сегодня я нашёл тебя         Jah Khalib       rusrap  "
      ]
     },
     "execution_count": 116,
     "metadata": {},
     "output_type": "execute_result"
    }
   ],
   "source": [
    "events_train.query(\"user_id == 45\").merge(\n",
    "    items[[\"track_id\", \"name_track\", \"name_artist_1\", \"name_genre_1\"]],\n",
    "    on=\"track_id\",\n",
    "    how=\"left\",\n",
    ")"
   ]
  },
  {
   "cell_type": "markdown",
   "id": "4a03d218",
   "metadata": {},
   "source": [
    "Теперь посмотрим на рекомендации 5ти треков"
   ]
  },
  {
   "cell_type": "code",
   "execution_count": 117,
   "id": "b60e1ebe",
   "metadata": {},
   "outputs": [
    {
     "data": {
      "text/html": [
       "<div>\n",
       "<style scoped>\n",
       "    .dataframe tbody tr th:only-of-type {\n",
       "        vertical-align: middle;\n",
       "    }\n",
       "\n",
       "    .dataframe tbody tr th {\n",
       "        vertical-align: top;\n",
       "    }\n",
       "\n",
       "    .dataframe thead th {\n",
       "        text-align: right;\n",
       "    }\n",
       "</style>\n",
       "<table border=\"1\" class=\"dataframe\">\n",
       "  <thead>\n",
       "    <tr style=\"text-align: right;\">\n",
       "      <th></th>\n",
       "      <th>track_id</th>\n",
       "      <th>score</th>\n",
       "      <th>name_track</th>\n",
       "      <th>name_artist_1</th>\n",
       "      <th>name_genre_1</th>\n",
       "    </tr>\n",
       "  </thead>\n",
       "  <tbody>\n",
       "    <tr>\n",
       "      <th>0</th>\n",
       "      <td>512157</td>\n",
       "      <td>0.135691</td>\n",
       "      <td>I Got Love</td>\n",
       "      <td>Miyagi &amp; Эндшпиль</td>\n",
       "      <td>rusrap</td>\n",
       "    </tr>\n",
       "    <tr>\n",
       "      <th>1</th>\n",
       "      <td>423054</td>\n",
       "      <td>0.071590</td>\n",
       "      <td>Рапапам</td>\n",
       "      <td>9 грамм</td>\n",
       "      <td>rusrap</td>\n",
       "    </tr>\n",
       "    <tr>\n",
       "      <th>2</th>\n",
       "      <td>454252</td>\n",
       "      <td>0.052926</td>\n",
       "      <td>Лейла</td>\n",
       "      <td>Jah Khalib</td>\n",
       "      <td>rusrap</td>\n",
       "    </tr>\n",
       "    <tr>\n",
       "      <th>3</th>\n",
       "      <td>572585</td>\n",
       "      <td>0.050209</td>\n",
       "      <td>Пустите меня на танцпол</td>\n",
       "      <td>HammAli &amp; Navai</td>\n",
       "      <td>rusrap</td>\n",
       "    </tr>\n",
       "    <tr>\n",
       "      <th>4</th>\n",
       "      <td>398379</td>\n",
       "      <td>0.042393</td>\n",
       "      <td>Капкан</td>\n",
       "      <td>MOT</td>\n",
       "      <td>rusrap</td>\n",
       "    </tr>\n",
       "  </tbody>\n",
       "</table>\n",
       "</div>"
      ],
      "text/plain": [
       "   track_id     score               name_track      name_artist_1 name_genre_1\n",
       "0    512157  0.135691               I Got Love  Miyagi & Эндшпиль       rusrap\n",
       "1    423054  0.071590                  Рапапам            9 грамм       rusrap\n",
       "2    454252  0.052926                    Лейла         Jah Khalib       rusrap\n",
       "3    572585  0.050209  Пустите меня на танцпол    HammAli & Navai       rusrap\n",
       "4    398379  0.042393                   Капкан                MOT       rusrap"
      ]
     },
     "execution_count": 117,
     "metadata": {},
     "output_type": "execute_result"
    }
   ],
   "source": [
    "get_recommendations_als(\n",
    "    user_item_matrix_train, als_model, user_id=45, include_seen=True, n=5\n",
    ")"
   ]
  },
  {
   "cell_type": "markdown",
   "id": "66a24a83",
   "metadata": {},
   "source": [
    "Рекомендации выглядят весьма правдоподобно."
   ]
  },
  {
   "cell_type": "markdown",
   "id": "7abbaf67",
   "metadata": {},
   "source": [
    "Получаем рекомендации для всех пользователей"
   ]
  },
  {
   "cell_type": "code",
   "execution_count": 120,
   "id": "692ca07a",
   "metadata": {},
   "outputs": [],
   "source": [
    "user_ids = range(len(user_encoder.classes_))\n",
    "\n",
    "als_recommendations = als_model.recommend(\n",
    "    user_ids, user_item_matrix_train[user_ids], filter_already_liked_items=False, N=50\n",
    ")"
   ]
  },
  {
   "cell_type": "markdown",
   "id": "95cbad49",
   "metadata": {},
   "source": [
    "Преобразуем полученные рекомендации в табличный формат"
   ]
  },
  {
   "cell_type": "code",
   "execution_count": 122,
   "id": "910dd6e4",
   "metadata": {},
   "outputs": [],
   "source": [
    "item_ids_enc = als_recommendations[0]\n",
    "als_scores = als_recommendations[1]\n",
    "\n",
    "als_recommendations = pd.DataFrame(\n",
    "    {\n",
    "        \"user_id_enc\": user_ids,\n",
    "        \"item_id_enc\": item_ids_enc.tolist(),\n",
    "        \"score\": als_scores.tolist(),\n",
    "    }\n",
    ")\n",
    "als_recommendations = als_recommendations.explode(\n",
    "    [\"item_id_enc\", \"score\"], ignore_index=True\n",
    ")\n",
    "\n",
    "# приводим типы данных\n",
    "als_recommendations[\"item_id_enc\"] = als_recommendations[\"item_id_enc\"].astype(\"int\")\n",
    "als_recommendations[\"score\"] = als_recommendations[\"score\"].astype(\"float\")\n",
    "\n",
    "# получаем изначальные идентификаторы\n",
    "als_recommendations[\"user_id\"] = user_encoder.inverse_transform(\n",
    "    als_recommendations[\"user_id_enc\"]\n",
    ")\n",
    "als_recommendations[\"item_id\"] = item_encoder.inverse_transform(\n",
    "    als_recommendations[\"item_id_enc\"]\n",
    ")\n",
    "als_recommendations = als_recommendations.drop(columns=[\"user_id_enc\", \"item_id_enc\"])"
   ]
  },
  {
   "cell_type": "markdown",
   "id": "ef1e6869",
   "metadata": {},
   "source": [
    "Сохраняем рекомендации в файл"
   ]
  },
  {
   "cell_type": "code",
   "execution_count": 36,
   "id": "d68f1d6b",
   "metadata": {},
   "outputs": [],
   "source": [
    "als_recommendations = als_recommendations[[\"user_id\", \"item_id\", \"score\"]]\n",
    "als_recommendations.to_parquet(\"personal_als.parquet\")"
   ]
  },
  {
   "cell_type": "markdown",
   "id": "5f09dc7e-7c91-4355-860a-b9cfb9f33f15",
   "metadata": {},
   "source": [
    "# Похожие"
   ]
  },
  {
   "cell_type": "markdown",
   "id": "1dfcb683-b440-40a8-9975-894156a53872",
   "metadata": {},
   "source": [
    "Рассчитаем похожие треки, они позже пригодятся для онлайн-рекомендаций."
   ]
  },
  {
   "cell_type": "code",
   "execution_count": 124,
   "id": "8f721818",
   "metadata": {},
   "outputs": [],
   "source": [
    "item_ids = range(len(item_encoder.classes_))"
   ]
  },
  {
   "cell_type": "markdown",
   "id": "eb38132f",
   "metadata": {},
   "source": [
    "Получим первые 10 похожих треков для каждого."
   ]
  },
  {
   "cell_type": "code",
   "execution_count": 129,
   "id": "a75d07ee-4b12-4ce5-aa85-e45cb7a7a4f0",
   "metadata": {},
   "outputs": [],
   "source": [
    "i2i_recommendations = als_model.similar_items(item_ids, N=10)"
   ]
  },
  {
   "cell_type": "code",
   "execution_count": 130,
   "id": "ce370904-4c49-4152-8706-416074ea9b9a",
   "metadata": {},
   "outputs": [],
   "source": [
    "i2i_ids_enc = i2i_recommendations[0]\n",
    "i2i_scores = i2i_recommendations[1]\n",
    "\n",
    "i2i_recommendations = pd.DataFrame(\n",
    "    {\n",
    "        \"item_id_enc\": item_ids,\n",
    "        \"item_id_rec_enc\": i2i_ids_enc.tolist(),\n",
    "        \"score_i2i\": i2i_scores.tolist(),\n",
    "    }\n",
    ")\n",
    "i2i_recommendations = i2i_recommendations.explode(\n",
    "    [\"item_id_rec_enc\", \"score_i2i\"], ignore_index=True\n",
    ")\n",
    "\n",
    "# приводим типы данных\n",
    "i2i_recommendations[\"item_id_rec_enc\"] = i2i_recommendations[\"item_id_rec_enc\"].astype(\n",
    "    \"int\"\n",
    ")\n",
    "i2i_recommendations[\"item_id_enc\"] = i2i_recommendations[\"item_id_enc\"].astype(\"int\")\n",
    "i2i_recommendations[\"score_i2i\"] = i2i_recommendations[\"score_i2i\"].astype(\"float\")\n",
    "\n",
    "# получаем изначальные идентификаторы\n",
    "i2i_recommendations[\"item_id_rec\"] = item_encoder.inverse_transform(\n",
    "    i2i_recommendations[\"item_id_rec_enc\"]\n",
    ")\n",
    "i2i_recommendations[\"item_id\"] = item_encoder.inverse_transform(\n",
    "    i2i_recommendations[\"item_id_enc\"]\n",
    ")\n",
    "i2i_recommendations = i2i_recommendations.drop(\n",
    "    columns=[\"item_id_rec_enc\", \"item_id_enc\"]\n",
    ")"
   ]
  },
  {
   "cell_type": "code",
   "execution_count": 45,
   "id": "b3f560aa",
   "metadata": {},
   "outputs": [
    {
     "data": {
      "text/html": [
       "<div>\n",
       "<style scoped>\n",
       "    .dataframe tbody tr th:only-of-type {\n",
       "        vertical-align: middle;\n",
       "    }\n",
       "\n",
       "    .dataframe tbody tr th {\n",
       "        vertical-align: top;\n",
       "    }\n",
       "\n",
       "    .dataframe thead th {\n",
       "        text-align: right;\n",
       "    }\n",
       "</style>\n",
       "<table border=\"1\" class=\"dataframe\">\n",
       "  <thead>\n",
       "    <tr style=\"text-align: right;\">\n",
       "      <th></th>\n",
       "      <th>item_id_rec</th>\n",
       "      <th>item_id</th>\n",
       "      <th>score_i2i</th>\n",
       "    </tr>\n",
       "  </thead>\n",
       "  <tbody>\n",
       "    <tr>\n",
       "      <th>1</th>\n",
       "      <td>220496</td>\n",
       "      <td>26</td>\n",
       "      <td>0.979759</td>\n",
       "    </tr>\n",
       "    <tr>\n",
       "      <th>2</th>\n",
       "      <td>305077</td>\n",
       "      <td>26</td>\n",
       "      <td>0.975196</td>\n",
       "    </tr>\n",
       "    <tr>\n",
       "      <th>3</th>\n",
       "      <td>23873956</td>\n",
       "      <td>26</td>\n",
       "      <td>0.974571</td>\n",
       "    </tr>\n",
       "    <tr>\n",
       "      <th>4</th>\n",
       "      <td>30510073</td>\n",
       "      <td>26</td>\n",
       "      <td>0.971379</td>\n",
       "    </tr>\n",
       "    <tr>\n",
       "      <th>5</th>\n",
       "      <td>126860</td>\n",
       "      <td>26</td>\n",
       "      <td>0.969608</td>\n",
       "    </tr>\n",
       "    <tr>\n",
       "      <th>6</th>\n",
       "      <td>1481212</td>\n",
       "      <td>26</td>\n",
       "      <td>0.967037</td>\n",
       "    </tr>\n",
       "    <tr>\n",
       "      <th>7</th>\n",
       "      <td>16780420</td>\n",
       "      <td>26</td>\n",
       "      <td>0.965344</td>\n",
       "    </tr>\n",
       "    <tr>\n",
       "      <th>8</th>\n",
       "      <td>965</td>\n",
       "      <td>26</td>\n",
       "      <td>0.962603</td>\n",
       "    </tr>\n",
       "    <tr>\n",
       "      <th>9</th>\n",
       "      <td>18372115</td>\n",
       "      <td>26</td>\n",
       "      <td>0.962505</td>\n",
       "    </tr>\n",
       "    <tr>\n",
       "      <th>11</th>\n",
       "      <td>17953872</td>\n",
       "      <td>38</td>\n",
       "      <td>0.943089</td>\n",
       "    </tr>\n",
       "    <tr>\n",
       "      <th>12</th>\n",
       "      <td>29369517</td>\n",
       "      <td>38</td>\n",
       "      <td>0.941024</td>\n",
       "    </tr>\n",
       "    <tr>\n",
       "      <th>13</th>\n",
       "      <td>532575</td>\n",
       "      <td>38</td>\n",
       "      <td>0.935065</td>\n",
       "    </tr>\n",
       "  </tbody>\n",
       "</table>\n",
       "</div>"
      ],
      "text/plain": [
       "    item_id_rec  item_id  score_i2i\n",
       "1        220496       26   0.979759\n",
       "2        305077       26   0.975196\n",
       "3      23873956       26   0.974571\n",
       "4      30510073       26   0.971379\n",
       "5        126860       26   0.969608\n",
       "6       1481212       26   0.967037\n",
       "7      16780420       26   0.965344\n",
       "8           965       26   0.962603\n",
       "9      18372115       26   0.962505\n",
       "11     17953872       38   0.943089\n",
       "12     29369517       38   0.941024\n",
       "13       532575       38   0.935065"
      ]
     },
     "execution_count": 45,
     "metadata": {},
     "output_type": "execute_result"
    }
   ],
   "source": [
    "i2i_recommendations.head(12)"
   ]
  },
  {
   "cell_type": "markdown",
   "id": "21f2f0c6",
   "metadata": {},
   "source": [
    "Тоже сохраним в файл"
   ]
  },
  {
   "cell_type": "code",
   "execution_count": 44,
   "id": "c5ce42a7",
   "metadata": {},
   "outputs": [],
   "source": [
    "i2i_recommendations = i2i_recommendations.query(\"item_id_rec != item_id\")[\n",
    "    [\"item_id_rec\", \"item_id\", \"score_i2i\"]\n",
    "]\n",
    "i2i_recommendations.to_parquet(\"similar.parquet\")"
   ]
  },
  {
   "cell_type": "markdown",
   "id": "0087a3e7-ca9f-42cd-944c-944222c1baef",
   "metadata": {},
   "source": [
    "# Построение признаков"
   ]
  },
  {
   "cell_type": "markdown",
   "id": "e82a32e1-b90b-4eaf-9439-fc8deab9f34b",
   "metadata": {},
   "source": [
    "Далее соберем несколько вспомогательных признаков к рекомендациям ALS, чтобы на основе этого обучить ранжирующую модель."
   ]
  },
  {
   "cell_type": "markdown",
   "id": "6f29b269",
   "metadata": {},
   "source": [
    "Для ранжирующей модели разделим тестовую выборку на 2 части - для обучения ранж. модели и для ее тестирования"
   ]
  },
  {
   "cell_type": "code",
   "execution_count": 8,
   "id": "05b4ae84-406a-44a4-abec-4f80f93e3004",
   "metadata": {},
   "outputs": [
    {
     "data": {
      "text/plain": [
       "(561289, 555675)"
      ]
     },
     "execution_count": 8,
     "metadata": {},
     "output_type": "execute_result"
    }
   ],
   "source": [
    "split_date_for_range = pd.to_datetime(\"2022-12-22\").to_datetime64()\n",
    "\n",
    "split_date_for_range_idx = events_test[\"started_at\"] < split_date_for_range\n",
    "events_labels = events_test[split_date_for_range_idx].copy()\n",
    "events_test_2 = events_test[~split_date_for_range_idx].copy()\n",
    "events_labels.user_id.nunique(), events_test_2.user_id.nunique()"
   ]
  },
  {
   "cell_type": "code",
   "execution_count": 10,
   "id": "00f84c35-f544-4c3d-ad53-9b1d2b684c75",
   "metadata": {},
   "outputs": [],
   "source": [
    "personal_als = pd.read_parquet(\"personal_als.parquet\")"
   ]
  },
  {
   "cell_type": "markdown",
   "id": "0eeb11a1",
   "metadata": {},
   "source": [
    "Вернем рекомендациям кодировку при которой id треков и пользователей будут совпадать с id в файлах `events_*`"
   ]
  },
  {
   "cell_type": "code",
   "execution_count": 11,
   "id": "46abef56",
   "metadata": {},
   "outputs": [
    {
     "data": {
      "text/html": [
       "<div>\n",
       "<style scoped>\n",
       "    .dataframe tbody tr th:only-of-type {\n",
       "        vertical-align: middle;\n",
       "    }\n",
       "\n",
       "    .dataframe tbody tr th {\n",
       "        vertical-align: top;\n",
       "    }\n",
       "\n",
       "    .dataframe thead th {\n",
       "        text-align: right;\n",
       "    }\n",
       "</style>\n",
       "<table border=\"1\" class=\"dataframe\">\n",
       "  <thead>\n",
       "    <tr style=\"text-align: right;\">\n",
       "      <th></th>\n",
       "      <th>user_id</th>\n",
       "      <th>item_id</th>\n",
       "      <th>score</th>\n",
       "    </tr>\n",
       "  </thead>\n",
       "  <tbody>\n",
       "    <tr>\n",
       "      <th>0</th>\n",
       "      <td>0</td>\n",
       "      <td>384646</td>\n",
       "      <td>0.011107</td>\n",
       "    </tr>\n",
       "    <tr>\n",
       "      <th>1</th>\n",
       "      <td>0</td>\n",
       "      <td>423544</td>\n",
       "      <td>0.010649</td>\n",
       "    </tr>\n",
       "    <tr>\n",
       "      <th>2</th>\n",
       "      <td>0</td>\n",
       "      <td>398379</td>\n",
       "      <td>0.010103</td>\n",
       "    </tr>\n",
       "    <tr>\n",
       "      <th>3</th>\n",
       "      <td>0</td>\n",
       "      <td>384240</td>\n",
       "      <td>0.009582</td>\n",
       "    </tr>\n",
       "    <tr>\n",
       "      <th>4</th>\n",
       "      <td>0</td>\n",
       "      <td>60200</td>\n",
       "      <td>0.009286</td>\n",
       "    </tr>\n",
       "    <tr>\n",
       "      <th>...</th>\n",
       "      <td>...</td>\n",
       "      <td>...</td>\n",
       "      <td>...</td>\n",
       "    </tr>\n",
       "    <tr>\n",
       "      <th>60711495</th>\n",
       "      <td>1214229</td>\n",
       "      <td>595403</td>\n",
       "      <td>0.128652</td>\n",
       "    </tr>\n",
       "    <tr>\n",
       "      <th>60711496</th>\n",
       "      <td>1214229</td>\n",
       "      <td>848374</td>\n",
       "      <td>0.128601</td>\n",
       "    </tr>\n",
       "    <tr>\n",
       "      <th>60711497</th>\n",
       "      <td>1214229</td>\n",
       "      <td>754040</td>\n",
       "      <td>0.125561</td>\n",
       "    </tr>\n",
       "    <tr>\n",
       "      <th>60711498</th>\n",
       "      <td>1214229</td>\n",
       "      <td>848373</td>\n",
       "      <td>0.125505</td>\n",
       "    </tr>\n",
       "    <tr>\n",
       "      <th>60711499</th>\n",
       "      <td>1214229</td>\n",
       "      <td>775835</td>\n",
       "      <td>0.124043</td>\n",
       "    </tr>\n",
       "  </tbody>\n",
       "</table>\n",
       "<p>60711500 rows × 3 columns</p>\n",
       "</div>"
      ],
      "text/plain": [
       "          user_id  item_id     score\n",
       "0               0   384646  0.011107\n",
       "1               0   423544  0.010649\n",
       "2               0   398379  0.010103\n",
       "3               0   384240  0.009582\n",
       "4               0    60200  0.009286\n",
       "...           ...      ...       ...\n",
       "60711495  1214229   595403  0.128652\n",
       "60711496  1214229   848374  0.128601\n",
       "60711497  1214229   754040  0.125561\n",
       "60711498  1214229   848373  0.125505\n",
       "60711499  1214229   775835  0.124043\n",
       "\n",
       "[60711500 rows x 3 columns]"
      ]
     },
     "execution_count": 11,
     "metadata": {},
     "output_type": "execute_result"
    }
   ],
   "source": [
    "personal_als[\"user_id\"] = user_encoder.transform(personal_als[\"user_id\"]).astype(\n",
    "    \"int32\"\n",
    ")\n",
    "personal_als[\"item_id\"] = item_encoder.transform(personal_als[\"item_id\"]).astype(\n",
    "    \"int32\"\n",
    ")\n",
    "personal_als"
   ]
  },
  {
   "cell_type": "markdown",
   "id": "aa64eb81",
   "metadata": {},
   "source": [
    "Для ранжирующей модели оставим в обучающем наборе только тех пользователей, которые также появились в наборе данных `events_labels`, с помощью которого мы будем размечать `target`.\n"
   ]
  },
  {
   "cell_type": "code",
   "execution_count": 12,
   "id": "a5df37a1",
   "metadata": {},
   "outputs": [],
   "source": [
    "candidates = personal_als[\n",
    "    personal_als[\"user_id\"].isin(events_labels[\"user_id\"].unique())\n",
    "].copy()"
   ]
  },
  {
   "cell_type": "markdown",
   "id": "808e2abb",
   "metadata": {},
   "source": [
    "Теперь начнем добавлять признаки к файлу с рекомендациями. Первым признаком добавим колонку `track_seq` из начального датасета"
   ]
  },
  {
   "cell_type": "code",
   "execution_count": 13,
   "id": "a3a65df5",
   "metadata": {},
   "outputs": [],
   "source": [
    "candidates = candidates.merge(\n",
    "    events_train[[\"user_id\", \"track_id\", \"track_seq\"]].rename(\n",
    "        columns={\"track_id\": \"item_id\"}\n",
    "    ),\n",
    "    on=[\"user_id\", \"item_id\"],\n",
    "    how=\"left\",\n",
    ")"
   ]
  },
  {
   "cell_type": "markdown",
   "id": "56e1f6e4",
   "metadata": {},
   "source": [
    "Затем из файла с информацией о треках подтянем каждой рекомендации название исполнителя и названия 2х первых жанров в цифровом виде."
   ]
  },
  {
   "cell_type": "code",
   "execution_count": 16,
   "id": "b5ddf1e4",
   "metadata": {},
   "outputs": [],
   "source": [
    "candidates = candidates.merge(\n",
    "    items[[\"track_id\", \"id_genre_1\", \"id_genre_2\", \"id_artist_1\"]].rename(\n",
    "        columns={\"track_id\": \"item_id\"}\n",
    "    ),\n",
    "    on=\"item_id\",\n",
    "    how=\"left\",\n",
    ")"
   ]
  },
  {
   "cell_type": "markdown",
   "id": "98ce5b1a",
   "metadata": {},
   "source": [
    "Промежуточный результат выглядит следующим образом:"
   ]
  },
  {
   "cell_type": "code",
   "execution_count": 17,
   "id": "85e258e4",
   "metadata": {},
   "outputs": [
    {
     "data": {
      "text/html": [
       "<div>\n",
       "<style scoped>\n",
       "    .dataframe tbody tr th:only-of-type {\n",
       "        vertical-align: middle;\n",
       "    }\n",
       "\n",
       "    .dataframe tbody tr th {\n",
       "        vertical-align: top;\n",
       "    }\n",
       "\n",
       "    .dataframe thead th {\n",
       "        text-align: right;\n",
       "    }\n",
       "</style>\n",
       "<table border=\"1\" class=\"dataframe\">\n",
       "  <thead>\n",
       "    <tr style=\"text-align: right;\">\n",
       "      <th></th>\n",
       "      <th>user_id</th>\n",
       "      <th>item_id</th>\n",
       "      <th>score</th>\n",
       "      <th>track_seq</th>\n",
       "      <th>id_genre_1</th>\n",
       "      <th>id_genre_2</th>\n",
       "      <th>id_artist_1</th>\n",
       "    </tr>\n",
       "  </thead>\n",
       "  <tbody>\n",
       "    <tr>\n",
       "      <th>0</th>\n",
       "      <td>3</td>\n",
       "      <td>512157</td>\n",
       "      <td>0.704016</td>\n",
       "      <td>14.0</td>\n",
       "      <td>3</td>\n",
       "      <td>75</td>\n",
       "      <td>4611844</td>\n",
       "    </tr>\n",
       "    <tr>\n",
       "      <th>1</th>\n",
       "      <td>3</td>\n",
       "      <td>647237</td>\n",
       "      <td>0.442222</td>\n",
       "      <td>NaN</td>\n",
       "      <td>11</td>\n",
       "      <td>20</td>\n",
       "      <td>5007577</td>\n",
       "    </tr>\n",
       "    <tr>\n",
       "      <th>2</th>\n",
       "      <td>3</td>\n",
       "      <td>483876</td>\n",
       "      <td>0.377078</td>\n",
       "      <td>NaN</td>\n",
       "      <td>14</td>\n",
       "      <td>102</td>\n",
       "      <td>675068</td>\n",
       "    </tr>\n",
       "    <tr>\n",
       "      <th>3</th>\n",
       "      <td>3</td>\n",
       "      <td>682662</td>\n",
       "      <td>0.353102</td>\n",
       "      <td>22.0</td>\n",
       "      <td>11</td>\n",
       "      <td>20</td>\n",
       "      <td>666984</td>\n",
       "    </tr>\n",
       "    <tr>\n",
       "      <th>4</th>\n",
       "      <td>3</td>\n",
       "      <td>579622</td>\n",
       "      <td>0.346174</td>\n",
       "      <td>NaN</td>\n",
       "      <td>11</td>\n",
       "      <td>20</td>\n",
       "      <td>5007577</td>\n",
       "    </tr>\n",
       "    <tr>\n",
       "      <th>...</th>\n",
       "      <td>...</td>\n",
       "      <td>...</td>\n",
       "      <td>...</td>\n",
       "      <td>...</td>\n",
       "      <td>...</td>\n",
       "      <td>...</td>\n",
       "      <td>...</td>\n",
       "    </tr>\n",
       "    <tr>\n",
       "      <th>28064445</th>\n",
       "      <td>1214229</td>\n",
       "      <td>595403</td>\n",
       "      <td>0.128652</td>\n",
       "      <td>NaN</td>\n",
       "      <td>11</td>\n",
       "      <td>20</td>\n",
       "      <td>3827925</td>\n",
       "    </tr>\n",
       "    <tr>\n",
       "      <th>28064446</th>\n",
       "      <td>1214229</td>\n",
       "      <td>848374</td>\n",
       "      <td>0.128601</td>\n",
       "      <td>NaN</td>\n",
       "      <td>3</td>\n",
       "      <td>75</td>\n",
       "      <td>6774682</td>\n",
       "    </tr>\n",
       "    <tr>\n",
       "      <th>28064447</th>\n",
       "      <td>1214229</td>\n",
       "      <td>754040</td>\n",
       "      <td>0.125561</td>\n",
       "      <td>NaN</td>\n",
       "      <td>12</td>\n",
       "      <td>&lt;NA&gt;</td>\n",
       "      <td>2395501</td>\n",
       "    </tr>\n",
       "    <tr>\n",
       "      <th>28064448</th>\n",
       "      <td>1214229</td>\n",
       "      <td>848373</td>\n",
       "      <td>0.125505</td>\n",
       "      <td>160.0</td>\n",
       "      <td>3</td>\n",
       "      <td>75</td>\n",
       "      <td>6774682</td>\n",
       "    </tr>\n",
       "    <tr>\n",
       "      <th>28064449</th>\n",
       "      <td>1214229</td>\n",
       "      <td>775835</td>\n",
       "      <td>0.124043</td>\n",
       "      <td>NaN</td>\n",
       "      <td>11</td>\n",
       "      <td>20</td>\n",
       "      <td>452219</td>\n",
       "    </tr>\n",
       "  </tbody>\n",
       "</table>\n",
       "<p>28064450 rows × 7 columns</p>\n",
       "</div>"
      ],
      "text/plain": [
       "          user_id  item_id     score  track_seq  id_genre_1  id_genre_2  \\\n",
       "0               3   512157  0.704016       14.0           3          75   \n",
       "1               3   647237  0.442222        NaN          11          20   \n",
       "2               3   483876  0.377078        NaN          14         102   \n",
       "3               3   682662  0.353102       22.0          11          20   \n",
       "4               3   579622  0.346174        NaN          11          20   \n",
       "...           ...      ...       ...        ...         ...         ...   \n",
       "28064445  1214229   595403  0.128652        NaN          11          20   \n",
       "28064446  1214229   848374  0.128601        NaN           3          75   \n",
       "28064447  1214229   754040  0.125561        NaN          12        <NA>   \n",
       "28064448  1214229   848373  0.125505      160.0           3          75   \n",
       "28064449  1214229   775835  0.124043        NaN          11          20   \n",
       "\n",
       "          id_artist_1  \n",
       "0             4611844  \n",
       "1             5007577  \n",
       "2              675068  \n",
       "3              666984  \n",
       "4             5007577  \n",
       "...               ...  \n",
       "28064445      3827925  \n",
       "28064446      6774682  \n",
       "28064447      2395501  \n",
       "28064448      6774682  \n",
       "28064449       452219  \n",
       "\n",
       "[28064450 rows x 7 columns]"
      ]
     },
     "execution_count": 17,
     "metadata": {},
     "output_type": "execute_result"
    }
   ],
   "source": [
    "candidates"
   ]
  },
  {
   "cell_type": "markdown",
   "id": "3912edb2",
   "metadata": {},
   "source": [
    "Теперь добавим также информацию о количестве прослушиваний для рекомендуемого трека. В качестве голосов - будем учитывать количество пользователей, которые прослушали трек в обучающем датасете."
   ]
  },
  {
   "cell_type": "code",
   "execution_count": 31,
   "id": "86404738",
   "metadata": {},
   "outputs": [],
   "source": [
    "tracks_votes = (\n",
    "    events_train.groupby(by=\"track_id\")\n",
    "    .agg({\"user_id\": \"count\"})\n",
    "    .reset_index()\n",
    "    .rename(columns={\"user_id\": \"votes\", \"track_id\": \"item_id\"})\n",
    ")"
   ]
  },
  {
   "cell_type": "code",
   "execution_count": 34,
   "id": "97e9fd6f",
   "metadata": {},
   "outputs": [],
   "source": [
    "candidates = candidates.merge(tracks_votes, on=\"item_id\", how=\"left\")"
   ]
  },
  {
   "cell_type": "markdown",
   "id": "9e66b9e1",
   "metadata": {},
   "source": [
    "И в качестве последнего признака добавим информацию о пользователе. Добавим пользователям количество прослушанных треков за период, которых охватывают тренировочные данные."
   ]
  },
  {
   "cell_type": "code",
   "execution_count": 10,
   "id": "a8510c81",
   "metadata": {},
   "outputs": [],
   "source": [
    "tracks_count = (\n",
    "    events_train.groupby(\"user_id\")\n",
    "    .agg({\"track_id\": \"count\"})\n",
    "    .reset_index()\n",
    "    .rename(columns={\"track_id\": \"tracks_count\"})\n",
    ")"
   ]
  },
  {
   "cell_type": "code",
   "execution_count": 12,
   "id": "09e80ed9",
   "metadata": {},
   "outputs": [],
   "source": [
    "candidates = candidates.merge(tracks_count, on=[\"user_id\"], how=\"left\")\n"
   ]
  },
  {
   "cell_type": "markdown",
   "id": "41cdebb8",
   "metadata": {},
   "source": [
    "Финальная версия вылядит следующим образом:"
   ]
  },
  {
   "cell_type": "code",
   "execution_count": 13,
   "id": "2dac667c",
   "metadata": {},
   "outputs": [
    {
     "data": {
      "text/html": [
       "<div>\n",
       "<style scoped>\n",
       "    .dataframe tbody tr th:only-of-type {\n",
       "        vertical-align: middle;\n",
       "    }\n",
       "\n",
       "    .dataframe tbody tr th {\n",
       "        vertical-align: top;\n",
       "    }\n",
       "\n",
       "    .dataframe thead th {\n",
       "        text-align: right;\n",
       "    }\n",
       "</style>\n",
       "<table border=\"1\" class=\"dataframe\">\n",
       "  <thead>\n",
       "    <tr style=\"text-align: right;\">\n",
       "      <th></th>\n",
       "      <th>user_id</th>\n",
       "      <th>item_id</th>\n",
       "      <th>score</th>\n",
       "      <th>track_seq</th>\n",
       "      <th>id_genre_1</th>\n",
       "      <th>id_genre_2</th>\n",
       "      <th>id_artist_1</th>\n",
       "      <th>votes</th>\n",
       "      <th>tracks_count</th>\n",
       "    </tr>\n",
       "  </thead>\n",
       "  <tbody>\n",
       "    <tr>\n",
       "      <th>0</th>\n",
       "      <td>3</td>\n",
       "      <td>512157</td>\n",
       "      <td>0.704016</td>\n",
       "      <td>14.0</td>\n",
       "      <td>3</td>\n",
       "      <td>75</td>\n",
       "      <td>4611844</td>\n",
       "      <td>65808</td>\n",
       "      <td>32.0</td>\n",
       "    </tr>\n",
       "    <tr>\n",
       "      <th>1</th>\n",
       "      <td>3</td>\n",
       "      <td>647237</td>\n",
       "      <td>0.442222</td>\n",
       "      <td>NaN</td>\n",
       "      <td>11</td>\n",
       "      <td>20</td>\n",
       "      <td>5007577</td>\n",
       "      <td>55230</td>\n",
       "      <td>32.0</td>\n",
       "    </tr>\n",
       "    <tr>\n",
       "      <th>2</th>\n",
       "      <td>3</td>\n",
       "      <td>483876</td>\n",
       "      <td>0.377078</td>\n",
       "      <td>NaN</td>\n",
       "      <td>14</td>\n",
       "      <td>102</td>\n",
       "      <td>675068</td>\n",
       "      <td>65101</td>\n",
       "      <td>32.0</td>\n",
       "    </tr>\n",
       "    <tr>\n",
       "      <th>3</th>\n",
       "      <td>3</td>\n",
       "      <td>682662</td>\n",
       "      <td>0.353102</td>\n",
       "      <td>22.0</td>\n",
       "      <td>11</td>\n",
       "      <td>20</td>\n",
       "      <td>666984</td>\n",
       "      <td>49380</td>\n",
       "      <td>32.0</td>\n",
       "    </tr>\n",
       "    <tr>\n",
       "      <th>4</th>\n",
       "      <td>3</td>\n",
       "      <td>579622</td>\n",
       "      <td>0.346174</td>\n",
       "      <td>NaN</td>\n",
       "      <td>11</td>\n",
       "      <td>20</td>\n",
       "      <td>5007577</td>\n",
       "      <td>45000</td>\n",
       "      <td>32.0</td>\n",
       "    </tr>\n",
       "    <tr>\n",
       "      <th>...</th>\n",
       "      <td>...</td>\n",
       "      <td>...</td>\n",
       "      <td>...</td>\n",
       "      <td>...</td>\n",
       "      <td>...</td>\n",
       "      <td>...</td>\n",
       "      <td>...</td>\n",
       "      <td>...</td>\n",
       "      <td>...</td>\n",
       "    </tr>\n",
       "    <tr>\n",
       "      <th>28064445</th>\n",
       "      <td>1214229</td>\n",
       "      <td>595403</td>\n",
       "      <td>0.128652</td>\n",
       "      <td>NaN</td>\n",
       "      <td>11</td>\n",
       "      <td>20</td>\n",
       "      <td>3827925</td>\n",
       "      <td>13809</td>\n",
       "      <td>207.0</td>\n",
       "    </tr>\n",
       "    <tr>\n",
       "      <th>28064446</th>\n",
       "      <td>1214229</td>\n",
       "      <td>848374</td>\n",
       "      <td>0.128601</td>\n",
       "      <td>NaN</td>\n",
       "      <td>3</td>\n",
       "      <td>75</td>\n",
       "      <td>6774682</td>\n",
       "      <td>26097</td>\n",
       "      <td>207.0</td>\n",
       "    </tr>\n",
       "    <tr>\n",
       "      <th>28064447</th>\n",
       "      <td>1214229</td>\n",
       "      <td>754040</td>\n",
       "      <td>0.125561</td>\n",
       "      <td>NaN</td>\n",
       "      <td>12</td>\n",
       "      <td>&lt;NA&gt;</td>\n",
       "      <td>2395501</td>\n",
       "      <td>9129</td>\n",
       "      <td>207.0</td>\n",
       "    </tr>\n",
       "    <tr>\n",
       "      <th>28064448</th>\n",
       "      <td>1214229</td>\n",
       "      <td>848373</td>\n",
       "      <td>0.125505</td>\n",
       "      <td>160.0</td>\n",
       "      <td>3</td>\n",
       "      <td>75</td>\n",
       "      <td>6774682</td>\n",
       "      <td>28898</td>\n",
       "      <td>207.0</td>\n",
       "    </tr>\n",
       "    <tr>\n",
       "      <th>28064449</th>\n",
       "      <td>1214229</td>\n",
       "      <td>775835</td>\n",
       "      <td>0.124043</td>\n",
       "      <td>NaN</td>\n",
       "      <td>11</td>\n",
       "      <td>20</td>\n",
       "      <td>452219</td>\n",
       "      <td>15439</td>\n",
       "      <td>207.0</td>\n",
       "    </tr>\n",
       "  </tbody>\n",
       "</table>\n",
       "<p>28064450 rows × 9 columns</p>\n",
       "</div>"
      ],
      "text/plain": [
       "          user_id  item_id     score  track_seq  id_genre_1  id_genre_2  \\\n",
       "0               3   512157  0.704016       14.0           3          75   \n",
       "1               3   647237  0.442222        NaN          11          20   \n",
       "2               3   483876  0.377078        NaN          14         102   \n",
       "3               3   682662  0.353102       22.0          11          20   \n",
       "4               3   579622  0.346174        NaN          11          20   \n",
       "...           ...      ...       ...        ...         ...         ...   \n",
       "28064445  1214229   595403  0.128652        NaN          11          20   \n",
       "28064446  1214229   848374  0.128601        NaN           3          75   \n",
       "28064447  1214229   754040  0.125561        NaN          12        <NA>   \n",
       "28064448  1214229   848373  0.125505      160.0           3          75   \n",
       "28064449  1214229   775835  0.124043        NaN          11          20   \n",
       "\n",
       "          id_artist_1  votes  tracks_count  \n",
       "0             4611844  65808          32.0  \n",
       "1             5007577  55230          32.0  \n",
       "2              675068  65101          32.0  \n",
       "3              666984  49380          32.0  \n",
       "4             5007577  45000          32.0  \n",
       "...               ...    ...           ...  \n",
       "28064445      3827925  13809         207.0  \n",
       "28064446      6774682  26097         207.0  \n",
       "28064447      2395501   9129         207.0  \n",
       "28064448      6774682  28898         207.0  \n",
       "28064449       452219  15439         207.0  \n",
       "\n",
       "[28064450 rows x 9 columns]"
      ]
     },
     "execution_count": 13,
     "metadata": {},
     "output_type": "execute_result"
    }
   ],
   "source": [
    "candidates"
   ]
  },
  {
   "cell_type": "code",
   "execution_count": null,
   "id": "df15e703",
   "metadata": {},
   "outputs": [],
   "source": [
    "candidates.to_parquet(\"candidates.parquet\")"
   ]
  },
  {
   "cell_type": "code",
   "execution_count": null,
   "id": "39c437dc",
   "metadata": {},
   "outputs": [],
   "source": [
    "# candidates = pd.read_parquet(\"candidates.parquet\")"
   ]
  },
  {
   "cell_type": "markdown",
   "id": "dedd7577",
   "metadata": {},
   "source": [
    "Для обучающей разметки будем использовать часть данных `events_labels`, все взаимодействия из фанного файла будут считаться желаемой целью обучения."
   ]
  },
  {
   "cell_type": "code",
   "execution_count": 16,
   "id": "c2106cc3",
   "metadata": {},
   "outputs": [],
   "source": [
    "events_labels[\"target\"] = 1\n",
    "candidates = candidates.merge(\n",
    "    events_labels[[\"user_id\", \"track_id\", \"target\"]].rename(\n",
    "        columns={\"track_id\": \"item_id\"}\n",
    "    ),\n",
    "    on=[\"user_id\", \"item_id\"],\n",
    "    how=\"left\",\n",
    ")\n",
    "candidates[\"target\"] = candidates[\"target\"].fillna(0).astype(\"int\")"
   ]
  },
  {
   "cell_type": "markdown",
   "id": "4fb11219",
   "metadata": {},
   "source": [
    "Взглянем на соотношение классов в полученном датасете"
   ]
  },
  {
   "cell_type": "code",
   "execution_count": 20,
   "id": "99c2b103",
   "metadata": {},
   "outputs": [
    {
     "data": {
      "image/png": "[encoded data removed]",
      "text/plain": [
       "<Figure size 640x480 with 1 Axes>"
      ]
     },
     "metadata": {},
     "output_type": "display_data"
    }
   ],
   "source": [
    "candidates[\"target\"].hist(color=\"g\")\n",
    "plt.title(\"Соотнешение позитивных и негативных примеров\")\n",
    "plt.xlabel(\"target\");"
   ]
  },
  {
   "cell_type": "markdown",
   "id": "55c9bdeb",
   "metadata": {},
   "source": [
    "Мы получили довольно сильный дисбалланс классов, так как рекомендации дают сразу по 50 треков для каждого пользователя.\n",
    "\n",
    "Для некоторого уравнивания классов оставим только 4 негативных примера для каждого пользователя."
   ]
  },
  {
   "cell_type": "code",
   "execution_count": 22,
   "id": "ce27966b",
   "metadata": {},
   "outputs": [
    {
     "data": {
      "text/plain": [
       "(5028000, 10)"
      ]
     },
     "execution_count": 22,
     "metadata": {},
     "output_type": "execute_result"
    }
   ],
   "source": [
    "candidates_positive = candidates.groupby(\"user_id\").filter(\n",
    "    lambda x: x[\"target\"].sum() > 0\n",
    ")\n",
    "\n",
    "negatives_per_user = 4\n",
    "candidates_for_train = pd.concat(\n",
    "    [\n",
    "        candidates_positive.query(\"target == 1\"),\n",
    "        candidates_positive.query(\"target == 0\")\n",
    "        .groupby(\"user_id\")\n",
    "        .apply(lambda x: x.sample(negatives_per_user, random_state=0)),\n",
    "    ]\n",
    ")\n",
    "candidates_for_train.shape"
   ]
  },
  {
   "cell_type": "markdown",
   "id": "b2d85621",
   "metadata": {},
   "source": [
    "Отлично. Теперь для корректной работы модели заполним все пропуски в данных нулями"
   ]
  },
  {
   "cell_type": "code",
   "execution_count": 34,
   "id": "9cd889d7",
   "metadata": {},
   "outputs": [],
   "source": [
    "candidates_for_train.track_seq = candidates_for_train.track_seq.fillna(0)"
   ]
  },
  {
   "cell_type": "code",
   "execution_count": 36,
   "id": "2d60c4da",
   "metadata": {},
   "outputs": [],
   "source": [
    "candidates_for_train.id_genre_2 = candidates_for_train.id_genre_2.fillna(0)"
   ]
  },
  {
   "cell_type": "markdown",
   "id": "47bcf88d-b236-46f0-a6f3-38ddd64895fe",
   "metadata": {},
   "source": [
    "# Ранжирование рекомендаций"
   ]
  },
  {
   "cell_type": "markdown",
   "id": "6ea1565b",
   "metadata": {},
   "source": [
    "### Обучение модели"
   ]
  },
  {
   "cell_type": "markdown",
   "id": "e8cd8223-3418-4493-8c87-1f76286ebda0",
   "metadata": {},
   "source": [
    "Построим ранжирующую модель, чтобы сделать рекомендации более точными. Для ранжирования будем использовать модель CatBoostClassifier. Данные стандартизировать не будем, модель это допускает."
   ]
  },
  {
   "cell_type": "code",
   "execution_count": 38,
   "id": "79f1dd92-32a9-463d-827e-8bb9ee5bbb54",
   "metadata": {},
   "outputs": [
    {
     "name": "stdout",
     "output_type": "stream",
     "text": [
      "0:\tlearn: 0.6291357\ttotal: 104ms\tremaining: 1m 43s\n",
      "100:\tlearn: 0.4997552\ttotal: 4.52s\tremaining: 40.3s\n",
      "200:\tlearn: 0.4868184\ttotal: 9.02s\tremaining: 35.8s\n",
      "300:\tlearn: 0.4796379\ttotal: 13.5s\tremaining: 31.4s\n",
      "400:\tlearn: 0.4743833\ttotal: 18s\tremaining: 26.9s\n",
      "500:\tlearn: 0.4704767\ttotal: 22.5s\tremaining: 22.4s\n",
      "600:\tlearn: 0.4673811\ttotal: 27s\tremaining: 17.9s\n",
      "700:\tlearn: 0.4649119\ttotal: 31.4s\tremaining: 13.4s\n",
      "800:\tlearn: 0.4626428\ttotal: 35.9s\tremaining: 8.92s\n",
      "900:\tlearn: 0.4606494\ttotal: 40.9s\tremaining: 4.5s\n",
      "999:\tlearn: 0.4590336\ttotal: 45.6s\tremaining: 0us\n"
     ]
    },
    {
     "data": {
      "text/plain": [
       "<catboost.core.CatBoostClassifier at 0x7f5dc34739a0>"
      ]
     },
     "execution_count": 38,
     "metadata": {},
     "output_type": "execute_result"
    }
   ],
   "source": [
    "features = [\n",
    "    \"score\",\n",
    "    \"track_seq\",\n",
    "    \"id_genre_1\",\n",
    "    \"id_genre_2\",\n",
    "    \"id_artist_1\",\n",
    "    \"votes\",\n",
    "    \"tracks_count\",\n",
    "]\n",
    "target = \"target\"\n",
    "\n",
    "train_data = Pool(\n",
    "    data=candidates_for_train[features], label=candidates_for_train[target]\n",
    ")\n",
    "\n",
    "cb_model = CatBoostClassifier(\n",
    "    iterations=1000,\n",
    "    learning_rate=0.1,\n",
    "    depth=5,\n",
    "    loss_function=\"Logloss\",\n",
    "    verbose=100,\n",
    "    random_seed=SEED,\n",
    ")\n",
    "\n",
    "cb_model.fit(train_data)"
   ]
  },
  {
   "cell_type": "code",
   "execution_count": 39,
   "id": "6dbe4db4-1ac5-44da-a13c-8e7f9768ab73",
   "metadata": {},
   "outputs": [],
   "source": [
    "cb_model.save_model(\"model_recs\")"
   ]
  },
  {
   "cell_type": "markdown",
   "id": "878095b7",
   "metadata": {},
   "source": [
    "### Подготовка данных для тестирования ранжирующей модели и расчета метрик"
   ]
  },
  {
   "cell_type": "markdown",
   "id": "b15b3bfe",
   "metadata": {},
   "source": [
    "#### Подготовка ALS рекомендаций для инференса"
   ]
  },
  {
   "cell_type": "markdown",
   "id": "1b5afdb4",
   "metadata": {},
   "source": [
    "Для правдоподобного тестирования ранжирующей модели подготовим свежие ALS рекомендации. Для этого переобучим ALS модель для персональных рекомендаций на основе данных и train выборки и из events_labels выборки."
   ]
  },
  {
   "cell_type": "code",
   "execution_count": 9,
   "id": "1170f064",
   "metadata": {},
   "outputs": [],
   "source": [
    "events_infer = pd.concat([events_train, events_labels])\n",
    "events_infer[\"target\"] = 1"
   ]
  },
  {
   "cell_type": "code",
   "execution_count": null,
   "id": "68979a24",
   "metadata": {},
   "outputs": [],
   "source": [
    "user_item_matrix_infer = scipy.sparse.csr_matrix(\n",
    "    (events_infer[\"target\"], (events_infer[\"user_id\"], events_infer[\"track_id\"])),\n",
    "    dtype=np.int8,\n",
    ")"
   ]
  },
  {
   "cell_type": "code",
   "execution_count": null,
   "id": "5a2173da",
   "metadata": {},
   "outputs": [
    {
     "data": {
      "text/plain": [
       "2.065130858682096"
      ]
     },
     "metadata": {},
     "output_type": "display_data"
    }
   ],
   "source": [
    "import sys\n",
    "\n",
    "sum([sys.getsizeof(i) for i in user_item_matrix_infer.data]) / 1024**3"
   ]
  },
  {
   "cell_type": "code",
   "execution_count": null,
   "id": "e66e3293",
   "metadata": {},
   "outputs": [
    {
     "name": "stderr",
     "output_type": "stream",
     "text": [
      "/home/mle-user/mle-sprint4/env_recsys_start/lib/python3.10/site-packages/implicit/cpu/als.py:95: RuntimeWarning: OpenBLAS is configured to use 4 threads. It is highly recommended to disable its internal threadpool by setting the environment variable 'OPENBLAS_NUM_THREADS=1' or by calling 'threadpoolctl.threadpool_limits(1, \"blas\")'. Having OpenBLAS use a threadpool can lead to severe performance issues here.\n",
      "  check_blas_config()\n"
     ]
    },
    {
     "data": {
      "application/vnd.jupyter.widget-view+json": {
       "model_id": "79766d0b46f24152a071562ed17be2a2",
       "version_major": 2,
       "version_minor": 0
      },
      "text/plain": [
       "  0%|          | 0/50 [00:00<?, ?it/s]"
      ]
     },
     "metadata": {},
     "output_type": "display_data"
    }
   ],
   "source": [
    "als_model_final = AlternatingLeastSquares(\n",
    "    factors=30, iterations=50, regularization=0.05, random_state=SEED\n",
    ")\n",
    "als_model_final.fit(user_item_matrix_infer)"
   ]
  },
  {
   "cell_type": "code",
   "execution_count": null,
   "id": "eb543672",
   "metadata": {},
   "outputs": [],
   "source": [
    "user_ids = range(len(user_encoder.classes_))\n",
    "\n",
    "als_recommendations_infer = als_model_final.recommend(\n",
    "    user_ids, user_item_matrix_infer[user_ids], filter_already_liked_items=False, N=50\n",
    ")"
   ]
  },
  {
   "cell_type": "code",
   "execution_count": null,
   "id": "1fa144d1",
   "metadata": {},
   "outputs": [],
   "source": [
    "# преобразуем полученные рекомендации в табличный формат\n",
    "item_ids = als_recommendations_infer[0]\n",
    "als_scores = als_recommendations_infer[1]\n",
    "\n",
    "als_recommendations_infer = pd.DataFrame(\n",
    "    {\n",
    "        \"user_id\": user_ids,\n",
    "        \"item_id\": item_ids.tolist(),\n",
    "        \"score\": als_scores.tolist(),\n",
    "    }\n",
    ")\n",
    "als_recommendations_infer = als_recommendations_infer.explode(\n",
    "    [\"item_id\", \"score\"], ignore_index=True\n",
    ")\n",
    "\n",
    "# приводим типы данных\n",
    "als_recommendations_infer[\"item_id\"] = als_recommendations_infer[\"item_id\"].astype(\n",
    "    \"int\"\n",
    ")\n",
    "als_recommendations_infer[\"score\"] = als_recommendations_infer[\"score\"].astype(\"float\")\n",
    "\n",
    "\n",
    "# als_recommendations_infer[\"user_id\"] = user_encoder.inverse_transform(\n",
    "#     als_recommendations_infer[\"user_id_enc\"]\n",
    "# )\n",
    "# als_recommendations_infer[\"item_id\"] = item_encoder.inverse_transform(\n",
    "#     als_recommendations_infer[\"item_id_enc\"]\n",
    "# )\n",
    "# als_recommendations_infer = als_recommendations_infer.drop(columns=[\"user_id_enc\", \"item_id_enc\"])"
   ]
  },
  {
   "cell_type": "code",
   "execution_count": null,
   "id": "754d98fe",
   "metadata": {},
   "outputs": [],
   "source": [
    "als_recommendations_infer = als_recommendations_infer[[\"user_id\", \"item_id\", \"score\"]]\n",
    "als_recommendations_infer.to_parquet(\"als_recommendations_infer.parquet\")"
   ]
  },
  {
   "cell_type": "markdown",
   "id": "67db9864",
   "metadata": {},
   "source": [
    "#### Далее добавим к свежим рекомендациям теже признаки, которые мы добавляли для обучения ранжирующей модели"
   ]
  },
  {
   "cell_type": "code",
   "execution_count": null,
   "id": "acebacbf",
   "metadata": {},
   "outputs": [],
   "source": [
    "candidates_for_infer = als_recommendations_infer[\n",
    "    als_recommendations_infer[\"user_id\"].isin(events_test_2[\"user_id\"].unique())\n",
    "].copy()\n",
    "\n",
    "candidates_for_infer = candidates_for_infer.merge(\n",
    "    events_infer[[\"user_id\", \"track_id\", \"track_seq\"]].rename(\n",
    "        columns={\"track_id\": \"item_id\"}\n",
    "    ),\n",
    "    on=[\"user_id\", \"item_id\"],\n",
    "    how=\"left\",\n",
    ")"
   ]
  },
  {
   "cell_type": "code",
   "execution_count": null,
   "id": "0c1f996a",
   "metadata": {},
   "outputs": [],
   "source": [
    "candidates_for_infer = candidates_for_infer.merge(\n",
    "    items[[\"track_id\", \"id_genre_1\", \"id_genre_2\", \"id_artist_1\"]].rename(\n",
    "        columns={\"track_id\": \"item_id\"}\n",
    "    ),\n",
    "    on=\"item_id\",\n",
    "    how=\"left\",\n",
    ")"
   ]
  },
  {
   "cell_type": "code",
   "execution_count": null,
   "id": "cef2700d",
   "metadata": {},
   "outputs": [
    {
     "data": {
      "text/html": [
       "<div>\n",
       "<style scoped>\n",
       "    .dataframe tbody tr th:only-of-type {\n",
       "        vertical-align: middle;\n",
       "    }\n",
       "\n",
       "    .dataframe tbody tr th {\n",
       "        vertical-align: top;\n",
       "    }\n",
       "\n",
       "    .dataframe thead th {\n",
       "        text-align: right;\n",
       "    }\n",
       "</style>\n",
       "<table border=\"1\" class=\"dataframe\">\n",
       "  <thead>\n",
       "    <tr style=\"text-align: right;\">\n",
       "      <th></th>\n",
       "      <th>user_id</th>\n",
       "      <th>item_id</th>\n",
       "      <th>score</th>\n",
       "      <th>track_seq</th>\n",
       "      <th>id_genre_1</th>\n",
       "      <th>id_genre_2</th>\n",
       "      <th>id_artist_1</th>\n",
       "    </tr>\n",
       "  </thead>\n",
       "  <tbody>\n",
       "    <tr>\n",
       "      <th>0</th>\n",
       "      <td>4</td>\n",
       "      <td>79121</td>\n",
       "      <td>0.289590</td>\n",
       "      <td>NaN</td>\n",
       "      <td>59</td>\n",
       "      <td>102</td>\n",
       "      <td>191175</td>\n",
       "    </tr>\n",
       "    <tr>\n",
       "      <th>1</th>\n",
       "      <td>4</td>\n",
       "      <td>197265</td>\n",
       "      <td>0.256849</td>\n",
       "      <td>NaN</td>\n",
       "      <td>13</td>\n",
       "      <td>&lt;NA&gt;</td>\n",
       "      <td>36963</td>\n",
       "    </tr>\n",
       "    <tr>\n",
       "      <th>2</th>\n",
       "      <td>4</td>\n",
       "      <td>293729</td>\n",
       "      <td>0.236490</td>\n",
       "      <td>92.0</td>\n",
       "      <td>14</td>\n",
       "      <td>68</td>\n",
       "      <td>138028</td>\n",
       "    </tr>\n",
       "    <tr>\n",
       "      <th>3</th>\n",
       "      <td>4</td>\n",
       "      <td>77023</td>\n",
       "      <td>0.224774</td>\n",
       "      <td>NaN</td>\n",
       "      <td>59</td>\n",
       "      <td>102</td>\n",
       "      <td>191175</td>\n",
       "    </tr>\n",
       "    <tr>\n",
       "      <th>4</th>\n",
       "      <td>4</td>\n",
       "      <td>69303</td>\n",
       "      <td>0.219646</td>\n",
       "      <td>55.0</td>\n",
       "      <td>59</td>\n",
       "      <td>102</td>\n",
       "      <td>191175</td>\n",
       "    </tr>\n",
       "    <tr>\n",
       "      <th>...</th>\n",
       "      <td>...</td>\n",
       "      <td>...</td>\n",
       "      <td>...</td>\n",
       "      <td>...</td>\n",
       "      <td>...</td>\n",
       "      <td>...</td>\n",
       "      <td>...</td>\n",
       "    </tr>\n",
       "    <tr>\n",
       "      <th>27783745</th>\n",
       "      <td>1214229</td>\n",
       "      <td>572585</td>\n",
       "      <td>0.165861</td>\n",
       "      <td>NaN</td>\n",
       "      <td>3</td>\n",
       "      <td>75</td>\n",
       "      <td>5129397</td>\n",
       "    </tr>\n",
       "    <tr>\n",
       "      <th>27783746</th>\n",
       "      <td>1214229</td>\n",
       "      <td>894006</td>\n",
       "      <td>0.164053</td>\n",
       "      <td>NaN</td>\n",
       "      <td>16</td>\n",
       "      <td>&lt;NA&gt;</td>\n",
       "      <td>170642</td>\n",
       "    </tr>\n",
       "    <tr>\n",
       "      <th>27783747</th>\n",
       "      <td>1214229</td>\n",
       "      <td>850748</td>\n",
       "      <td>0.163497</td>\n",
       "      <td>162.0</td>\n",
       "      <td>11</td>\n",
       "      <td>20</td>\n",
       "      <td>8377409</td>\n",
       "    </tr>\n",
       "    <tr>\n",
       "      <th>27783748</th>\n",
       "      <td>1214229</td>\n",
       "      <td>973589</td>\n",
       "      <td>0.162849</td>\n",
       "      <td>NaN</td>\n",
       "      <td>11</td>\n",
       "      <td>20</td>\n",
       "      <td>161247</td>\n",
       "    </tr>\n",
       "    <tr>\n",
       "      <th>27783749</th>\n",
       "      <td>1214229</td>\n",
       "      <td>920330</td>\n",
       "      <td>0.162349</td>\n",
       "      <td>NaN</td>\n",
       "      <td>11</td>\n",
       "      <td>20</td>\n",
       "      <td>6467364</td>\n",
       "    </tr>\n",
       "  </tbody>\n",
       "</table>\n",
       "<p>27783750 rows × 7 columns</p>\n",
       "</div>"
      ],
      "text/plain": [
       "          user_id  item_id     score  track_seq  id_genre_1  id_genre_2  \\\n",
       "0               4    79121  0.289590        NaN          59         102   \n",
       "1               4   197265  0.256849        NaN          13        <NA>   \n",
       "2               4   293729  0.236490       92.0          14          68   \n",
       "3               4    77023  0.224774        NaN          59         102   \n",
       "4               4    69303  0.219646       55.0          59         102   \n",
       "...           ...      ...       ...        ...         ...         ...   \n",
       "27783745  1214229   572585  0.165861        NaN           3          75   \n",
       "27783746  1214229   894006  0.164053        NaN          16        <NA>   \n",
       "27783747  1214229   850748  0.163497      162.0          11          20   \n",
       "27783748  1214229   973589  0.162849        NaN          11          20   \n",
       "27783749  1214229   920330  0.162349        NaN          11          20   \n",
       "\n",
       "          id_artist_1  \n",
       "0              191175  \n",
       "1               36963  \n",
       "2              138028  \n",
       "3              191175  \n",
       "4              191175  \n",
       "...               ...  \n",
       "27783745      5129397  \n",
       "27783746       170642  \n",
       "27783747      8377409  \n",
       "27783748       161247  \n",
       "27783749      6467364  \n",
       "\n",
       "[27783750 rows x 7 columns]"
      ]
     },
     "metadata": {},
     "output_type": "display_data"
    }
   ],
   "source": [
    "candidates_for_infer"
   ]
  },
  {
   "cell_type": "code",
   "execution_count": null,
   "id": "33a670b2",
   "metadata": {},
   "outputs": [],
   "source": [
    "tracks_votes = (\n",
    "    events_infer.groupby(by=\"track_id\")\n",
    "    .agg({\"user_id\": \"count\"})\n",
    "    .reset_index()\n",
    "    .rename(columns={\"user_id\": \"votes\", \"track_id\": \"item_id\"})\n",
    ")"
   ]
  },
  {
   "cell_type": "code",
   "execution_count": null,
   "id": "a584d948",
   "metadata": {},
   "outputs": [],
   "source": [
    "candidates_for_infer = candidates_for_infer.merge(\n",
    "    tracks_votes, on=\"item_id\", how=\"left\"\n",
    ")"
   ]
  },
  {
   "cell_type": "code",
   "execution_count": null,
   "id": "2236b7a5",
   "metadata": {},
   "outputs": [],
   "source": [
    "tracks_count = (\n",
    "    events_infer.groupby(\"user_id\")\n",
    "    .agg({\"track_id\": \"count\"})\n",
    "    .reset_index()\n",
    "    .rename(columns={\"track_id\": \"tracks_count\"})\n",
    ")"
   ]
  },
  {
   "cell_type": "code",
   "execution_count": null,
   "id": "982fe2e0",
   "metadata": {},
   "outputs": [],
   "source": [
    "candidates_for_infer = candidates_for_infer.merge(\n",
    "    tracks_count, on=[\"user_id\"], how=\"left\"\n",
    ")"
   ]
  },
  {
   "cell_type": "code",
   "execution_count": null,
   "id": "432f4b4b",
   "metadata": {},
   "outputs": [
    {
     "data": {
      "text/html": [
       "<div>\n",
       "<style scoped>\n",
       "    .dataframe tbody tr th:only-of-type {\n",
       "        vertical-align: middle;\n",
       "    }\n",
       "\n",
       "    .dataframe tbody tr th {\n",
       "        vertical-align: top;\n",
       "    }\n",
       "\n",
       "    .dataframe thead th {\n",
       "        text-align: right;\n",
       "    }\n",
       "</style>\n",
       "<table border=\"1\" class=\"dataframe\">\n",
       "  <thead>\n",
       "    <tr style=\"text-align: right;\">\n",
       "      <th></th>\n",
       "      <th>user_id</th>\n",
       "      <th>item_id</th>\n",
       "      <th>score</th>\n",
       "      <th>track_seq</th>\n",
       "      <th>id_genre_1</th>\n",
       "      <th>id_genre_2</th>\n",
       "      <th>id_artist_1</th>\n",
       "      <th>votes</th>\n",
       "      <th>tracks_count</th>\n",
       "    </tr>\n",
       "  </thead>\n",
       "  <tbody>\n",
       "    <tr>\n",
       "      <th>0</th>\n",
       "      <td>4</td>\n",
       "      <td>79121</td>\n",
       "      <td>0.289590</td>\n",
       "      <td>NaN</td>\n",
       "      <td>59</td>\n",
       "      <td>102</td>\n",
       "      <td>191175</td>\n",
       "      <td>33023</td>\n",
       "      <td>248.0</td>\n",
       "    </tr>\n",
       "    <tr>\n",
       "      <th>1</th>\n",
       "      <td>4</td>\n",
       "      <td>197265</td>\n",
       "      <td>0.256849</td>\n",
       "      <td>NaN</td>\n",
       "      <td>13</td>\n",
       "      <td>&lt;NA&gt;</td>\n",
       "      <td>36963</td>\n",
       "      <td>45725</td>\n",
       "      <td>248.0</td>\n",
       "    </tr>\n",
       "    <tr>\n",
       "      <th>2</th>\n",
       "      <td>4</td>\n",
       "      <td>293729</td>\n",
       "      <td>0.236490</td>\n",
       "      <td>92.0</td>\n",
       "      <td>14</td>\n",
       "      <td>68</td>\n",
       "      <td>138028</td>\n",
       "      <td>22502</td>\n",
       "      <td>248.0</td>\n",
       "    </tr>\n",
       "    <tr>\n",
       "      <th>3</th>\n",
       "      <td>4</td>\n",
       "      <td>77023</td>\n",
       "      <td>0.224774</td>\n",
       "      <td>NaN</td>\n",
       "      <td>59</td>\n",
       "      <td>102</td>\n",
       "      <td>191175</td>\n",
       "      <td>21789</td>\n",
       "      <td>248.0</td>\n",
       "    </tr>\n",
       "    <tr>\n",
       "      <th>4</th>\n",
       "      <td>4</td>\n",
       "      <td>69303</td>\n",
       "      <td>0.219646</td>\n",
       "      <td>55.0</td>\n",
       "      <td>59</td>\n",
       "      <td>102</td>\n",
       "      <td>191175</td>\n",
       "      <td>20109</td>\n",
       "      <td>248.0</td>\n",
       "    </tr>\n",
       "    <tr>\n",
       "      <th>...</th>\n",
       "      <td>...</td>\n",
       "      <td>...</td>\n",
       "      <td>...</td>\n",
       "      <td>...</td>\n",
       "      <td>...</td>\n",
       "      <td>...</td>\n",
       "      <td>...</td>\n",
       "      <td>...</td>\n",
       "      <td>...</td>\n",
       "    </tr>\n",
       "    <tr>\n",
       "      <th>27783745</th>\n",
       "      <td>1214229</td>\n",
       "      <td>572585</td>\n",
       "      <td>0.165861</td>\n",
       "      <td>NaN</td>\n",
       "      <td>3</td>\n",
       "      <td>75</td>\n",
       "      <td>5129397</td>\n",
       "      <td>34642</td>\n",
       "      <td>243.0</td>\n",
       "    </tr>\n",
       "    <tr>\n",
       "      <th>27783746</th>\n",
       "      <td>1214229</td>\n",
       "      <td>894006</td>\n",
       "      <td>0.164053</td>\n",
       "      <td>NaN</td>\n",
       "      <td>16</td>\n",
       "      <td>&lt;NA&gt;</td>\n",
       "      <td>170642</td>\n",
       "      <td>14500</td>\n",
       "      <td>243.0</td>\n",
       "    </tr>\n",
       "    <tr>\n",
       "      <th>27783747</th>\n",
       "      <td>1214229</td>\n",
       "      <td>850748</td>\n",
       "      <td>0.163497</td>\n",
       "      <td>162.0</td>\n",
       "      <td>11</td>\n",
       "      <td>20</td>\n",
       "      <td>8377409</td>\n",
       "      <td>18026</td>\n",
       "      <td>243.0</td>\n",
       "    </tr>\n",
       "    <tr>\n",
       "      <th>27783748</th>\n",
       "      <td>1214229</td>\n",
       "      <td>973589</td>\n",
       "      <td>0.162849</td>\n",
       "      <td>NaN</td>\n",
       "      <td>11</td>\n",
       "      <td>20</td>\n",
       "      <td>161247</td>\n",
       "      <td>9370</td>\n",
       "      <td>243.0</td>\n",
       "    </tr>\n",
       "    <tr>\n",
       "      <th>27783749</th>\n",
       "      <td>1214229</td>\n",
       "      <td>920330</td>\n",
       "      <td>0.162349</td>\n",
       "      <td>NaN</td>\n",
       "      <td>11</td>\n",
       "      <td>20</td>\n",
       "      <td>6467364</td>\n",
       "      <td>8875</td>\n",
       "      <td>243.0</td>\n",
       "    </tr>\n",
       "  </tbody>\n",
       "</table>\n",
       "<p>27783750 rows × 9 columns</p>\n",
       "</div>"
      ],
      "text/plain": [
       "          user_id  item_id     score  track_seq  id_genre_1  id_genre_2  \\\n",
       "0               4    79121  0.289590        NaN          59         102   \n",
       "1               4   197265  0.256849        NaN          13        <NA>   \n",
       "2               4   293729  0.236490       92.0          14          68   \n",
       "3               4    77023  0.224774        NaN          59         102   \n",
       "4               4    69303  0.219646       55.0          59         102   \n",
       "...           ...      ...       ...        ...         ...         ...   \n",
       "27783745  1214229   572585  0.165861        NaN           3          75   \n",
       "27783746  1214229   894006  0.164053        NaN          16        <NA>   \n",
       "27783747  1214229   850748  0.163497      162.0          11          20   \n",
       "27783748  1214229   973589  0.162849        NaN          11          20   \n",
       "27783749  1214229   920330  0.162349        NaN          11          20   \n",
       "\n",
       "          id_artist_1  votes  tracks_count  \n",
       "0              191175  33023         248.0  \n",
       "1               36963  45725         248.0  \n",
       "2              138028  22502         248.0  \n",
       "3              191175  21789         248.0  \n",
       "4              191175  20109         248.0  \n",
       "...               ...    ...           ...  \n",
       "27783745      5129397  34642         243.0  \n",
       "27783746       170642  14500         243.0  \n",
       "27783747      8377409  18026         243.0  \n",
       "27783748       161247   9370         243.0  \n",
       "27783749      6467364   8875         243.0  \n",
       "\n",
       "[27783750 rows x 9 columns]"
      ]
     },
     "metadata": {},
     "output_type": "display_data"
    }
   ],
   "source": [
    "candidates_for_infer"
   ]
  },
  {
   "cell_type": "code",
   "execution_count": 15,
   "id": "68b7c775",
   "metadata": {},
   "outputs": [],
   "source": [
    "candidates_for_infer.track_seq = candidates_for_infer.track_seq.fillna(0)"
   ]
  },
  {
   "cell_type": "code",
   "execution_count": 16,
   "id": "47693047",
   "metadata": {},
   "outputs": [],
   "source": [
    "candidates_for_infer.id_genre_2 = candidates_for_infer.id_genre_2.fillna(0)"
   ]
  },
  {
   "cell_type": "code",
   "execution_count": 17,
   "id": "d3377be2",
   "metadata": {},
   "outputs": [
    {
     "data": {
      "text/plain": [
       "0"
      ]
     },
     "execution_count": 17,
     "metadata": {},
     "output_type": "execute_result"
    }
   ],
   "source": [
    "candidates_for_infer.id_genre_2.isna().sum()"
   ]
  },
  {
   "cell_type": "code",
   "execution_count": 18,
   "id": "8721347c",
   "metadata": {},
   "outputs": [],
   "source": [
    "candidates_for_infer.to_parquet(\"candidates_for_infer.parquet\")"
   ]
  },
  {
   "cell_type": "markdown",
   "id": "c16afd97",
   "metadata": {},
   "source": [
    "#### Теперь получим тестовые результаты от ранжирующей модели"
   ]
  },
  {
   "cell_type": "code",
   "execution_count": 25,
   "id": "e260ce37",
   "metadata": {},
   "outputs": [
    {
     "data": {
      "text/plain": [
       "<catboost.core.CatBoostClassifier at 0x7fab5b4abb20>"
      ]
     },
     "execution_count": 25,
     "metadata": {},
     "output_type": "execute_result"
    }
   ],
   "source": [
    "cb_model = CatBoostClassifier()\n",
    "\n",
    "cb_model.load_model(\"model_recs\")"
   ]
  },
  {
   "cell_type": "code",
   "execution_count": 26,
   "id": "de0cdd14",
   "metadata": {},
   "outputs": [],
   "source": [
    "features = [\n",
    "    \"score\",\n",
    "    \"track_seq\",\n",
    "    \"id_genre_1\",\n",
    "    \"id_genre_2\",\n",
    "    \"id_artist_1\",\n",
    "    \"votes\",\n",
    "    \"tracks_count\",\n",
    "]\n",
    "\n",
    "test_data = Pool(data=candidates_for_infer[features])\n",
    "predictions = cb_model.predict_proba(test_data)\n",
    "\n",
    "candidates_for_infer[\"cb_score\"] = predictions[:, 1]\n",
    "\n",
    "candidates_for_infer = candidates_for_infer.sort_values(\n",
    "    [\"user_id\", \"cb_score\"], ascending=[True, False]\n",
    ")\n",
    "candidates_for_infer[\"rank\"] = candidates_for_infer.groupby(by=\"user_id\").cumcount() + 1\n",
    "\n",
    "max_recommendations_per_user = 50\n",
    "final_recommendations = candidates_for_infer[\n",
    "    candidates_for_infer[\"rank\"] <= max_recommendations_per_user\n",
    "]\n"
   ]
  },
  {
   "cell_type": "code",
   "execution_count": 28,
   "id": "7050b65e",
   "metadata": {},
   "outputs": [
    {
     "data": {
      "text/html": [
       "<div>\n",
       "<style scoped>\n",
       "    .dataframe tbody tr th:only-of-type {\n",
       "        vertical-align: middle;\n",
       "    }\n",
       "\n",
       "    .dataframe tbody tr th {\n",
       "        vertical-align: top;\n",
       "    }\n",
       "\n",
       "    .dataframe thead th {\n",
       "        text-align: right;\n",
       "    }\n",
       "</style>\n",
       "<table border=\"1\" class=\"dataframe\">\n",
       "  <thead>\n",
       "    <tr style=\"text-align: right;\">\n",
       "      <th></th>\n",
       "      <th>user_id</th>\n",
       "      <th>item_id</th>\n",
       "      <th>score</th>\n",
       "      <th>track_seq</th>\n",
       "      <th>id_genre_1</th>\n",
       "      <th>id_genre_2</th>\n",
       "      <th>id_artist_1</th>\n",
       "      <th>votes</th>\n",
       "      <th>tracks_count</th>\n",
       "      <th>cb_score</th>\n",
       "      <th>rank</th>\n",
       "    </tr>\n",
       "  </thead>\n",
       "  <tbody>\n",
       "    <tr>\n",
       "      <th>34</th>\n",
       "      <td>4</td>\n",
       "      <td>362532</td>\n",
       "      <td>0.109169</td>\n",
       "      <td>0.0</td>\n",
       "      <td>59</td>\n",
       "      <td>102</td>\n",
       "      <td>191175</td>\n",
       "      <td>7192</td>\n",
       "      <td>248.0</td>\n",
       "      <td>0.402743</td>\n",
       "      <td>1</td>\n",
       "    </tr>\n",
       "    <tr>\n",
       "      <th>39</th>\n",
       "      <td>4</td>\n",
       "      <td>362689</td>\n",
       "      <td>0.104161</td>\n",
       "      <td>0.0</td>\n",
       "      <td>59</td>\n",
       "      <td>102</td>\n",
       "      <td>191175</td>\n",
       "      <td>7283</td>\n",
       "      <td>248.0</td>\n",
       "      <td>0.402270</td>\n",
       "      <td>2</td>\n",
       "    </tr>\n",
       "    <tr>\n",
       "      <th>49</th>\n",
       "      <td>4</td>\n",
       "      <td>476</td>\n",
       "      <td>0.094991</td>\n",
       "      <td>0.0</td>\n",
       "      <td>11</td>\n",
       "      <td>0</td>\n",
       "      <td>2107</td>\n",
       "      <td>6539</td>\n",
       "      <td>248.0</td>\n",
       "      <td>0.356398</td>\n",
       "      <td>3</td>\n",
       "    </tr>\n",
       "    <tr>\n",
       "      <th>28</th>\n",
       "      <td>4</td>\n",
       "      <td>779281</td>\n",
       "      <td>0.118354</td>\n",
       "      <td>0.0</td>\n",
       "      <td>74</td>\n",
       "      <td>0</td>\n",
       "      <td>611169</td>\n",
       "      <td>45027</td>\n",
       "      <td>248.0</td>\n",
       "      <td>0.328629</td>\n",
       "      <td>4</td>\n",
       "    </tr>\n",
       "    <tr>\n",
       "      <th>41</th>\n",
       "      <td>4</td>\n",
       "      <td>62720</td>\n",
       "      <td>0.100948</td>\n",
       "      <td>0.0</td>\n",
       "      <td>14</td>\n",
       "      <td>102</td>\n",
       "      <td>57862</td>\n",
       "      <td>8224</td>\n",
       "      <td>248.0</td>\n",
       "      <td>0.277258</td>\n",
       "      <td>5</td>\n",
       "    </tr>\n",
       "    <tr>\n",
       "      <th>6</th>\n",
       "      <td>4</td>\n",
       "      <td>599686</td>\n",
       "      <td>0.180064</td>\n",
       "      <td>0.0</td>\n",
       "      <td>14</td>\n",
       "      <td>102</td>\n",
       "      <td>82972</td>\n",
       "      <td>16346</td>\n",
       "      <td>248.0</td>\n",
       "      <td>0.257097</td>\n",
       "      <td>6</td>\n",
       "    </tr>\n",
       "    <tr>\n",
       "      <th>32</th>\n",
       "      <td>4</td>\n",
       "      <td>19854</td>\n",
       "      <td>0.110021</td>\n",
       "      <td>0.0</td>\n",
       "      <td>14</td>\n",
       "      <td>102</td>\n",
       "      <td>41868</td>\n",
       "      <td>11114</td>\n",
       "      <td>248.0</td>\n",
       "      <td>0.152987</td>\n",
       "      <td>7</td>\n",
       "    </tr>\n",
       "    <tr>\n",
       "      <th>46</th>\n",
       "      <td>4</td>\n",
       "      <td>213075</td>\n",
       "      <td>0.096264</td>\n",
       "      <td>0.0</td>\n",
       "      <td>68</td>\n",
       "      <td>0</td>\n",
       "      <td>1433871</td>\n",
       "      <td>13451</td>\n",
       "      <td>248.0</td>\n",
       "      <td>0.142874</td>\n",
       "      <td>8</td>\n",
       "    </tr>\n",
       "  </tbody>\n",
       "</table>\n",
       "</div>"
      ],
      "text/plain": [
       "    user_id  item_id     score  track_seq  id_genre_1  id_genre_2  \\\n",
       "34        4   362532  0.109169        0.0          59         102   \n",
       "39        4   362689  0.104161        0.0          59         102   \n",
       "49        4      476  0.094991        0.0          11           0   \n",
       "28        4   779281  0.118354        0.0          74           0   \n",
       "41        4    62720  0.100948        0.0          14         102   \n",
       "6         4   599686  0.180064        0.0          14         102   \n",
       "32        4    19854  0.110021        0.0          14         102   \n",
       "46        4   213075  0.096264        0.0          68           0   \n",
       "\n",
       "    id_artist_1  votes  tracks_count  cb_score  rank  \n",
       "34       191175   7192         248.0  0.402743     1  \n",
       "39       191175   7283         248.0  0.402270     2  \n",
       "49         2107   6539         248.0  0.356398     3  \n",
       "28       611169  45027         248.0  0.328629     4  \n",
       "41        57862   8224         248.0  0.277258     5  \n",
       "6         82972  16346         248.0  0.257097     6  \n",
       "32        41868  11114         248.0  0.152987     7  \n",
       "46      1433871  13451         248.0  0.142874     8  "
      ]
     },
     "execution_count": 28,
     "metadata": {},
     "output_type": "execute_result"
    }
   ],
   "source": [
    "final_recommendations.head(8)"
   ]
  },
  {
   "cell_type": "code",
   "execution_count": 29,
   "id": "378f64c8",
   "metadata": {},
   "outputs": [],
   "source": [
    "final_recommendations.to_parquet(\"recommendations.parquet\")"
   ]
  },
  {
   "cell_type": "markdown",
   "id": "b3c84071-45b5-4a15-a683-e0ab034a3128",
   "metadata": {},
   "source": [
    "# Оценка качества"
   ]
  },
  {
   "cell_type": "markdown",
   "id": "1b107fe4-554e-42b1-87d9-c435a52bb77a",
   "metadata": {},
   "source": [
    "Проверим оценку качества трёх типов рекомендаций: \n",
    "\n",
    "- топ популярных,\n",
    "- персональных, полученных при помощи ALS,\n",
    "- итоговых\n",
    "  \n",
    "по четырем метрикам: recall, precision, coverage, novelty."
   ]
  },
  {
   "cell_type": "markdown",
   "id": "a192c7ea",
   "metadata": {},
   "source": [
    "### Функции для измерения метрик"
   ]
  },
  {
   "cell_type": "markdown",
   "id": "61ae6f3a",
   "metadata": {},
   "source": [
    "Для разметки результатов рекомендаций ALS и общих рекомендаций."
   ]
  },
  {
   "cell_type": "code",
   "execution_count": 12,
   "id": "6a06be4d",
   "metadata": {},
   "outputs": [],
   "source": [
    "def process_als_for_binary_metrics(data_train, data_test, recs, top_k=None):\n",
    "    \"\"\"\n",
    "    размечает пары <user_id, item_id> для общего множества пользователей признаками\n",
    "    - gt (ground truth)\n",
    "    - pr (prediction)\n",
    "    top_k: расчёт ведётся только для top k-рекомендаций\n",
    "    \"\"\"\n",
    "\n",
    "    data_test[\"gt\"] = True\n",
    "    common_users = set(data_test[\"user_id\"]) & set(recs[\"user_id\"])\n",
    "\n",
    "    print(f\"Common users: {len(common_users)}\")\n",
    "\n",
    "    events_for_common_users = data_test[data_test[\"user_id\"].isin(common_users)].copy()\n",
    "    recs_for_common_users = recs[recs[\"user_id\"].isin(common_users)].copy()\n",
    "\n",
    "    recs_for_common_users = recs_for_common_users.sort_values(\n",
    "        [\"user_id\", \"score\"], ascending=[True, False]\n",
    "    )\n",
    "\n",
    "    # оставляет только те item_id, которые были в train части\n",
    "    events_for_common_users = events_for_common_users[\n",
    "        events_for_common_users[\"track_id\"].isin(data_train[\"track_id\"].unique())\n",
    "    ].rename(columns={\"track_id\": \"item_id\"})\n",
    "\n",
    "    if top_k is not None:\n",
    "        recs_for_common_users = recs_for_common_users.groupby(\"user_id\").head(top_k)\n",
    "\n",
    "    events_recs_common = events_for_common_users[[\"user_id\", \"item_id\", \"gt\"]].merge(\n",
    "        recs_for_common_users[[\"user_id\", \"item_id\", \"score\"]],\n",
    "        on=[\"user_id\", \"item_id\"],\n",
    "        how=\"outer\",\n",
    "    )\n",
    "\n",
    "    events_recs_common[\"gt\"] = events_recs_common[\"gt\"].fillna(False)\n",
    "    events_recs_common[\"pr\"] = ~events_recs_common[\"score\"].isnull()\n",
    "\n",
    "    events_recs_common[\"tp\"] = events_recs_common[\"gt\"] & events_recs_common[\"pr\"]\n",
    "    events_recs_common[\"fp\"] = ~events_recs_common[\"gt\"] & events_recs_common[\"pr\"]\n",
    "    events_recs_common[\"fn\"] = events_recs_common[\"gt\"] & ~events_recs_common[\"pr\"]\n",
    "\n",
    "    return events_recs_common"
   ]
  },
  {
   "cell_type": "markdown",
   "id": "303899dc",
   "metadata": {},
   "source": [
    "Для разметки результатов рекомендаций из топа треков для холодных пользователей"
   ]
  },
  {
   "cell_type": "code",
   "execution_count": 13,
   "id": "959acca5",
   "metadata": {},
   "outputs": [],
   "source": [
    "def process_top_for_binary_metrics(data_train, data_test, top_tracks, top_k=5):\n",
    "    \"\"\"\n",
    "    размечает пары <user_id, item_id> для общего множества пользователей признаками\n",
    "    - gt (ground truth)\n",
    "    - pr (prediction)\n",
    "    top_k: расчёт ведётся только для top k-рекомендаций\n",
    "    \"\"\"\n",
    "    data_test[\"gt\"] = True\n",
    "\n",
    "    cold_users = set(data_test.user_id).difference(set(data_train.user_id))\n",
    "\n",
    "    print(f\"Cold users: {len(cold_users)}\")\n",
    "\n",
    "    events_for_cold_users = (\n",
    "        data_test[data_test[\"user_id\"].isin(cold_users)]\n",
    "        .rename(columns={\"track_id\": \"item_id\"})\n",
    "        .copy()\n",
    "    )\n",
    "    recs_top = list(top_tracks.item_id[:top_k])\n",
    "\n",
    "    events_recs = pd.DataFrame(\n",
    "        {\n",
    "            \"user_id\": list(cold_users),\n",
    "            \"item_id\": [recs_top for _ in range(len(cold_users))],\n",
    "        },\n",
    "    )\n",
    "    events_recs = events_recs.explode(\"item_id\")\n",
    "    events_recs[\"pr\"] = True\n",
    "\n",
    "    events_for_cold_users = events_for_cold_users[[\"user_id\", \"item_id\", \"gt\"]].merge(\n",
    "        events_recs[[\"user_id\", \"item_id\", \"pr\"]],\n",
    "        on=[\"user_id\", \"item_id\"],\n",
    "        how=\"outer\",\n",
    "    )\n",
    "\n",
    "    print(events_for_cold_users.shape)\n",
    "\n",
    "    events_for_cold_users[\"gt\"] = events_for_cold_users[\"gt\"].fillna(False)\n",
    "    events_for_cold_users[\"pr\"] = events_for_cold_users[\"pr\"].fillna(False)\n",
    "\n",
    "    events_for_cold_users[\"tp\"] = (\n",
    "        events_for_cold_users[\"gt\"] & events_for_cold_users[\"pr\"]\n",
    "    )\n",
    "    events_for_cold_users[\"fp\"] = (\n",
    "        ~events_for_cold_users[\"gt\"] & events_for_cold_users[\"pr\"]\n",
    "    )\n",
    "    events_for_cold_users[\"fn\"] = (\n",
    "        events_for_cold_users[\"gt\"] & ~events_for_cold_users[\"pr\"]\n",
    "    )\n",
    "\n",
    "    return events_for_cold_users"
   ]
  },
  {
   "cell_type": "markdown",
   "id": "7b6d5b77",
   "metadata": {},
   "source": [
    "Функция для расчета precision и recall, покрытие по пользователям (coverage) и novetly_top_n - то, какая часть рекомендация является новыми треками для пользователя."
   ]
  },
  {
   "cell_type": "code",
   "execution_count": 14,
   "id": "002e4ba2",
   "metadata": {},
   "outputs": [],
   "source": [
    "def compute_cls_metrics(events_recs_for_binary_metric):\n",
    "    groupper = events_recs_for_binary_metric.groupby(\"user_id\")\n",
    "\n",
    "    # precision\n",
    "    precision = groupper[\"tp\"].sum() / (groupper[\"tp\"].sum() + groupper[\"fp\"].sum())\n",
    "    precision = precision.fillna(0).mean()\n",
    "\n",
    "    # recall\n",
    "    recall = groupper[\"tp\"].sum() / (groupper[\"tp\"].sum() + groupper[\"fn\"].sum())\n",
    "    recall = recall.fillna(0).mean()\n",
    "    return precision, recall"
   ]
  },
  {
   "cell_type": "code",
   "execution_count": 15,
   "id": "2067c541",
   "metadata": {},
   "outputs": [],
   "source": [
    "def coverage(data_test, recs):\n",
    "    common = len(set(data_test[\"user_id\"]) & set(recs[\"user_id\"]))\n",
    "    all_users = data_test.user_id.nunique()\n",
    "    return common / all_users"
   ]
  },
  {
   "cell_type": "code",
   "execution_count": 11,
   "id": "8df7df91",
   "metadata": {},
   "outputs": [],
   "source": [
    "def novetly_top_n(data_train, recs_with_score, top_n):\n",
    "    data_train[\"listened\"] = True\n",
    "    data_train = data_train.rename(columns={\"track_id\": \"item_id\"})\n",
    "    recs_with_score = recs_with_score.merge(\n",
    "        data_train[[\"user_id\", \"item_id\", \"listened\"]],\n",
    "        on=[\"user_id\", \"item_id\"],\n",
    "        how=\"left\",\n",
    "    )\n",
    "    recs_with_score[\"listened\"] = (\n",
    "        recs_with_score[\"listened\"].fillna(False).astype(\"bool\")\n",
    "    )\n",
    "\n",
    "    # проставим ранги\n",
    "    recs_with_score = recs_with_score.sort_values(\n",
    "        [\"user_id\", \"score\"], ascending=[True, False]\n",
    "    )\n",
    "    recs_with_score[\"rank\"] = recs_with_score.groupby(\"user_id\").cumcount() + 1\n",
    "\n",
    "    # посчитаем novelty по пользователям\n",
    "    fresh_tracks_mean = (\n",
    "        recs_with_score.query(\"rank <= @top_n\").groupby(\"user_id\")[\"listened\"].mean()\n",
    "    )\n",
    "    novelty_5 = 1 - fresh_tracks_mean\n",
    "\n",
    "    # посчитаем средний novelty\n",
    "    return np.mean(novelty_5)"
   ]
  },
  {
   "cell_type": "markdown",
   "id": "759f257c",
   "metadata": {},
   "source": [
    "### Расчет метрик"
   ]
  },
  {
   "cell_type": "code",
   "execution_count": 17,
   "id": "b0790109",
   "metadata": {},
   "outputs": [],
   "source": [
    "top_popular = pd.read_parquet(\"top_popular.parquet\")\n",
    "personal_als = pd.read_parquet(\"personal_als.parquet\")\n",
    "recommendations = pd.read_parquet(\"recommendations.parquet\")"
   ]
  },
  {
   "cell_type": "code",
   "execution_count": 18,
   "id": "3427374a",
   "metadata": {},
   "outputs": [],
   "source": [
    "metrics = {}"
   ]
  },
  {
   "cell_type": "markdown",
   "id": "9b922d8b",
   "metadata": {},
   "source": [
    "Сначала добавим к рекомендациям разметку для подсчета метрик.\n",
    "\n",
    "Период на котором мы оцениваем рекомендательные алгоритмы составляет не менее недели, а сами треки длятся в среднем около 4х минут - для оценки возьмем первые 15 рекомендаций"
   ]
  },
  {
   "cell_type": "code",
   "execution_count": 19,
   "id": "a5666acd",
   "metadata": {},
   "outputs": [
    {
     "name": "stderr",
     "output_type": "stream",
     "text": [
      "/tmp/ipykernel_20180/1389674443.py:9: SettingWithCopyWarning: \n",
      "A value is trying to be set on a copy of a slice from a DataFrame.\n",
      "Try using .loc[row_indexer,col_indexer] = value instead\n",
      "\n",
      "See the caveats in the documentation: https://pandas.pydata.org/pandas-docs/stable/user_guide/indexing.html#returning-a-view-versus-a-copy\n",
      "  data_test[\"gt\"] = True\n"
     ]
    },
    {
     "name": "stdout",
     "output_type": "stream",
     "text": [
      "Common users: 605007\n",
      "Common users: 555675\n"
     ]
    },
    {
     "name": "stderr",
     "output_type": "stream",
     "text": [
      "/tmp/ipykernel_20180/2817852776.py:8: SettingWithCopyWarning: \n",
      "A value is trying to be set on a copy of a slice from a DataFrame.\n",
      "Try using .loc[row_indexer,col_indexer] = value instead\n",
      "\n",
      "See the caveats in the documentation: https://pandas.pydata.org/pandas-docs/stable/user_guide/indexing.html#returning-a-view-versus-a-copy\n",
      "  data_test[\"gt\"] = True\n"
     ]
    },
    {
     "name": "stdout",
     "output_type": "stream",
     "text": [
      "Cold users: 30477\n",
      "(1544874, 4)\n"
     ]
    }
   ],
   "source": [
    "personal_als_markered = process_als_for_binary_metrics(\n",
    "    events_train, events_test, personal_als, 15\n",
    ")\n",
    "\n",
    "recommendations_markered = process_als_for_binary_metrics(\n",
    "    events_infer, events_test_2, recommendations, 15\n",
    ")\n",
    "\n",
    "top_binary_markered = process_top_for_binary_metrics(\n",
    "    events_train, events_test, top_popular, 15\n",
    ")"
   ]
  },
  {
   "cell_type": "code",
   "execution_count": 20,
   "id": "f88d2938",
   "metadata": {},
   "outputs": [],
   "source": [
    "recs = {\n",
    "    \"als_cleen\": personal_als_markered,\n",
    "    \"final_recs\": recommendations_markered,\n",
    "    \"top_recs\": top_binary_markered,\n",
    "}"
   ]
  },
  {
   "cell_type": "markdown",
   "id": "19eb60d7",
   "metadata": {},
   "source": [
    "Посчитаем precision@15 и recall@15 для рекомендаций всех видов"
   ]
  },
  {
   "cell_type": "code",
   "execution_count": 21,
   "id": "5df551e1",
   "metadata": {},
   "outputs": [],
   "source": [
    "for key in recs.keys():\n",
    "    metrics[key] = {}\n",
    "    metrics[key][\"precision15\"], metrics[key][\"recall15\"] = compute_cls_metrics(\n",
    "        recs[key]\n",
    "    )"
   ]
  },
  {
   "cell_type": "code",
   "execution_count": 22,
   "id": "2b2f6c93",
   "metadata": {},
   "outputs": [
    {
     "data": {
      "text/plain": [
       "{'als_cleen': {'precision15': 3.5261300006997165e-06,\n",
       "  'recall15': 2.2446442079602787e-06},\n",
       " 'final_recs': {'precision15': 0.006428697829966557,\n",
       "  'recall15': 0.020478206878894255},\n",
       " 'top_recs': {'precision15': 0.030875742363093477,\n",
       "  'recall15': 0.014451030660861118}}"
      ]
     },
     "execution_count": 22,
     "metadata": {},
     "output_type": "execute_result"
    }
   ],
   "source": [
    "metrics"
   ]
  },
  {
   "cell_type": "markdown",
   "id": "fc515985",
   "metadata": {},
   "source": [
    "Посчитаем coverage - покрытие по пользователям - какую часть пользователей из тестовой выборки покрывают наши рекомендации."
   ]
  },
  {
   "cell_type": "code",
   "execution_count": 23,
   "id": "f0fdb76d",
   "metadata": {},
   "outputs": [],
   "source": [
    "metrics[\"als_cleen\"][\"coverage\"] = coverage(events_test, personal_als_markered)\n",
    "metrics[\"final_recs\"][\"coverage\"] = coverage(events_test_2, recommendations_markered)\n",
    "metrics[\"top_recs\"][\"coverage\"] = 1\n"
   ]
  },
  {
   "cell_type": "markdown",
   "id": "98416337",
   "metadata": {},
   "source": [
    "Посчитаем метрику novetly@15 - которая покажет, какую часть рекомендованных треков пользователь уже слышал."
   ]
  },
  {
   "cell_type": "code",
   "execution_count": 14,
   "id": "717f7329",
   "metadata": {},
   "outputs": [
    {
     "name": "stderr",
     "output_type": "stream",
     "text": [
      "/tmp/ipykernel_20846/1962877312.py:2: SettingWithCopyWarning: \n",
      "A value is trying to be set on a copy of a slice from a DataFrame.\n",
      "Try using .loc[row_indexer,col_indexer] = value instead\n",
      "\n",
      "See the caveats in the documentation: https://pandas.pydata.org/pandas-docs/stable/user_guide/indexing.html#returning-a-view-versus-a-copy\n",
      "  data_train[\"listened\"] = True\n"
     ]
    }
   ],
   "source": [
    "metrics[\"als_cleen\"][\"novetly_top_15\"] = novetly_top_n(\n",
    "    events_train, personal_als_markered, 15\n",
    ")\n",
    "metrics[\"final_recs\"][\"novetly_top_15\"] = novetly_top_n(\n",
    "    events_infer, recommendations_markered, 15\n",
    ")\n",
    "metrics[\"top_recs\"][\"novetly_top_15\"] = 1"
   ]
  },
  {
   "cell_type": "code",
   "execution_count": 16,
   "id": "d632a034",
   "metadata": {},
   "outputs": [],
   "source": [
    "import json\n",
    "\n",
    "with open(\"metrics.json\", \"w\") as fd:\n",
    "    json.dump(metrics, fd)"
   ]
  },
  {
   "cell_type": "code",
   "execution_count": 17,
   "id": "6cf53bf3",
   "metadata": {},
   "outputs": [
    {
     "data": {
      "text/html": [
       "<div>\n",
       "<style scoped>\n",
       "    .dataframe tbody tr th:only-of-type {\n",
       "        vertical-align: middle;\n",
       "    }\n",
       "\n",
       "    .dataframe tbody tr th {\n",
       "        vertical-align: top;\n",
       "    }\n",
       "\n",
       "    .dataframe thead th {\n",
       "        text-align: right;\n",
       "    }\n",
       "</style>\n",
       "<table border=\"1\" class=\"dataframe\">\n",
       "  <thead>\n",
       "    <tr style=\"text-align: right;\">\n",
       "      <th></th>\n",
       "      <th>precision15</th>\n",
       "      <th>recall15</th>\n",
       "      <th>coverage</th>\n",
       "      <th>novetly_top_15</th>\n",
       "    </tr>\n",
       "  </thead>\n",
       "  <tbody>\n",
       "    <tr>\n",
       "      <th>als_cleen</th>\n",
       "      <td>0.000004</td>\n",
       "      <td>0.000002</td>\n",
       "      <td>0.883359</td>\n",
       "      <td>0.999946</td>\n",
       "    </tr>\n",
       "    <tr>\n",
       "      <th>final_recs</th>\n",
       "      <td>0.006429</td>\n",
       "      <td>0.020478</td>\n",
       "      <td>1.000000</td>\n",
       "      <td>0.775965</td>\n",
       "    </tr>\n",
       "    <tr>\n",
       "      <th>top_recs</th>\n",
       "      <td>0.030876</td>\n",
       "      <td>0.014451</td>\n",
       "      <td>1.000000</td>\n",
       "      <td>1.000000</td>\n",
       "    </tr>\n",
       "  </tbody>\n",
       "</table>\n",
       "</div>"
      ],
      "text/plain": [
       "            precision15  recall15  coverage  novetly_top_15\n",
       "als_cleen      0.000004  0.000002  0.883359        0.999946\n",
       "final_recs     0.006429  0.020478  1.000000        0.775965\n",
       "top_recs       0.030876  0.014451  1.000000        1.000000"
      ]
     },
     "execution_count": 17,
     "metadata": {},
     "output_type": "execute_result"
    }
   ],
   "source": [
    "metrics = pd.DataFrame([i for i in list(metrics.values())], index=metrics.keys())\n",
    "metrics"
   ]
  },
  {
   "cell_type": "markdown",
   "id": "f1c8d38c-32b0-46a4-96f0-cd01dac708bc",
   "metadata": {},
   "source": [
    "# === Выводы, метрики ==="
   ]
  },
  {
   "cell_type": "markdown",
   "id": "f7d7d5d8-7d1e-4fdf-a6cd-83e5ce92c684",
   "metadata": {},
   "source": [
    "Основные выводы при работе над расчётом рекомендаций, рассчитанные метрики."
   ]
  },
  {
   "cell_type": "code",
   "execution_count": 23,
   "id": "6403097d-db36-46d9-8952-613c9bd51b05",
   "metadata": {},
   "outputs": [
    {
     "data": {
      "text/html": [
       "<style type=\"text/css\">\n",
       "#T_04d90_row1_col1, #T_04d90_row1_col2, #T_04d90_row2_col0, #T_04d90_row2_col2, #T_04d90_row2_col3 {\n",
       "  background-color: olive;\n",
       "}\n",
       "</style>\n",
       "<table id=\"T_04d90\">\n",
       "  <thead>\n",
       "    <tr>\n",
       "      <th class=\"blank level0\" >&nbsp;</th>\n",
       "      <th id=\"T_04d90_level0_col0\" class=\"col_heading level0 col0\" >precision15</th>\n",
       "      <th id=\"T_04d90_level0_col1\" class=\"col_heading level0 col1\" >recall15</th>\n",
       "      <th id=\"T_04d90_level0_col2\" class=\"col_heading level0 col2\" >coverage</th>\n",
       "      <th id=\"T_04d90_level0_col3\" class=\"col_heading level0 col3\" >novetly_top_15</th>\n",
       "    </tr>\n",
       "  </thead>\n",
       "  <tbody>\n",
       "    <tr>\n",
       "      <th id=\"T_04d90_level0_row0\" class=\"row_heading level0 row0\" >als_cleen</th>\n",
       "      <td id=\"T_04d90_row0_col0\" class=\"data row0 col0\" >0.000004</td>\n",
       "      <td id=\"T_04d90_row0_col1\" class=\"data row0 col1\" >0.000002</td>\n",
       "      <td id=\"T_04d90_row0_col2\" class=\"data row0 col2\" >0.883359</td>\n",
       "      <td id=\"T_04d90_row0_col3\" class=\"data row0 col3\" >0.999946</td>\n",
       "    </tr>\n",
       "    <tr>\n",
       "      <th id=\"T_04d90_level0_row1\" class=\"row_heading level0 row1\" >final_recs</th>\n",
       "      <td id=\"T_04d90_row1_col0\" class=\"data row1 col0\" >0.006429</td>\n",
       "      <td id=\"T_04d90_row1_col1\" class=\"data row1 col1\" >0.020478</td>\n",
       "      <td id=\"T_04d90_row1_col2\" class=\"data row1 col2\" >1.000000</td>\n",
       "      <td id=\"T_04d90_row1_col3\" class=\"data row1 col3\" >0.775965</td>\n",
       "    </tr>\n",
       "    <tr>\n",
       "      <th id=\"T_04d90_level0_row2\" class=\"row_heading level0 row2\" >top_recs</th>\n",
       "      <td id=\"T_04d90_row2_col0\" class=\"data row2 col0\" >0.030876</td>\n",
       "      <td id=\"T_04d90_row2_col1\" class=\"data row2 col1\" >0.014451</td>\n",
       "      <td id=\"T_04d90_row2_col2\" class=\"data row2 col2\" >1.000000</td>\n",
       "      <td id=\"T_04d90_row2_col3\" class=\"data row2 col3\" >1.000000</td>\n",
       "    </tr>\n",
       "  </tbody>\n",
       "</table>\n"
      ],
      "text/plain": [
       "<pandas.io.formats.style.Styler at 0x7f094c143f40>"
      ]
     },
     "execution_count": 23,
     "metadata": {},
     "output_type": "execute_result"
    }
   ],
   "source": [
    "metrics.style.highlight_max(color=\"olive\", axis=0)"
   ]
  },
  {
   "cell_type": "code",
   "execution_count": null,
   "id": "986cfdd5-6f2e-4de6-8666-85804c87d04b",
   "metadata": {},
   "outputs": [],
   "source": []
  },
  {
   "cell_type": "code",
   "execution_count": null,
   "id": "50e3b725",
   "metadata": {},
   "outputs": [],
   "source": [
    "import boto3\n",
    "import os\n",
    "from dotenv import load_dotenv\n",
    "\n",
    "load_dotenv()\n",
    "\n",
    "\n",
    "def get_session_student():\n",
    "    session = boto3.session.Session()\n",
    "\n",
    "    return session.client(\n",
    "        service_name=\"s3\",\n",
    "        endpoint_url=os.getenv(\"S3_ENDPOINT_URL\"),\n",
    "        aws_access_key_id=os.getenv(\"AWS_ACCESS_KEY_ID\"),\n",
    "        aws_secret_access_key=os.getenv(\"AWS_SECRET_ACCESS_KEY\"),\n",
    "    )\n",
    "\n",
    "\n",
    "s3 = get_session_student()\n",
    "bucket_name = os.getenv(\"S3_BUCKET_NAME\")\n",
    "\n",
    "s3.upload_file(\n",
    "    \"top_popular.parquet\", bucket_name, \"recsys/recommendations/top_popular.parquet\"\n",
    ")\n",
    "s3.upload_file(\n",
    "    \"personal_als.parquet\", bucket_name, \"recsys/recommendations/personal_als.parquet\"\n",
    ")\n",
    "s3.upload_file(\"similar.parquet\", bucket_name, \"recsys/recommendations/similar.parquet\")\n",
    "s3.upload_file(\n",
    "    \"recommendations.parquet\",\n",
    "    bucket_name,\n",
    "    \"recsys/recommendations/recommendations.parquet\",\n",
    ")"
   ]
  }
 ],
 "metadata": {
  "kernelspec": {
   "display_name": "Python 3 (ipykernel)",
   "language": "python",
   "name": "python3"
  },
  "language_info": {
   "codemirror_mode": {
    "name": "ipython",
    "version": 3
   },
   "file_extension": ".py",
   "mimetype": "text/x-python",
   "name": "python",
   "nbconvert_exporter": "python",
   "pygments_lexer": "ipython3",
   "version": "3.10.12"
  }
 },
 "nbformat": 4,
 "nbformat_minor": 5
}
