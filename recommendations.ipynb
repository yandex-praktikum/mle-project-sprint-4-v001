{
 "cells": [
  {
   "cell_type": "markdown",
   "id": "f4095ae4-7294-4b28-853e-88d235002c97",
   "metadata": {},
   "source": [
    "# Инициализация"
   ]
  },
  {
   "cell_type": "markdown",
   "id": "2f2318d2-9df8-4911-915e-15b725c44f8a",
   "metadata": {},
   "source": [
    "Загружаем библиотеки необходимые для выполнения кода ноутбука."
   ]
  },
  {
   "cell_type": "code",
   "execution_count": 1,
   "id": "662d04e7-1b0b-4e4a-9ddf-4526d7fef119",
   "metadata": {},
   "outputs": [],
   "source": [
    "import pandas as pd\n",
    "import matplotlib.pyplot as plt\n",
    "import numpy as np"
   ]
  },
  {
   "cell_type": "code",
   "execution_count": 67,
   "id": "7cc455b9",
   "metadata": {},
   "outputs": [],
   "source": [
    "%matplotlib inline\n",
    "%config InlineBackend.figure_format = 'png'\n",
    "%config InlineBackend.figure_format = 'retina'"
   ]
  },
  {
   "cell_type": "markdown",
   "id": "bf80fbc5-b660-4fac-8fbb-a5cae77313b3",
   "metadata": {},
   "source": [
    "# === ЭТАП 1 ==="
   ]
  },
  {
   "cell_type": "markdown",
   "id": "5263a8b3-fe99-4204-8a2e-105182792c11",
   "metadata": {},
   "source": [
    "# Загрузка первичных данных"
   ]
  },
  {
   "cell_type": "markdown",
   "id": "1b54a6a5-1656-4e3c-99d1-49dc39451d33",
   "metadata": {},
   "source": [
    "Загружаем первичные данные из файлов:\n",
    "- tracks.parquet\n",
    "- catalog_names.parquet\n",
    "- interactions.parquet"
   ]
  },
  {
   "cell_type": "code",
   "execution_count": 9,
   "id": "c5c878b7",
   "metadata": {},
   "outputs": [],
   "source": [
    "cnames = pd.read_parquet(\"./data/catalog_names.parquet\")"
   ]
  },
  {
   "cell_type": "code",
   "execution_count": null,
   "id": "5d4b8961-3f35-4e58-9d6b-3e2dbd2c4224",
   "metadata": {},
   "outputs": [],
   "source": [
    "tracks = pd.read_parquet(\"./data/tracks.parquet\")\n",
    "interactions = pd.read_parquet('./data/interactions.parquet')"
   ]
  },
  {
   "cell_type": "markdown",
   "id": "e8f2a1f7-a05f-4f39-af90-5f4018aa6f9d",
   "metadata": {},
   "source": [
    "# Обзор данных"
   ]
  },
  {
   "cell_type": "markdown",
   "id": "46a85307-896c-4fac-9fcf-f0dffa90889e",
   "metadata": {},
   "source": [
    "Проверяем данные, есть ли с ними явные проблемы."
   ]
  },
  {
   "cell_type": "code",
   "execution_count": 69,
   "id": "84e04292",
   "metadata": {},
   "outputs": [
    {
     "data": {
      "text/html": [
       "<div>\n",
       "<style scoped>\n",
       "    .dataframe tbody tr th:only-of-type {\n",
       "        vertical-align: middle;\n",
       "    }\n",
       "\n",
       "    .dataframe tbody tr th {\n",
       "        vertical-align: top;\n",
       "    }\n",
       "\n",
       "    .dataframe thead th {\n",
       "        text-align: right;\n",
       "    }\n",
       "</style>\n",
       "<table border=\"1\" class=\"dataframe\">\n",
       "  <thead>\n",
       "    <tr style=\"text-align: right;\">\n",
       "      <th></th>\n",
       "      <th>id</th>\n",
       "      <th>type</th>\n",
       "      <th>name</th>\n",
       "    </tr>\n",
       "  </thead>\n",
       "  <tbody>\n",
       "    <tr>\n",
       "      <th>83170</th>\n",
       "      <td>757168</td>\n",
       "      <td>album</td>\n",
       "      <td>Elvis '57 - 4 Track EP</td>\n",
       "    </tr>\n",
       "    <tr>\n",
       "      <th>155409</th>\n",
       "      <td>2495822</td>\n",
       "      <td>album</td>\n",
       "      <td>Venus on Earth</td>\n",
       "    </tr>\n",
       "    <tr>\n",
       "      <th>649912</th>\n",
       "      <td>20342081</td>\n",
       "      <td>album</td>\n",
       "      <td>Ultimate Covers</td>\n",
       "    </tr>\n",
       "    <tr>\n",
       "      <th>1152084</th>\n",
       "      <td>22008902</td>\n",
       "      <td>track</td>\n",
       "      <td>Namah Shivaya</td>\n",
       "    </tr>\n",
       "    <tr>\n",
       "      <th>802418</th>\n",
       "      <td>10134637</td>\n",
       "      <td>artist</td>\n",
       "      <td>Наталья Коржова</td>\n",
       "    </tr>\n",
       "  </tbody>\n",
       "</table>\n",
       "</div>"
      ],
      "text/plain": [
       "               id    type                    name\n",
       "83170      757168   album  Elvis '57 - 4 Track EP\n",
       "155409    2495822   album          Venus on Earth\n",
       "649912   20342081   album         Ultimate Covers\n",
       "1152084  22008902   track           Namah Shivaya\n",
       "802418   10134637  artist         Наталья Коржова"
      ]
     },
     "execution_count": 69,
     "metadata": {},
     "output_type": "execute_result"
    }
   ],
   "source": [
    "cnames.sample(5)"
   ]
  },
  {
   "cell_type": "code",
   "execution_count": 57,
   "id": "8c1b76ad",
   "metadata": {},
   "outputs": [
    {
     "name": "stdout",
     "output_type": "stream",
     "text": [
      "<class 'pandas.core.frame.DataFrame'>\n",
      "RangeIndex: 1812471 entries, 0 to 1812470\n",
      "Data columns (total 3 columns):\n",
      " #   Column  Dtype \n",
      "---  ------  ----- \n",
      " 0   id      int64 \n",
      " 1   type    object\n",
      " 2   name    object\n",
      "dtypes: int64(1), object(2)\n",
      "memory usage: 41.5+ MB\n"
     ]
    }
   ],
   "source": [
    "cnames.info()"
   ]
  },
  {
   "cell_type": "code",
   "execution_count": 58,
   "id": "48145c4b",
   "metadata": {},
   "outputs": [
    {
     "name": "stdout",
     "output_type": "stream",
     "text": [
      "id      0\n",
      "type    0\n",
      "name    0\n",
      "dtype: int64\n"
     ]
    }
   ],
   "source": [
    "# пропуски значений\n",
    "print(cnames.isnull().sum().sort_values(ascending=False))"
   ]
  },
  {
   "cell_type": "code",
   "execution_count": 73,
   "id": "c9f8f17e-9b56-4f5a-a463-f694a993effb",
   "metadata": {},
   "outputs": [
    {
     "data": {
      "text/html": [
       "<div>\n",
       "<style scoped>\n",
       "    .dataframe tbody tr th:only-of-type {\n",
       "        vertical-align: middle;\n",
       "    }\n",
       "\n",
       "    .dataframe tbody tr th {\n",
       "        vertical-align: top;\n",
       "    }\n",
       "\n",
       "    .dataframe thead th {\n",
       "        text-align: right;\n",
       "    }\n",
       "</style>\n",
       "<table border=\"1\" class=\"dataframe\">\n",
       "  <thead>\n",
       "    <tr style=\"text-align: right;\">\n",
       "      <th></th>\n",
       "      <th>track_id</th>\n",
       "      <th>albums</th>\n",
       "      <th>artists</th>\n",
       "      <th>genres</th>\n",
       "    </tr>\n",
       "  </thead>\n",
       "  <tbody>\n",
       "    <tr>\n",
       "      <th>24922</th>\n",
       "      <td>157289</td>\n",
       "      <td>[15147]</td>\n",
       "      <td>[61365]</td>\n",
       "      <td>[25]</td>\n",
       "    </tr>\n",
       "    <tr>\n",
       "      <th>558258</th>\n",
       "      <td>38367711</td>\n",
       "      <td>[3738452, 7388872]</td>\n",
       "      <td>[292769]</td>\n",
       "      <td>[43, 47]</td>\n",
       "    </tr>\n",
       "    <tr>\n",
       "      <th>172417</th>\n",
       "      <td>4500266</td>\n",
       "      <td>[509203, 509204, 509205, 5901759, 13591401]</td>\n",
       "      <td>[16406, 5171062]</td>\n",
       "      <td>[70]</td>\n",
       "    </tr>\n",
       "    <tr>\n",
       "      <th>416203</th>\n",
       "      <td>28588972</td>\n",
       "      <td>[3419953]</td>\n",
       "      <td>[525095, 1971326, 4335266]</td>\n",
       "      <td>[16]</td>\n",
       "    </tr>\n",
       "    <tr>\n",
       "      <th>698234</th>\n",
       "      <td>51437177</td>\n",
       "      <td>[4410563]</td>\n",
       "      <td>[4391642]</td>\n",
       "      <td>[3, 75]</td>\n",
       "    </tr>\n",
       "  </tbody>\n",
       "</table>\n",
       "</div>"
      ],
      "text/plain": [
       "        track_id                                       albums  \\\n",
       "24922     157289                                      [15147]   \n",
       "558258  38367711                           [3738452, 7388872]   \n",
       "172417   4500266  [509203, 509204, 509205, 5901759, 13591401]   \n",
       "416203  28588972                                    [3419953]   \n",
       "698234  51437177                                    [4410563]   \n",
       "\n",
       "                           artists    genres  \n",
       "24922                      [61365]      [25]  \n",
       "558258                    [292769]  [43, 47]  \n",
       "172417            [16406, 5171062]      [70]  \n",
       "416203  [525095, 1971326, 4335266]      [16]  \n",
       "698234                   [4391642]   [3, 75]  "
      ]
     },
     "execution_count": 73,
     "metadata": {},
     "output_type": "execute_result"
    }
   ],
   "source": [
    "tracks.sample(5)"
   ]
  },
  {
   "cell_type": "code",
   "execution_count": 74,
   "id": "343593f3",
   "metadata": {},
   "outputs": [
    {
     "name": "stdout",
     "output_type": "stream",
     "text": [
      "<class 'pandas.core.frame.DataFrame'>\n",
      "RangeIndex: 1000000 entries, 0 to 999999\n",
      "Data columns (total 4 columns):\n",
      " #   Column    Non-Null Count    Dtype \n",
      "---  ------    --------------    ----- \n",
      " 0   track_id  1000000 non-null  int64 \n",
      " 1   albums    1000000 non-null  object\n",
      " 2   artists   1000000 non-null  object\n",
      " 3   genres    1000000 non-null  object\n",
      "dtypes: int64(1), object(3)\n",
      "memory usage: 30.5+ MB\n"
     ]
    }
   ],
   "source": [
    "tracks.info()"
   ]
  },
  {
   "cell_type": "code",
   "execution_count": 11,
   "id": "2631134b",
   "metadata": {},
   "outputs": [
    {
     "name": "stdout",
     "output_type": "stream",
     "text": [
      "track_id    0\n",
      "albums      0\n",
      "artists     0\n",
      "genres      0\n",
      "dtype: int64\n"
     ]
    }
   ],
   "source": [
    "print(tracks.isnull().sum().sort_values(ascending=False))"
   ]
  },
  {
   "cell_type": "code",
   "execution_count": 75,
   "id": "efd2e2eb-3bec-4ce1-87ac-232bab8bc0d0",
   "metadata": {},
   "outputs": [
    {
     "data": {
      "text/html": [
       "<div>\n",
       "<style scoped>\n",
       "    .dataframe tbody tr th:only-of-type {\n",
       "        vertical-align: middle;\n",
       "    }\n",
       "\n",
       "    .dataframe tbody tr th {\n",
       "        vertical-align: top;\n",
       "    }\n",
       "\n",
       "    .dataframe thead th {\n",
       "        text-align: right;\n",
       "    }\n",
       "</style>\n",
       "<table border=\"1\" class=\"dataframe\">\n",
       "  <thead>\n",
       "    <tr style=\"text-align: right;\">\n",
       "      <th></th>\n",
       "      <th>user_id</th>\n",
       "      <th>track_id</th>\n",
       "      <th>track_seq</th>\n",
       "      <th>started_at</th>\n",
       "    </tr>\n",
       "  </thead>\n",
       "  <tbody>\n",
       "    <tr>\n",
       "      <th>177</th>\n",
       "      <td>1074358</td>\n",
       "      <td>18866881</td>\n",
       "      <td>178</td>\n",
       "      <td>2022-11-26</td>\n",
       "    </tr>\n",
       "    <tr>\n",
       "      <th>560</th>\n",
       "      <td>719207</td>\n",
       "      <td>27646734</td>\n",
       "      <td>561</td>\n",
       "      <td>2022-11-24</td>\n",
       "    </tr>\n",
       "    <tr>\n",
       "      <th>954</th>\n",
       "      <td>1043472</td>\n",
       "      <td>79339311</td>\n",
       "      <td>955</td>\n",
       "      <td>2022-12-25</td>\n",
       "    </tr>\n",
       "    <tr>\n",
       "      <th>452</th>\n",
       "      <td>147123</td>\n",
       "      <td>42832402</td>\n",
       "      <td>453</td>\n",
       "      <td>2022-04-03</td>\n",
       "    </tr>\n",
       "    <tr>\n",
       "      <th>166</th>\n",
       "      <td>1085155</td>\n",
       "      <td>66613174</td>\n",
       "      <td>167</td>\n",
       "      <td>2022-11-07</td>\n",
       "    </tr>\n",
       "  </tbody>\n",
       "</table>\n",
       "</div>"
      ],
      "text/plain": [
       "     user_id  track_id  track_seq started_at\n",
       "177  1074358  18866881        178 2022-11-26\n",
       "560   719207  27646734        561 2022-11-24\n",
       "954  1043472  79339311        955 2022-12-25\n",
       "452   147123  42832402        453 2022-04-03\n",
       "166  1085155  66613174        167 2022-11-07"
      ]
     },
     "execution_count": 75,
     "metadata": {},
     "output_type": "execute_result"
    }
   ],
   "source": [
    "interactions.sample(5)"
   ]
  },
  {
   "cell_type": "code",
   "execution_count": 76,
   "id": "a51c3942",
   "metadata": {},
   "outputs": [
    {
     "name": "stdout",
     "output_type": "stream",
     "text": [
      "<class 'pandas.core.frame.DataFrame'>\n",
      "Index: 222629898 entries, 0 to 291\n",
      "Data columns (total 4 columns):\n",
      " #   Column      Dtype         \n",
      "---  ------      -----         \n",
      " 0   user_id     int32         \n",
      " 1   track_id    int32         \n",
      " 2   track_seq   int16         \n",
      " 3   started_at  datetime64[ns]\n",
      "dtypes: datetime64[ns](1), int16(1), int32(2)\n",
      "memory usage: 5.4 GB\n"
     ]
    }
   ],
   "source": [
    "interactions.info()"
   ]
  },
  {
   "cell_type": "code",
   "execution_count": 14,
   "id": "c376bec8",
   "metadata": {},
   "outputs": [
    {
     "name": "stdout",
     "output_type": "stream",
     "text": [
      "user_id       0\n",
      "track_id      0\n",
      "track_seq     0\n",
      "started_at    0\n",
      "dtype: int64\n"
     ]
    }
   ],
   "source": [
    "print(interactions.isnull().sum().sort_values(ascending=False))"
   ]
  },
  {
   "cell_type": "markdown",
   "id": "c9d31764",
   "metadata": {},
   "source": [
    "Сколько треков с пустым значением жанр:"
   ]
  },
  {
   "cell_type": "code",
   "execution_count": 15,
   "id": "b92aba82",
   "metadata": {},
   "outputs": [
    {
     "data": {
      "text/plain": [
       "3687"
      ]
     },
     "execution_count": 15,
     "metadata": {},
     "output_type": "execute_result"
    }
   ],
   "source": [
    "len(tracks[tracks['genres'].str.len() == 0])"
   ]
  },
  {
   "cell_type": "markdown",
   "id": "f50ba84a",
   "metadata": {},
   "source": [
    "больше 3х тысяч. Посмотрим сколько вообще есть жанров и куда отнести пропуски"
   ]
  },
  {
   "cell_type": "code",
   "execution_count": 10,
   "id": "3a873230",
   "metadata": {},
   "outputs": [
    {
     "data": {
      "text/html": [
       "<div>\n",
       "<style scoped>\n",
       "    .dataframe tbody tr th:only-of-type {\n",
       "        vertical-align: middle;\n",
       "    }\n",
       "\n",
       "    .dataframe tbody tr th {\n",
       "        vertical-align: top;\n",
       "    }\n",
       "\n",
       "    .dataframe thead th {\n",
       "        text-align: right;\n",
       "    }\n",
       "</style>\n",
       "<table border=\"1\" class=\"dataframe\">\n",
       "  <thead>\n",
       "    <tr style=\"text-align: right;\">\n",
       "      <th></th>\n",
       "      <th>index</th>\n",
       "      <th>id</th>\n",
       "      <th>type</th>\n",
       "      <th>name</th>\n",
       "    </tr>\n",
       "  </thead>\n",
       "  <tbody>\n",
       "    <tr>\n",
       "      <th>0</th>\n",
       "      <td>812305</td>\n",
       "      <td>0</td>\n",
       "      <td>genre</td>\n",
       "      <td>all</td>\n",
       "    </tr>\n",
       "    <tr>\n",
       "      <th>1</th>\n",
       "      <td>812306</td>\n",
       "      <td>1</td>\n",
       "      <td>genre</td>\n",
       "      <td>eastern</td>\n",
       "    </tr>\n",
       "    <tr>\n",
       "      <th>2</th>\n",
       "      <td>812307</td>\n",
       "      <td>2</td>\n",
       "      <td>genre</td>\n",
       "      <td>rusrock</td>\n",
       "    </tr>\n",
       "    <tr>\n",
       "      <th>3</th>\n",
       "      <td>812308</td>\n",
       "      <td>3</td>\n",
       "      <td>genre</td>\n",
       "      <td>rusrap</td>\n",
       "    </tr>\n",
       "    <tr>\n",
       "      <th>4</th>\n",
       "      <td>812309</td>\n",
       "      <td>4</td>\n",
       "      <td>genre</td>\n",
       "      <td>postrock</td>\n",
       "    </tr>\n",
       "    <tr>\n",
       "      <th>...</th>\n",
       "      <td>...</td>\n",
       "      <td>...</td>\n",
       "      <td>...</td>\n",
       "      <td>...</td>\n",
       "    </tr>\n",
       "    <tr>\n",
       "      <th>161</th>\n",
       "      <td>812466</td>\n",
       "      <td>1182</td>\n",
       "      <td>genre</td>\n",
       "      <td>balkan</td>\n",
       "    </tr>\n",
       "    <tr>\n",
       "      <th>162</th>\n",
       "      <td>812467</td>\n",
       "      <td>1197</td>\n",
       "      <td>genre</td>\n",
       "      <td>experimental</td>\n",
       "    </tr>\n",
       "    <tr>\n",
       "      <th>163</th>\n",
       "      <td>812468</td>\n",
       "      <td>1370</td>\n",
       "      <td>genre</td>\n",
       "      <td>europop</td>\n",
       "    </tr>\n",
       "    <tr>\n",
       "      <th>164</th>\n",
       "      <td>812469</td>\n",
       "      <td>1484</td>\n",
       "      <td>genre</td>\n",
       "      <td>meditation</td>\n",
       "    </tr>\n",
       "    <tr>\n",
       "      <th>165</th>\n",
       "      <td>812470</td>\n",
       "      <td>1542</td>\n",
       "      <td>genre</td>\n",
       "      <td>asiapop</td>\n",
       "    </tr>\n",
       "  </tbody>\n",
       "</table>\n",
       "<p>166 rows × 4 columns</p>\n",
       "</div>"
      ],
      "text/plain": [
       "      index    id   type          name\n",
       "0    812305     0  genre           all\n",
       "1    812306     1  genre       eastern\n",
       "2    812307     2  genre       rusrock\n",
       "3    812308     3  genre        rusrap\n",
       "4    812309     4  genre      postrock\n",
       "..      ...   ...    ...           ...\n",
       "161  812466  1182  genre        balkan\n",
       "162  812467  1197  genre  experimental\n",
       "163  812468  1370  genre       europop\n",
       "164  812469  1484  genre    meditation\n",
       "165  812470  1542  genre       asiapop\n",
       "\n",
       "[166 rows x 4 columns]"
      ]
     },
     "execution_count": 10,
     "metadata": {},
     "output_type": "execute_result"
    }
   ],
   "source": [
    "genres = cnames[cnames['type'] == 'genre'].reset_index()\n",
    "genres"
   ]
  },
  {
   "cell_type": "markdown",
   "id": "9af2ef6d",
   "metadata": {},
   "source": [
    "есть жанр \"all\" c id=0 отнесём к нему нераспределённые треки"
   ]
  },
  {
   "cell_type": "code",
   "execution_count": 39,
   "metadata": {},
   "outputs": [
    {
     "name": "stderr",
     "output_type": "stream",
     "text": [
      "/tmp/ipykernel_2389/4289129310.py:2: SettingWithCopyWarning: \n",
      "A value is trying to be set on a copy of a slice from a DataFrame\n",
      "\n",
      "See the caveats in the documentation: https://pandas.pydata.org/pandas-docs/stable/user_guide/indexing.html#returning-a-view-versus-a-copy\n",
      "  tracks['genres'].iloc[no_ganre_ids] = [[0]]\n"
     ]
    }
   ],
   "source": [
    "no_ganre_ids = tracks[tracks['genres'].str.len() == 0].index\n",
    "tracks['genres'].iloc[no_ganre_ids] = [[0]]"
   ]
  },
  {
   "cell_type": "code",
   "execution_count": 93,
   "id": "67913405",
   "metadata": {},
   "outputs": [
    {
     "data": {
      "text/plain": [
       "15369"
      ]
     },
     "execution_count": 93,
     "metadata": {},
     "output_type": "execute_result"
    }
   ],
   "source": [
    "noartists = tracks[tracks['artists'].str.len() == 0]\n",
    "len(noartists)"
   ]
  },
  {
   "cell_type": "markdown",
   "id": "bf76bf18",
   "metadata": {},
   "source": [
    "Треков без указания исполнителей больше 15 тыс."
   ]
  },
  {
   "cell_type": "code",
   "execution_count": 51,
   "id": "b256e727",
   "metadata": {},
   "outputs": [
    {
     "data": {
      "text/plain": [
       "id      153581\n",
       "type         1\n",
       "name    151196\n",
       "dtype: int64"
      ]
     },
     "execution_count": 51,
     "metadata": {},
     "output_type": "execute_result"
    }
   ],
   "source": [
    "artists = cnames[cnames['type'] == 'artist']\n",
    "artists.nunique()"
   ]
  },
  {
   "cell_type": "markdown",
   "id": "3db19f0f",
   "metadata": {},
   "source": [
    "Названия артистов имеют ~1.5% неуникальных значений. К примеру содержащие подстроку Noname:"
   ]
  },
  {
   "cell_type": "code",
   "execution_count": 48,
   "id": "2bcf2d23",
   "metadata": {},
   "outputs": [
    {
     "data": {
      "text/html": [
       "<div>\n",
       "<style scoped>\n",
       "    .dataframe tbody tr th:only-of-type {\n",
       "        vertical-align: middle;\n",
       "    }\n",
       "\n",
       "    .dataframe tbody tr th {\n",
       "        vertical-align: top;\n",
       "    }\n",
       "\n",
       "    .dataframe thead th {\n",
       "        text-align: right;\n",
       "    }\n",
       "</style>\n",
       "<table border=\"1\" class=\"dataframe\">\n",
       "  <thead>\n",
       "    <tr style=\"text-align: right;\">\n",
       "      <th></th>\n",
       "      <th>id</th>\n",
       "      <th>type</th>\n",
       "      <th>name</th>\n",
       "    </tr>\n",
       "  </thead>\n",
       "  <tbody>\n",
       "    <tr>\n",
       "      <th>687943</th>\n",
       "      <td>433042</td>\n",
       "      <td>artist</td>\n",
       "      <td>Nonamerz</td>\n",
       "    </tr>\n",
       "    <tr>\n",
       "      <th>688167</th>\n",
       "      <td>438286</td>\n",
       "      <td>artist</td>\n",
       "      <td>Noname</td>\n",
       "    </tr>\n",
       "    <tr>\n",
       "      <th>745302</th>\n",
       "      <td>3991857</td>\n",
       "      <td>artist</td>\n",
       "      <td>Noname MC</td>\n",
       "    </tr>\n",
       "    <tr>\n",
       "      <th>776037</th>\n",
       "      <td>6310571</td>\n",
       "      <td>artist</td>\n",
       "      <td>Noname</td>\n",
       "    </tr>\n",
       "  </tbody>\n",
       "</table>\n",
       "</div>"
      ],
      "text/plain": [
       "             id    type       name\n",
       "687943   433042  artist   Nonamerz\n",
       "688167   438286  artist     Noname\n",
       "745302  3991857  artist  Noname MC\n",
       "776037  6310571  artist     Noname"
      ]
     },
     "execution_count": 48,
     "metadata": {},
     "output_type": "execute_result"
    }
   ],
   "source": [
    "artists[artists['name'].str.contains('Noname')]"
   ]
  },
  {
   "cell_type": "markdown",
   "id": "02b73054",
   "metadata": {},
   "source": [
    "Треков без указания альбома всего 18:"
   ]
  },
  {
   "cell_type": "code",
   "execution_count": 62,
   "id": "0a1898fe",
   "metadata": {},
   "outputs": [
    {
     "data": {
      "text/html": [
       "<div>\n",
       "<style scoped>\n",
       "    .dataframe tbody tr th:only-of-type {\n",
       "        vertical-align: middle;\n",
       "    }\n",
       "\n",
       "    .dataframe tbody tr th {\n",
       "        vertical-align: top;\n",
       "    }\n",
       "\n",
       "    .dataframe thead th {\n",
       "        text-align: right;\n",
       "    }\n",
       "</style>\n",
       "<table border=\"1\" class=\"dataframe\">\n",
       "  <thead>\n",
       "    <tr style=\"text-align: right;\">\n",
       "      <th></th>\n",
       "      <th>track_id</th>\n",
       "      <th>albums</th>\n",
       "      <th>artists</th>\n",
       "      <th>genres</th>\n",
       "      <th>id</th>\n",
       "      <th>name</th>\n",
       "    </tr>\n",
       "  </thead>\n",
       "  <tbody>\n",
       "    <tr>\n",
       "      <th>0</th>\n",
       "      <td>20200372</td>\n",
       "      <td>[]</td>\n",
       "      <td>[]</td>\n",
       "      <td>[0]</td>\n",
       "      <td>20200372</td>\n",
       "      <td>На скотч</td>\n",
       "    </tr>\n",
       "    <tr>\n",
       "      <th>1</th>\n",
       "      <td>20200380</td>\n",
       "      <td>[]</td>\n",
       "      <td>[]</td>\n",
       "      <td>[0]</td>\n",
       "      <td>20200380</td>\n",
       "      <td>Yo Te Quiero (Я тебя люблю)</td>\n",
       "    </tr>\n",
       "    <tr>\n",
       "      <th>2</th>\n",
       "      <td>20305116</td>\n",
       "      <td>[]</td>\n",
       "      <td>[]</td>\n",
       "      <td>[0]</td>\n",
       "      <td>20305116</td>\n",
       "      <td>Мой путь</td>\n",
       "    </tr>\n",
       "    <tr>\n",
       "      <th>3</th>\n",
       "      <td>20305121</td>\n",
       "      <td>[]</td>\n",
       "      <td>[]</td>\n",
       "      <td>[0]</td>\n",
       "      <td>20305121</td>\n",
       "      <td>Вечность</td>\n",
       "    </tr>\n",
       "    <tr>\n",
       "      <th>4</th>\n",
       "      <td>20756854</td>\n",
       "      <td>[]</td>\n",
       "      <td>[]</td>\n",
       "      <td>[0]</td>\n",
       "      <td>20756854</td>\n",
       "      <td>Виновата</td>\n",
       "    </tr>\n",
       "    <tr>\n",
       "      <th>5</th>\n",
       "      <td>21196099</td>\n",
       "      <td>[]</td>\n",
       "      <td>[]</td>\n",
       "      <td>[0]</td>\n",
       "      <td>21196099</td>\n",
       "      <td>Are You with Me</td>\n",
       "    </tr>\n",
       "    <tr>\n",
       "      <th>6</th>\n",
       "      <td>21196103</td>\n",
       "      <td>[]</td>\n",
       "      <td>[]</td>\n",
       "      <td>[0]</td>\n",
       "      <td>21196103</td>\n",
       "      <td>Historia de Amor</td>\n",
       "    </tr>\n",
       "    <tr>\n",
       "      <th>7</th>\n",
       "      <td>21196105</td>\n",
       "      <td>[]</td>\n",
       "      <td>[]</td>\n",
       "      <td>[0]</td>\n",
       "      <td>21196105</td>\n",
       "      <td>Stronger Than Ever</td>\n",
       "    </tr>\n",
       "    <tr>\n",
       "      <th>8</th>\n",
       "      <td>21196107</td>\n",
       "      <td>[]</td>\n",
       "      <td>[]</td>\n",
       "      <td>[0]</td>\n",
       "      <td>21196107</td>\n",
       "      <td>Here We Go</td>\n",
       "    </tr>\n",
       "    <tr>\n",
       "      <th>9</th>\n",
       "      <td>21196109</td>\n",
       "      <td>[]</td>\n",
       "      <td>[]</td>\n",
       "      <td>[0]</td>\n",
       "      <td>21196109</td>\n",
       "      <td>Long Story Short</td>\n",
       "    </tr>\n",
       "    <tr>\n",
       "      <th>10</th>\n",
       "      <td>21196111</td>\n",
       "      <td>[]</td>\n",
       "      <td>[]</td>\n",
       "      <td>[0]</td>\n",
       "      <td>21196111</td>\n",
       "      <td>Otherside</td>\n",
       "    </tr>\n",
       "    <tr>\n",
       "      <th>11</th>\n",
       "      <td>21196116</td>\n",
       "      <td>[]</td>\n",
       "      <td>[]</td>\n",
       "      <td>[0]</td>\n",
       "      <td>21196116</td>\n",
       "      <td>Just Friends</td>\n",
       "    </tr>\n",
       "    <tr>\n",
       "      <th>12</th>\n",
       "      <td>21196117</td>\n",
       "      <td>[]</td>\n",
       "      <td>[]</td>\n",
       "      <td>[0]</td>\n",
       "      <td>21196117</td>\n",
       "      <td>Lost</td>\n",
       "    </tr>\n",
       "    <tr>\n",
       "      <th>13</th>\n",
       "      <td>21196118</td>\n",
       "      <td>[]</td>\n",
       "      <td>[]</td>\n",
       "      <td>[0]</td>\n",
       "      <td>21196118</td>\n",
       "      <td>Promesses</td>\n",
       "    </tr>\n",
       "    <tr>\n",
       "      <th>14</th>\n",
       "      <td>28530632</td>\n",
       "      <td>[]</td>\n",
       "      <td>[]</td>\n",
       "      <td>[0]</td>\n",
       "      <td>28530632</td>\n",
       "      <td>Рухты ару</td>\n",
       "    </tr>\n",
       "    <tr>\n",
       "      <th>15</th>\n",
       "      <td>34828749</td>\n",
       "      <td>[]</td>\n",
       "      <td>[]</td>\n",
       "      <td>[0]</td>\n",
       "      <td>34828749</td>\n",
       "      <td>Алтыным</td>\n",
       "    </tr>\n",
       "    <tr>\n",
       "      <th>16</th>\n",
       "      <td>36598340</td>\n",
       "      <td>[]</td>\n",
       "      <td>[]</td>\n",
       "      <td>[0]</td>\n",
       "      <td>36598340</td>\n",
       "      <td>Ғашықтар Сыры</td>\n",
       "    </tr>\n",
       "    <tr>\n",
       "      <th>17</th>\n",
       "      <td>51641225</td>\n",
       "      <td>[]</td>\n",
       "      <td>[]</td>\n",
       "      <td>[0]</td>\n",
       "      <td>51641225</td>\n",
       "      <td>Классно</td>\n",
       "    </tr>\n",
       "  </tbody>\n",
       "</table>\n",
       "</div>"
      ],
      "text/plain": [
       "    track_id albums artists genres        id                         name\n",
       "0   20200372     []      []    [0]  20200372                     На скотч\n",
       "1   20200380     []      []    [0]  20200380  Yo Te Quiero (Я тебя люблю)\n",
       "2   20305116     []      []    [0]  20305116                     Мой путь\n",
       "3   20305121     []      []    [0]  20305121                     Вечность\n",
       "4   20756854     []      []    [0]  20756854                     Виновата\n",
       "5   21196099     []      []    [0]  21196099              Are You with Me\n",
       "6   21196103     []      []    [0]  21196103             Historia de Amor\n",
       "7   21196105     []      []    [0]  21196105           Stronger Than Ever\n",
       "8   21196107     []      []    [0]  21196107                   Here We Go\n",
       "9   21196109     []      []    [0]  21196109             Long Story Short\n",
       "10  21196111     []      []    [0]  21196111                    Otherside\n",
       "11  21196116     []      []    [0]  21196116                 Just Friends\n",
       "12  21196117     []      []    [0]  21196117                         Lost\n",
       "13  21196118     []      []    [0]  21196118                    Promesses\n",
       "14  28530632     []      []    [0]  28530632                    Рухты ару\n",
       "15  34828749     []      []    [0]  34828749                      Алтыным\n",
       "16  36598340     []      []    [0]  36598340                Ғашықтар Сыры\n",
       "17  51641225     []      []    [0]  51641225                      Классно"
      ]
     },
     "execution_count": 62,
     "metadata": {},
     "output_type": "execute_result"
    }
   ],
   "source": [
    "noalbum = tracks[tracks['albums'].str.len() == 0].merge(cnames[['id','name']],left_on='track_id', right_on='id')\n",
    "noalbum"
   ]
  },
  {
   "cell_type": "code",
   "execution_count": 94,
   "id": "c4760646",
   "metadata": {},
   "outputs": [
    {
     "data": {
      "text/html": [
       "<div>\n",
       "<style scoped>\n",
       "    .dataframe tbody tr th:only-of-type {\n",
       "        vertical-align: middle;\n",
       "    }\n",
       "\n",
       "    .dataframe tbody tr th {\n",
       "        vertical-align: top;\n",
       "    }\n",
       "\n",
       "    .dataframe thead th {\n",
       "        text-align: right;\n",
       "    }\n",
       "</style>\n",
       "<table border=\"1\" class=\"dataframe\">\n",
       "  <thead>\n",
       "    <tr style=\"text-align: right;\">\n",
       "      <th></th>\n",
       "      <th>track_id</th>\n",
       "      <th>albums</th>\n",
       "      <th>artists</th>\n",
       "      <th>genres</th>\n",
       "      <th>id</th>\n",
       "      <th>name</th>\n",
       "    </tr>\n",
       "  </thead>\n",
       "  <tbody>\n",
       "    <tr>\n",
       "      <th>0</th>\n",
       "      <td>3599314</td>\n",
       "      <td>[389925]</td>\n",
       "      <td>[]</td>\n",
       "      <td>[68, 86]</td>\n",
       "      <td>3599314</td>\n",
       "      <td>Sparkles(Magikal Remake)</td>\n",
       "    </tr>\n",
       "    <tr>\n",
       "      <th>1</th>\n",
       "      <td>3599591</td>\n",
       "      <td>[389944]</td>\n",
       "      <td>[]</td>\n",
       "      <td>[68, 86]</td>\n",
       "      <td>3599591</td>\n",
       "      <td>Cry For Love</td>\n",
       "    </tr>\n",
       "    <tr>\n",
       "      <th>2</th>\n",
       "      <td>4790215</td>\n",
       "      <td>[533785]</td>\n",
       "      <td>[]</td>\n",
       "      <td>[68, 86]</td>\n",
       "      <td>4790215</td>\n",
       "      <td>Try To Be Love</td>\n",
       "    </tr>\n",
       "    <tr>\n",
       "      <th>3</th>\n",
       "      <td>10063296</td>\n",
       "      <td>[1083742]</td>\n",
       "      <td>[]</td>\n",
       "      <td>[11, 20]</td>\n",
       "      <td>10063296</td>\n",
       "      <td>Теплое Солнце</td>\n",
       "    </tr>\n",
       "    <tr>\n",
       "      <th>4</th>\n",
       "      <td>12122918</td>\n",
       "      <td>[1315834]</td>\n",
       "      <td>[]</td>\n",
       "      <td>[68]</td>\n",
       "      <td>12122918</td>\n",
       "      <td>17 &amp; 4</td>\n",
       "    </tr>\n",
       "    <tr>\n",
       "      <th>...</th>\n",
       "      <td>...</td>\n",
       "      <td>...</td>\n",
       "      <td>...</td>\n",
       "      <td>...</td>\n",
       "      <td>...</td>\n",
       "      <td>...</td>\n",
       "    </tr>\n",
       "    <tr>\n",
       "      <th>15364</th>\n",
       "      <td>101201589</td>\n",
       "      <td>[12649219]</td>\n",
       "      <td>[]</td>\n",
       "      <td>[62, 77]</td>\n",
       "      <td>101201589</td>\n",
       "      <td>Троя | История на ночь #40</td>\n",
       "    </tr>\n",
       "    <tr>\n",
       "      <th>15365</th>\n",
       "      <td>101219571</td>\n",
       "      <td>[9444321]</td>\n",
       "      <td>[]</td>\n",
       "      <td>[62, 83, 77]</td>\n",
       "      <td>101219571</td>\n",
       "      <td>Главное — не победа!</td>\n",
       "    </tr>\n",
       "    <tr>\n",
       "      <th>15366</th>\n",
       "      <td>101243616</td>\n",
       "      <td>[11700332]</td>\n",
       "      <td>[]</td>\n",
       "      <td>[62, 93]</td>\n",
       "      <td>101243616</td>\n",
       "      <td>Кинокраши. В каких актеров и актрис мы были вл...</td>\n",
       "    </tr>\n",
       "    <tr>\n",
       "      <th>15367</th>\n",
       "      <td>101292599</td>\n",
       "      <td>[9331881]</td>\n",
       "      <td>[]</td>\n",
       "      <td>[62, 90, 77, 84]</td>\n",
       "      <td>101292599</td>\n",
       "      <td>«Все у женщины в психике настроено для любви, ...</td>\n",
       "    </tr>\n",
       "    <tr>\n",
       "      <th>15368</th>\n",
       "      <td>101362545</td>\n",
       "      <td>[10330389]</td>\n",
       "      <td>[]</td>\n",
       "      <td>[62, 88, 77, 85]</td>\n",
       "      <td>101362545</td>\n",
       "      <td>45. Т-киллеры против рака</td>\n",
       "    </tr>\n",
       "  </tbody>\n",
       "</table>\n",
       "<p>15369 rows × 6 columns</p>\n",
       "</div>"
      ],
      "text/plain": [
       "        track_id      albums artists            genres         id  \\\n",
       "0        3599314    [389925]      []          [68, 86]    3599314   \n",
       "1        3599591    [389944]      []          [68, 86]    3599591   \n",
       "2        4790215    [533785]      []          [68, 86]    4790215   \n",
       "3       10063296   [1083742]      []          [11, 20]   10063296   \n",
       "4       12122918   [1315834]      []              [68]   12122918   \n",
       "...          ...         ...     ...               ...        ...   \n",
       "15364  101201589  [12649219]      []          [62, 77]  101201589   \n",
       "15365  101219571   [9444321]      []      [62, 83, 77]  101219571   \n",
       "15366  101243616  [11700332]      []          [62, 93]  101243616   \n",
       "15367  101292599   [9331881]      []  [62, 90, 77, 84]  101292599   \n",
       "15368  101362545  [10330389]      []  [62, 88, 77, 85]  101362545   \n",
       "\n",
       "                                                    name  \n",
       "0                               Sparkles(Magikal Remake)  \n",
       "1                                           Cry For Love  \n",
       "2                                         Try To Be Love  \n",
       "3                                          Теплое Солнце  \n",
       "4                                                 17 & 4  \n",
       "...                                                  ...  \n",
       "15364                         Троя | История на ночь #40  \n",
       "15365                               Главное — не победа!  \n",
       "15366  Кинокраши. В каких актеров и актрис мы были вл...  \n",
       "15367  «Все у женщины в психике настроено для любви, ...  \n",
       "15368                          45. Т-киллеры против рака  \n",
       "\n",
       "[15369 rows x 6 columns]"
      ]
     },
     "execution_count": 94,
     "metadata": {},
     "output_type": "execute_result"
    }
   ],
   "source": [
    "#посмотрим на треки \"без исполнителей\"\n",
    "noartists.merge(cnames[['id','name']],left_on='track_id', right_on='id')"
   ]
  },
  {
   "cell_type": "markdown",
   "id": "a9d10f97",
   "metadata": {},
   "source": [
    "Выясним как часто пользователи взаимодействуют с треками для которых не указан исполнитель:"
   ]
  },
  {
   "cell_type": "code",
   "execution_count": 88,
   "id": "118213d0",
   "metadata": {},
   "outputs": [],
   "source": [
    "noartist_track_interactions = interactions[interactions['track_id'].isin(noartists['track_id'])]"
   ]
  },
  {
   "cell_type": "code",
   "execution_count": 90,
   "id": "9168785f",
   "metadata": {},
   "outputs": [
    {
     "data": {
      "text/html": [
       "<div>\n",
       "<style scoped>\n",
       "    .dataframe tbody tr th:only-of-type {\n",
       "        vertical-align: middle;\n",
       "    }\n",
       "\n",
       "    .dataframe tbody tr th {\n",
       "        vertical-align: top;\n",
       "    }\n",
       "\n",
       "    .dataframe thead th {\n",
       "        text-align: right;\n",
       "    }\n",
       "</style>\n",
       "<table border=\"1\" class=\"dataframe\">\n",
       "  <thead>\n",
       "    <tr style=\"text-align: right;\">\n",
       "      <th></th>\n",
       "      <th>track_id</th>\n",
       "      <th>popularity</th>\n",
       "      <th>position</th>\n",
       "    </tr>\n",
       "  </thead>\n",
       "  <tbody>\n",
       "    <tr>\n",
       "      <th>9638</th>\n",
       "      <td>69649273</td>\n",
       "      <td>552</td>\n",
       "      <td>449.646739</td>\n",
       "    </tr>\n",
       "    <tr>\n",
       "      <th>5224</th>\n",
       "      <td>59020206</td>\n",
       "      <td>528</td>\n",
       "      <td>314.464015</td>\n",
       "    </tr>\n",
       "    <tr>\n",
       "      <th>9768</th>\n",
       "      <td>69988431</td>\n",
       "      <td>491</td>\n",
       "      <td>472.775967</td>\n",
       "    </tr>\n",
       "    <tr>\n",
       "      <th>12611</th>\n",
       "      <td>78795354</td>\n",
       "      <td>485</td>\n",
       "      <td>484.748454</td>\n",
       "    </tr>\n",
       "    <tr>\n",
       "      <th>4199</th>\n",
       "      <td>55952230</td>\n",
       "      <td>420</td>\n",
       "      <td>515.435714</td>\n",
       "    </tr>\n",
       "    <tr>\n",
       "      <th>...</th>\n",
       "      <td>...</td>\n",
       "      <td>...</td>\n",
       "      <td>...</td>\n",
       "    </tr>\n",
       "    <tr>\n",
       "      <th>15359</th>\n",
       "      <td>100850172</td>\n",
       "      <td>5</td>\n",
       "      <td>962.600000</td>\n",
       "    </tr>\n",
       "    <tr>\n",
       "      <th>15361</th>\n",
       "      <td>100929797</td>\n",
       "      <td>5</td>\n",
       "      <td>1044.200000</td>\n",
       "    </tr>\n",
       "    <tr>\n",
       "      <th>15362</th>\n",
       "      <td>100949775</td>\n",
       "      <td>5</td>\n",
       "      <td>139.400000</td>\n",
       "    </tr>\n",
       "    <tr>\n",
       "      <th>15363</th>\n",
       "      <td>101086739</td>\n",
       "      <td>5</td>\n",
       "      <td>814.600000</td>\n",
       "    </tr>\n",
       "    <tr>\n",
       "      <th>15364</th>\n",
       "      <td>101201589</td>\n",
       "      <td>5</td>\n",
       "      <td>1110.800000</td>\n",
       "    </tr>\n",
       "  </tbody>\n",
       "</table>\n",
       "<p>15369 rows × 3 columns</p>\n",
       "</div>"
      ],
      "text/plain": [
       "        track_id  popularity     position\n",
       "9638    69649273         552   449.646739\n",
       "5224    59020206         528   314.464015\n",
       "9768    69988431         491   472.775967\n",
       "12611   78795354         485   484.748454\n",
       "4199    55952230         420   515.435714\n",
       "...          ...         ...          ...\n",
       "15359  100850172           5   962.600000\n",
       "15361  100929797           5  1044.200000\n",
       "15362  100949775           5   139.400000\n",
       "15363  101086739           5   814.600000\n",
       "15364  101201589           5  1110.800000\n",
       "\n",
       "[15369 rows x 3 columns]"
      ]
     },
     "execution_count": 90,
     "metadata": {},
     "output_type": "execute_result"
    }
   ],
   "source": [
    "noartist_track_interactions.groupby('track_id').agg(popularity=('user_id','count'),position=('track_seq','mean')).reset_index().sort_values(by='popularity',ascending=False)"
   ]
  },
  {
   "cell_type": "code",
   "execution_count": 92,
   "id": "bb170b0c",
   "metadata": {},
   "outputs": [
    {
     "data": {
      "text/plain": [
       "count    2.226299e+08\n",
       "mean     4.621403e+02\n",
       "std      8.257312e+02\n",
       "min      1.000000e+00\n",
       "25%      5.600000e+01\n",
       "50%      1.810000e+02\n",
       "75%      5.060000e+02\n",
       "max      1.663700e+04\n",
       "Name: track_seq, dtype: float64"
      ]
     },
     "execution_count": 92,
     "metadata": {},
     "output_type": "execute_result"
    }
   ],
   "source": [
    "interactions[['track_seq']].describe()"
   ]
  },
  {
   "cell_type": "markdown",
   "id": "dd3165bd",
   "metadata": {},
   "source": [
    "Относительно средних значений позиций трека в плейлисте, треки без указания исполнителей достаточно популярны. Привязывать их к существующим записям Noname не логично. На работе алгоритмов колоборативной фильтрации отсутствие этой информации никак не скажется."
   ]
  },
  {
   "cell_type": "markdown",
   "id": "318b573a-9e2d-4808-95db-60cfb8bbdb73",
   "metadata": {
    "editable": true,
    "slideshow": {
     "slide_type": ""
    },
    "tags": []
   },
   "source": [
    "# Выводы"
   ]
  },
  {
   "cell_type": "markdown",
   "id": "caa96e12-36a8-4401-8f11-98627a49ae9d",
   "metadata": {},
   "source": [
    "Приведём выводы по первому знакомству с данными:\n",
    "- есть ли с данными явные проблемы,\n",
    "- какие корректирующие действия (в целом) были предприняты."
   ]
  },
  {
   "cell_type": "markdown",
   "id": "0b06bd93",
   "metadata": {},
   "source": [
    "- Данные имеют типы соответстующие хранимым данным. \n",
    "- Индексы для связей таблиц имеют числовые типы, перекодировка не требуется.\n",
    "- нет информации о том понравился ли трек пользователю. Отметка `количество прослушиваний`, `прослушал до конца`, `добавил в избранное` или `прослушал менее половины трека` - эту информацию можно было бы учитывать при формировании рекомендаций, но её к сожалению нет.\n",
    "- данные о позиции трека в истории прослушивания сложно интерпритировать как рейтинг, т.к. если пользователь активно слушает музыку в сервисе, то популярные треки так или иначе сползают в истории из-за общего количества прослушанных треков."
   ]
  },
  {
   "cell_type": "markdown",
   "id": "7bc3296b-eba6-4333-a78d-b9304aa87e3d",
   "metadata": {},
   "source": [
    "# === ЭТАП 2 ==="
   ]
  },
  {
   "cell_type": "markdown",
   "id": "68e73960-fd38-4e15-8db0-9a25c35dfd25",
   "metadata": {},
   "source": [
    "# EDA"
   ]
  },
  {
   "cell_type": "markdown",
   "id": "a30e823e-8e0f-4a76-a02e-8d1ba8bf0f8a",
   "metadata": {},
   "source": [
    "Распределение количества прослушанных треков."
   ]
  },
  {
   "cell_type": "code",
   "execution_count": 5,
   "id": "0fd7e377",
   "metadata": {},
   "outputs": [
    {
     "data": {
      "text/html": [
       "<div>\n",
       "<style scoped>\n",
       "    .dataframe tbody tr th:only-of-type {\n",
       "        vertical-align: middle;\n",
       "    }\n",
       "\n",
       "    .dataframe tbody tr th {\n",
       "        vertical-align: top;\n",
       "    }\n",
       "\n",
       "    .dataframe thead th {\n",
       "        text-align: right;\n",
       "    }\n",
       "</style>\n",
       "<table border=\"1\" class=\"dataframe\">\n",
       "  <thead>\n",
       "    <tr style=\"text-align: right;\">\n",
       "      <th></th>\n",
       "      <th>started_at_month</th>\n",
       "      <th>events</th>\n",
       "      <th>users</th>\n",
       "    </tr>\n",
       "  </thead>\n",
       "  <tbody>\n",
       "    <tr>\n",
       "      <th>0</th>\n",
       "      <td>2022-01-01</td>\n",
       "      <td>2409541</td>\n",
       "      <td>126224</td>\n",
       "    </tr>\n",
       "    <tr>\n",
       "      <th>1</th>\n",
       "      <td>2022-02-01</td>\n",
       "      <td>4533363</td>\n",
       "      <td>227852</td>\n",
       "    </tr>\n",
       "    <tr>\n",
       "      <th>2</th>\n",
       "      <td>2022-03-01</td>\n",
       "      <td>7691225</td>\n",
       "      <td>344333</td>\n",
       "    </tr>\n",
       "    <tr>\n",
       "      <th>3</th>\n",
       "      <td>2022-04-01</td>\n",
       "      <td>10230295</td>\n",
       "      <td>454378</td>\n",
       "    </tr>\n",
       "    <tr>\n",
       "      <th>4</th>\n",
       "      <td>2022-05-01</td>\n",
       "      <td>13613489</td>\n",
       "      <td>569813</td>\n",
       "    </tr>\n",
       "    <tr>\n",
       "      <th>5</th>\n",
       "      <td>2022-06-01</td>\n",
       "      <td>16266558</td>\n",
       "      <td>676467</td>\n",
       "    </tr>\n",
       "    <tr>\n",
       "      <th>6</th>\n",
       "      <td>2022-07-01</td>\n",
       "      <td>20188819</td>\n",
       "      <td>788369</td>\n",
       "    </tr>\n",
       "    <tr>\n",
       "      <th>7</th>\n",
       "      <td>2022-08-01</td>\n",
       "      <td>23919641</td>\n",
       "      <td>892539</td>\n",
       "    </tr>\n",
       "    <tr>\n",
       "      <th>8</th>\n",
       "      <td>2022-09-01</td>\n",
       "      <td>26953965</td>\n",
       "      <td>979781</td>\n",
       "    </tr>\n",
       "    <tr>\n",
       "      <th>9</th>\n",
       "      <td>2022-10-01</td>\n",
       "      <td>31810464</td>\n",
       "      <td>1056636</td>\n",
       "    </tr>\n",
       "    <tr>\n",
       "      <th>10</th>\n",
       "      <td>2022-11-01</td>\n",
       "      <td>33968803</td>\n",
       "      <td>1081320</td>\n",
       "    </tr>\n",
       "    <tr>\n",
       "      <th>11</th>\n",
       "      <td>2022-12-01</td>\n",
       "      <td>31043735</td>\n",
       "      <td>995485</td>\n",
       "    </tr>\n",
       "  </tbody>\n",
       "</table>\n",
       "</div>"
      ],
      "text/plain": [
       "   started_at_month    events    users\n",
       "0        2022-01-01   2409541   126224\n",
       "1        2022-02-01   4533363   227852\n",
       "2        2022-03-01   7691225   344333\n",
       "3        2022-04-01  10230295   454378\n",
       "4        2022-05-01  13613489   569813\n",
       "5        2022-06-01  16266558   676467\n",
       "6        2022-07-01  20188819   788369\n",
       "7        2022-08-01  23919641   892539\n",
       "8        2022-09-01  26953965   979781\n",
       "9        2022-10-01  31810464  1056636\n",
       "10       2022-11-01  33968803  1081320\n",
       "11       2022-12-01  31043735   995485"
      ]
     },
     "execution_count": 5,
     "metadata": {},
     "output_type": "execute_result"
    }
   ],
   "source": [
    "interactions[\"started_at_month\"] = pd.to_datetime(interactions[\"started_at\"]).dt.to_period('M').dt.to_timestamp().dt.date\n",
    "interactions_by_month = interactions.groupby(\"started_at_month\").agg(events=(\"started_at\", \"count\"), users=(\"user_id\", \"nunique\")).reset_index()\n",
    "interactions_by_month"
   ]
  },
  {
   "cell_type": "code",
   "execution_count": 6,
   "id": "9bf5eaba-35f7-4da7-be59-9ab4a34b2423",
   "metadata": {},
   "outputs": [
    {
     "data": {
      "image/png": "[encoded data removed]",
      "text/plain": [
       "<Figure size 1200x600 with 2 Axes>"
      ]
     },
     "metadata": {
      "image/png": {
       "height": 589,
       "width": 1190
      }
     },
     "output_type": "display_data"
    }
   ],
   "source": [
    "# распределение взаимодействий по месяцам\n",
    "\n",
    "fig, axs = plt.subplots(2, 1, figsize=(12, 6))\n",
    "\n",
    "ax = axs[0]\n",
    "ax.plot(interactions_by_month[\"started_at_month\"], interactions_by_month[\"events\"])\n",
    "# ax.tick_params(axis='x', labelsize=8)\n",
    "ax.set_title(\"#events by months\")\n",
    "\n",
    "ax = axs[1]\n",
    "ax.plot(interactions_by_month[\"started_at_month\"], interactions_by_month[\"users\"])\n",
    "# ax.tick_params(axis='x', labelsize=8)\n",
    "ax.set_title(\"#users by months\")\n",
    "\n",
    "fig.tight_layout()"
   ]
  },
  {
   "cell_type": "markdown",
   "id": "d765519a-18dd-4d30-9e29-cc2d84cacd79",
   "metadata": {},
   "source": [
    "Наиболее популярные треки"
   ]
  },
  {
   "cell_type": "code",
   "execution_count": 4,
   "id": "aecaf630-fde0-4860-b84a-42c933a9606e",
   "metadata": {},
   "outputs": [
    {
     "data": {
      "text/html": [
       "<div>\n",
       "<style scoped>\n",
       "    .dataframe tbody tr th:only-of-type {\n",
       "        vertical-align: middle;\n",
       "    }\n",
       "\n",
       "    .dataframe tbody tr th {\n",
       "        vertical-align: top;\n",
       "    }\n",
       "\n",
       "    .dataframe thead th {\n",
       "        text-align: right;\n",
       "    }\n",
       "</style>\n",
       "<table border=\"1\" class=\"dataframe\">\n",
       "  <thead>\n",
       "    <tr style=\"text-align: right;\">\n",
       "      <th></th>\n",
       "      <th>track_id</th>\n",
       "      <th>popularity</th>\n",
       "      <th>position</th>\n",
       "    </tr>\n",
       "  </thead>\n",
       "  <tbody>\n",
       "    <tr>\n",
       "      <th>9098</th>\n",
       "      <td>53404</td>\n",
       "      <td>111062</td>\n",
       "      <td>17.265590</td>\n",
       "    </tr>\n",
       "    <tr>\n",
       "      <th>483876</th>\n",
       "      <td>33311009</td>\n",
       "      <td>106921</td>\n",
       "      <td>218.685254</td>\n",
       "    </tr>\n",
       "    <tr>\n",
       "      <th>26665</th>\n",
       "      <td>178529</td>\n",
       "      <td>101924</td>\n",
       "      <td>37.842608</td>\n",
       "    </tr>\n",
       "    <tr>\n",
       "      <th>512157</th>\n",
       "      <td>35505245</td>\n",
       "      <td>99490</td>\n",
       "      <td>152.547653</td>\n",
       "    </tr>\n",
       "    <tr>\n",
       "      <th>829320</th>\n",
       "      <td>65851540</td>\n",
       "      <td>86670</td>\n",
       "      <td>280.660102</td>\n",
       "    </tr>\n",
       "    <tr>\n",
       "      <th>368072</th>\n",
       "      <td>24692821</td>\n",
       "      <td>86246</td>\n",
       "      <td>182.571145</td>\n",
       "    </tr>\n",
       "    <tr>\n",
       "      <th>475289</th>\n",
       "      <td>32947997</td>\n",
       "      <td>85886</td>\n",
       "      <td>199.641210</td>\n",
       "    </tr>\n",
       "    <tr>\n",
       "      <th>696106</th>\n",
       "      <td>51241318</td>\n",
       "      <td>85244</td>\n",
       "      <td>301.481676</td>\n",
       "    </tr>\n",
       "    <tr>\n",
       "      <th>90461</th>\n",
       "      <td>795836</td>\n",
       "      <td>85042</td>\n",
       "      <td>91.821265</td>\n",
       "    </tr>\n",
       "    <tr>\n",
       "      <th>647237</th>\n",
       "      <td>45499814</td>\n",
       "      <td>84748</td>\n",
       "      <td>221.481262</td>\n",
       "    </tr>\n",
       "  </tbody>\n",
       "</table>\n",
       "</div>"
      ],
      "text/plain": [
       "        track_id  popularity    position\n",
       "9098       53404      111062   17.265590\n",
       "483876  33311009      106921  218.685254\n",
       "26665     178529      101924   37.842608\n",
       "512157  35505245       99490  152.547653\n",
       "829320  65851540       86670  280.660102\n",
       "368072  24692821       86246  182.571145\n",
       "475289  32947997       85886  199.641210\n",
       "696106  51241318       85244  301.481676\n",
       "90461     795836       85042   91.821265\n",
       "647237  45499814       84748  221.481262"
      ]
     },
     "execution_count": 4,
     "metadata": {},
     "output_type": "execute_result"
    }
   ],
   "source": [
    "top_tracks = interactions.groupby('track_id').agg(popularity=('user_id','count'),position=('track_seq','mean')).reset_index().sort_values(by='popularity',ascending=False)\n",
    "top_tracks.head(10)"
   ]
  },
  {
   "cell_type": "markdown",
   "id": "21d26607",
   "metadata": {},
   "source": [
    "В первой десятке популярных треков средняя позиция в истории от 17ой до 301ой , сфоримировать веса популярности сложно, вернёмся к этой задаче, если популярность трека основанная только на количестве прослушиваний покажет себя несостоятельной."
   ]
  },
  {
   "cell_type": "code",
   "execution_count": 5,
   "id": "f7496c1e",
   "metadata": {},
   "outputs": [],
   "source": [
    "track_names = cnames[cnames['type'] == 'track']"
   ]
  },
  {
   "cell_type": "code",
   "execution_count": 6,
   "id": "d7a5a0f6",
   "metadata": {},
   "outputs": [
    {
     "data": {
      "text/html": [
       "<div>\n",
       "<style scoped>\n",
       "    .dataframe tbody tr th:only-of-type {\n",
       "        vertical-align: middle;\n",
       "    }\n",
       "\n",
       "    .dataframe tbody tr th {\n",
       "        vertical-align: top;\n",
       "    }\n",
       "\n",
       "    .dataframe thead th {\n",
       "        text-align: right;\n",
       "    }\n",
       "</style>\n",
       "<table border=\"1\" class=\"dataframe\">\n",
       "  <thead>\n",
       "    <tr style=\"text-align: right;\">\n",
       "      <th></th>\n",
       "      <th>track_id</th>\n",
       "      <th>popularity</th>\n",
       "      <th>position</th>\n",
       "      <th>id</th>\n",
       "      <th>type</th>\n",
       "      <th>name</th>\n",
       "      <th>artists</th>\n",
       "      <th>genres</th>\n",
       "      <th>albums</th>\n",
       "    </tr>\n",
       "  </thead>\n",
       "  <tbody>\n",
       "    <tr>\n",
       "      <th>0</th>\n",
       "      <td>53404</td>\n",
       "      <td>111062</td>\n",
       "      <td>17.265590</td>\n",
       "      <td>53404</td>\n",
       "      <td>track</td>\n",
       "      <td>Smells Like Teen Spirit</td>\n",
       "      <td>[9262]</td>\n",
       "      <td>[13, 14, 102]</td>\n",
       "      <td>[4367, 89708, 294911, 294912, 294914, 297393, ...</td>\n",
       "    </tr>\n",
       "    <tr>\n",
       "      <th>1</th>\n",
       "      <td>33311009</td>\n",
       "      <td>106921</td>\n",
       "      <td>218.685254</td>\n",
       "      <td>33311009</td>\n",
       "      <td>track</td>\n",
       "      <td>Believer</td>\n",
       "      <td>[675068]</td>\n",
       "      <td>[14, 102]</td>\n",
       "      <td>[4440454, 4456609, 4482682, 4882996, 5072976, ...</td>\n",
       "    </tr>\n",
       "    <tr>\n",
       "      <th>2</th>\n",
       "      <td>178529</td>\n",
       "      <td>101924</td>\n",
       "      <td>37.842608</td>\n",
       "      <td>178529</td>\n",
       "      <td>track</td>\n",
       "      <td>Numb</td>\n",
       "      <td>[36800]</td>\n",
       "      <td>[41, 47]</td>\n",
       "      <td>[18113, 21924, 21940, 488052, 10009799]</td>\n",
       "    </tr>\n",
       "    <tr>\n",
       "      <th>3</th>\n",
       "      <td>35505245</td>\n",
       "      <td>99490</td>\n",
       "      <td>152.547653</td>\n",
       "      <td>35505245</td>\n",
       "      <td>track</td>\n",
       "      <td>I Got Love</td>\n",
       "      <td>[4611844, 588511]</td>\n",
       "      <td>[3, 75]</td>\n",
       "      <td>[4431303, 20559909]</td>\n",
       "    </tr>\n",
       "    <tr>\n",
       "      <th>4</th>\n",
       "      <td>65851540</td>\n",
       "      <td>86670</td>\n",
       "      <td>280.660102</td>\n",
       "      <td>65851540</td>\n",
       "      <td>track</td>\n",
       "      <td>Юность</td>\n",
       "      <td>[1554548]</td>\n",
       "      <td>[11, 20]</td>\n",
       "      <td>[10692414]</td>\n",
       "    </tr>\n",
       "    <tr>\n",
       "      <th>...</th>\n",
       "      <td>...</td>\n",
       "      <td>...</td>\n",
       "      <td>...</td>\n",
       "      <td>...</td>\n",
       "      <td>...</td>\n",
       "      <td>...</td>\n",
       "      <td>...</td>\n",
       "      <td>...</td>\n",
       "      <td>...</td>\n",
       "    </tr>\n",
       "    <tr>\n",
       "      <th>999995</th>\n",
       "      <td>84391078</td>\n",
       "      <td>5</td>\n",
       "      <td>935.000000</td>\n",
       "      <td>84391078</td>\n",
       "      <td>track</td>\n",
       "      <td>Intro к Mamma Maria</td>\n",
       "      <td>[]</td>\n",
       "      <td>[62]</td>\n",
       "      <td>[15988902]</td>\n",
       "    </tr>\n",
       "    <tr>\n",
       "      <th>999996</th>\n",
       "      <td>84391079</td>\n",
       "      <td>5</td>\n",
       "      <td>1317.600000</td>\n",
       "      <td>84391079</td>\n",
       "      <td>track</td>\n",
       "      <td>Intro к Koldunya</td>\n",
       "      <td>[]</td>\n",
       "      <td>[62]</td>\n",
       "      <td>[15988902]</td>\n",
       "    </tr>\n",
       "    <tr>\n",
       "      <th>999997</th>\n",
       "      <td>84391080</td>\n",
       "      <td>5</td>\n",
       "      <td>800.800000</td>\n",
       "      <td>84391080</td>\n",
       "      <td>track</td>\n",
       "      <td>Intro к Barbie Girl</td>\n",
       "      <td>[]</td>\n",
       "      <td>[62]</td>\n",
       "      <td>[15988902]</td>\n",
       "    </tr>\n",
       "    <tr>\n",
       "      <th>999998</th>\n",
       "      <td>34766819</td>\n",
       "      <td>5</td>\n",
       "      <td>272.400000</td>\n",
       "      <td>34766819</td>\n",
       "      <td>track</td>\n",
       "      <td>Reign Fall</td>\n",
       "      <td>[3860340]</td>\n",
       "      <td>[13]</td>\n",
       "      <td>[4297686]</td>\n",
       "    </tr>\n",
       "    <tr>\n",
       "      <th>999999</th>\n",
       "      <td>34766901</td>\n",
       "      <td>5</td>\n",
       "      <td>992.800000</td>\n",
       "      <td>34766901</td>\n",
       "      <td>track</td>\n",
       "      <td>Piel Morena</td>\n",
       "      <td>[3211452, 1161618]</td>\n",
       "      <td>[11]</td>\n",
       "      <td>[4297710, 4422309, 4424231, 4587801, 4904892]</td>\n",
       "    </tr>\n",
       "  </tbody>\n",
       "</table>\n",
       "<p>1000000 rows × 9 columns</p>\n",
       "</div>"
      ],
      "text/plain": [
       "        track_id  popularity     position        id   type  \\\n",
       "0          53404      111062    17.265590     53404  track   \n",
       "1       33311009      106921   218.685254  33311009  track   \n",
       "2         178529      101924    37.842608    178529  track   \n",
       "3       35505245       99490   152.547653  35505245  track   \n",
       "4       65851540       86670   280.660102  65851540  track   \n",
       "...          ...         ...          ...       ...    ...   \n",
       "999995  84391078           5   935.000000  84391078  track   \n",
       "999996  84391079           5  1317.600000  84391079  track   \n",
       "999997  84391080           5   800.800000  84391080  track   \n",
       "999998  34766819           5   272.400000  34766819  track   \n",
       "999999  34766901           5   992.800000  34766901  track   \n",
       "\n",
       "                           name             artists         genres  \\\n",
       "0       Smells Like Teen Spirit              [9262]  [13, 14, 102]   \n",
       "1                      Believer            [675068]      [14, 102]   \n",
       "2                          Numb             [36800]       [41, 47]   \n",
       "3                    I Got Love   [4611844, 588511]        [3, 75]   \n",
       "4                        Юность           [1554548]       [11, 20]   \n",
       "...                         ...                 ...            ...   \n",
       "999995      Intro к Mamma Maria                  []           [62]   \n",
       "999996         Intro к Koldunya                  []           [62]   \n",
       "999997      Intro к Barbie Girl                  []           [62]   \n",
       "999998               Reign Fall           [3860340]           [13]   \n",
       "999999              Piel Morena  [3211452, 1161618]           [11]   \n",
       "\n",
       "                                                   albums  \n",
       "0       [4367, 89708, 294911, 294912, 294914, 297393, ...  \n",
       "1       [4440454, 4456609, 4482682, 4882996, 5072976, ...  \n",
       "2                 [18113, 21924, 21940, 488052, 10009799]  \n",
       "3                                     [4431303, 20559909]  \n",
       "4                                              [10692414]  \n",
       "...                                                   ...  \n",
       "999995                                         [15988902]  \n",
       "999996                                         [15988902]  \n",
       "999997                                         [15988902]  \n",
       "999998                                          [4297686]  \n",
       "999999      [4297710, 4422309, 4424231, 4587801, 4904892]  \n",
       "\n",
       "[1000000 rows x 9 columns]"
      ]
     },
     "execution_count": 6,
     "metadata": {},
     "output_type": "execute_result"
    }
   ],
   "source": [
    "pop_info = top_tracks.merge(track_names,left_on='track_id',right_on='id').merge(tracks[['track_id','artists','genres','albums']],on='track_id')\n",
    "pop_info"
   ]
  },
  {
   "cell_type": "markdown",
   "id": "b1c32a5a-d3be-4f96-8dd9-f7860951020c",
   "metadata": {},
   "source": [
    "Наиболее популярные жанры"
   ]
  },
  {
   "cell_type": "code",
   "execution_count": 80,
   "id": "1bc50491-9235-4d3c-a6c2-297f7c05a959",
   "metadata": {},
   "outputs": [],
   "source": [
    "def get_genres(items):\n",
    "\n",
    "    \"\"\" \n",
    "    извлекает список жанров по всем трекам, \n",
    "    подсчитывает кличество прослушиваний каждого трека\n",
    "    \"\"\"\n",
    "    \n",
    "    genres_counter = {}\n",
    "    \n",
    "    for _, v in items.iterrows():\n",
    "        genre_raw = v[\"genres\"]\n",
    "        for genre_id in genre_raw:\n",
    "            # увеличиваем счётчик жанров\n",
    "            try:\n",
    "                genres_counter[genre_id] += v[\"popularity\"]\n",
    "            except KeyError:\n",
    "                genres_counter[genre_id] = v[\"popularity\"]\n",
    "\n",
    "    genres = pd.DataFrame.from_dict(genres_counter, orient='index',columns=['popularity'])\n",
    "    genres.index.name = 'id'\n",
    "    \n",
    "    return genres\n",
    "   \n",
    "genres = get_genres(pop_info)"
   ]
  },
  {
   "cell_type": "code",
   "execution_count": 81,
   "id": "1a2329ce",
   "metadata": {},
   "outputs": [],
   "source": [
    "# список жанров\n",
    "genres_all = cnames[cnames['type'] == 'genre']"
   ]
  },
  {
   "cell_type": "code",
   "execution_count": 82,
   "id": "20714d6f",
   "metadata": {},
   "outputs": [
    {
     "data": {
      "text/html": [
       "<div>\n",
       "<style scoped>\n",
       "    .dataframe tbody tr th:only-of-type {\n",
       "        vertical-align: middle;\n",
       "    }\n",
       "\n",
       "    .dataframe tbody tr th {\n",
       "        vertical-align: top;\n",
       "    }\n",
       "\n",
       "    .dataframe thead th {\n",
       "        text-align: right;\n",
       "    }\n",
       "</style>\n",
       "<table border=\"1\" class=\"dataframe\">\n",
       "  <thead>\n",
       "    <tr style=\"text-align: right;\">\n",
       "      <th></th>\n",
       "      <th>index</th>\n",
       "      <th>id</th>\n",
       "      <th>popularity</th>\n",
       "      <th>type</th>\n",
       "      <th>name</th>\n",
       "    </tr>\n",
       "  </thead>\n",
       "  <tbody>\n",
       "    <tr>\n",
       "      <th>0</th>\n",
       "      <td>7</td>\n",
       "      <td>11</td>\n",
       "      <td>55578312</td>\n",
       "      <td>genre</td>\n",
       "      <td>pop</td>\n",
       "    </tr>\n",
       "    <tr>\n",
       "      <th>1</th>\n",
       "      <td>6</td>\n",
       "      <td>75</td>\n",
       "      <td>37799821</td>\n",
       "      <td>genre</td>\n",
       "      <td>rap</td>\n",
       "    </tr>\n",
       "    <tr>\n",
       "      <th>2</th>\n",
       "      <td>2</td>\n",
       "      <td>102</td>\n",
       "      <td>31092013</td>\n",
       "      <td>genre</td>\n",
       "      <td>allrock</td>\n",
       "    </tr>\n",
       "    <tr>\n",
       "      <th>3</th>\n",
       "      <td>8</td>\n",
       "      <td>20</td>\n",
       "      <td>26626241</td>\n",
       "      <td>genre</td>\n",
       "      <td>ruspop</td>\n",
       "    </tr>\n",
       "    <tr>\n",
       "      <th>4</th>\n",
       "      <td>5</td>\n",
       "      <td>3</td>\n",
       "      <td>25303695</td>\n",
       "      <td>genre</td>\n",
       "      <td>rusrap</td>\n",
       "    </tr>\n",
       "    <tr>\n",
       "      <th>...</th>\n",
       "      <td>...</td>\n",
       "      <td>...</td>\n",
       "      <td>...</td>\n",
       "      <td>...</td>\n",
       "      <td>...</td>\n",
       "    </tr>\n",
       "    <tr>\n",
       "      <th>138</th>\n",
       "      <td>137</td>\n",
       "      <td>91</td>\n",
       "      <td>497</td>\n",
       "      <td>genre</td>\n",
       "      <td>recreation</td>\n",
       "    </tr>\n",
       "    <tr>\n",
       "      <th>139</th>\n",
       "      <td>142</td>\n",
       "      <td>82</td>\n",
       "      <td>468</td>\n",
       "      <td>genre</td>\n",
       "      <td>government</td>\n",
       "    </tr>\n",
       "    <tr>\n",
       "      <th>140</th>\n",
       "      <td>141</td>\n",
       "      <td>113</td>\n",
       "      <td>388</td>\n",
       "      <td>genre</td>\n",
       "      <td>israelirock</td>\n",
       "    </tr>\n",
       "    <tr>\n",
       "      <th>141</th>\n",
       "      <td>139</td>\n",
       "      <td>115</td>\n",
       "      <td>247</td>\n",
       "      <td>genre</td>\n",
       "      <td>turkishclassical</td>\n",
       "    </tr>\n",
       "    <tr>\n",
       "      <th>142</th>\n",
       "      <td>140</td>\n",
       "      <td>106</td>\n",
       "      <td>61</td>\n",
       "      <td>genre</td>\n",
       "      <td>technologies</td>\n",
       "    </tr>\n",
       "  </tbody>\n",
       "</table>\n",
       "<p>143 rows × 5 columns</p>\n",
       "</div>"
      ],
      "text/plain": [
       "     index   id  popularity   type              name\n",
       "0        7   11    55578312  genre               pop\n",
       "1        6   75    37799821  genre               rap\n",
       "2        2  102    31092013  genre           allrock\n",
       "3        8   20    26626241  genre            ruspop\n",
       "4        5    3    25303695  genre            rusrap\n",
       "..     ...  ...         ...    ...               ...\n",
       "138    137   91         497  genre        recreation\n",
       "139    142   82         468  genre        government\n",
       "140    141  113         388  genre       israelirock\n",
       "141    139  115         247  genre  turkishclassical\n",
       "142    140  106          61  genre      technologies\n",
       "\n",
       "[143 rows x 5 columns]"
      ]
     },
     "execution_count": 82,
     "metadata": {},
     "output_type": "execute_result"
    }
   ],
   "source": [
    "genres = genres.merge(genres_all, on='id').sort_values(by='popularity',ascending=False).reset_index()\n",
    "genres"
   ]
  },
  {
   "cell_type": "code",
   "execution_count": 83,
   "id": "4ce7af60",
   "metadata": {},
   "outputs": [],
   "source": [
    "# Сохраним топ жанров чтобы заново не считать\n",
    "genres[['id','popularity','name']].to_parquet(\"./data/top_genre.parquet\")"
   ]
  },
  {
   "cell_type": "markdown",
   "id": "15254e66-e80e-473b-ba24-abebea5ccac7",
   "metadata": {},
   "source": [
    "Треки, которые никто не прослушал"
   ]
  },
  {
   "cell_type": "code",
   "execution_count": 8,
   "id": "50bc50c6-2d83-4c7e-97fa-3e7627978438",
   "metadata": {},
   "outputs": [
    {
     "data": {
      "text/html": [
       "<div>\n",
       "<style scoped>\n",
       "    .dataframe tbody tr th:only-of-type {\n",
       "        vertical-align: middle;\n",
       "    }\n",
       "\n",
       "    .dataframe tbody tr th {\n",
       "        vertical-align: top;\n",
       "    }\n",
       "\n",
       "    .dataframe thead th {\n",
       "        text-align: right;\n",
       "    }\n",
       "</style>\n",
       "<table border=\"1\" class=\"dataframe\">\n",
       "  <thead>\n",
       "    <tr style=\"text-align: right;\">\n",
       "      <th></th>\n",
       "      <th>track_id</th>\n",
       "      <th>albums</th>\n",
       "      <th>artists</th>\n",
       "      <th>genres</th>\n",
       "    </tr>\n",
       "  </thead>\n",
       "  <tbody>\n",
       "  </tbody>\n",
       "</table>\n",
       "</div>"
      ],
      "text/plain": [
       "Empty DataFrame\n",
       "Columns: [track_id, albums, artists, genres]\n",
       "Index: []"
      ]
     },
     "execution_count": 8,
     "metadata": {},
     "output_type": "execute_result"
    }
   ],
   "source": [
    "#прослушанные треки\n",
    "activ_track_id = interactions[\"track_id\"].unique()\n",
    "\n",
    "nolistening_tracks = tracks[~tracks['track_id'].isin(activ_track_id)]\n",
    "nolistening_tracks"
   ]
  },
  {
   "cell_type": "markdown",
   "id": "0d850a07-ef1e-462f-891a-1cf89f2e24ef",
   "metadata": {},
   "source": [
    "# Преобразование данных"
   ]
  },
  {
   "cell_type": "markdown",
   "id": "fabcf8d2-1192-4df5-b20b-fbb84689f57a",
   "metadata": {},
   "source": [
    "Преобразуем данные в формат, более пригодный для дальнейшего использования в расчётах рекомендаций."
   ]
  },
  {
   "cell_type": "code",
   "execution_count": 7,
   "id": "a425556a-9382-45ca-a04e-f1981a522126",
   "metadata": {},
   "outputs": [],
   "source": [
    "items = pop_info[['track_id','popularity','position','name','artists','genres','albums']].copy()\n",
    "events = interactions.copy()\n",
    "\n",
    "# переименовка столбцов в кастомные\n",
    "\n",
    "items.rename(columns = {'track_id': 'item_id'}, inplace = True)\n",
    "events.rename(columns = {'track_id': 'item_id'}, inplace = True)\n",
    "\n",
    "del tracks\n",
    "del interactions"
   ]
  },
  {
   "cell_type": "markdown",
   "id": "4d1be653-eed8-4fa0-a9c5-3811b080d71d",
   "metadata": {},
   "source": [
    "# Сохранение данных"
   ]
  },
  {
   "cell_type": "markdown",
   "id": "36f1314a-3af3-4faf-a0b1-3045173d1500",
   "metadata": {},
   "source": [
    "Сохраним данные в двух файлах в персональном S3-бакете по пути `recsys/data/`:\n",
    "- `items.parquet` — все данные о музыкальных треках,\n",
    "- `events.parquet` — все данные о взаимодействиях."
   ]
  },
  {
   "cell_type": "code",
   "execution_count": 8,
   "id": "9f77af17-7705-4fae-9aad-db579b39faad",
   "metadata": {},
   "outputs": [],
   "source": [
    "# сохраняем локально\n",
    "items.to_parquet(\"./data/items.parquet\")\n",
    "events.to_parquet(\"./data/events.parquet\")"
   ]
  },
  {
   "cell_type": "code",
   "execution_count": null,
   "id": "180c6259",
   "metadata": {},
   "outputs": [],
   "source": [
    "%pip install python-dotenv, boto3"
   ]
  },
  {
   "cell_type": "code",
   "execution_count": 9,
   "id": "78f13340",
   "metadata": {},
   "outputs": [
    {
     "data": {
      "text/plain": [
       "True"
      ]
     },
     "execution_count": 9,
     "metadata": {},
     "output_type": "execute_result"
    }
   ],
   "source": [
    "# сохранение на S3-бакете\n",
    "\n",
    "import os\n",
    "from dotenv import load_dotenv\n",
    "import boto3\n",
    "\n",
    "load_dotenv(dotenv_path='./../mle-project-sprint-2-v001/.env')"
   ]
  },
  {
   "cell_type": "code",
   "execution_count": 10,
   "id": "e60d96ac",
   "metadata": {},
   "outputs": [],
   "source": [
    "S3_BUCKET_NAME = os.environ.get(\"S3_BUCKET_NAME\")\n",
    "try:\n",
    "    session = boto3.session.Session()\n",
    "    s3 = session.client(\n",
    "        service_name='s3',\n",
    "        endpoint_url='https://storage.yandexcloud.net',\n",
    "        aws_access_key_id=os.environ.get(\"AWS_ACCESS_KEY_ID\"),\n",
    "        aws_secret_access_key=os.environ.get(\"AWS_SECRET_ACCESS_KEY\")\n",
    "    )\n",
    "    # Filename - File to upload\n",
    "    # Bucket - Bucket to upload to (the top level directory under AWS S3)\n",
    "    # Key - S3 object name (can contain subdirectories). If not specified then file_name is used\n",
    "    s3.upload_file(Filename='./data/items.parquet', Bucket=S3_BUCKET_NAME, Key='recsys/data/items.parquet')\n",
    "    s3.upload_file(Filename='./data/events.parquet', Bucket=S3_BUCKET_NAME, Key='recsys/data/events.parquet')\n",
    "except Exception as e:\n",
    "    print(e)"
   ]
  },
  {
   "cell_type": "code",
   "execution_count": 11,
   "id": "6e3a7cf0",
   "metadata": {},
   "outputs": [
    {
     "name": "stdout",
     "output_type": "stream",
     "text": [
      "Key: recsys/data/events.parquet\n",
      "LastModified: 2024-10-29 07:57:44.285000+00:00\n",
      "ETag: \"620493c3e2e7710d6638aee471cd0c05-145\"\n",
      "Size: 1208078030\n",
      "StorageClass: STANDARD\n",
      "Owner: {'DisplayName': 'ajeq26s98m0ssapaa27m', 'ID': 'ajeq26s98m0ssapaa27m'} \n",
      "\n",
      "Key: recsys/data/items.parquet\n",
      "LastModified: 2024-10-29 07:57:25.336000+00:00\n",
      "ETag: \"ee5af9d160ed6cd1adfad4ce8b9102c9-6\"\n",
      "Size: 46926580\n",
      "StorageClass: STANDARD\n",
      "Owner: {'DisplayName': 'ajeq26s98m0ssapaa27m', 'ID': 'ajeq26s98m0ssapaa27m'} \n",
      "\n"
     ]
    }
   ],
   "source": [
    "# смотрим что там сохранилось в бакет\n",
    "\n",
    "try:\n",
    "    for key in s3.list_objects(Bucket=S3_BUCKET_NAME)['Contents']:\n",
    "        \n",
    "        if key['Key'] in ['recsys/data/items.parquet','recsys/data/events.parquet']:\n",
    "            \n",
    "            lines = [f'{k}: {v}' for k, v in key.items()]\n",
    "            print('\\n'.join(lines),'\\n')\n",
    "\n",
    "except Exception as e:\n",
    "    print(e)"
   ]
  },
  {
   "cell_type": "markdown",
   "id": "72ecbbed-c560-44d9-9c14-86c7dc76f399",
   "metadata": {},
   "source": [
    "# Очистка памяти"
   ]
  },
  {
   "cell_type": "markdown",
   "id": "b5358ede-ba6e-4c4f-bd73-5b9344f0ba79",
   "metadata": {},
   "source": [
    "Здесь, может понадобится очистка памяти для высвобождения ресурсов для выполнения кода ниже. \n",
    "\n",
    "Приведите соответствующие код, комментарии, например:\n",
    "- код для удаление более ненужных переменных,\n",
    "- комментарий, что следует перезапустить kernel, выполнить такие-то начальные секции и продолжить с этапа 3."
   ]
  },
  {
   "cell_type": "code",
   "execution_count": 86,
   "id": "767fe920-e12e-4ad8-b04e-56e8091fac9f",
   "metadata": {},
   "outputs": [],
   "source": [
    "del items\n",
    "del events"
   ]
  },
  {
   "cell_type": "markdown",
   "id": "708503df-ee89-4cf3-8489-093dc478e2a8",
   "metadata": {},
   "source": [
    "# === ЭТАП 3 ==="
   ]
  },
  {
   "cell_type": "markdown",
   "id": "fd77de22-e10f-4b42-85c1-8fb6f805fe68",
   "metadata": {},
   "source": [
    "# Загрузка данных"
   ]
  },
  {
   "cell_type": "markdown",
   "id": "780a4241-1ecd-4a3e-bbb3-fc2f6ca94f68",
   "metadata": {},
   "source": [
    "Если необходимо, то загружаем items.parquet, events.parquet."
   ]
  },
  {
   "cell_type": "code",
   "execution_count": null,
   "id": "f19fc8a5-bd2c-40d7-864a-ee75aca6d512",
   "metadata": {},
   "outputs": [],
   "source": [
    "\"\"\"\n",
    "Если надо забрать файл с бакета S3, то подключение как выше.\n",
    "Скачивание файла функцией:\n",
    "s3.download_file(Bucket, Key, Filename)\n",
    "\"\"\""
   ]
  },
  {
   "cell_type": "code",
   "execution_count": 3,
   "id": "5db1e801-5845-4ce3-86f2-c2fa30f68cc5",
   "metadata": {},
   "outputs": [],
   "source": [
    "# загружаем локальные файлы\n",
    "items = pd.read_parquet(\"./data/items.parquet\")\n",
    "events = pd.read_parquet('./data/events.parquet')"
   ]
  },
  {
   "cell_type": "markdown",
   "id": "a694c023-6477-490b-939d-1cfa6f5f1b72",
   "metadata": {},
   "source": [
    "# Разбиение данных"
   ]
  },
  {
   "cell_type": "markdown",
   "id": "fbd5f6e0-54e7-4428-8678-eabce505d82c",
   "metadata": {},
   "source": [
    "Разбиваем данные на тренировочную, тестовую выборки."
   ]
  },
  {
   "cell_type": "code",
   "execution_count": 4,
   "id": "ea270e19",
   "metadata": {},
   "outputs": [],
   "source": [
    "# зададим точку разбиения\n",
    "train_test_global_time_split_date = pd.to_datetime(\"2022-12-16\")\n",
    "train_test_global_time_split_idx  = events[\"started_at\"] < train_test_global_time_split_date\n",
    "\n",
    "events_train = events[train_test_global_time_split_idx]\n",
    "events_test = events[~train_test_global_time_split_idx]"
   ]
  },
  {
   "cell_type": "code",
   "execution_count": null,
   "id": "00c2dfa5-d8a2-47d1-922e-6eefee2c62d1",
   "metadata": {},
   "outputs": [
    {
     "name": "stdout",
     "output_type": "stream",
     "text": [
      "Пользователей: \n",
      "\n",
      "      в тренировочной выборке 1342566 \n",
      "\n",
      "      в тестовой 783525 \n",
      " \n",
      "      в обеих выборках 752870 \n",
      "\n",
      "      только в тестовой (холодные) 30655\n"
     ]
    }
   ],
   "source": [
    "# количество пользователей в train и test\n",
    "users_train = events_train[\"user_id\"].drop_duplicates()\n",
    "users_test = events_test[\"user_id\"].drop_duplicates()\n",
    "\n",
    "# количество пользователей, которые есть и в train, и в test\n",
    "common_users = list(set(users_train) & set(users_test))\n",
    "# холодные\n",
    "cold_users = list(set(users_test) - set(common_users))\n",
    "\n",
    "print(f\"\"\"Пользователей: \\n\n",
    "      в тренировочной выборке {len(users_train)} \\n\n",
    "      в тестовой {len(users_test)} \\n \n",
    "      в обеих выборках {len(common_users)} \\n\n",
    "      только в тестовой (холодные) {len(cold_users)}\"\"\")"
   ]
  },
  {
   "cell_type": "markdown",
   "id": "9131c7e6-8852-4556-b510-51f7253cc299",
   "metadata": {},
   "source": [
    "# Топ популярных"
   ]
  },
  {
   "cell_type": "markdown",
   "id": "dd70d43a-88cc-4719-b291-feaed7136f30",
   "metadata": {},
   "source": [
    "Рассчитаем рекомендации как топ популярных."
   ]
  },
  {
   "cell_type": "code",
   "execution_count": 4,
   "id": "ee45e200-b7d6-4f56-9077-aad431689b96",
   "metadata": {},
   "outputs": [],
   "source": [
    "#для исключения утечки данных о популярности треков из events_test удалим сведения о популярности и средней позиции трека в истории из таблицы items\n",
    "items.drop(['popularity','position'],axis=1,inplace=True)"
   ]
  },
  {
   "cell_type": "code",
   "execution_count": 6,
   "id": "7690c86f-7aa9-46ed-bba5-2c837626411e",
   "metadata": {},
   "outputs": [],
   "source": [
    "# Считаем популярность с среднюю позицию  трека в истории пользователей\n",
    "item_popularity = events_train.groupby([\"item_id\"]).agg(users=(\"user_id\", \"nunique\"), avg_seq=(\"track_seq\", \"mean\")).reset_index()"
   ]
  },
  {
   "cell_type": "code",
   "execution_count": 10,
   "id": "169cabf3",
   "metadata": {},
   "outputs": [],
   "source": [
    "def pop_k_metrics(df,pop_fild,k):\n",
    "    \"\"\"\n",
    "    Считаем среднюю массовость и зарытость в историю первых k треков выбранной стратегии сортировки\n",
    "    df - items\n",
    "    pop_fild  - стратегия сортировки\n",
    "    k - top k\n",
    "    \"\"\"\n",
    "    \n",
    "    cur = df.sort_values(by=[pop_fild],ascending=False)[0:k]\n",
    "    return round(cur['users'].mean()),round(cur['avg_seq'].mean())"
   ]
  },
  {
   "cell_type": "code",
   "execution_count": 8,
   "id": "a5021cd9",
   "metadata": {},
   "outputs": [
    {
     "data": {
      "text/html": [
       "<div>\n",
       "<style scoped>\n",
       "    .dataframe tbody tr th:only-of-type {\n",
       "        vertical-align: middle;\n",
       "    }\n",
       "\n",
       "    .dataframe tbody tr th {\n",
       "        vertical-align: top;\n",
       "    }\n",
       "\n",
       "    .dataframe thead th {\n",
       "        text-align: right;\n",
       "    }\n",
       "</style>\n",
       "<table border=\"1\" class=\"dataframe\">\n",
       "  <thead>\n",
       "    <tr style=\"text-align: right;\">\n",
       "      <th></th>\n",
       "      <th>item_id</th>\n",
       "      <th>users</th>\n",
       "      <th>avg_seq</th>\n",
       "      <th>name</th>\n",
       "    </tr>\n",
       "  </thead>\n",
       "  <tbody>\n",
       "    <tr>\n",
       "      <th>0</th>\n",
       "      <td>53404</td>\n",
       "      <td>110026</td>\n",
       "      <td>17.389681</td>\n",
       "      <td>Smells Like Teen Spirit</td>\n",
       "    </tr>\n",
       "    <tr>\n",
       "      <th>1</th>\n",
       "      <td>33311009</td>\n",
       "      <td>101076</td>\n",
       "      <td>225.144396</td>\n",
       "      <td>Believer</td>\n",
       "    </tr>\n",
       "    <tr>\n",
       "      <th>2</th>\n",
       "      <td>178529</td>\n",
       "      <td>100866</td>\n",
       "      <td>38.155781</td>\n",
       "      <td>Numb</td>\n",
       "    </tr>\n",
       "    <tr>\n",
       "      <th>3</th>\n",
       "      <td>35505245</td>\n",
       "      <td>95523</td>\n",
       "      <td>155.747914</td>\n",
       "      <td>I Got Love</td>\n",
       "    </tr>\n",
       "    <tr>\n",
       "      <th>4</th>\n",
       "      <td>24692821</td>\n",
       "      <td>84153</td>\n",
       "      <td>185.660666</td>\n",
       "      <td>Way Down We Go</td>\n",
       "    </tr>\n",
       "    <tr>\n",
       "      <th>5</th>\n",
       "      <td>795836</td>\n",
       "      <td>83749</td>\n",
       "      <td>92.921229</td>\n",
       "      <td>Shape Of My Heart</td>\n",
       "    </tr>\n",
       "    <tr>\n",
       "      <th>6</th>\n",
       "      <td>6705392</td>\n",
       "      <td>80608</td>\n",
       "      <td>161.816842</td>\n",
       "      <td>Seven Nation Army</td>\n",
       "    </tr>\n",
       "    <tr>\n",
       "      <th>7</th>\n",
       "      <td>32947997</td>\n",
       "      <td>80243</td>\n",
       "      <td>207.274068</td>\n",
       "      <td>Shape of You</td>\n",
       "    </tr>\n",
       "    <tr>\n",
       "      <th>8</th>\n",
       "      <td>37384</td>\n",
       "      <td>79512</td>\n",
       "      <td>14.373403</td>\n",
       "      <td>Zombie</td>\n",
       "    </tr>\n",
       "    <tr>\n",
       "      <th>9</th>\n",
       "      <td>45499814</td>\n",
       "      <td>78564</td>\n",
       "      <td>229.204114</td>\n",
       "      <td>Life</td>\n",
       "    </tr>\n",
       "    <tr>\n",
       "      <th>10</th>\n",
       "      <td>51241318</td>\n",
       "      <td>78533</td>\n",
       "      <td>311.099270</td>\n",
       "      <td>In The End</td>\n",
       "    </tr>\n",
       "    <tr>\n",
       "      <th>11</th>\n",
       "      <td>29544272</td>\n",
       "      <td>78198</td>\n",
       "      <td>224.234661</td>\n",
       "      <td>Human</td>\n",
       "    </tr>\n",
       "    <tr>\n",
       "      <th>12</th>\n",
       "      <td>39257277</td>\n",
       "      <td>77100</td>\n",
       "      <td>240.681440</td>\n",
       "      <td>In My Mind</td>\n",
       "    </tr>\n",
       "    <tr>\n",
       "      <th>13</th>\n",
       "      <td>2758009</td>\n",
       "      <td>76305</td>\n",
       "      <td>136.045489</td>\n",
       "      <td>The Show Must Go On</td>\n",
       "    </tr>\n",
       "    <tr>\n",
       "      <th>14</th>\n",
       "      <td>65851540</td>\n",
       "      <td>76100</td>\n",
       "      <td>285.889422</td>\n",
       "      <td>Юность</td>\n",
       "    </tr>\n",
       "    <tr>\n",
       "      <th>15</th>\n",
       "      <td>328683</td>\n",
       "      <td>74965</td>\n",
       "      <td>54.365584</td>\n",
       "      <td>Bring Me To Life</td>\n",
       "    </tr>\n",
       "    <tr>\n",
       "      <th>16</th>\n",
       "      <td>60292250</td>\n",
       "      <td>74461</td>\n",
       "      <td>403.035065</td>\n",
       "      <td>Blinding Lights</td>\n",
       "    </tr>\n",
       "    <tr>\n",
       "      <th>17</th>\n",
       "      <td>17079396</td>\n",
       "      <td>73260</td>\n",
       "      <td>158.880480</td>\n",
       "      <td>Take Me To Church</td>\n",
       "    </tr>\n",
       "    <tr>\n",
       "      <th>18</th>\n",
       "      <td>47627256</td>\n",
       "      <td>72164</td>\n",
       "      <td>297.635732</td>\n",
       "      <td>Cradles</td>\n",
       "    </tr>\n",
       "    <tr>\n",
       "      <th>19</th>\n",
       "      <td>51516485</td>\n",
       "      <td>69822</td>\n",
       "      <td>345.580433</td>\n",
       "      <td>bad guy</td>\n",
       "    </tr>\n",
       "  </tbody>\n",
       "</table>\n",
       "</div>"
      ],
      "text/plain": [
       "     item_id   users     avg_seq                     name\n",
       "0      53404  110026   17.389681  Smells Like Teen Spirit\n",
       "1   33311009  101076  225.144396                 Believer\n",
       "2     178529  100866   38.155781                     Numb\n",
       "3   35505245   95523  155.747914               I Got Love\n",
       "4   24692821   84153  185.660666           Way Down We Go\n",
       "5     795836   83749   92.921229        Shape Of My Heart\n",
       "6    6705392   80608  161.816842        Seven Nation Army\n",
       "7   32947997   80243  207.274068             Shape of You\n",
       "8      37384   79512   14.373403                   Zombie\n",
       "9   45499814   78564  229.204114                     Life\n",
       "10  51241318   78533  311.099270               In The End\n",
       "11  29544272   78198  224.234661                    Human\n",
       "12  39257277   77100  240.681440               In My Mind\n",
       "13   2758009   76305  136.045489      The Show Must Go On\n",
       "14  65851540   76100  285.889422                   Юность\n",
       "15    328683   74965   54.365584         Bring Me To Life\n",
       "16  60292250   74461  403.035065          Blinding Lights\n",
       "17  17079396   73260  158.880480        Take Me To Church\n",
       "18  47627256   72164  297.635732                  Cradles\n",
       "19  51516485   69822  345.580433                  bad guy"
      ]
     },
     "execution_count": 8,
     "metadata": {},
     "output_type": "execute_result"
    }
   ],
   "source": [
    "# Простая идея - популярно то что многие слушают\n",
    "item_popularity.sort_values(by=[\"users\"],ascending=False).merge(items[['item_id','name']],on='item_id')[0:20]"
   ]
  },
  {
   "cell_type": "code",
   "execution_count": 11,
   "id": "c43c30c9",
   "metadata": {},
   "outputs": [
    {
     "name": "stdout",
     "output_type": "stream",
     "text": [
      "(61163, 205)\n"
     ]
    }
   ],
   "source": [
    "print(pop_k_metrics(item_popularity,\"users\",100))"
   ]
  },
  {
   "cell_type": "markdown",
   "id": "ec376e78",
   "metadata": {},
   "source": [
    "Подход Кажестя неплохим, но трек мог быть вирусным и уйти в историю, эти \"заезженные пластинки\" могут даже раздражать.\n",
    "\n",
    "Попробуем найти то что слушают многие и чаще это в топах треклиста"
   ]
  },
  {
   "cell_type": "code",
   "execution_count": 13,
   "id": "051c1af0",
   "metadata": {},
   "outputs": [
    {
     "data": {
      "text/html": [
       "<div>\n",
       "<style scoped>\n",
       "    .dataframe tbody tr th:only-of-type {\n",
       "        vertical-align: middle;\n",
       "    }\n",
       "\n",
       "    .dataframe tbody tr th {\n",
       "        vertical-align: top;\n",
       "    }\n",
       "\n",
       "    .dataframe thead th {\n",
       "        text-align: right;\n",
       "    }\n",
       "</style>\n",
       "<table border=\"1\" class=\"dataframe\">\n",
       "  <thead>\n",
       "    <tr style=\"text-align: right;\">\n",
       "      <th></th>\n",
       "      <th>item_id</th>\n",
       "      <th>users</th>\n",
       "      <th>avg_seq</th>\n",
       "      <th>popularity_linear</th>\n",
       "      <th>name</th>\n",
       "    </tr>\n",
       "  </thead>\n",
       "  <tbody>\n",
       "    <tr>\n",
       "      <th>0</th>\n",
       "      <td>1721</td>\n",
       "      <td>27536</td>\n",
       "      <td>1.944182</td>\n",
       "      <td>14163.281890</td>\n",
       "      <td>Stop</td>\n",
       "    </tr>\n",
       "    <tr>\n",
       "      <th>1</th>\n",
       "      <td>1062</td>\n",
       "      <td>19171</td>\n",
       "      <td>1.379062</td>\n",
       "      <td>13901.476700</td>\n",
       "      <td>La Camisa Negra</td>\n",
       "    </tr>\n",
       "    <tr>\n",
       "      <th>2</th>\n",
       "      <td>986</td>\n",
       "      <td>19272</td>\n",
       "      <td>1.684516</td>\n",
       "      <td>11440.672252</td>\n",
       "      <td>Fortunate Son</td>\n",
       "    </tr>\n",
       "    <tr>\n",
       "      <th>3</th>\n",
       "      <td>7786</td>\n",
       "      <td>43652</td>\n",
       "      <td>3.923302</td>\n",
       "      <td>11126.340675</td>\n",
       "      <td>My Favourite Game</td>\n",
       "    </tr>\n",
       "    <tr>\n",
       "      <th>4</th>\n",
       "      <td>10216</td>\n",
       "      <td>51214</td>\n",
       "      <td>4.736381</td>\n",
       "      <td>10812.897757</td>\n",
       "      <td>Wind Of Change</td>\n",
       "    </tr>\n",
       "    <tr>\n",
       "      <th>5</th>\n",
       "      <td>8264</td>\n",
       "      <td>42418</td>\n",
       "      <td>3.971946</td>\n",
       "      <td>10679.400316</td>\n",
       "      <td>Paper Planes</td>\n",
       "    </tr>\n",
       "    <tr>\n",
       "      <th>6</th>\n",
       "      <td>3264</td>\n",
       "      <td>21962</td>\n",
       "      <td>2.531555</td>\n",
       "      <td>8675.302061</td>\n",
       "      <td>Stronger</td>\n",
       "    </tr>\n",
       "    <tr>\n",
       "      <th>7</th>\n",
       "      <td>4116</td>\n",
       "      <td>25037</td>\n",
       "      <td>3.098974</td>\n",
       "      <td>8079.126796</td>\n",
       "      <td>Heads Will Roll</td>\n",
       "    </tr>\n",
       "    <tr>\n",
       "      <th>8</th>\n",
       "      <td>9769</td>\n",
       "      <td>37909</td>\n",
       "      <td>5.986547</td>\n",
       "      <td>6332.365169</td>\n",
       "      <td>I Was Made For Lovin' You</td>\n",
       "    </tr>\n",
       "    <tr>\n",
       "      <th>9</th>\n",
       "      <td>53404</td>\n",
       "      <td>110026</td>\n",
       "      <td>17.389681</td>\n",
       "      <td>6327.085724</td>\n",
       "      <td>Smells Like Teen Spirit</td>\n",
       "    </tr>\n",
       "    <tr>\n",
       "      <th>10</th>\n",
       "      <td>861</td>\n",
       "      <td>8357</td>\n",
       "      <td>1.364844</td>\n",
       "      <td>6123.044801</td>\n",
       "      <td>Long Tall Sally</td>\n",
       "    </tr>\n",
       "    <tr>\n",
       "      <th>11</th>\n",
       "      <td>2367</td>\n",
       "      <td>16919</td>\n",
       "      <td>2.811691</td>\n",
       "      <td>6017.375313</td>\n",
       "      <td>War</td>\n",
       "    </tr>\n",
       "    <tr>\n",
       "      <th>12</th>\n",
       "      <td>1123</td>\n",
       "      <td>9809</td>\n",
       "      <td>1.665919</td>\n",
       "      <td>5888.041185</td>\n",
       "      <td>Hello</td>\n",
       "    </tr>\n",
       "    <tr>\n",
       "      <th>13</th>\n",
       "      <td>562</td>\n",
       "      <td>8670</td>\n",
       "      <td>1.517301</td>\n",
       "      <td>5714.093501</td>\n",
       "      <td>I Gotta Feeling</td>\n",
       "    </tr>\n",
       "    <tr>\n",
       "      <th>14</th>\n",
       "      <td>37384</td>\n",
       "      <td>79512</td>\n",
       "      <td>14.373403</td>\n",
       "      <td>5531.884227</td>\n",
       "      <td>Zombie</td>\n",
       "    </tr>\n",
       "    <tr>\n",
       "      <th>15</th>\n",
       "      <td>1178</td>\n",
       "      <td>10100</td>\n",
       "      <td>1.865743</td>\n",
       "      <td>5413.394184</td>\n",
       "      <td>Beautiful</td>\n",
       "    </tr>\n",
       "    <tr>\n",
       "      <th>16</th>\n",
       "      <td>10892</td>\n",
       "      <td>32330</td>\n",
       "      <td>6.903371</td>\n",
       "      <td>4683.218930</td>\n",
       "      <td>What A Wonderful World</td>\n",
       "    </tr>\n",
       "    <tr>\n",
       "      <th>17</th>\n",
       "      <td>10858</td>\n",
       "      <td>24403</td>\n",
       "      <td>5.679712</td>\n",
       "      <td>4296.521039</td>\n",
       "      <td>The Lady In Red</td>\n",
       "    </tr>\n",
       "    <tr>\n",
       "      <th>18</th>\n",
       "      <td>18860</td>\n",
       "      <td>42483</td>\n",
       "      <td>10.418544</td>\n",
       "      <td>4077.633156</td>\n",
       "      <td>Lose Yourself</td>\n",
       "    </tr>\n",
       "    <tr>\n",
       "      <th>19</th>\n",
       "      <td>9610</td>\n",
       "      <td>22918</td>\n",
       "      <td>6.082468</td>\n",
       "      <td>3767.878477</td>\n",
       "      <td>Let's Get It Started</td>\n",
       "    </tr>\n",
       "  </tbody>\n",
       "</table>\n",
       "</div>"
      ],
      "text/plain": [
       "    item_id   users    avg_seq  popularity_linear                       name\n",
       "0      1721   27536   1.944182       14163.281890                       Stop\n",
       "1      1062   19171   1.379062       13901.476700            La Camisa Negra\n",
       "2       986   19272   1.684516       11440.672252              Fortunate Son\n",
       "3      7786   43652   3.923302       11126.340675          My Favourite Game\n",
       "4     10216   51214   4.736381       10812.897757             Wind Of Change\n",
       "5      8264   42418   3.971946       10679.400316               Paper Planes\n",
       "6      3264   21962   2.531555        8675.302061                   Stronger\n",
       "7      4116   25037   3.098974        8079.126796            Heads Will Roll\n",
       "8      9769   37909   5.986547        6332.365169  I Was Made For Lovin' You\n",
       "9     53404  110026  17.389681        6327.085724    Smells Like Teen Spirit\n",
       "10      861    8357   1.364844        6123.044801            Long Tall Sally\n",
       "11     2367   16919   2.811691        6017.375313                        War\n",
       "12     1123    9809   1.665919        5888.041185                      Hello\n",
       "13      562    8670   1.517301        5714.093501            I Gotta Feeling\n",
       "14    37384   79512  14.373403        5531.884227                     Zombie\n",
       "15     1178   10100   1.865743        5413.394184                  Beautiful\n",
       "16    10892   32330   6.903371        4683.218930     What A Wonderful World\n",
       "17    10858   24403   5.679712        4296.521039            The Lady In Red\n",
       "18    18860   42483  10.418544        4077.633156              Lose Yourself\n",
       "19     9610   22918   6.082468        3767.878477       Let's Get It Started"
      ]
     },
     "execution_count": 13,
     "metadata": {},
     "output_type": "execute_result"
    }
   ],
   "source": [
    "item_popularity[\"popularity_linear\"] = item_popularity[\"users\"] / item_popularity[\"avg_seq\"]\n",
    "item_popularity.sort_values(by=[\"popularity_linear\"],ascending=False).merge(items[['item_id','name']],on='item_id')[0:20]"
   ]
  },
  {
   "cell_type": "code",
   "execution_count": 14,
   "id": "2038873e",
   "metadata": {},
   "outputs": [
    {
     "name": "stdout",
     "output_type": "stream",
     "text": [
      "(24901, 11)\n"
     ]
    }
   ],
   "source": [
    "print(pop_k_metrics(item_popularity,\"popularity_linear\",100))"
   ]
  },
  {
   "cell_type": "markdown",
   "id": "032221ca",
   "metadata": {},
   "source": [
    "Эта выдача больше похожа на \"топ новинок\" или \"слушают сейчас\" - даже не сильно популярные треки получают большие веса, если их недавно слушали\n",
    "\n",
    "попробуем дать больше веса мнению большинства"
   ]
  },
  {
   "cell_type": "code",
   "execution_count": 15,
   "id": "7310329c",
   "metadata": {},
   "outputs": [
    {
     "data": {
      "text/html": [
       "<div>\n",
       "<style scoped>\n",
       "    .dataframe tbody tr th:only-of-type {\n",
       "        vertical-align: middle;\n",
       "    }\n",
       "\n",
       "    .dataframe tbody tr th {\n",
       "        vertical-align: top;\n",
       "    }\n",
       "\n",
       "    .dataframe thead th {\n",
       "        text-align: right;\n",
       "    }\n",
       "</style>\n",
       "<table border=\"1\" class=\"dataframe\">\n",
       "  <thead>\n",
       "    <tr style=\"text-align: right;\">\n",
       "      <th></th>\n",
       "      <th>item_id</th>\n",
       "      <th>users</th>\n",
       "      <th>avg_seq</th>\n",
       "      <th>popularity_linear</th>\n",
       "      <th>popularity_quadro</th>\n",
       "      <th>name</th>\n",
       "    </tr>\n",
       "  </thead>\n",
       "  <tbody>\n",
       "    <tr>\n",
       "      <th>0</th>\n",
       "      <td>53404</td>\n",
       "      <td>110026</td>\n",
       "      <td>17.389681</td>\n",
       "      <td>6327.085724</td>\n",
       "      <td>6.961439e+08</td>\n",
       "      <td>Smells Like Teen Spirit</td>\n",
       "    </tr>\n",
       "    <tr>\n",
       "      <th>1</th>\n",
       "      <td>10216</td>\n",
       "      <td>51214</td>\n",
       "      <td>4.736381</td>\n",
       "      <td>10812.897757</td>\n",
       "      <td>5.537717e+08</td>\n",
       "      <td>Wind Of Change</td>\n",
       "    </tr>\n",
       "    <tr>\n",
       "      <th>2</th>\n",
       "      <td>7786</td>\n",
       "      <td>43652</td>\n",
       "      <td>3.923302</td>\n",
       "      <td>11126.340675</td>\n",
       "      <td>4.856870e+08</td>\n",
       "      <td>My Favourite Game</td>\n",
       "    </tr>\n",
       "    <tr>\n",
       "      <th>3</th>\n",
       "      <td>8264</td>\n",
       "      <td>42418</td>\n",
       "      <td>3.971946</td>\n",
       "      <td>10679.400316</td>\n",
       "      <td>4.529988e+08</td>\n",
       "      <td>Paper Planes</td>\n",
       "    </tr>\n",
       "    <tr>\n",
       "      <th>4</th>\n",
       "      <td>37384</td>\n",
       "      <td>79512</td>\n",
       "      <td>14.373403</td>\n",
       "      <td>5531.884227</td>\n",
       "      <td>4.398512e+08</td>\n",
       "      <td>Zombie</td>\n",
       "    </tr>\n",
       "    <tr>\n",
       "      <th>5</th>\n",
       "      <td>1721</td>\n",
       "      <td>27536</td>\n",
       "      <td>1.944182</td>\n",
       "      <td>14163.281890</td>\n",
       "      <td>3.900001e+08</td>\n",
       "      <td>Stop</td>\n",
       "    </tr>\n",
       "    <tr>\n",
       "      <th>6</th>\n",
       "      <td>178529</td>\n",
       "      <td>100866</td>\n",
       "      <td>38.155781</td>\n",
       "      <td>2643.531269</td>\n",
       "      <td>2.666424e+08</td>\n",
       "      <td>Numb</td>\n",
       "    </tr>\n",
       "    <tr>\n",
       "      <th>7</th>\n",
       "      <td>1062</td>\n",
       "      <td>19171</td>\n",
       "      <td>1.379062</td>\n",
       "      <td>13901.476700</td>\n",
       "      <td>2.665052e+08</td>\n",
       "      <td>La Camisa Negra</td>\n",
       "    </tr>\n",
       "    <tr>\n",
       "      <th>8</th>\n",
       "      <td>48951</td>\n",
       "      <td>69382</td>\n",
       "      <td>19.248840</td>\n",
       "      <td>3604.476991</td>\n",
       "      <td>2.500858e+08</td>\n",
       "      <td>It's My Life</td>\n",
       "    </tr>\n",
       "    <tr>\n",
       "      <th>9</th>\n",
       "      <td>9769</td>\n",
       "      <td>37909</td>\n",
       "      <td>5.986547</td>\n",
       "      <td>6332.365169</td>\n",
       "      <td>2.400536e+08</td>\n",
       "      <td>I Was Made For Lovin' You</td>\n",
       "    </tr>\n",
       "    <tr>\n",
       "      <th>10</th>\n",
       "      <td>986</td>\n",
       "      <td>19272</td>\n",
       "      <td>1.684516</td>\n",
       "      <td>11440.672252</td>\n",
       "      <td>2.204846e+08</td>\n",
       "      <td>Fortunate Son</td>\n",
       "    </tr>\n",
       "    <tr>\n",
       "      <th>11</th>\n",
       "      <td>4116</td>\n",
       "      <td>25037</td>\n",
       "      <td>3.098974</td>\n",
       "      <td>8079.126796</td>\n",
       "      <td>2.022771e+08</td>\n",
       "      <td>Heads Will Roll</td>\n",
       "    </tr>\n",
       "    <tr>\n",
       "      <th>12</th>\n",
       "      <td>3264</td>\n",
       "      <td>21962</td>\n",
       "      <td>2.531555</td>\n",
       "      <td>8675.302061</td>\n",
       "      <td>1.905270e+08</td>\n",
       "      <td>Stronger</td>\n",
       "    </tr>\n",
       "    <tr>\n",
       "      <th>13</th>\n",
       "      <td>18860</td>\n",
       "      <td>42483</td>\n",
       "      <td>10.418544</td>\n",
       "      <td>4077.633156</td>\n",
       "      <td>1.732301e+08</td>\n",
       "      <td>Lose Yourself</td>\n",
       "    </tr>\n",
       "    <tr>\n",
       "      <th>14</th>\n",
       "      <td>52100</td>\n",
       "      <td>57759</td>\n",
       "      <td>20.890891</td>\n",
       "      <td>2764.793456</td>\n",
       "      <td>1.596917e+08</td>\n",
       "      <td>Don't Speak</td>\n",
       "    </tr>\n",
       "    <tr>\n",
       "      <th>15</th>\n",
       "      <td>10892</td>\n",
       "      <td>32330</td>\n",
       "      <td>6.903371</td>\n",
       "      <td>4683.218930</td>\n",
       "      <td>1.514085e+08</td>\n",
       "      <td>What A Wonderful World</td>\n",
       "    </tr>\n",
       "    <tr>\n",
       "      <th>16</th>\n",
       "      <td>137670</td>\n",
       "      <td>62729</td>\n",
       "      <td>31.005197</td>\n",
       "      <td>2023.176956</td>\n",
       "      <td>1.269119e+08</td>\n",
       "      <td>Gangsta's Paradise</td>\n",
       "    </tr>\n",
       "    <tr>\n",
       "      <th>17</th>\n",
       "      <td>12480</td>\n",
       "      <td>29986</td>\n",
       "      <td>8.305376</td>\n",
       "      <td>3610.432637</td>\n",
       "      <td>1.082624e+08</td>\n",
       "      <td>All Star</td>\n",
       "    </tr>\n",
       "    <tr>\n",
       "      <th>18</th>\n",
       "      <td>10858</td>\n",
       "      <td>24403</td>\n",
       "      <td>5.679712</td>\n",
       "      <td>4296.521039</td>\n",
       "      <td>1.048480e+08</td>\n",
       "      <td>The Lady In Red</td>\n",
       "    </tr>\n",
       "    <tr>\n",
       "      <th>19</th>\n",
       "      <td>328683</td>\n",
       "      <td>74965</td>\n",
       "      <td>54.365584</td>\n",
       "      <td>1378.905450</td>\n",
       "      <td>1.033696e+08</td>\n",
       "      <td>Bring Me To Life</td>\n",
       "    </tr>\n",
       "  </tbody>\n",
       "</table>\n",
       "</div>"
      ],
      "text/plain": [
       "    item_id   users    avg_seq  popularity_linear  popularity_quadro  \\\n",
       "0     53404  110026  17.389681        6327.085724       6.961439e+08   \n",
       "1     10216   51214   4.736381       10812.897757       5.537717e+08   \n",
       "2      7786   43652   3.923302       11126.340675       4.856870e+08   \n",
       "3      8264   42418   3.971946       10679.400316       4.529988e+08   \n",
       "4     37384   79512  14.373403        5531.884227       4.398512e+08   \n",
       "5      1721   27536   1.944182       14163.281890       3.900001e+08   \n",
       "6    178529  100866  38.155781        2643.531269       2.666424e+08   \n",
       "7      1062   19171   1.379062       13901.476700       2.665052e+08   \n",
       "8     48951   69382  19.248840        3604.476991       2.500858e+08   \n",
       "9      9769   37909   5.986547        6332.365169       2.400536e+08   \n",
       "10      986   19272   1.684516       11440.672252       2.204846e+08   \n",
       "11     4116   25037   3.098974        8079.126796       2.022771e+08   \n",
       "12     3264   21962   2.531555        8675.302061       1.905270e+08   \n",
       "13    18860   42483  10.418544        4077.633156       1.732301e+08   \n",
       "14    52100   57759  20.890891        2764.793456       1.596917e+08   \n",
       "15    10892   32330   6.903371        4683.218930       1.514085e+08   \n",
       "16   137670   62729  31.005197        2023.176956       1.269119e+08   \n",
       "17    12480   29986   8.305376        3610.432637       1.082624e+08   \n",
       "18    10858   24403   5.679712        4296.521039       1.048480e+08   \n",
       "19   328683   74965  54.365584        1378.905450       1.033696e+08   \n",
       "\n",
       "                         name  \n",
       "0     Smells Like Teen Spirit  \n",
       "1              Wind Of Change  \n",
       "2           My Favourite Game  \n",
       "3                Paper Planes  \n",
       "4                      Zombie  \n",
       "5                        Stop  \n",
       "6                        Numb  \n",
       "7             La Camisa Negra  \n",
       "8                It's My Life  \n",
       "9   I Was Made For Lovin' You  \n",
       "10              Fortunate Son  \n",
       "11            Heads Will Roll  \n",
       "12                   Stronger  \n",
       "13              Lose Yourself  \n",
       "14                Don't Speak  \n",
       "15     What A Wonderful World  \n",
       "16         Gangsta's Paradise  \n",
       "17                   All Star  \n",
       "18            The Lady In Red  \n",
       "19           Bring Me To Life  "
      ]
     },
     "execution_count": 15,
     "metadata": {},
     "output_type": "execute_result"
    }
   ],
   "source": [
    "item_popularity[\"popularity_quadro\"] = item_popularity[\"users\"]**2 / item_popularity[\"avg_seq\"]\n",
    "item_popularity.sort_values(by=[\"popularity_quadro\"],ascending=False).merge(items[['item_id','name']],on='item_id')[0:20]"
   ]
  },
  {
   "cell_type": "code",
   "execution_count": 17,
   "id": "0e8d596c",
   "metadata": {},
   "outputs": [
    {
     "name": "stdout",
     "output_type": "stream",
     "text": [
      "(41279, 41)\n"
     ]
    }
   ],
   "source": [
    "print(pop_k_metrics(item_popularity,\"popularity_quadro\",100))"
   ]
  },
  {
   "cell_type": "markdown",
   "id": "ed239b19",
   "metadata": {},
   "source": [
    "В топе больше народных хитов не зарытых в историю\n",
    "\n",
    "Ещё один эксперимент:"
   ]
  },
  {
   "cell_type": "code",
   "execution_count": 28,
   "id": "d4971cf3",
   "metadata": {},
   "outputs": [
    {
     "data": {
      "text/html": [
       "<div>\n",
       "<style scoped>\n",
       "    .dataframe tbody tr th:only-of-type {\n",
       "        vertical-align: middle;\n",
       "    }\n",
       "\n",
       "    .dataframe tbody tr th {\n",
       "        vertical-align: top;\n",
       "    }\n",
       "\n",
       "    .dataframe thead th {\n",
       "        text-align: right;\n",
       "    }\n",
       "</style>\n",
       "<table border=\"1\" class=\"dataframe\">\n",
       "  <thead>\n",
       "    <tr style=\"text-align: right;\">\n",
       "      <th></th>\n",
       "      <th>item_id</th>\n",
       "      <th>users</th>\n",
       "      <th>avg_seq</th>\n",
       "      <th>popularity_linear</th>\n",
       "      <th>popularity_quadro</th>\n",
       "      <th>popularity_exp</th>\n",
       "      <th>name</th>\n",
       "    </tr>\n",
       "  </thead>\n",
       "  <tbody>\n",
       "    <tr>\n",
       "      <th>0</th>\n",
       "      <td>53404</td>\n",
       "      <td>110026</td>\n",
       "      <td>17.389681</td>\n",
       "      <td>6327.085724</td>\n",
       "      <td>6.961439e+08</td>\n",
       "      <td>99155.605168</td>\n",
       "      <td>Smells Like Teen Spirit</td>\n",
       "    </tr>\n",
       "    <tr>\n",
       "      <th>1</th>\n",
       "      <td>178529</td>\n",
       "      <td>100866</td>\n",
       "      <td>38.155781</td>\n",
       "      <td>2643.531269</td>\n",
       "      <td>2.666424e+08</td>\n",
       "      <td>80281.747142</td>\n",
       "      <td>Numb</td>\n",
       "    </tr>\n",
       "    <tr>\n",
       "      <th>2</th>\n",
       "      <td>37384</td>\n",
       "      <td>79512</td>\n",
       "      <td>14.373403</td>\n",
       "      <td>5531.884227</td>\n",
       "      <td>4.398512e+08</td>\n",
       "      <td>72961.012864</td>\n",
       "      <td>Zombie</td>\n",
       "    </tr>\n",
       "    <tr>\n",
       "      <th>3</th>\n",
       "      <td>48951</td>\n",
       "      <td>69382</td>\n",
       "      <td>19.248840</td>\n",
       "      <td>3604.476991</td>\n",
       "      <td>2.500858e+08</td>\n",
       "      <td>61835.617212</td>\n",
       "      <td>It's My Life</td>\n",
       "    </tr>\n",
       "    <tr>\n",
       "      <th>4</th>\n",
       "      <td>328683</td>\n",
       "      <td>74965</td>\n",
       "      <td>54.365584</td>\n",
       "      <td>1378.905450</td>\n",
       "      <td>1.033696e+08</td>\n",
       "      <td>54152.412143</td>\n",
       "      <td>Bring Me To Life</td>\n",
       "    </tr>\n",
       "    <tr>\n",
       "      <th>5</th>\n",
       "      <td>137670</td>\n",
       "      <td>62729</td>\n",
       "      <td>31.005197</td>\n",
       "      <td>2023.176956</td>\n",
       "      <td>1.269119e+08</td>\n",
       "      <td>52109.566506</td>\n",
       "      <td>Gangsta's Paradise</td>\n",
       "    </tr>\n",
       "    <tr>\n",
       "      <th>6</th>\n",
       "      <td>52100</td>\n",
       "      <td>57759</td>\n",
       "      <td>20.890891</td>\n",
       "      <td>2764.793456</td>\n",
       "      <td>1.596917e+08</td>\n",
       "      <td>50973.626488</td>\n",
       "      <td>Don't Speak</td>\n",
       "    </tr>\n",
       "    <tr>\n",
       "      <th>7</th>\n",
       "      <td>148345</td>\n",
       "      <td>65611</td>\n",
       "      <td>45.637942</td>\n",
       "      <td>1437.641519</td>\n",
       "      <td>9.432510e+07</td>\n",
       "      <td>49935.587539</td>\n",
       "      <td>Californication</td>\n",
       "    </tr>\n",
       "    <tr>\n",
       "      <th>8</th>\n",
       "      <td>10216</td>\n",
       "      <td>51214</td>\n",
       "      <td>4.736381</td>\n",
       "      <td>10812.897757</td>\n",
       "      <td>5.537717e+08</td>\n",
       "      <td>49783.298857</td>\n",
       "      <td>Wind Of Change</td>\n",
       "    </tr>\n",
       "    <tr>\n",
       "      <th>9</th>\n",
       "      <td>795836</td>\n",
       "      <td>83749</td>\n",
       "      <td>92.921229</td>\n",
       "      <td>901.290275</td>\n",
       "      <td>7.548216e+07</td>\n",
       "      <td>48036.578781</td>\n",
       "      <td>Shape Of My Heart</td>\n",
       "    </tr>\n",
       "    <tr>\n",
       "      <th>10</th>\n",
       "      <td>178495</td>\n",
       "      <td>58640</td>\n",
       "      <td>49.204297</td>\n",
       "      <td>1191.765823</td>\n",
       "      <td>6.988515e+07</td>\n",
       "      <td>43687.998200</td>\n",
       "      <td>In the End</td>\n",
       "    </tr>\n",
       "    <tr>\n",
       "      <th>11</th>\n",
       "      <td>7786</td>\n",
       "      <td>43652</td>\n",
       "      <td>3.923302</td>\n",
       "      <td>11126.340675</td>\n",
       "      <td>4.856870e+08</td>\n",
       "      <td>42639.439020</td>\n",
       "      <td>My Favourite Game</td>\n",
       "    </tr>\n",
       "    <tr>\n",
       "      <th>12</th>\n",
       "      <td>8264</td>\n",
       "      <td>42418</td>\n",
       "      <td>3.971946</td>\n",
       "      <td>10679.400316</td>\n",
       "      <td>4.529988e+08</td>\n",
       "      <td>41422.008073</td>\n",
       "      <td>Paper Planes</td>\n",
       "    </tr>\n",
       "    <tr>\n",
       "      <th>13</th>\n",
       "      <td>18860</td>\n",
       "      <td>42483</td>\n",
       "      <td>10.418544</td>\n",
       "      <td>4077.633156</td>\n",
       "      <td>1.732301e+08</td>\n",
       "      <td>39916.090752</td>\n",
       "      <td>Lose Yourself</td>\n",
       "    </tr>\n",
       "    <tr>\n",
       "      <th>14</th>\n",
       "      <td>57730</td>\n",
       "      <td>46560</td>\n",
       "      <td>27.899055</td>\n",
       "      <td>1668.873732</td>\n",
       "      <td>7.770276e+07</td>\n",
       "      <td>39403.224647</td>\n",
       "      <td>Nothing Else Matters</td>\n",
       "    </tr>\n",
       "    <tr>\n",
       "      <th>15</th>\n",
       "      <td>35505245</td>\n",
       "      <td>95523</td>\n",
       "      <td>155.747914</td>\n",
       "      <td>613.318005</td>\n",
       "      <td>5.858598e+07</td>\n",
       "      <td>37625.118416</td>\n",
       "      <td>I Got Love</td>\n",
       "    </tr>\n",
       "    <tr>\n",
       "      <th>16</th>\n",
       "      <td>69542</td>\n",
       "      <td>43528</td>\n",
       "      <td>26.605495</td>\n",
       "      <td>1636.052984</td>\n",
       "      <td>7.121411e+07</td>\n",
       "      <td>37123.434549</td>\n",
       "      <td>Big City Life</td>\n",
       "    </tr>\n",
       "    <tr>\n",
       "      <th>17</th>\n",
       "      <td>560473</td>\n",
       "      <td>56537</td>\n",
       "      <td>70.732971</td>\n",
       "      <td>799.301923</td>\n",
       "      <td>4.519013e+07</td>\n",
       "      <td>37031.377234</td>\n",
       "      <td>Полковнику никто не пишет</td>\n",
       "    </tr>\n",
       "    <tr>\n",
       "      <th>18</th>\n",
       "      <td>595258</td>\n",
       "      <td>56158</td>\n",
       "      <td>70.906336</td>\n",
       "      <td>792.002569</td>\n",
       "      <td>4.447728e+07</td>\n",
       "      <td>36745.007424</td>\n",
       "      <td>Я свободен</td>\n",
       "    </tr>\n",
       "    <tr>\n",
       "      <th>19</th>\n",
       "      <td>9769</td>\n",
       "      <td>37909</td>\n",
       "      <td>5.986547</td>\n",
       "      <td>6332.365169</td>\n",
       "      <td>2.400536e+08</td>\n",
       "      <td>36575.426188</td>\n",
       "      <td>I Was Made For Lovin' You</td>\n",
       "    </tr>\n",
       "  </tbody>\n",
       "</table>\n",
       "</div>"
      ],
      "text/plain": [
       "     item_id   users     avg_seq  popularity_linear  popularity_quadro  \\\n",
       "0      53404  110026   17.389681        6327.085724       6.961439e+08   \n",
       "1     178529  100866   38.155781        2643.531269       2.666424e+08   \n",
       "2      37384   79512   14.373403        5531.884227       4.398512e+08   \n",
       "3      48951   69382   19.248840        3604.476991       2.500858e+08   \n",
       "4     328683   74965   54.365584        1378.905450       1.033696e+08   \n",
       "5     137670   62729   31.005197        2023.176956       1.269119e+08   \n",
       "6      52100   57759   20.890891        2764.793456       1.596917e+08   \n",
       "7     148345   65611   45.637942        1437.641519       9.432510e+07   \n",
       "8      10216   51214    4.736381       10812.897757       5.537717e+08   \n",
       "9     795836   83749   92.921229         901.290275       7.548216e+07   \n",
       "10    178495   58640   49.204297        1191.765823       6.988515e+07   \n",
       "11      7786   43652    3.923302       11126.340675       4.856870e+08   \n",
       "12      8264   42418    3.971946       10679.400316       4.529988e+08   \n",
       "13     18860   42483   10.418544        4077.633156       1.732301e+08   \n",
       "14     57730   46560   27.899055        1668.873732       7.770276e+07   \n",
       "15  35505245   95523  155.747914         613.318005       5.858598e+07   \n",
       "16     69542   43528   26.605495        1636.052984       7.121411e+07   \n",
       "17    560473   56537   70.732971         799.301923       4.519013e+07   \n",
       "18    595258   56158   70.906336         792.002569       4.447728e+07   \n",
       "19      9769   37909    5.986547        6332.365169       2.400536e+08   \n",
       "\n",
       "    popularity_exp                       name  \n",
       "0     99155.605168    Smells Like Teen Spirit  \n",
       "1     80281.747142                       Numb  \n",
       "2     72961.012864                     Zombie  \n",
       "3     61835.617212               It's My Life  \n",
       "4     54152.412143           Bring Me To Life  \n",
       "5     52109.566506         Gangsta's Paradise  \n",
       "6     50973.626488                Don't Speak  \n",
       "7     49935.587539            Californication  \n",
       "8     49783.298857             Wind Of Change  \n",
       "9     48036.578781          Shape Of My Heart  \n",
       "10    43687.998200                 In the End  \n",
       "11    42639.439020          My Favourite Game  \n",
       "12    41422.008073               Paper Planes  \n",
       "13    39916.090752              Lose Yourself  \n",
       "14    39403.224647       Nothing Else Matters  \n",
       "15    37625.118416                 I Got Love  \n",
       "16    37123.434549              Big City Life  \n",
       "17    37031.377234  Полковнику никто не пишет  \n",
       "18    36745.007424                 Я свободен  \n",
       "19    36575.426188  I Was Made For Lovin' You  "
      ]
     },
     "execution_count": 28,
     "metadata": {},
     "output_type": "execute_result"
    }
   ],
   "source": [
    "secret_param = 1.006\n",
    "\"\"\"\n",
    "кажется логичным что, если трек слушали последний раз давно, то его популярность начала хромать\n",
    "поэтому место этого фактора в знаменателе веса популярности.\n",
    "Коэффициент `secret_param` следовательно должен быть > 1 иначе эффект от истории обратный.\n",
    "Делать его большим тоже плохо, т.к. массовость мнения быстро сойдёт на нет из-за большого делителя\n",
    "\n",
    "Настраивать параметр надо на баллансе здравого смысла, ну это вроде должно быть обычной практикой, или нет ....\n",
    "\"\"\"\n",
    "item_popularity[\"popularity_exp\"] = item_popularity[\"users\"] / secret_param**item_popularity[\"avg_seq\"]\n",
    "item_popularity.sort_values(by=[\"popularity_exp\"],ascending=False).merge(items[['item_id','name']],on='item_id')[0:20]"
   ]
  },
  {
   "cell_type": "code",
   "execution_count": 29,
   "id": "6026ae69",
   "metadata": {},
   "outputs": [
    {
     "name": "stdout",
     "output_type": "stream",
     "text": [
      "(46918, 58)\n"
     ]
    }
   ],
   "source": [
    "print(pop_k_metrics(item_popularity,\"popularity_exp\",100))"
   ]
  },
  {
   "cell_type": "markdown",
   "id": "63bfdd47",
   "metadata": {},
   "source": [
    "Треки много слушают, и не дают зарыться в историю - такой подход возьмём за финальный, как наиболее устойчивый по влиянию параметров, а ещё влияние истории можно регулировать свободным параметром `secret_param` - модель пригодна для тонкой настройки"
   ]
  },
  {
   "cell_type": "code",
   "execution_count": 30,
   "id": "f14a1b3b",
   "metadata": {},
   "outputs": [],
   "source": [
    "# оставляем все сгенерированные веса популярности для будущего обучения модели ранжирования, \n",
    "# нам всё равно а ей веселее + они не являются линейной комбинацией друг друга - тоже не плохо.\n",
    "\n",
    "items_top_pop_hlop = item_popularity.sort_values(by=[\"popularity_exp\"],ascending=False).merge(items[['item_id','name']],on='item_id')\n",
    "items_top_pop_hlop.to_parquet(\"./data/top_popular.parquet\")"
   ]
  },
  {
   "cell_type": "markdown",
   "id": "fd356495",
   "metadata": {},
   "source": [
    "Пример расчёта покрытия от рекомендательной системы по холодным пользователям"
   ]
  },
  {
   "cell_type": "code",
   "execution_count": 40,
   "id": "bdc06676",
   "metadata": {},
   "outputs": [
    {
     "name": "stdout",
     "output_type": "stream",
     "text": [
      "42% холодных пользователей, прослушали треки из top 100 популярных \n"
     ]
    }
   ],
   "source": [
    "k=100\n",
    "# прилепим веса популярноти трекам в тестовой выборке холдным пользователям, \n",
    "# но не всем, а только тем, которые были в топ@k популярных треков\n",
    "cold_users_events_with_recs = events_test[events_test[\"user_id\"].isin(cold_users)] \\\n",
    "    .merge(items_top_pop_hlop[[\"popularity_exp\",\"item_id\"]][0:k], on=\"item_id\", how=\"left\")\n",
    "# этим трекам ничего не прилипло\n",
    "cold_user_items_no_avg_rating_idx = cold_users_events_with_recs[\"popularity_exp\"].isnull()\n",
    "# поэтому выберем, кроме них\n",
    "cold_user_recs = cold_users_events_with_recs[~cold_user_items_no_avg_rating_idx]\n",
    "# количество уникальных холодных пользователей, прослушавхых хотябы один трек из топ@k\n",
    "count_cold_users_with_recs = len(cold_user_recs['user_id'].drop_duplicates())\n",
    "\n",
    "print(f\"{round(count_cold_users_with_recs/len(cold_users)*100)}% холодных пользователей, прослушали треки из top {k} популярных \")"
   ]
  },
  {
   "cell_type": "markdown",
   "id": "2ad231f2-6158-421a-b7fa-01d8bc3ed572",
   "metadata": {},
   "source": [
    "# Персональные"
   ]
  },
  {
   "cell_type": "markdown",
   "id": "86159460-cd9d-4b63-8248-604ea3c9aebf",
   "metadata": {},
   "source": [
    "Рассчитаем персональные рекомендации."
   ]
  },
  {
   "cell_type": "code",
   "execution_count": 41,
   "id": "d2944822-569c-4f9b-82dc-70a7fa2d542e",
   "metadata": {},
   "outputs": [
    {
     "name": "stdout",
     "output_type": "stream",
     "text": [
      "sparsity = 99.98378775899873 %\n"
     ]
    }
   ],
   "source": [
    "sparsity = (1 - len(events)/(events['user_id'].nunique() * events['item_id'].nunique())) * 100\n",
    "print(\"sparsity =\",sparsity,\"%\")"
   ]
  },
  {
   "cell_type": "markdown",
   "id": "9a167613",
   "metadata": {},
   "source": [
    "Матрица взаимодействия как обычно сильно разряжена"
   ]
  },
  {
   "cell_type": "code",
   "execution_count": 11,
   "id": "1e8cdb58-3a8c-45ad-8e5f-7f950314aa56",
   "metadata": {},
   "outputs": [],
   "source": [
    "import scipy\n",
    "import sklearn.preprocessing"
   ]
  },
  {
   "cell_type": "code",
   "execution_count": 12,
   "id": "1f61fb38",
   "metadata": {},
   "outputs": [
    {
     "name": "stderr",
     "output_type": "stream",
     "text": [
      "/tmp/ipykernel_4382/3459968091.py:5: SettingWithCopyWarning: \n",
      "A value is trying to be set on a copy of a slice from a DataFrame.\n",
      "Try using .loc[row_indexer,col_indexer] = value instead\n",
      "\n",
      "See the caveats in the documentation: https://pandas.pydata.org/pandas-docs/stable/user_guide/indexing.html#returning-a-view-versus-a-copy\n",
      "  events_train[\"user_id_enc\"] = user_encoder.transform(events_train[\"user_id\"])\n",
      "/tmp/ipykernel_4382/3459968091.py:6: SettingWithCopyWarning: \n",
      "A value is trying to be set on a copy of a slice from a DataFrame.\n",
      "Try using .loc[row_indexer,col_indexer] = value instead\n",
      "\n",
      "See the caveats in the documentation: https://pandas.pydata.org/pandas-docs/stable/user_guide/indexing.html#returning-a-view-versus-a-copy\n",
      "  events_test[\"user_id_enc\"] = user_encoder.transform(events_test[\"user_id\"])\n",
      "/tmp/ipykernel_4382/3459968091.py:13: SettingWithCopyWarning: \n",
      "A value is trying to be set on a copy of a slice from a DataFrame.\n",
      "Try using .loc[row_indexer,col_indexer] = value instead\n",
      "\n",
      "See the caveats in the documentation: https://pandas.pydata.org/pandas-docs/stable/user_guide/indexing.html#returning-a-view-versus-a-copy\n",
      "  events_train[\"item_id_enc\"] =  item_encoder.transform(events_train[\"item_id\"])\n",
      "/tmp/ipykernel_4382/3459968091.py:14: SettingWithCopyWarning: \n",
      "A value is trying to be set on a copy of a slice from a DataFrame.\n",
      "Try using .loc[row_indexer,col_indexer] = value instead\n",
      "\n",
      "See the caveats in the documentation: https://pandas.pydata.org/pandas-docs/stable/user_guide/indexing.html#returning-a-view-versus-a-copy\n",
      "  events_test[\"item_id_enc\"] = item_encoder.transform(events_test[\"item_id\"])\n"
     ]
    }
   ],
   "source": [
    "# перекодируем идентификаторы пользователей: \n",
    "# из имеющихся в последовательность 0, 1, 2, ...\n",
    "user_encoder = sklearn.preprocessing.LabelEncoder()\n",
    "user_encoder.fit(events[\"user_id\"])\n",
    "events_train[\"user_id_enc\"] = user_encoder.transform(events_train[\"user_id\"])\n",
    "events_test[\"user_id_enc\"] = user_encoder.transform(events_test[\"user_id\"])\n",
    "\n",
    "# перекодируем идентификаторы объектов: \n",
    "# из имеющихся в последовательность 0, 1, 2, ...\n",
    "item_encoder = sklearn.preprocessing.LabelEncoder()\n",
    "item_encoder.fit(items[\"item_id\"])\n",
    "items[\"item_id_enc\"] = item_encoder.transform(items[\"item_id\"])\n",
    "events_train[\"item_id_enc\"] =  item_encoder.transform(events_train[\"item_id\"])\n",
    "events_test[\"item_id_enc\"] = item_encoder.transform(events_test[\"item_id\"])"
   ]
  },
  {
   "cell_type": "code",
   "execution_count": 9,
   "id": "600a0f47",
   "metadata": {},
   "outputs": [
    {
     "name": "stderr",
     "output_type": "stream",
     "text": [
      "/tmp/ipykernel_4490/1220632097.py:5: SettingWithCopyWarning: \n",
      "A value is trying to be set on a copy of a slice from a DataFrame.\n",
      "Try using .loc[row_indexer,col_indexer] = value instead\n",
      "\n",
      "See the caveats in the documentation: https://pandas.pydata.org/pandas-docs/stable/user_guide/indexing.html#returning-a-view-versus-a-copy\n",
      "  events_train.loc[:,\"track_seq_ones\"]=1\n",
      "/tmp/ipykernel_4490/1220632097.py:6: SettingWithCopyWarning: \n",
      "A value is trying to be set on a copy of a slice from a DataFrame.\n",
      "Try using .loc[row_indexer,col_indexer] = value instead\n",
      "\n",
      "See the caveats in the documentation: https://pandas.pydata.org/pandas-docs/stable/user_guide/indexing.html#returning-a-view-versus-a-copy\n",
      "  events_test.loc[:,\"track_seq_ones\"]=1\n"
     ]
    }
   ],
   "source": [
    "# преобразуем очерёдность треков в нечто отдалённо напоминающее оценку\n",
    "#events_train[\"track_seq_invert\"] = 1/events_train[\"track_seq\"]\n",
    "#events_test[\"track_seq_invert\"] = 1/events_test[\"track_seq\"]\n",
    "\n",
    "events_train.loc[:,\"track_seq_ones\"]=1\n",
    "events_test.loc[:,\"track_seq_ones\"]=1\n"
   ]
  },
  {
   "cell_type": "code",
   "execution_count": 10,
   "id": "869cbfc7",
   "metadata": {},
   "outputs": [],
   "source": [
    "user_item_matrix_train = scipy.sparse.csr_matrix((\n",
    "    events_train['track_seq_ones'],\n",
    "    (events_train['user_id_enc'], events_train['item_id_enc'])),\n",
    "    dtype=np.int8)"
   ]
  },
  {
   "cell_type": "code",
   "execution_count": 49,
   "id": "54d29527",
   "metadata": {},
   "outputs": [
    {
     "data": {
      "text/plain": [
       "4.859903175383806"
      ]
     },
     "execution_count": 49,
     "metadata": {},
     "output_type": "execute_result"
    }
   ],
   "source": [
    "# Любопытно посмотреть на вес ui маттрицы\n",
    "import sys\n",
    "\n",
    "sum([sys.getsizeof(i) for i in user_item_matrix_train.data])/1024**3 "
   ]
  },
  {
   "cell_type": "markdown",
   "id": "66325eee",
   "metadata": {},
   "source": [
    "Почти 5 гигов, лучше бы не смотрел )"
   ]
  },
  {
   "cell_type": "code",
   "execution_count": 24,
   "id": "4534c71d",
   "metadata": {},
   "outputs": [
    {
     "name": "stderr",
     "output_type": "stream",
     "text": [
      "/home/mle-user/mle_projects/mle-recsys-project-start/env_recsys_start/lib/python3.10/site-packages/implicit/cpu/als.py:95: RuntimeWarning: OpenBLAS is configured to use 4 threads. It is highly recommended to disable its internal threadpool by setting the environment variable 'OPENBLAS_NUM_THREADS=1' or by calling 'threadpoolctl.threadpool_limits(1, \"blas\")'. Having OpenBLAS use a threadpool can lead to severe performance issues here.\n",
      "  check_blas_config()\n",
      "100%|██████████| 50/50 [39:52<00:00, 47.84s/it]\n"
     ]
    }
   ],
   "source": [
    "from implicit.als import AlternatingLeastSquares\n",
    "\n",
    "als_model = AlternatingLeastSquares(factors=50, iterations=50, regularization=0.05, random_state=0)\n",
    "als_model.fit(user_item_matrix_train)"
   ]
  },
  {
   "cell_type": "code",
   "execution_count": 6,
   "id": "189ffe3d",
   "metadata": {},
   "outputs": [],
   "source": [
    "import joblib"
   ]
  },
  {
   "cell_type": "code",
   "execution_count": 25,
   "id": "8644f349",
   "metadata": {},
   "outputs": [
    {
     "data": {
      "text/plain": [
       "['models/als_model_allones.joblib']"
      ]
     },
     "execution_count": 25,
     "metadata": {},
     "output_type": "execute_result"
    }
   ],
   "source": [
    "joblib.dump(als_model, 'models/als_model_allones.joblib')\n",
    "#joblib.dump(item_encoder, 'models/item_encoder.joblib')\n",
    "#joblib.dump(user_encoder, 'models/user_encoder.joblib')\n"
   ]
  },
  {
   "cell_type": "code",
   "execution_count": 7,
   "id": "2b744c0d",
   "metadata": {},
   "outputs": [
    {
     "name": "stderr",
     "output_type": "stream",
     "text": [
      "/home/mle-user/mle_projects/mle-recsys-project-start/env_recsys_start/lib/python3.10/site-packages/tqdm/auto.py:21: TqdmWarning: IProgress not found. Please update jupyter and ipywidgets. See https://ipywidgets.readthedocs.io/en/stable/user_install.html\n",
      "  from .autonotebook import tqdm as notebook_tqdm\n"
     ]
    }
   ],
   "source": [
    "als_model = joblib.load('models/als_model_allones.joblib')"
   ]
  },
  {
   "cell_type": "code",
   "execution_count": 12,
   "id": "b8b6f401",
   "metadata": {},
   "outputs": [],
   "source": [
    "def get_recommendations_als(user_item_matrix, model, user_id, user_encoder, item_encoder, include_seen=True, n=5):\n",
    "    \"\"\"\n",
    "    Возвращает отранжированные рекомендации для заданного пользователя\n",
    "    \"\"\"\n",
    "    user_id_enc = user_encoder.transform([user_id])[0]\n",
    "    recommendations = model.recommend(\n",
    "         user_id_enc, \n",
    "         user_item_matrix[user_id_enc], \n",
    "         filter_already_liked_items=not include_seen,\n",
    "         N=n)\n",
    "    recommendations = pd.DataFrame({\"item_id_enc\": recommendations[0], \"score\": recommendations[1]})\n",
    "    recommendations[\"item_id\"] = item_encoder.inverse_transform(recommendations[\"item_id_enc\"])\n",
    "    \n",
    "    return recommendations"
   ]
  },
  {
   "cell_type": "code",
   "execution_count": 13,
   "id": "a3471718",
   "metadata": {},
   "outputs": [
    {
     "name": "stdout",
     "output_type": "stream",
     "text": [
      "user_id: 1044094\n",
      "История (последние события, recent)\n"
     ]
    },
    {
     "data": {
      "text/html": [
       "<div>\n",
       "<style scoped>\n",
       "    .dataframe tbody tr th:only-of-type {\n",
       "        vertical-align: middle;\n",
       "    }\n",
       "\n",
       "    .dataframe tbody tr th {\n",
       "        vertical-align: top;\n",
       "    }\n",
       "\n",
       "    .dataframe thead th {\n",
       "        text-align: right;\n",
       "    }\n",
       "</style>\n",
       "<table border=\"1\" class=\"dataframe\">\n",
       "  <thead>\n",
       "    <tr style=\"text-align: right;\">\n",
       "      <th></th>\n",
       "      <th>name</th>\n",
       "      <th>albums</th>\n",
       "      <th>genres</th>\n",
       "      <th>artists</th>\n",
       "    </tr>\n",
       "  </thead>\n",
       "  <tbody>\n",
       "    <tr>\n",
       "      <th>242</th>\n",
       "      <td>Straight Outta Flames</td>\n",
       "      <td>[12627839]</td>\n",
       "      <td>[13]</td>\n",
       "      <td>[9249023]</td>\n",
       "    </tr>\n",
       "    <tr>\n",
       "      <th>243</th>\n",
       "      <td>Meth Phonk</td>\n",
       "      <td>[12627962]</td>\n",
       "      <td>[13]</td>\n",
       "      <td>[9249023]</td>\n",
       "    </tr>\n",
       "    <tr>\n",
       "      <th>244</th>\n",
       "      <td>I NEED A REHAB</td>\n",
       "      <td>[12638732]</td>\n",
       "      <td>[13]</td>\n",
       "      <td>[9249023]</td>\n",
       "    </tr>\n",
       "    <tr>\n",
       "      <th>245</th>\n",
       "      <td>первое свидание</td>\n",
       "      <td>[12747463, 13441525]</td>\n",
       "      <td>[6, 70]</td>\n",
       "      <td>[6286764]</td>\n",
       "    </tr>\n",
       "    <tr>\n",
       "      <th>246</th>\n",
       "      <td>В сумерках</td>\n",
       "      <td>[12886393]</td>\n",
       "      <td>[13]</td>\n",
       "      <td>[9679898]</td>\n",
       "    </tr>\n",
       "    <tr>\n",
       "      <th>247</th>\n",
       "      <td>unrequited Love</td>\n",
       "      <td>[12953180]</td>\n",
       "      <td>[44, 75]</td>\n",
       "      <td>[8617940]</td>\n",
       "    </tr>\n",
       "    <tr>\n",
       "      <th>248</th>\n",
       "      <td>зима</td>\n",
       "      <td>[13074446, 16385141]</td>\n",
       "      <td>[11, 20]</td>\n",
       "      <td>[9617142]</td>\n",
       "    </tr>\n",
       "    <tr>\n",
       "      <th>249</th>\n",
       "      <td>ayaz</td>\n",
       "      <td>[13315282]</td>\n",
       "      <td>[3, 75]</td>\n",
       "      <td>[6910614]</td>\n",
       "    </tr>\n",
       "    <tr>\n",
       "      <th>250</th>\n",
       "      <td>Devil Dance</td>\n",
       "      <td>[13424901]</td>\n",
       "      <td>[68]</td>\n",
       "      <td>[95546]</td>\n",
       "    </tr>\n",
       "    <tr>\n",
       "      <th>251</th>\n",
       "      <td>O'lord! I Have My Doubts</td>\n",
       "      <td>[13516193]</td>\n",
       "      <td>[44, 75]</td>\n",
       "      <td>[4164905]</td>\n",
       "    </tr>\n",
       "  </tbody>\n",
       "</table>\n",
       "</div>"
      ],
      "text/plain": [
       "                         name                albums    genres    artists\n",
       "242     Straight Outta Flames            [12627839]      [13]  [9249023]\n",
       "243                Meth Phonk            [12627962]      [13]  [9249023]\n",
       "244            I NEED A REHAB            [12638732]      [13]  [9249023]\n",
       "245           первое свидание  [12747463, 13441525]   [6, 70]  [6286764]\n",
       "246                В сумерках            [12886393]      [13]  [9679898]\n",
       "247           unrequited Love            [12953180]  [44, 75]  [8617940]\n",
       "248                      зима  [13074446, 16385141]  [11, 20]  [9617142]\n",
       "249                      ayaz            [13315282]   [3, 75]  [6910614]\n",
       "250               Devil Dance            [13424901]      [68]    [95546]\n",
       "251  O'lord! I Have My Doubts            [13516193]  [44, 75]  [4164905]"
      ]
     },
     "metadata": {},
     "output_type": "display_data"
    },
    {
     "name": "stdout",
     "output_type": "stream",
     "text": [
      "Рекомендации\n"
     ]
    },
    {
     "data": {
      "text/html": [
       "<div>\n",
       "<style scoped>\n",
       "    .dataframe tbody tr th:only-of-type {\n",
       "        vertical-align: middle;\n",
       "    }\n",
       "\n",
       "    .dataframe tbody tr th {\n",
       "        vertical-align: top;\n",
       "    }\n",
       "\n",
       "    .dataframe thead th {\n",
       "        text-align: right;\n",
       "    }\n",
       "</style>\n",
       "<table border=\"1\" class=\"dataframe\">\n",
       "  <thead>\n",
       "    <tr style=\"text-align: right;\">\n",
       "      <th></th>\n",
       "      <th>item_id_enc</th>\n",
       "      <th>score</th>\n",
       "      <th>item_id</th>\n",
       "      <th>name</th>\n",
       "      <th>albums</th>\n",
       "      <th>genres</th>\n",
       "      <th>artists</th>\n",
       "      <th>seen</th>\n",
       "    </tr>\n",
       "  </thead>\n",
       "  <tbody>\n",
       "    <tr>\n",
       "      <th>0</th>\n",
       "      <td>9098</td>\n",
       "      <td>0.787260</td>\n",
       "      <td>53404</td>\n",
       "      <td>Smells Like Teen Spirit</td>\n",
       "      <td>[4367, 89708, 294911, 294912, 294914, 297393, ...</td>\n",
       "      <td>[13, 14, 102]</td>\n",
       "      <td>[9262]</td>\n",
       "      <td>False</td>\n",
       "    </tr>\n",
       "    <tr>\n",
       "      <th>1</th>\n",
       "      <td>690843</td>\n",
       "      <td>0.614803</td>\n",
       "      <td>50685843</td>\n",
       "      <td>Кукла колдуна</td>\n",
       "      <td>[7019257]</td>\n",
       "      <td>[50]</td>\n",
       "      <td>[41052]</td>\n",
       "      <td>True</td>\n",
       "    </tr>\n",
       "    <tr>\n",
       "      <th>2</th>\n",
       "      <td>26665</td>\n",
       "      <td>0.576465</td>\n",
       "      <td>178529</td>\n",
       "      <td>Numb</td>\n",
       "      <td>[18113, 21924, 21940, 488052, 10009799]</td>\n",
       "      <td>[41, 47]</td>\n",
       "      <td>[36800]</td>\n",
       "      <td>False</td>\n",
       "    </tr>\n",
       "    <tr>\n",
       "      <th>3</th>\n",
       "      <td>64735</td>\n",
       "      <td>0.571924</td>\n",
       "      <td>628970</td>\n",
       "      <td>I Hate Everything About You</td>\n",
       "      <td>[67225, 67360, 67408, 73871, 225918, 3451024]</td>\n",
       "      <td>[13]</td>\n",
       "      <td>[184100]</td>\n",
       "      <td>True</td>\n",
       "    </tr>\n",
       "    <tr>\n",
       "      <th>4</th>\n",
       "      <td>69084</td>\n",
       "      <td>0.565494</td>\n",
       "      <td>646516</td>\n",
       "      <td>Chop Suey!</td>\n",
       "      <td>[69613, 73274, 225918, 598087, 624758, 7143101]</td>\n",
       "      <td>[47, 161]</td>\n",
       "      <td>[67437]</td>\n",
       "      <td>False</td>\n",
       "    </tr>\n",
       "    <tr>\n",
       "      <th>5</th>\n",
       "      <td>69992</td>\n",
       "      <td>0.513149</td>\n",
       "      <td>648937</td>\n",
       "      <td>Lonely Day</td>\n",
       "      <td>[69845, 73482, 5465303, 5831437, 7143101, 8303...</td>\n",
       "      <td>[47, 161]</td>\n",
       "      <td>[67437]</td>\n",
       "      <td>True</td>\n",
       "    </tr>\n",
       "    <tr>\n",
       "      <th>6</th>\n",
       "      <td>75559</td>\n",
       "      <td>0.501704</td>\n",
       "      <td>672687</td>\n",
       "      <td>Toxicity</td>\n",
       "      <td>[73274, 598087, 624758, 5824000, 7143101]</td>\n",
       "      <td>[47, 161]</td>\n",
       "      <td>[67437]</td>\n",
       "      <td>True</td>\n",
       "    </tr>\n",
       "    <tr>\n",
       "      <th>7</th>\n",
       "      <td>79121</td>\n",
       "      <td>0.499435</td>\n",
       "      <td>694683</td>\n",
       "      <td>Highway to Hell</td>\n",
       "      <td>[76358, 2832563, 2832579]</td>\n",
       "      <td>[59, 102]</td>\n",
       "      <td>[191175]</td>\n",
       "      <td>True</td>\n",
       "    </tr>\n",
       "    <tr>\n",
       "      <th>8</th>\n",
       "      <td>539360</td>\n",
       "      <td>0.499428</td>\n",
       "      <td>37258117</td>\n",
       "      <td>Я так соскучился</td>\n",
       "      <td>[4714779, 5574608]</td>\n",
       "      <td>[50]</td>\n",
       "      <td>[3315646]</td>\n",
       "      <td>True</td>\n",
       "    </tr>\n",
       "    <tr>\n",
       "      <th>9</th>\n",
       "      <td>26631</td>\n",
       "      <td>0.498212</td>\n",
       "      <td>178495</td>\n",
       "      <td>In the End</td>\n",
       "      <td>[16252, 18111, 21922, 21929, 61564, 5212572, 6...</td>\n",
       "      <td>[41, 47]</td>\n",
       "      <td>[36800]</td>\n",
       "      <td>False</td>\n",
       "    </tr>\n",
       "  </tbody>\n",
       "</table>\n",
       "</div>"
      ],
      "text/plain": [
       "   item_id_enc     score   item_id                         name  \\\n",
       "0         9098  0.787260     53404      Smells Like Teen Spirit   \n",
       "1       690843  0.614803  50685843                Кукла колдуна   \n",
       "2        26665  0.576465    178529                         Numb   \n",
       "3        64735  0.571924    628970  I Hate Everything About You   \n",
       "4        69084  0.565494    646516                   Chop Suey!   \n",
       "5        69992  0.513149    648937                   Lonely Day   \n",
       "6        75559  0.501704    672687                     Toxicity   \n",
       "7        79121  0.499435    694683              Highway to Hell   \n",
       "8       539360  0.499428  37258117             Я так соскучился   \n",
       "9        26631  0.498212    178495                   In the End   \n",
       "\n",
       "                                              albums         genres  \\\n",
       "0  [4367, 89708, 294911, 294912, 294914, 297393, ...  [13, 14, 102]   \n",
       "1                                          [7019257]           [50]   \n",
       "2            [18113, 21924, 21940, 488052, 10009799]       [41, 47]   \n",
       "3      [67225, 67360, 67408, 73871, 225918, 3451024]           [13]   \n",
       "4    [69613, 73274, 225918, 598087, 624758, 7143101]      [47, 161]   \n",
       "5  [69845, 73482, 5465303, 5831437, 7143101, 8303...      [47, 161]   \n",
       "6          [73274, 598087, 624758, 5824000, 7143101]      [47, 161]   \n",
       "7                          [76358, 2832563, 2832579]      [59, 102]   \n",
       "8                                 [4714779, 5574608]           [50]   \n",
       "9  [16252, 18111, 21922, 21929, 61564, 5212572, 6...       [41, 47]   \n",
       "\n",
       "     artists   seen  \n",
       "0     [9262]  False  \n",
       "1    [41052]   True  \n",
       "2    [36800]  False  \n",
       "3   [184100]   True  \n",
       "4    [67437]  False  \n",
       "5    [67437]   True  \n",
       "6    [67437]   True  \n",
       "7   [191175]   True  \n",
       "8  [3315646]   True  \n",
       "9    [36800]  False  "
      ]
     },
     "metadata": {},
     "output_type": "display_data"
    }
   ],
   "source": [
    "user_id = events_train['user_id'].sample().iat[0]\n",
    "print(f\"user_id: {user_id}\")\n",
    "\n",
    "print(\"История (последние события, recent)\")\n",
    "user_history = (\n",
    "    events_train\n",
    "    .query(\"user_id == @user_id\")\n",
    "    .merge(items.set_index(\"item_id\")[[\"name\", \"albums\", \"genres\", \"artists\"]], on=\"item_id\")\n",
    ")\n",
    "user_history_to_print = user_history[[\"name\", \"albums\", \"genres\", \"artists\"]].tail(10)\n",
    "display(user_history_to_print)\n",
    "\n",
    "print(\"Рекомендации\")\n",
    "user_recommendations = get_recommendations_als(user_item_matrix_train, als_model, user_id, user_encoder, item_encoder,include_seen = True,n=10)\n",
    "user_recommendations = user_recommendations.merge(items.set_index(\"item_id\")[[\"name\", \"albums\", \"genres\", \"artists\"]], on=\"item_id\")\n",
    "user_recommendations[\"seen\"] = [  any(user_history[\"item_id\"] == i)  for i in user_recommendations[\"item_id\"]]\n",
    "display(user_recommendations)"
   ]
  },
  {
   "cell_type": "markdown",
   "id": "53182d0c",
   "metadata": {},
   "source": [
    "Было протестировано 2 варианта:\n",
    "- UI-матрица с коэффициентами орбатной истории (1/seq)\n",
    "- UI-матрица с коэффициентами =1 \n",
    "\n",
    "Второй подход при высматривании ведёт себя лучше. Это оправдано тем, что если человек слушал трек давно, это не всегда значит что он ему нравится меньше. "
   ]
  },
  {
   "cell_type": "code",
   "execution_count": null,
   "id": "c170fc2a",
   "metadata": {},
   "outputs": [],
   "source": [
    "#если что-то пошло не так, то на этом моменте можно загрузить енкодеры\n",
    "import joblib\n",
    "user_encoder = joblib.load('./models/user_encoder.joblib')\n",
    "item_encoder = joblib.load('./models/item_encoder.joblib')\n"
   ]
  },
  {
   "cell_type": "code",
   "execution_count": 7,
   "id": "748474f3",
   "metadata": {},
   "outputs": [],
   "source": [
    "# получаем список всех возможных user_id (перекодированных)\n",
    "user_ids_encoded = range(len(user_encoder.classes_))"
   ]
  },
  {
   "cell_type": "code",
   "execution_count": null,
   "id": "6c305a0b",
   "metadata": {},
   "outputs": [],
   "source": [
    "# получаем рекомендации для всех пользователей\n",
    "als_recommendations = als_model.recommend(\n",
    "    user_ids_encoded, \n",
    "    user_item_matrix_train[user_ids_encoded], \n",
    "    filter_already_liked_items=False, N=100)"
   ]
  },
  {
   "cell_type": "code",
   "execution_count": 18,
   "id": "bcdeaa48",
   "metadata": {},
   "outputs": [],
   "source": [
    "import pickle\n",
    "with open('./data/als_recommendations_encoded.pkl', 'wb') as file:\n",
    "    pickle.dump(als_recommendations, file)"
   ]
  },
  {
   "cell_type": "code",
   "execution_count": 2,
   "id": "676d9241",
   "metadata": {},
   "outputs": [],
   "source": [
    "import pickle\n",
    "with open('./data/als_recommendations_encoded.pkl', 'rb') as f:\n",
    "    als_recommendations = pickle.load(f)"
   ]
  },
  {
   "cell_type": "code",
   "execution_count": 3,
   "id": "f00b361e",
   "metadata": {},
   "outputs": [],
   "source": [
    "item_ids_enc = als_recommendations[0]\n",
    "als_scores = als_recommendations[1]"
   ]
  },
  {
   "cell_type": "code",
   "execution_count": 10,
   "id": "c77e9865",
   "metadata": {},
   "outputs": [],
   "source": [
    "als_recommendations = pd.DataFrame({\n",
    "    \"user_id_enc\": user_ids_encoded,\n",
    "    \"item_id_enc\": item_ids_enc.tolist(), \n",
    "    \"score\": als_scores.tolist()})"
   ]
  },
  {
   "cell_type": "code",
   "execution_count": 11,
   "id": "a6496f9a",
   "metadata": {},
   "outputs": [],
   "source": [
    "als_recommendations = als_recommendations.explode([\"item_id_enc\", \"score\"], ignore_index=True)"
   ]
  },
  {
   "cell_type": "code",
   "execution_count": 12,
   "id": "2c3ecc16",
   "metadata": {},
   "outputs": [],
   "source": [
    "# приводим типы данных\n",
    "als_recommendations[\"item_id_enc\"] = als_recommendations[\"item_id_enc\"].astype(\"int\")\n",
    "als_recommendations[\"score\"] = als_recommendations[\"score\"].astype(\"float\")"
   ]
  },
  {
   "cell_type": "code",
   "execution_count": 14,
   "id": "b8317c51",
   "metadata": {},
   "outputs": [],
   "source": [
    "# получаем изначальные идентификаторы\n",
    "als_recommendations[\"user_id\"] = user_encoder.inverse_transform(als_recommendations[\"user_id_enc\"])\n",
    "als_recommendations[\"item_id\"] = item_encoder.inverse_transform(als_recommendations[\"item_id_enc\"])\n",
    "als_recommendations = als_recommendations.drop(columns=[\"user_id_enc\", \"item_id_enc\"])"
   ]
  },
  {
   "cell_type": "code",
   "execution_count": 15,
   "id": "018a6141",
   "metadata": {},
   "outputs": [],
   "source": [
    "als_recommendations.to_parquet('./data/als_recommendations.parquet')"
   ]
  },
  {
   "cell_type": "code",
   "execution_count": 17,
   "id": "a20a0c3c",
   "metadata": {},
   "outputs": [
    {
     "data": {
      "text/html": [
       "<div>\n",
       "<style scoped>\n",
       "    .dataframe tbody tr th:only-of-type {\n",
       "        vertical-align: middle;\n",
       "    }\n",
       "\n",
       "    .dataframe tbody tr th {\n",
       "        vertical-align: top;\n",
       "    }\n",
       "\n",
       "    .dataframe thead th {\n",
       "        text-align: right;\n",
       "    }\n",
       "</style>\n",
       "<table border=\"1\" class=\"dataframe\">\n",
       "  <thead>\n",
       "    <tr style=\"text-align: right;\">\n",
       "      <th></th>\n",
       "      <th>score</th>\n",
       "      <th>user_id</th>\n",
       "      <th>item_id</th>\n",
       "    </tr>\n",
       "  </thead>\n",
       "  <tbody>\n",
       "    <tr>\n",
       "      <th>20583837</th>\n",
       "      <td>0.066087</td>\n",
       "      <td>206027</td>\n",
       "      <td>68934188</td>\n",
       "    </tr>\n",
       "    <tr>\n",
       "      <th>133097336</th>\n",
       "      <td>0.008699</td>\n",
       "      <td>1332304</td>\n",
       "      <td>19722850</td>\n",
       "    </tr>\n",
       "    <tr>\n",
       "      <th>104135812</th>\n",
       "      <td>0.037514</td>\n",
       "      <td>1042379</td>\n",
       "      <td>633562</td>\n",
       "    </tr>\n",
       "    <tr>\n",
       "      <th>69532869</th>\n",
       "      <td>0.012762</td>\n",
       "      <td>695993</td>\n",
       "      <td>53543181</td>\n",
       "    </tr>\n",
       "    <tr>\n",
       "      <th>76959299</th>\n",
       "      <td>0.000207</td>\n",
       "      <td>770340</td>\n",
       "      <td>148345</td>\n",
       "    </tr>\n",
       "    <tr>\n",
       "      <th>131826379</th>\n",
       "      <td>0.009256</td>\n",
       "      <td>1319586</td>\n",
       "      <td>33191923</td>\n",
       "    </tr>\n",
       "    <tr>\n",
       "      <th>9751168</th>\n",
       "      <td>0.087439</td>\n",
       "      <td>97605</td>\n",
       "      <td>29213451</td>\n",
       "    </tr>\n",
       "    <tr>\n",
       "      <th>74413444</th>\n",
       "      <td>0.009960</td>\n",
       "      <td>744859</td>\n",
       "      <td>57404407</td>\n",
       "    </tr>\n",
       "    <tr>\n",
       "      <th>49989186</th>\n",
       "      <td>0.205752</td>\n",
       "      <td>500377</td>\n",
       "      <td>71392592</td>\n",
       "    </tr>\n",
       "    <tr>\n",
       "      <th>11271733</th>\n",
       "      <td>0.234135</td>\n",
       "      <td>112819</td>\n",
       "      <td>79012362</td>\n",
       "    </tr>\n",
       "  </tbody>\n",
       "</table>\n",
       "</div>"
      ],
      "text/plain": [
       "              score  user_id   item_id\n",
       "20583837   0.066087   206027  68934188\n",
       "133097336  0.008699  1332304  19722850\n",
       "104135812  0.037514  1042379    633562\n",
       "69532869   0.012762   695993  53543181\n",
       "76959299   0.000207   770340    148345\n",
       "131826379  0.009256  1319586  33191923\n",
       "9751168    0.087439    97605  29213451\n",
       "74413444   0.009960   744859  57404407\n",
       "49989186   0.205752   500377  71392592\n",
       "11271733   0.234135   112819  79012362"
      ]
     },
     "execution_count": 17,
     "metadata": {},
     "output_type": "execute_result"
    }
   ],
   "source": [
    "als_recommendations.sample(10)"
   ]
  },
  {
   "cell_type": "markdown",
   "id": "5f09dc7e-7c91-4355-860a-b9cfb9f33f15",
   "metadata": {},
   "source": [
    "# Похожие"
   ]
  },
  {
   "cell_type": "markdown",
   "id": "1dfcb683-b440-40a8-9975-894156a53872",
   "metadata": {},
   "source": [
    "Рассчитаем похожие, они позже пригодятся для онлайн-рекомендаций."
   ]
  },
  {
   "cell_type": "code",
   "execution_count": 8,
   "id": "a75d07ee-4b12-4ce5-aa85-e45cb7a7a4f0",
   "metadata": {},
   "outputs": [],
   "source": [
    "# получим энкодированные идентификаторы всех объектов, известных нам из events_train\n",
    "train_item_ids_enc = events_train['item_id_enc'].unique()\n",
    "\n",
    "max_similar_items = 10\n",
    "\n",
    "# получаем списки похожих объектов, используя ранее полученную ALS-модель\n",
    "# метод similar_items возвращает и сам объект, как наиболее похожий\n",
    "# этот объект мы позже отфильтруем, но сейчас запросим на 1 больше\n",
    "similar_items = als_model.similar_items(train_item_ids_enc, N=max_similar_items+1)"
   ]
  },
  {
   "cell_type": "code",
   "execution_count": 10,
   "id": "ce370904-4c49-4152-8706-416074ea9b9a",
   "metadata": {},
   "outputs": [
    {
     "data": {
      "text/plain": [
       "['./data/similar_items_evcoded.joblib']"
      ]
     },
     "execution_count": 10,
     "metadata": {},
     "output_type": "execute_result"
    }
   ],
   "source": [
    "joblib.dump(similar_items,'./data/similar_items_evcoded.joblib')"
   ]
  },
  {
   "cell_type": "code",
   "execution_count": 11,
   "id": "3b6fc8db",
   "metadata": {},
   "outputs": [],
   "source": [
    "# преобразуем полученные списки в табличный формат\n",
    "sim_item_item_ids_enc = similar_items[0]\n",
    "sim_item_scores = similar_items[1]"
   ]
  },
  {
   "cell_type": "code",
   "execution_count": 12,
   "id": "4e8e62e4",
   "metadata": {},
   "outputs": [],
   "source": [
    "similar_items = pd.DataFrame({\n",
    "    \"item_id_enc\": train_item_ids_enc,\n",
    "    \"sim_item_id_enc\": sim_item_item_ids_enc.tolist(), \n",
    "    \"score\": sim_item_scores.tolist()\n",
    "    })"
   ]
  },
  {
   "cell_type": "code",
   "execution_count": 13,
   "id": "a4d918fa",
   "metadata": {},
   "outputs": [],
   "source": [
    "similar_items = similar_items.explode([\"sim_item_id_enc\", \"score\"], ignore_index=True)"
   ]
  },
  {
   "cell_type": "code",
   "execution_count": 14,
   "id": "b3652c27",
   "metadata": {},
   "outputs": [],
   "source": [
    "# приводим типы данных\n",
    "similar_items[\"sim_item_id_enc\"] = similar_items[\"sim_item_id_enc\"].astype(\"int\")\n",
    "similar_items[\"score\"] = similar_items[\"score\"].astype(\"float\")"
   ]
  },
  {
   "cell_type": "code",
   "execution_count": 15,
   "id": "8a5a1b67",
   "metadata": {},
   "outputs": [],
   "source": [
    "similar_items[\"item_id_1\"] = item_encoder.inverse_transform(similar_items[\"item_id_enc\"])\n",
    "similar_items[\"item_id_2\"] = item_encoder.inverse_transform(similar_items[\"sim_item_id_enc\"])\n",
    "similar_items = similar_items.drop(columns=[\"item_id_enc\", \"sim_item_id_enc\"])"
   ]
  },
  {
   "cell_type": "code",
   "execution_count": 16,
   "id": "3c995d12",
   "metadata": {},
   "outputs": [],
   "source": [
    "similar_items = similar_items.query(\"item_id_1 != item_id_2\")"
   ]
  },
  {
   "cell_type": "code",
   "execution_count": 17,
   "id": "50f6326c",
   "metadata": {},
   "outputs": [],
   "source": [
    "similar_items.to_parquet('./data/similar_items.parquet')"
   ]
  },
  {
   "cell_type": "code",
   "execution_count": 18,
   "id": "69b7f31c",
   "metadata": {},
   "outputs": [
    {
     "data": {
      "text/plain": [
       "True"
      ]
     },
     "execution_count": 18,
     "metadata": {},
     "output_type": "execute_result"
    }
   ],
   "source": [
    "# сохранение на S3-бакете\n",
    "\n",
    "import os\n",
    "from dotenv import load_dotenv\n",
    "import boto3\n",
    "\n",
    "load_dotenv(dotenv_path='./../mle-project-sprint-2-v001/.env')"
   ]
  },
  {
   "cell_type": "code",
   "execution_count": 21,
   "id": "353dffad",
   "metadata": {},
   "outputs": [],
   "source": [
    "S3_BUCKET_NAME = os.environ.get(\"S3_BUCKET_NAME\")\n",
    "try:\n",
    "    session = boto3.session.Session()\n",
    "    s3 = session.client(\n",
    "        service_name='s3',\n",
    "        endpoint_url='https://storage.yandexcloud.net',\n",
    "        aws_access_key_id=os.environ.get(\"AWS_ACCESS_KEY_ID\"),\n",
    "        aws_secret_access_key=os.environ.get(\"AWS_SECRET_ACCESS_KEY\")\n",
    "    )\n",
    "    # Filename - File to upload\n",
    "    # Bucket - Bucket to upload to (the top level directory under AWS S3)\n",
    "    # Key - S3 object name (can contain subdirectories). If not specified then file_name is used\n",
    "    s3.upload_file(Filename='./data/top_popular.parquet', Bucket=S3_BUCKET_NAME, Key='recsys/recommendations/top_popular.parquet')\n",
    "    s3.upload_file(Filename='./data/als_recommendations.parquet', Bucket=S3_BUCKET_NAME, Key='recsys/recommendations/personal_als.parquet')\n",
    "    s3.upload_file(Filename='./data/similar_items.parquet', Bucket=S3_BUCKET_NAME, Key='recsys/recommendations/similar.parquet')\n",
    "except Exception as e:\n",
    "    print(e)"
   ]
  },
  {
   "cell_type": "code",
   "execution_count": 22,
   "id": "9e29bc2b",
   "metadata": {},
   "outputs": [
    {
     "name": "stdout",
     "output_type": "stream",
     "text": [
      "Key: recsys/recommendations/personal_als.parquet\n",
      "LastModified: 2024-10-29 22:46:39.025000+00:00\n",
      "ETag: \"0fa17d1e55e270e1c7c1819aaf062792-130\"\n",
      "Size: 1083468327\n",
      "StorageClass: STANDARD\n",
      "Owner: {'DisplayName': 'ajeq26s98m0ssapaa27m', 'ID': 'ajeq26s98m0ssapaa27m'} \n",
      "\n",
      "Key: recsys/recommendations/similar.parquet\n",
      "LastModified: 2024-10-29 22:46:40.032000+00:00\n",
      "ETag: \"7de0f036e374e8355e481b97c19390be-19\"\n",
      "Size: 151554498\n",
      "StorageClass: STANDARD\n",
      "Owner: {'DisplayName': 'ajeq26s98m0ssapaa27m', 'ID': 'ajeq26s98m0ssapaa27m'} \n",
      "\n",
      "Key: recsys/recommendations/top_popular.parquet\n",
      "LastModified: 2024-10-29 22:46:34.456000+00:00\n",
      "ETag: \"8be767100a86fd02798dbe9437b49323-6\"\n",
      "Size: 47419433\n",
      "StorageClass: STANDARD\n",
      "Owner: {'DisplayName': 'ajeq26s98m0ssapaa27m', 'ID': 'ajeq26s98m0ssapaa27m'} \n",
      "\n"
     ]
    }
   ],
   "source": [
    "# смотрим что там сохранилось в бакет\n",
    "\n",
    "try:\n",
    "    for key in s3.list_objects(Bucket=S3_BUCKET_NAME)['Contents']:\n",
    "        \n",
    "        if key['Key'] in ['recsys/recommendations/top_popular.parquet',\n",
    "                          'recsys/recommendations/personal_als.parquet',\n",
    "                          'recsys/recommendations/similar.parquet']:\n",
    "            \n",
    "            lines = [f'{k}: {v}' for k, v in key.items()]\n",
    "            print('\\n'.join(lines),'\\n')\n",
    "\n",
    "except Exception as e:\n",
    "    print(e)"
   ]
  },
  {
   "cell_type": "markdown",
   "id": "0087a3e7-ca9f-42cd-944c-944222c1baef",
   "metadata": {},
   "source": [
    "# Построение признаков"
   ]
  },
  {
   "cell_type": "markdown",
   "id": "e82a32e1-b90b-4eaf-9439-fc8deab9f34b",
   "metadata": {},
   "source": [
    "Построим три признака, можно больше, для ранжирующей модели."
   ]
  },
  {
   "cell_type": "code",
   "execution_count": 2,
   "id": "05b4ae84-406a-44a4-abec-4f80f93e3004",
   "metadata": {},
   "outputs": [],
   "source": [
    "# загрузим данные\n",
    "top_popular = pd.read_parquet(\"./data/top_popular.parquet\")\n",
    "als_recommendations = pd.read_parquet('./data/als_recommendations.parquet')"
   ]
  },
  {
   "cell_type": "code",
   "execution_count": 6,
   "id": "00f84c35-f544-4c3d-ad53-9b1d2b684c75",
   "metadata": {},
   "outputs": [],
   "source": [
    "events_labels = events_test.copy()\n",
    "events_labels[\"target\"] = 1"
   ]
  },
  {
   "cell_type": "code",
   "execution_count": 7,
   "id": "b8ab198d",
   "metadata": {},
   "outputs": [],
   "source": [
    "candidates = als_recommendations.merge(events_labels[[\"user_id\", \"item_id\", \"target\"]],on=[\"user_id\", \"item_id\"],how=\"left\")\n",
    "candidates[\"target\"] = candidates[\"target\"].fillna(0).astype(\"int\")"
   ]
  },
  {
   "cell_type": "code",
   "execution_count": 8,
   "id": "f081e149",
   "metadata": {},
   "outputs": [],
   "source": [
    "candidates_to_sample = candidates.groupby(\"user_id\").filter(lambda x: x[\"target\"].sum() > 0)"
   ]
  },
  {
   "cell_type": "code",
   "execution_count": 9,
   "id": "2f32f704",
   "metadata": {},
   "outputs": [],
   "source": [
    "# для каждого пользователя оставляем только 4 негативных примера\n",
    "negatives_per_user = 4\n",
    "candidates_for_train = pd.concat([\n",
    "    candidates_to_sample.query(\"target == 1\"),\n",
    "    candidates_to_sample.query(\"target == 0\") \\\n",
    "        .groupby(\"user_id\") \\\n",
    "        .apply(lambda x: x.sample(negatives_per_user, random_state=0))\n",
    "    ])"
   ]
  },
  {
   "cell_type": "code",
   "execution_count": 13,
   "id": "f16efcdd",
   "metadata": {},
   "outputs": [],
   "source": [
    "# Прикрутим к персональным рекомендациям информацию которую рассчитывали \n",
    "# при вычислении популярности трека, он коллинеарны, но алгоритмы ML умеют с этим работать\n",
    "candidates_for_train = candidates_for_train.merge(top_popular[['item_id','users','avg_seq','popularity_linear','popularity_quadro','popularity_exp']],on='item_id')"
   ]
  },
  {
   "cell_type": "code",
   "execution_count": 15,
   "id": "b47c02ed",
   "metadata": {},
   "outputs": [],
   "source": [
    "candidates_for_train.to_parquet('./data/candidates_for_train.parquet')"
   ]
  },
  {
   "cell_type": "markdown",
   "id": "e1503319",
   "metadata": {},
   "source": [
    "\n",
    "Этот код запустить не удалось\n",
    "\n",
    "    - время выполнения боолее 60 часов, хотя пробовал разные схемы (эта самая быстрая и разделяемая)\n",
    "    - можно выполнять эту часть сегментируя по разным мшинам, когда такая возможность есть\n",
    "\n",
    "Смысл написанного ниже такой:\n",
    "\n",
    "    - посмотреть как много пользователь слушал треки определённого исполнителя,  альбома и жанра\n",
    "    - трекам из отобранных ALS дать веса соразмерно предпочтениям юзера\n",
    "\n",
    "Расчитаем веса жанров альбомов и исполнителей для каждого пользователя на основе прослушанных им треков"
   ]
  },
  {
   "cell_type": "code",
   "execution_count": 18,
   "id": "f2ba62f9",
   "metadata": {},
   "outputs": [],
   "source": [
    "def get_content_features_for_als(uid,candidates):\n",
    "    for_agg = ['artists','albums','genres']\n",
    "    tracks_for_person = candidates[candidates['user_id'] == uid].merge(items[['item_id'] + for_agg],on='item_id')\n",
    "\n",
    "    for fild in for_agg:\n",
    "        calc_weight = events_train[events_train['user_id'] == uid] \\\n",
    "            .merge(items[['item_id',fild]],on='item_id') \\\n",
    "            .explode(fild) \\\n",
    "            .groupby(fild).agg(score=(fild,\"count\")) \\\n",
    "            #.reset_index()\n",
    "        calc_weight['score'] = calc_weight['score'] / calc_weight['score'].sum()\n",
    "        target_indexes = list(calc_weight.index)\n",
    "        tracks_for_person[fild] = [calc_weight.loc[x].sum()['score'] if set(x).issubset(target_indexes) else 0 for x in tracks_for_person[fild]]\n",
    "\n",
    "    return tracks_for_person"
   ]
  },
  {
   "cell_type": "code",
   "execution_count": 19,
   "id": "d33a8558",
   "metadata": {},
   "outputs": [],
   "source": [
    "users_list = list(candidates_for_train['user_id'].unique())\n",
    "uid = users_list.pop(0)\n",
    "als_features_added = get_content_features_for_als(uid,candidates_for_train)"
   ]
  },
  {
   "cell_type": "markdown",
   "id": "71f4099c",
   "metadata": {},
   "source": [
    "Так выглядит таблица признаков если можно выполнить калькуляцию для каждого пользователя"
   ]
  },
  {
   "cell_type": "code",
   "execution_count": 20,
   "id": "7be60123",
   "metadata": {},
   "outputs": [
    {
     "data": {
      "text/html": [
       "<div>\n",
       "<style scoped>\n",
       "    .dataframe tbody tr th:only-of-type {\n",
       "        vertical-align: middle;\n",
       "    }\n",
       "\n",
       "    .dataframe tbody tr th {\n",
       "        vertical-align: top;\n",
       "    }\n",
       "\n",
       "    .dataframe thead th {\n",
       "        text-align: right;\n",
       "    }\n",
       "</style>\n",
       "<table border=\"1\" class=\"dataframe\">\n",
       "  <thead>\n",
       "    <tr style=\"text-align: right;\">\n",
       "      <th></th>\n",
       "      <th>score</th>\n",
       "      <th>user_id</th>\n",
       "      <th>item_id</th>\n",
       "      <th>target</th>\n",
       "      <th>users</th>\n",
       "      <th>avg_seq</th>\n",
       "      <th>popularity_linear</th>\n",
       "      <th>popularity_quadro</th>\n",
       "      <th>popularity_exp</th>\n",
       "      <th>artists</th>\n",
       "      <th>albums</th>\n",
       "      <th>genres</th>\n",
       "    </tr>\n",
       "  </thead>\n",
       "  <tbody>\n",
       "    <tr>\n",
       "      <th>0</th>\n",
       "      <td>0.121270</td>\n",
       "      <td>10</td>\n",
       "      <td>45499814</td>\n",
       "      <td>1</td>\n",
       "      <td>78564</td>\n",
       "      <td>229.204114</td>\n",
       "      <td>342.768717</td>\n",
       "      <td>2.692928e+07</td>\n",
       "      <td>19941.403365</td>\n",
       "      <td>0.000000</td>\n",
       "      <td>0.000000</td>\n",
       "      <td>0.250000</td>\n",
       "    </tr>\n",
       "    <tr>\n",
       "      <th>1</th>\n",
       "      <td>0.110573</td>\n",
       "      <td>10</td>\n",
       "      <td>49125069</td>\n",
       "      <td>1</td>\n",
       "      <td>42845</td>\n",
       "      <td>245.995052</td>\n",
       "      <td>174.170170</td>\n",
       "      <td>7.462321e+06</td>\n",
       "      <td>9835.801264</td>\n",
       "      <td>0.027778</td>\n",
       "      <td>0.000000</td>\n",
       "      <td>0.250000</td>\n",
       "    </tr>\n",
       "    <tr>\n",
       "      <th>2</th>\n",
       "      <td>0.193275</td>\n",
       "      <td>10</td>\n",
       "      <td>41883693</td>\n",
       "      <td>0</td>\n",
       "      <td>44792</td>\n",
       "      <td>210.039940</td>\n",
       "      <td>213.254679</td>\n",
       "      <td>9.552104e+06</td>\n",
       "      <td>12750.309870</td>\n",
       "      <td>0.055556</td>\n",
       "      <td>0.011152</td>\n",
       "      <td>0.250000</td>\n",
       "    </tr>\n",
       "    <tr>\n",
       "      <th>3</th>\n",
       "      <td>0.106598</td>\n",
       "      <td>10</td>\n",
       "      <td>44858413</td>\n",
       "      <td>0</td>\n",
       "      <td>45831</td>\n",
       "      <td>290.206192</td>\n",
       "      <td>157.925645</td>\n",
       "      <td>7.237890e+06</td>\n",
       "      <td>8076.240458</td>\n",
       "      <td>0.000000</td>\n",
       "      <td>0.000000</td>\n",
       "      <td>0.166667</td>\n",
       "    </tr>\n",
       "    <tr>\n",
       "      <th>4</th>\n",
       "      <td>0.076612</td>\n",
       "      <td>10</td>\n",
       "      <td>38157564</td>\n",
       "      <td>0</td>\n",
       "      <td>11356</td>\n",
       "      <td>300.459229</td>\n",
       "      <td>37.795477</td>\n",
       "      <td>4.292054e+05</td>\n",
       "      <td>1882.080092</td>\n",
       "      <td>0.000000</td>\n",
       "      <td>0.000000</td>\n",
       "      <td>0.166667</td>\n",
       "    </tr>\n",
       "    <tr>\n",
       "      <th>5</th>\n",
       "      <td>0.056401</td>\n",
       "      <td>10</td>\n",
       "      <td>39946956</td>\n",
       "      <td>0</td>\n",
       "      <td>22034</td>\n",
       "      <td>252.600481</td>\n",
       "      <td>87.228654</td>\n",
       "      <td>1.921996e+06</td>\n",
       "      <td>4862.304640</td>\n",
       "      <td>0.000000</td>\n",
       "      <td>0.000000</td>\n",
       "      <td>0.250000</td>\n",
       "    </tr>\n",
       "  </tbody>\n",
       "</table>\n",
       "</div>"
      ],
      "text/plain": [
       "      score  user_id   item_id  target  users     avg_seq  popularity_linear  \\\n",
       "0  0.121270       10  45499814       1  78564  229.204114         342.768717   \n",
       "1  0.110573       10  49125069       1  42845  245.995052         174.170170   \n",
       "2  0.193275       10  41883693       0  44792  210.039940         213.254679   \n",
       "3  0.106598       10  44858413       0  45831  290.206192         157.925645   \n",
       "4  0.076612       10  38157564       0  11356  300.459229          37.795477   \n",
       "5  0.056401       10  39946956       0  22034  252.600481          87.228654   \n",
       "\n",
       "   popularity_quadro  popularity_exp   artists    albums    genres  \n",
       "0       2.692928e+07    19941.403365  0.000000  0.000000  0.250000  \n",
       "1       7.462321e+06     9835.801264  0.027778  0.000000  0.250000  \n",
       "2       9.552104e+06    12750.309870  0.055556  0.011152  0.250000  \n",
       "3       7.237890e+06     8076.240458  0.000000  0.000000  0.166667  \n",
       "4       4.292054e+05     1882.080092  0.000000  0.000000  0.166667  \n",
       "5       1.921996e+06     4862.304640  0.000000  0.000000  0.250000  "
      ]
     },
     "execution_count": 20,
     "metadata": {},
     "output_type": "execute_result"
    }
   ],
   "source": [
    "als_features_added"
   ]
  },
  {
   "cell_type": "markdown",
   "id": "ddcba829",
   "metadata": {},
   "source": [
    "Но код ниже выполнить не получилось. Очень долго на одной машине, которая выключается из-за ограничений времени в 3 часа"
   ]
  },
  {
   "cell_type": "code",
   "execution_count": null,
   "id": "be49b8d6",
   "metadata": {},
   "outputs": [],
   "source": [
    "for uid in users_list:\n",
    "    als_features_added = pd.concat([als_features_added,get_content_features_for_als(uid,candidates_for_train)],ignore_index=True)"
   ]
  },
  {
   "cell_type": "markdown",
   "id": "aa054b23",
   "metadata": {},
   "source": [
    "Изобретаем другие признаки, кроме показателей популярности трека"
   ]
  },
  {
   "cell_type": "code",
   "execution_count": 6,
   "id": "8ad91245",
   "metadata": {},
   "outputs": [],
   "source": [
    "# количество прослушиваний разными пользователями за последнюю неделю\n",
    "# зададим точку разбиения\n",
    "popnow_split_date = pd.to_datetime(\"2022-12-08\")\n",
    "events_popnow = events_train[events_train[\"started_at\"] >= popnow_split_date]\n",
    "events_popnow = events_popnow.groupby('item_id').agg(popnow_score = ('user_id','count'))\n",
    "# приводим к масштабу\n",
    "events_popnow['popnow_score'] = events_popnow['popnow_score'] / events_popnow['popnow_score'].sum()"
   ]
  },
  {
   "cell_type": "code",
   "execution_count": 7,
   "id": "a377e30e",
   "metadata": {},
   "outputs": [],
   "source": [
    "events_popnow.to_parquet('./data/events_popnow.parquet')"
   ]
  },
  {
   "cell_type": "code",
   "execution_count": 34,
   "id": "1d1176e4",
   "metadata": {},
   "outputs": [],
   "source": [
    "candidates_for_train = candidates_for_train.merge(events_popnow,on='item_id')"
   ]
  },
  {
   "cell_type": "code",
   "execution_count": 36,
   "id": "f2f251ee",
   "metadata": {},
   "outputs": [
    {
     "data": {
      "text/plain": [
       "Index(['score', 'user_id', 'item_id', 'target', 'users', 'avg_seq',\n",
       "       'popularity_linear', 'popularity_quadro', 'popularity_exp',\n",
       "       'popnow_score'],\n",
       "      dtype='object')"
      ]
     },
     "execution_count": 36,
     "metadata": {},
     "output_type": "execute_result"
    }
   ],
   "source": [
    "candidates_for_train.to_parquet('./data/candidates_for_train.parquet')\n",
    "candidates_for_train.columns"
   ]
  },
  {
   "cell_type": "code",
   "execution_count": 37,
   "id": "8ede5446",
   "metadata": {},
   "outputs": [
    {
     "name": "stdout",
     "output_type": "stream",
     "text": [
      "0:\tlearn: 0.6696705\ttotal: 230ms\tremaining: 3m 49s\n",
      "100:\tlearn: 0.5475450\ttotal: 13.2s\tremaining: 1m 57s\n",
      "200:\tlearn: 0.5399252\ttotal: 25.6s\tremaining: 1m 41s\n",
      "300:\tlearn: 0.5355493\ttotal: 38s\tremaining: 1m 28s\n",
      "400:\tlearn: 0.5324164\ttotal: 50.6s\tremaining: 1m 15s\n",
      "500:\tlearn: 0.5300886\ttotal: 1m 3s\tremaining: 1m 2s\n",
      "600:\tlearn: 0.5280644\ttotal: 1m 15s\tremaining: 50.2s\n",
      "700:\tlearn: 0.5263061\ttotal: 1m 27s\tremaining: 37.5s\n",
      "800:\tlearn: 0.5249021\ttotal: 1m 40s\tremaining: 24.9s\n",
      "900:\tlearn: 0.5237033\ttotal: 1m 52s\tremaining: 12.4s\n",
      "999:\tlearn: 0.5226785\ttotal: 2m 5s\tremaining: 0us\n"
     ]
    },
    {
     "data": {
      "text/plain": [
       "<catboost.core.CatBoostClassifier at 0x7f0506c3b520>"
      ]
     },
     "execution_count": 37,
     "metadata": {},
     "output_type": "execute_result"
    }
   ],
   "source": [
    "from catboost import CatBoostClassifier, Pool\n",
    "\n",
    "# задаём имена колонок признаков и таргета\n",
    "features = ['score','users', 'avg_seq',\n",
    "       'popularity_linear', 'popularity_quadro', 'popularity_exp',\n",
    "       'popnow_score']\n",
    "target = 'target'\n",
    "\n",
    "# Create the Pool object\n",
    "train_data = Pool(\n",
    "    data=candidates_for_train[features], \n",
    "    label=candidates_for_train[target])\n",
    "\n",
    "# инициализируем модель CatBoostClassifier\n",
    "cb_model = CatBoostClassifier(\n",
    "    iterations=1000,\n",
    "    learning_rate=0.1,\n",
    "    depth=6,\n",
    "    loss_function='Logloss',\n",
    "    verbose=100,\n",
    "    random_seed=0\n",
    ")\n",
    "\n",
    "# тренируем модель\n",
    "cb_model.fit(train_data)"
   ]
  },
  {
   "cell_type": "code",
   "execution_count": 38,
   "id": "b4065bb7",
   "metadata": {},
   "outputs": [
    {
     "data": {
      "text/html": [
       "<div>\n",
       "<style scoped>\n",
       "    .dataframe tbody tr th:only-of-type {\n",
       "        vertical-align: middle;\n",
       "    }\n",
       "\n",
       "    .dataframe tbody tr th {\n",
       "        vertical-align: top;\n",
       "    }\n",
       "\n",
       "    .dataframe thead th {\n",
       "        text-align: right;\n",
       "    }\n",
       "</style>\n",
       "<table border=\"1\" class=\"dataframe\">\n",
       "  <thead>\n",
       "    <tr style=\"text-align: right;\">\n",
       "      <th></th>\n",
       "      <th>fi</th>\n",
       "    </tr>\n",
       "  </thead>\n",
       "  <tbody>\n",
       "    <tr>\n",
       "      <th>score</th>\n",
       "      <td>17.739669</td>\n",
       "    </tr>\n",
       "    <tr>\n",
       "      <th>users</th>\n",
       "      <td>13.382018</td>\n",
       "    </tr>\n",
       "    <tr>\n",
       "      <th>avg_seq</th>\n",
       "      <td>15.091815</td>\n",
       "    </tr>\n",
       "    <tr>\n",
       "      <th>popularity_linear</th>\n",
       "      <td>9.395009</td>\n",
       "    </tr>\n",
       "    <tr>\n",
       "      <th>popularity_quadro</th>\n",
       "      <td>8.797699</td>\n",
       "    </tr>\n",
       "    <tr>\n",
       "      <th>popularity_exp</th>\n",
       "      <td>7.244309</td>\n",
       "    </tr>\n",
       "    <tr>\n",
       "      <th>popnow_score</th>\n",
       "      <td>28.349481</td>\n",
       "    </tr>\n",
       "  </tbody>\n",
       "</table>\n",
       "</div>"
      ],
      "text/plain": [
       "                          fi\n",
       "score              17.739669\n",
       "users              13.382018\n",
       "avg_seq            15.091815\n",
       "popularity_linear   9.395009\n",
       "popularity_quadro   8.797699\n",
       "popularity_exp      7.244309\n",
       "popnow_score       28.349481"
      ]
     },
     "execution_count": 38,
     "metadata": {},
     "output_type": "execute_result"
    }
   ],
   "source": [
    "# смотрим как поработали признаки\n",
    "feature_importance = pd.DataFrame(cb_model.get_feature_importance(), \n",
    "    index=features, \n",
    "    columns=[\"fi\"])\n",
    "feature_importance"
   ]
  },
  {
   "cell_type": "markdown",
   "id": "37d31ffb",
   "metadata": {},
   "source": [
    "Популярность в музыке играет значение!"
   ]
  },
  {
   "cell_type": "code",
   "execution_count": 39,
   "id": "e773519a",
   "metadata": {},
   "outputs": [],
   "source": [
    "cb_model.save_model('./models/cb_model_rank.pkl')"
   ]
  },
  {
   "cell_type": "markdown",
   "id": "47bcf88d-b236-46f0-a6f3-38ddd64895fe",
   "metadata": {},
   "source": [
    "# Ранжирование рекомендаций"
   ]
  },
  {
   "cell_type": "markdown",
   "id": "e8cd8223-3418-4493-8c87-1f76286ebda0",
   "metadata": {},
   "source": [
    "Построим ранжирующую модель, чтобы сделать рекомендации более точными. Отранжируем рекомендации."
   ]
  },
  {
   "cell_type": "code",
   "execution_count": 1,
   "id": "2b66a269",
   "metadata": {},
   "outputs": [],
   "source": [
    "import pandas as pd"
   ]
  },
  {
   "cell_type": "code",
   "execution_count": 2,
   "id": "6f00a3ba",
   "metadata": {},
   "outputs": [],
   "source": [
    "# загрузим данные\n",
    "top_popular = pd.read_parquet(\"./data/top_popular.parquet\")\n",
    "als_recommendations = pd.read_parquet('./data/als_recommendations.parquet')"
   ]
  },
  {
   "cell_type": "code",
   "execution_count": 3,
   "id": "6edf41a1",
   "metadata": {},
   "outputs": [],
   "source": [
    "candidates_for_rank = als_recommendations.merge(top_popular[['item_id','users','avg_seq','popularity_linear','popularity_quadro','popularity_exp']],on='item_id')"
   ]
  },
  {
   "cell_type": "code",
   "execution_count": 4,
   "id": "4154c456",
   "metadata": {},
   "outputs": [],
   "source": [
    "del top_popular\n",
    "del als_recommendations"
   ]
  },
  {
   "cell_type": "code",
   "execution_count": 5,
   "id": "b1d0c8cd",
   "metadata": {},
   "outputs": [],
   "source": [
    "candidates_for_rank.to_parquet('./data/candidates_for_rank.parquet')"
   ]
  },
  {
   "cell_type": "code",
   "execution_count": 2,
   "id": "9328915b",
   "metadata": {},
   "outputs": [],
   "source": [
    "# после перезапуска ядра\n",
    "candidates_for_rank = pd.read_parquet('./data/candidates_for_rank.parquet')\n",
    "events_popnow = pd.read_parquet('./data/events_popnow.parquet')"
   ]
  },
  {
   "cell_type": "code",
   "execution_count": 4,
   "id": "4547966d",
   "metadata": {},
   "outputs": [],
   "source": [
    "candidates_for_rank = candidates_for_rank.merge(events_popnow,on='item_id')"
   ]
  },
  {
   "cell_type": "code",
   "execution_count": 5,
   "id": "d02aaf20",
   "metadata": {},
   "outputs": [],
   "source": [
    "candidates_for_rank.to_parquet('./data/candidates_for_rank.parquet')"
   ]
  },
  {
   "cell_type": "code",
   "execution_count": 9,
   "id": "bd239b55",
   "metadata": {},
   "outputs": [],
   "source": [
    "from catboost import CatBoostClassifier, Pool\n",
    "\n",
    "# задаём имена колонок признаков и таргета\n",
    "features = ['score','users', 'avg_seq',\n",
    "       'popularity_linear', 'popularity_quadro', 'popularity_exp',\n",
    "       'popnow_score']"
   ]
  },
  {
   "cell_type": "code",
   "execution_count": 10,
   "id": "aa096621",
   "metadata": {},
   "outputs": [
    {
     "data": {
      "text/plain": [
       "<catboost.core.CatBoostClassifier at 0x7efe9a1137f0>"
      ]
     },
     "execution_count": 10,
     "metadata": {},
     "output_type": "execute_result"
    }
   ],
   "source": [
    "cb_model = CatBoostClassifier()\n",
    "cb_model.load_model('./models/cb_model_rank.pkl')"
   ]
  },
  {
   "cell_type": "code",
   "execution_count": 11,
   "id": "79f1dd92-32a9-463d-827e-8bb9ee5bbb54",
   "metadata": {},
   "outputs": [],
   "source": [
    "inference_data = Pool(data=candidates_for_rank[features])\n",
    "predictions = cb_model.predict_proba(inference_data)"
   ]
  },
  {
   "cell_type": "code",
   "execution_count": 13,
   "id": "6cc5855b",
   "metadata": {},
   "outputs": [],
   "source": [
    "candidates_for_rank.drop(['score','users', 'avg_seq',\n",
    "       'popularity_linear', 'popularity_quadro', 'popularity_exp',\n",
    "       'popnow_score'],axis=1,inplace=True)\n",
    "del inference_data"
   ]
  },
  {
   "cell_type": "code",
   "execution_count": 15,
   "id": "6dbe4db4-1ac5-44da-a13c-8e7f9768ab73",
   "metadata": {},
   "outputs": [],
   "source": [
    "candidates_for_rank[\"cb_score\"] = predictions[:, 1]\n",
    "candidates_for_rank = candidates_for_rank.sort_values([\"user_id\", \"cb_score\"], ascending=[True, False])\n",
    "candidates_for_rank[\"rank\"] = candidates_for_rank.groupby(\"user_id\").cumcount() + 1\n",
    "\n",
    "max_recommendations_per_user = 100\n",
    "final_recommendations = candidates_for_rank[candidates_for_rank[\"rank\"] <= max_recommendations_per_user]"
   ]
  },
  {
   "cell_type": "code",
   "execution_count": 16,
   "id": "ba7dfcb2",
   "metadata": {},
   "outputs": [],
   "source": [
    "final_recommendations.to_parquet('./data/recommendations.parquet')"
   ]
  },
  {
   "cell_type": "code",
   "execution_count": 20,
   "id": "5c13059e",
   "metadata": {},
   "outputs": [
    {
     "data": {
      "text/html": [
       "<div>\n",
       "<style scoped>\n",
       "    .dataframe tbody tr th:only-of-type {\n",
       "        vertical-align: middle;\n",
       "    }\n",
       "\n",
       "    .dataframe tbody tr th {\n",
       "        vertical-align: top;\n",
       "    }\n",
       "\n",
       "    .dataframe thead th {\n",
       "        text-align: right;\n",
       "    }\n",
       "</style>\n",
       "<table border=\"1\" class=\"dataframe\">\n",
       "  <thead>\n",
       "    <tr style=\"text-align: right;\">\n",
       "      <th></th>\n",
       "      <th>user_id</th>\n",
       "      <th>item_id</th>\n",
       "      <th>cb_score</th>\n",
       "      <th>rank</th>\n",
       "    </tr>\n",
       "  </thead>\n",
       "  <tbody>\n",
       "    <tr>\n",
       "      <th>133688958</th>\n",
       "      <td>100000</td>\n",
       "      <td>80127451</td>\n",
       "      <td>0.879284</td>\n",
       "      <td>1</td>\n",
       "    </tr>\n",
       "    <tr>\n",
       "      <th>65275946</th>\n",
       "      <td>100000</td>\n",
       "      <td>72668561</td>\n",
       "      <td>0.873881</td>\n",
       "      <td>2</td>\n",
       "    </tr>\n",
       "    <tr>\n",
       "      <th>106010226</th>\n",
       "      <td>100000</td>\n",
       "      <td>46409994</td>\n",
       "      <td>0.726368</td>\n",
       "      <td>3</td>\n",
       "    </tr>\n",
       "    <tr>\n",
       "      <th>133692819</th>\n",
       "      <td>100000</td>\n",
       "      <td>53492057</td>\n",
       "      <td>0.689816</td>\n",
       "      <td>4</td>\n",
       "    </tr>\n",
       "    <tr>\n",
       "      <th>106061358</th>\n",
       "      <td>100000</td>\n",
       "      <td>49187293</td>\n",
       "      <td>0.688274</td>\n",
       "      <td>5</td>\n",
       "    </tr>\n",
       "    <tr>\n",
       "      <th>...</th>\n",
       "      <td>...</td>\n",
       "      <td>...</td>\n",
       "      <td>...</td>\n",
       "      <td>...</td>\n",
       "    </tr>\n",
       "    <tr>\n",
       "      <th>18370948</th>\n",
       "      <td>100000</td>\n",
       "      <td>34637</td>\n",
       "      <td>0.004575</td>\n",
       "      <td>96</td>\n",
       "    </tr>\n",
       "    <tr>\n",
       "      <th>64477437</th>\n",
       "      <td>100000</td>\n",
       "      <td>44578</td>\n",
       "      <td>0.004132</td>\n",
       "      <td>97</td>\n",
       "    </tr>\n",
       "    <tr>\n",
       "      <th>14359930</th>\n",
       "      <td>100000</td>\n",
       "      <td>34643</td>\n",
       "      <td>0.004035</td>\n",
       "      <td>98</td>\n",
       "    </tr>\n",
       "    <tr>\n",
       "      <th>65637446</th>\n",
       "      <td>100000</td>\n",
       "      <td>38309</td>\n",
       "      <td>0.002624</td>\n",
       "      <td>99</td>\n",
       "    </tr>\n",
       "    <tr>\n",
       "      <th>38567022</th>\n",
       "      <td>100000</td>\n",
       "      <td>8264</td>\n",
       "      <td>0.001830</td>\n",
       "      <td>100</td>\n",
       "    </tr>\n",
       "  </tbody>\n",
       "</table>\n",
       "<p>100 rows × 4 columns</p>\n",
       "</div>"
      ],
      "text/plain": [
       "           user_id   item_id  cb_score  rank\n",
       "133688958   100000  80127451  0.879284     1\n",
       "65275946    100000  72668561  0.873881     2\n",
       "106010226   100000  46409994  0.726368     3\n",
       "133692819   100000  53492057  0.689816     4\n",
       "106061358   100000  49187293  0.688274     5\n",
       "...            ...       ...       ...   ...\n",
       "18370948    100000     34637  0.004575    96\n",
       "64477437    100000     44578  0.004132    97\n",
       "14359930    100000     34643  0.004035    98\n",
       "65637446    100000     38309  0.002624    99\n",
       "38567022    100000      8264  0.001830   100\n",
       "\n",
       "[100 rows x 4 columns]"
      ]
     },
     "execution_count": 20,
     "metadata": {},
     "output_type": "execute_result"
    }
   ],
   "source": [
    "final_recommendations[final_recommendations['user_id'] == 100000]"
   ]
  },
  {
   "cell_type": "code",
   "execution_count": 21,
   "id": "3499c240",
   "metadata": {},
   "outputs": [
    {
     "data": {
      "text/plain": [
       "True"
      ]
     },
     "execution_count": 21,
     "metadata": {},
     "output_type": "execute_result"
    }
   ],
   "source": [
    "# сохранение на S3-бакете\n",
    "\n",
    "import os\n",
    "from dotenv import load_dotenv\n",
    "import boto3\n",
    "\n",
    "load_dotenv(dotenv_path='./../mle-project-sprint-2-v001/.env')"
   ]
  },
  {
   "cell_type": "code",
   "execution_count": 22,
   "id": "e6ea5ccf",
   "metadata": {},
   "outputs": [],
   "source": [
    "S3_BUCKET_NAME = os.environ.get(\"S3_BUCKET_NAME\")\n",
    "try:\n",
    "    session = boto3.session.Session()\n",
    "    s3 = session.client(\n",
    "        service_name='s3',\n",
    "        endpoint_url='https://storage.yandexcloud.net',\n",
    "        aws_access_key_id=os.environ.get(\"AWS_ACCESS_KEY_ID\"),\n",
    "        aws_secret_access_key=os.environ.get(\"AWS_SECRET_ACCESS_KEY\")\n",
    "    )\n",
    "    # Filename - File to upload\n",
    "    # Bucket - Bucket to upload to (the top level directory under AWS S3)\n",
    "    # Key - S3 object name (can contain subdirectories). If not specified then file_name is used\n",
    "    s3.upload_file(Filename='./data/recommendations.parquet', Bucket=S3_BUCKET_NAME, Key='recsys/recommendations/recommendations.parquet')\n",
    "except Exception as e:\n",
    "    print(e)"
   ]
  },
  {
   "cell_type": "code",
   "execution_count": 23,
   "id": "d364c2b1",
   "metadata": {},
   "outputs": [
    {
     "name": "stdout",
     "output_type": "stream",
     "text": [
      "Key: recsys/recommendations/recommendations.parquet\n",
      "LastModified: 2024-11-01 12:14:58+00:00\n",
      "ETag: \"7849cb9709821e943d52201312ec12e2-247\"\n",
      "Size: 2071376986\n",
      "StorageClass: STANDARD\n",
      "Owner: {'DisplayName': 'ajeq26s98m0ssapaa27m', 'ID': 'ajeq26s98m0ssapaa27m'} \n",
      "\n"
     ]
    }
   ],
   "source": [
    "# смотрим что там сохранилось в бакет\n",
    "\n",
    "try:\n",
    "    for key in s3.list_objects(Bucket=S3_BUCKET_NAME)['Contents']:\n",
    "        \n",
    "        if key['Key'] == 'recsys/recommendations/recommendations.parquet':\n",
    "            \n",
    "            lines = [f'{k}: {v}' for k, v in key.items()]\n",
    "            print('\\n'.join(lines),'\\n')\n",
    "\n",
    "except Exception as e:\n",
    "    print(e)"
   ]
  },
  {
   "cell_type": "markdown",
   "id": "b3c84071-45b5-4a15-a683-e0ab034a3128",
   "metadata": {},
   "source": [
    "# Оценка качества"
   ]
  },
  {
   "cell_type": "markdown",
   "id": "1b107fe4-554e-42b1-87d9-c435a52bb77a",
   "metadata": {},
   "source": [
    "Проверим оценку качества трёх типов рекомендаций: \n",
    "\n",
    "- топ популярных,\n",
    "- персональных, полученных при помощи ALS,\n",
    "- итоговых\n",
    "  \n",
    "по четырем метрикам: recall, precision, coverage, novelty."
   ]
  },
  {
   "cell_type": "code",
   "execution_count": 1,
   "id": "788ff518",
   "metadata": {},
   "outputs": [],
   "source": [
    "import pandas as pd"
   ]
  },
  {
   "cell_type": "code",
   "execution_count": 2,
   "id": "94d6f388-aecb-443e-8647-14014e932d4d",
   "metadata": {},
   "outputs": [],
   "source": [
    "def process_events_recs_for_binary_metrics(events_train, events_test, recs, top_k=None):\n",
    "\n",
    "    \"\"\"\n",
    "    размечает пары <user_id, item_id> для общего множества пользователей признаками\n",
    "    - gt (ground truth)\n",
    "    - pr (prediction)\n",
    "    top_k: расчёт ведётся только для top k-рекомендаций\n",
    "    \"\"\"\n",
    "\n",
    "    events_test[\"gt\"] = True\n",
    "    common_users = set(events_test[\"user_id\"]) & set(recs[\"user_id\"])\n",
    "\n",
    "    print(f\"Common users: {len(common_users)}\")\n",
    "    \n",
    "    events_for_common_users = events_test[events_test[\"user_id\"].isin(common_users)].copy()\n",
    "    recs_for_common_users = recs[recs[\"user_id\"].isin(common_users)].copy()\n",
    "\n",
    "    recs_for_common_users = recs_for_common_users.sort_values([\"user_id\", \"score\"], ascending=[True, False])\n",
    "\n",
    "    # оставляет только те item_id, которые были в events_train, \n",
    "    # т. к. модель не имела никакой возможности давать рекомендации для новых айтемов\n",
    "    events_for_common_users = events_for_common_users[events_for_common_users[\"item_id\"].isin(events_train[\"item_id\"].unique())]\n",
    "\n",
    "    if top_k is not None:\n",
    "        recs_for_common_users = recs_for_common_users.groupby(\"user_id\").head(top_k)\n",
    "    \n",
    "    events_recs_common = events_for_common_users[[\"user_id\", \"item_id\", \"gt\"]].merge(\n",
    "        recs_for_common_users[[\"user_id\", \"item_id\", \"score\"]], \n",
    "        on=[\"user_id\", \"item_id\"], how=\"outer\")\n",
    "\n",
    "    events_recs_common[\"gt\"] = events_recs_common[\"gt\"].fillna(False)\n",
    "    events_recs_common[\"pr\"] = ~events_recs_common[\"score\"].isnull()\n",
    "    \n",
    "    events_recs_common[\"tp\"] = events_recs_common[\"gt\"] & events_recs_common[\"pr\"]\n",
    "    events_recs_common[\"fp\"] = ~events_recs_common[\"gt\"] & events_recs_common[\"pr\"]\n",
    "    events_recs_common[\"fn\"] = events_recs_common[\"gt\"] & ~events_recs_common[\"pr\"]\n",
    "\n",
    "    return events_recs_common"
   ]
  },
  {
   "cell_type": "code",
   "execution_count": 3,
   "id": "26df411f-14c1-4848-8797-f37afe449cc6",
   "metadata": {},
   "outputs": [],
   "source": [
    "def compute_cls_metrics(events_recs_for_binary_metric):\n",
    "    \n",
    "    groupper = events_recs_for_binary_metric.groupby(\"user_id\")\n",
    "\n",
    "    # precision = tp / (tp + fp)\n",
    "    precision = groupper[\"tp\"].sum()/(groupper[\"tp\"].sum()+groupper[\"fp\"].sum())\n",
    "    precision = precision.fillna(0).mean()\n",
    "    \n",
    "    # recall = tp / (tp + fn)\n",
    "    recall = groupper[\"tp\"].sum()/(groupper[\"tp\"].sum()+groupper[\"fn\"].sum())\n",
    "    recall = recall.fillna(0).mean()\n",
    "\n",
    "    return precision, recall"
   ]
  },
  {
   "cell_type": "code",
   "execution_count": 4,
   "id": "d42b66f9",
   "metadata": {},
   "outputs": [],
   "source": [
    "def compute_coverage(recs,all_items):\n",
    "    return recs[\"item_id\"].nunique()/len(all_items)"
   ]
  },
  {
   "cell_type": "code",
   "execution_count": 5,
   "id": "da318c7c",
   "metadata": {},
   "outputs": [],
   "source": [
    "def compute_novelty(recs,events_train,k):\n",
    "    events_train[\"read\"] = True\n",
    "    recs = recs.merge(events_train, on=[\"user_id\", \"item_id\"], how=\"left\")\n",
    "    recs[\"read\"] = recs[\"read\"].fillna(False).astype(\"bool\")\n",
    "\n",
    "    # проставим ранги\n",
    "    recs = recs.sort_values(by=\"score\",ascending=False)\n",
    "    recs[\"rank\"] = recs.groupby(\"user_id\").cumcount() + 1\n",
    "\n",
    "    # посчитаем novelty по пользователям\n",
    "    novelty_k = (1-recs.query(\"rank <= @k\").groupby(\"user_id\")[\"read\"].mean())\n",
    "\n",
    "    # посчитаем средний novelty\n",
    "    return novelty_k.mean()"
   ]
  },
  {
   "cell_type": "code",
   "execution_count": 8,
   "id": "4c763783",
   "metadata": {},
   "outputs": [],
   "source": [
    "# загружаем локальные файлы\n",
    "items = pd.read_parquet(\"./data/items.parquet\")\n",
    "events = pd.read_parquet('./data/events.parquet')\n",
    "\n",
    "# делим по точке разбиения\n",
    "train_test_global_time_split_date = pd.to_datetime(\"2022-12-16\")\n",
    "train_test_global_time_split_idx  = events[\"started_at\"] < train_test_global_time_split_date\n",
    "\n",
    "events_train = events[train_test_global_time_split_idx]\n",
    "events_test = events[~train_test_global_time_split_idx]"
   ]
  },
  {
   "cell_type": "code",
   "execution_count": 7,
   "id": "229f3dd2",
   "metadata": {},
   "outputs": [],
   "source": [
    "del train_test_global_time_split_idx"
   ]
  },
  {
   "cell_type": "code",
   "execution_count": 10,
   "id": "54f6ab44",
   "metadata": {},
   "outputs": [],
   "source": [
    "top_popular = pd.read_parquet(\"./data/top_popular.parquet\")"
   ]
  },
  {
   "cell_type": "code",
   "execution_count": 11,
   "id": "1fdc3a62",
   "metadata": {},
   "outputs": [],
   "source": [
    "top_popular = top_popular[['item_id','popularity_exp']].rename(columns={'popularity_exp':'score'})[0:10]"
   ]
  },
  {
   "cell_type": "code",
   "execution_count": 12,
   "id": "35791b9c",
   "metadata": {},
   "outputs": [
    {
     "name": "stderr",
     "output_type": "stream",
     "text": [
      "/tmp/ipykernel_6384/2681540759.py:3: SettingWithCopyWarning: \n",
      "A value is trying to be set on a copy of a slice from a DataFrame.\n",
      "Try using .loc[row_indexer,col_indexer] = value instead\n",
      "\n",
      "See the caveats in the documentation: https://pandas.pydata.org/pandas-docs/stable/user_guide/indexing.html#returning-a-view-versus-a-copy\n",
      "  events_test[\"gt\"] = True\n"
     ]
    },
    {
     "data": {
      "text/plain": [
       "(0.006327813407357774, 0.000279596724782771)"
      ]
     },
     "execution_count": 12,
     "metadata": {},
     "output_type": "execute_result"
    }
   ],
   "source": [
    "# положим что эти 10 популярных мы бы показывали всем пользователям из тестовой выборки\n",
    "# определим метрики при таком подходе\n",
    "events_test[\"gt\"] = True\n",
    "events_recs_common = events_test[[\"user_id\", \"item_id\", \"gt\"]].merge(\n",
    "    top_popular[[\"item_id\", \"score\"]], \n",
    "    on=\"item_id\", how=\"outer\")\n",
    "\n",
    "events_recs_common[\"gt\"] = events_recs_common[\"gt\"].fillna(False)\n",
    "events_recs_common[\"pr\"] = ~events_recs_common[\"score\"].isnull()\n",
    "    \n",
    "events_recs_common[\"tp\"] = events_recs_common[\"gt\"] & events_recs_common[\"pr\"]\n",
    "events_recs_common[\"fp\"] = ~events_recs_common[\"gt\"] & events_recs_common[\"pr\"]\n",
    "events_recs_common[\"fn\"] = events_recs_common[\"gt\"] & ~events_recs_common[\"pr\"]\n",
    "\n",
    "compute_cls_metrics(events_recs_common)"
   ]
  },
  {
   "cell_type": "code",
   "execution_count": 44,
   "id": "18292dce",
   "metadata": {},
   "outputs": [
    {
     "data": {
      "text/plain": [
       "1e-05"
      ]
     },
     "execution_count": 44,
     "metadata": {},
     "output_type": "execute_result"
    }
   ],
   "source": [
    "# топ покрытие\n",
    "compute_coverage(top_popular,items)"
   ]
  },
  {
   "cell_type": "markdown",
   "id": "5b62ab0e",
   "metadata": {},
   "source": [
    "рекомендуем всем одинаковые 10 популярных треков из миллиона, покрытие можно было прикинуть в уме ))"
   ]
  },
  {
   "cell_type": "code",
   "execution_count": 9,
   "id": "e0302299",
   "metadata": {},
   "outputs": [],
   "source": [
    "# новизна\n",
    "k=10\n",
    "recs = events_train[['item_id','user_id']].merge(top_popular, on=[\"item_id\"], how=\"left\")\n",
    "recs[\"score\"] = recs[\"score\"].fillna(False).astype(\"bool\")"
   ]
  },
  {
   "cell_type": "code",
   "execution_count": 16,
   "id": "b32f4dbb",
   "metadata": {},
   "outputs": [],
   "source": [
    "# посчитаем novelty по пользователям\n",
    "novelty_k = (1-recs.groupby(\"user_id\")[\"score\"].sum()/k)"
   ]
  },
  {
   "cell_type": "code",
   "execution_count": 18,
   "id": "4da3065c",
   "metadata": {},
   "outputs": [
    {
     "data": {
      "text/plain": [
       "849"
      ]
     },
     "execution_count": 18,
     "metadata": {},
     "output_type": "execute_result"
    }
   ],
   "source": [
    "# сколько пользователей слушали все из топ треков\n",
    "len(novelty_k[novelty_k == 0])"
   ]
  },
  {
   "cell_type": "code",
   "execution_count": 20,
   "id": "cfd3d2e9",
   "metadata": {},
   "outputs": [
    {
     "data": {
      "text/plain": [
       "996467"
      ]
     },
     "execution_count": 20,
     "metadata": {},
     "output_type": "execute_result"
    }
   ],
   "source": [
    "# сколько пользователей не слушали ни одного из топ треков\n",
    "len(novelty_k[novelty_k == 1])"
   ]
  },
  {
   "cell_type": "code",
   "execution_count": 21,
   "id": "52902e85",
   "metadata": {},
   "outputs": [
    {
     "data": {
      "text/plain": [
       "0.9437038477065558"
      ]
     },
     "execution_count": 21,
     "metadata": {},
     "output_type": "execute_result"
    }
   ],
   "source": [
    "# средняя новизна\n",
    "novelty_k.mean()"
   ]
  },
  {
   "cell_type": "markdown",
   "id": "d0f9c414",
   "metadata": {},
   "source": [
    "выдача топов не персонифицирована, поэтому метрики считали без применения функций. Посмотрим что дают персонифицированные рекомендации:"
   ]
  },
  {
   "cell_type": "code",
   "execution_count": 4,
   "id": "6a4e8597",
   "metadata": {},
   "outputs": [],
   "source": [
    "als_recommendations = pd.read_parquet('./data/als_recommendations.parquet')"
   ]
  },
  {
   "cell_type": "code",
   "execution_count": 23,
   "id": "53ef95b6",
   "metadata": {},
   "outputs": [
    {
     "name": "stderr",
     "output_type": "stream",
     "text": [
      "/tmp/ipykernel_4922/2114216931.py:10: SettingWithCopyWarning: \n",
      "A value is trying to be set on a copy of a slice from a DataFrame.\n",
      "Try using .loc[row_indexer,col_indexer] = value instead\n",
      "\n",
      "See the caveats in the documentation: https://pandas.pydata.org/pandas-docs/stable/user_guide/indexing.html#returning-a-view-versus-a-copy\n",
      "  events_test[\"gt\"] = True\n"
     ]
    },
    {
     "name": "stdout",
     "output_type": "stream",
     "text": [
      "Common users: 783525\n"
     ]
    },
    {
     "data": {
      "text/plain": [
       "(0.007428480265466961, 0.011980003764872568)"
      ]
     },
     "execution_count": 23,
     "metadata": {},
     "output_type": "execute_result"
    }
   ],
   "source": [
    "events_recs_for_binary_metrics = process_events_recs_for_binary_metrics(events_train,events_test,als_recommendations,top_k=10)\n",
    "compute_cls_metrics(events_recs_for_binary_metrics)"
   ]
  },
  {
   "cell_type": "code",
   "execution_count": 24,
   "id": "95975cef",
   "metadata": {},
   "outputs": [
    {
     "data": {
      "text/plain": [
       "0.010194"
      ]
     },
     "execution_count": 24,
     "metadata": {},
     "output_type": "execute_result"
    }
   ],
   "source": [
    "# топ покрытие\n",
    "compute_coverage(als_recommendations,items)"
   ]
  },
  {
   "cell_type": "code",
   "execution_count": 6,
   "id": "260ecbc7",
   "metadata": {},
   "outputs": [
    {
     "name": "stderr",
     "output_type": "stream",
     "text": [
      "/tmp/ipykernel_5706/2551061748.py:2: SettingWithCopyWarning: \n",
      "A value is trying to be set on a copy of a slice from a DataFrame.\n",
      "Try using .loc[row_indexer,col_indexer] = value instead\n",
      "\n",
      "See the caveats in the documentation: https://pandas.pydata.org/pandas-docs/stable/user_guide/indexing.html#returning-a-view-versus-a-copy\n",
      "  events_train[\"read\"] = True\n"
     ]
    },
    {
     "ename": "",
     "evalue": "",
     "output_type": "error",
     "traceback": [
      "\u001b[1;31mThe Kernel crashed while executing code in the current cell or a previous cell. \n",
      "\u001b[1;31mPlease review the code in the cell(s) to identify a possible cause of the failure. \n",
      "\u001b[1;31mClick <a href='https://aka.ms/vscodeJupyterKernelCrash'>here</a> for more info. \n",
      "\u001b[1;31mView Jupyter <a href='command:jupyter.viewOutput'>log</a> for further details."
     ]
    }
   ],
   "source": [
    "#новизна\n",
    "compute_novelty(als_recommendations,events_train,k=5)"
   ]
  },
  {
   "cell_type": "markdown",
   "id": "32a02875",
   "metadata": {},
   "source": [
    "Пробуем без функции"
   ]
  },
  {
   "cell_type": "code",
   "execution_count": 5,
   "id": "c3f9be5e",
   "metadata": {},
   "outputs": [
    {
     "name": "stderr",
     "output_type": "stream",
     "text": [
      "/tmp/ipykernel_5930/1320745924.py:1: SettingWithCopyWarning: \n",
      "A value is trying to be set on a copy of a slice from a DataFrame.\n",
      "Try using .loc[row_indexer,col_indexer] = value instead\n",
      "\n",
      "See the caveats in the documentation: https://pandas.pydata.org/pandas-docs/stable/user_guide/indexing.html#returning-a-view-versus-a-copy\n",
      "  events_train[\"read\"] = True\n"
     ]
    },
    {
     "ename": "",
     "evalue": "",
     "output_type": "error",
     "traceback": [
      "\u001b[1;31mThe Kernel crashed while executing code in the current cell or a previous cell. \n",
      "\u001b[1;31mPlease review the code in the cell(s) to identify a possible cause of the failure. \n",
      "\u001b[1;31mClick <a href='https://aka.ms/vscodeJupyterKernelCrash'>here</a> for more info. \n",
      "\u001b[1;31mView Jupyter <a href='command:jupyter.viewOutput'>log</a> for further details."
     ]
    }
   ],
   "source": [
    "events_train[\"read\"] = True\n",
    "als_recommendations = als_recommendations.merge(events_train, on=[\"user_id\", \"item_id\"], how=\"left\")"
   ]
  },
  {
   "cell_type": "markdown",
   "id": "2f62bf1b",
   "metadata": {},
   "source": [
    "ТОЖЕ никак, не тянет машинка.\n",
    "Рассуждаем по другому - крайняя мера. Считаем новизну 100% , т.к. ALS генерило рекомендации с флагом \"не предлагать то  с чем пользователь взаимодействовал\"\n",
    "Для финальных рекомендаций так-же, поскольку они отранжированы на основании того-же списка треков для каждого пользователя - только новинки."
   ]
  },
  {
   "cell_type": "code",
   "execution_count": 4,
   "id": "7e7d3bb4",
   "metadata": {},
   "outputs": [],
   "source": [
    "final_recommendations = pd.read_parquet('./data/recommendations.parquet')"
   ]
  },
  {
   "cell_type": "code",
   "execution_count": 5,
   "id": "ad0950eb",
   "metadata": {},
   "outputs": [],
   "source": [
    "final_recommendations = final_recommendations[['item_id','user_id','rank']].rename(columns={'rank':'score'})"
   ]
  },
  {
   "cell_type": "code",
   "execution_count": 9,
   "id": "be3083a2",
   "metadata": {},
   "outputs": [
    {
     "name": "stderr",
     "output_type": "stream",
     "text": [
      "/tmp/ipykernel_6384/2114216931.py:10: SettingWithCopyWarning: \n",
      "A value is trying to be set on a copy of a slice from a DataFrame.\n",
      "Try using .loc[row_indexer,col_indexer] = value instead\n",
      "\n",
      "See the caveats in the documentation: https://pandas.pydata.org/pandas-docs/stable/user_guide/indexing.html#returning-a-view-versus-a-copy\n",
      "  events_test[\"gt\"] = True\n"
     ]
    },
    {
     "name": "stdout",
     "output_type": "stream",
     "text": [
      "Common users: 783525\n"
     ]
    },
    {
     "data": {
      "text/plain": [
       "(0.00017612711783287067, 0.00021334327476154236)"
      ]
     },
     "execution_count": 9,
     "metadata": {},
     "output_type": "execute_result"
    }
   ],
   "source": [
    "events_recs_for_binary_metrics = process_events_recs_for_binary_metrics(events_train,events_test,final_recommendations,top_k=10)\n",
    "compute_cls_metrics(events_recs_for_binary_metrics)"
   ]
  },
  {
   "cell_type": "markdown",
   "id": "f1c8d38c-32b0-46a4-96f0-cd01dac708bc",
   "metadata": {},
   "source": [
    "# === Выводы, метрики ==="
   ]
  },
  {
   "cell_type": "markdown",
   "id": "f7d7d5d8-7d1e-4fdf-a6cd-83e5ce92c684",
   "metadata": {},
   "source": [
    "Основные выводы при работе над расчётом рекомендаций, рассчитанные метрики."
   ]
  },
  {
   "cell_type": "markdown",
   "id": "d15aab82",
   "metadata": {},
   "source": [
    "По метрикам точность и покрыьте лучшей оказалась модель рекомендаций ALS. У ранжирующей модели показатели хуже, но нам не удалось вычислить на этой машине некоторые признаки.\n"
   ]
  }
 ],
 "metadata": {
  "kernelspec": {
   "display_name": "env_recsys_start",
   "language": "python",
   "name": "python3"
  },
  "language_info": {
   "codemirror_mode": {
    "name": "ipython",
    "version": 3
   },
   "file_extension": ".py",
   "mimetype": "text/x-python",
   "name": "python",
   "nbconvert_exporter": "python",
   "pygments_lexer": "ipython3",
   "version": "3.10.12"
  }
 },
 "nbformat": 4,
 "nbformat_minor": 5
}
